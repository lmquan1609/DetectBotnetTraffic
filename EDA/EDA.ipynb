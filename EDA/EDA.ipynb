{
 "cells": [
  {
   "cell_type": "code",
   "execution_count": 1,
   "metadata": {},
   "outputs": [],
   "source": [
    "import pandas as pd\n",
    "import numpy as np\n",
    "import datetime\n",
    "import h5py\n",
    "import pickle\n",
    "from collections import defaultdict\n",
    "\n",
    "from scipy import stats\n",
    "import seaborn as sns\n",
    "\n",
    "import matplotlib.pyplot as plt\n",
    "# plt.rcParams[\"figure.figsize\"] = (8, 6)"
   ]
  },
  {
   "cell_type": "code",
   "execution_count": 4,
   "metadata": {},
   "outputs": [
    {
     "name": "stdout",
     "output_type": "stream",
     "text": [
      "download_gdrive.py:50: SyntaxWarning: \"is not\" with a literal. Did you mean \"!=\"?\n",
      "  if len(sys.argv) is not 3:\n",
      "430MB [00:02, 171MB/s]  \n"
     ]
    }
   ],
   "source": [
    "!python download_gdrive.py 1XyDCTcmNIrQh_CFWCsqjR3RVyYUDKX7O CTU-13-Dataset_onlyBiNetflowFiles.zip"
   ]
  },
  {
   "cell_type": "code",
   "execution_count": null,
   "metadata": {},
   "outputs": [],
   "source": []
  },
  {
   "cell_type": "code",
   "execution_count": 2,
   "metadata": {},
   "outputs": [
    {
     "name": "stdout",
     "output_type": "stream",
     "text": [
      "Archive:  CTU-13-Dataset_onlyBiNetflowFiles.zip\n",
      "   creating: CTU-13-Dataset/\n",
      "  inflating: CTU-13-Dataset/capture20110812.binetflow  \n",
      "  inflating: CTU-13-Dataset/capture20110815-3.binetflow  \n",
      "  inflating: CTU-13-Dataset/capture20110817.binetflow  \n",
      "  inflating: CTU-13-Dataset/capture20110811.binetflow  \n",
      "  inflating: CTU-13-Dataset/capture20110819.binetflow  \n",
      "  inflating: CTU-13-Dataset/capture20110818-2.binetflow  \n",
      "  inflating: CTU-13-Dataset/capture20110816-3.binetflow  \n",
      "  inflating: CTU-13-Dataset/capture20110815.binetflow  \n",
      "  inflating: CTU-13-Dataset/capture20110816-2.binetflow  \n",
      "  inflating: CTU-13-Dataset/capture20110818.binetflow  \n",
      "  inflating: CTU-13-Dataset/capture20110815-2.binetflow  \n",
      "  inflating: CTU-13-Dataset/capture20110816.binetflow  \n",
      "  inflating: CTU-13-Dataset/capture20110810.binetflow  \n"
     ]
    }
   ],
   "source": [
    "!unzip CTU-13-Dataset_onlyBiNetflowFiles.zip"
   ]
  },
  {
   "cell_type": "markdown",
   "metadata": {},
   "source": [
    "# 4. Data analysis\n",
    "## 4.1. CTU-13 Dataset\n",
    "\n",
    "- CTU-13 is a labeled dataset used in literature to train botnet detection model. It captures botnet traffic mixed with normal/ background one. In this section, we will describe the dataset to find out the relevant features to train our models\n",
    "\n",
    "- CTU-13 is made of 13 captures of different botnet samples recorded in 13 Netflows files\n",
    "\n",
    "![](https://images.squarespace-cdn.com/content/v1/5a01100f692ebe0459a1859f/1510069396377-GJO1XFHKN81I4TDATY77/ke17ZwdGBToddI8pDm48kJcuVvbb7dX4ccZHUBVbcIwUqsxRUqqbr1mOJYKfIPR7LoDQ9mXPOjoJoqy81S2I8N_N4V1vUb5AoIIIbLZhVYxCRW4BPu10St3TBAUQYVKcttMiPYt-q5WVyRRIAnCobGPZv7ziyEmNgwdexgi_1iiq_yDw7qYBNVpdhuyRQbv6/Table2.jpg?format=1500w)"
   ]
  },
  {
   "cell_type": "markdown",
   "metadata": {},
   "source": [
    "- Our presentation woulf focus on first scenario which is made of $2.824.636$ bidirectional communications described by 15 features"
   ]
  },
  {
   "cell_type": "code",
   "execution_count": 2,
   "metadata": {},
   "outputs": [
    {
     "data": {
      "text/html": [
       "<div>\n",
       "<style scoped>\n",
       "    .dataframe tbody tr th:only-of-type {\n",
       "        vertical-align: middle;\n",
       "    }\n",
       "\n",
       "    .dataframe tbody tr th {\n",
       "        vertical-align: top;\n",
       "    }\n",
       "\n",
       "    .dataframe thead th {\n",
       "        text-align: right;\n",
       "    }\n",
       "</style>\n",
       "<table border=\"1\" class=\"dataframe\">\n",
       "  <thead>\n",
       "    <tr style=\"text-align: right;\">\n",
       "      <th></th>\n",
       "      <th>StartTime</th>\n",
       "      <th>Dur</th>\n",
       "      <th>Proto</th>\n",
       "      <th>SrcAddr</th>\n",
       "      <th>Sport</th>\n",
       "      <th>Dir</th>\n",
       "      <th>DstAddr</th>\n",
       "      <th>Dport</th>\n",
       "      <th>State</th>\n",
       "      <th>sTos</th>\n",
       "      <th>dTos</th>\n",
       "      <th>TotPkts</th>\n",
       "      <th>TotBytes</th>\n",
       "      <th>SrcBytes</th>\n",
       "      <th>Label</th>\n",
       "    </tr>\n",
       "  </thead>\n",
       "  <tbody>\n",
       "    <tr>\n",
       "      <th>0</th>\n",
       "      <td>2011/08/10 09:46:59.607825</td>\n",
       "      <td>1.026539</td>\n",
       "      <td>tcp</td>\n",
       "      <td>94.44.127.113</td>\n",
       "      <td>1577</td>\n",
       "      <td>-&gt;</td>\n",
       "      <td>147.32.84.59</td>\n",
       "      <td>6881</td>\n",
       "      <td>S_RA</td>\n",
       "      <td>0.0</td>\n",
       "      <td>0.0</td>\n",
       "      <td>4</td>\n",
       "      <td>276</td>\n",
       "      <td>156</td>\n",
       "      <td>flow=Background-Established-cmpgw-CVUT</td>\n",
       "    </tr>\n",
       "    <tr>\n",
       "      <th>1</th>\n",
       "      <td>2011/08/10 09:47:00.634364</td>\n",
       "      <td>1.009595</td>\n",
       "      <td>tcp</td>\n",
       "      <td>94.44.127.113</td>\n",
       "      <td>1577</td>\n",
       "      <td>-&gt;</td>\n",
       "      <td>147.32.84.59</td>\n",
       "      <td>6881</td>\n",
       "      <td>S_RA</td>\n",
       "      <td>0.0</td>\n",
       "      <td>0.0</td>\n",
       "      <td>4</td>\n",
       "      <td>276</td>\n",
       "      <td>156</td>\n",
       "      <td>flow=Background-Established-cmpgw-CVUT</td>\n",
       "    </tr>\n",
       "    <tr>\n",
       "      <th>2</th>\n",
       "      <td>2011/08/10 09:47:48.185538</td>\n",
       "      <td>3.056586</td>\n",
       "      <td>tcp</td>\n",
       "      <td>147.32.86.89</td>\n",
       "      <td>4768</td>\n",
       "      <td>-&gt;</td>\n",
       "      <td>77.75.73.33</td>\n",
       "      <td>80</td>\n",
       "      <td>SR_A</td>\n",
       "      <td>0.0</td>\n",
       "      <td>0.0</td>\n",
       "      <td>3</td>\n",
       "      <td>182</td>\n",
       "      <td>122</td>\n",
       "      <td>flow=Background-TCP-Attempt</td>\n",
       "    </tr>\n",
       "    <tr>\n",
       "      <th>3</th>\n",
       "      <td>2011/08/10 09:47:48.230897</td>\n",
       "      <td>3.111769</td>\n",
       "      <td>tcp</td>\n",
       "      <td>147.32.86.89</td>\n",
       "      <td>4788</td>\n",
       "      <td>-&gt;</td>\n",
       "      <td>77.75.73.33</td>\n",
       "      <td>80</td>\n",
       "      <td>SR_A</td>\n",
       "      <td>0.0</td>\n",
       "      <td>0.0</td>\n",
       "      <td>3</td>\n",
       "      <td>182</td>\n",
       "      <td>122</td>\n",
       "      <td>flow=Background-TCP-Attempt</td>\n",
       "    </tr>\n",
       "    <tr>\n",
       "      <th>4</th>\n",
       "      <td>2011/08/10 09:47:48.963351</td>\n",
       "      <td>3.083411</td>\n",
       "      <td>tcp</td>\n",
       "      <td>147.32.86.89</td>\n",
       "      <td>4850</td>\n",
       "      <td>-&gt;</td>\n",
       "      <td>77.75.73.33</td>\n",
       "      <td>80</td>\n",
       "      <td>SR_A</td>\n",
       "      <td>0.0</td>\n",
       "      <td>0.0</td>\n",
       "      <td>3</td>\n",
       "      <td>182</td>\n",
       "      <td>122</td>\n",
       "      <td>flow=Background-TCP-Attempt</td>\n",
       "    </tr>\n",
       "  </tbody>\n",
       "</table>\n",
       "</div>"
      ],
      "text/plain": [
       "                    StartTime       Dur Proto        SrcAddr Sport    Dir  \\\n",
       "0  2011/08/10 09:46:59.607825  1.026539   tcp  94.44.127.113  1577     ->   \n",
       "1  2011/08/10 09:47:00.634364  1.009595   tcp  94.44.127.113  1577     ->   \n",
       "2  2011/08/10 09:47:48.185538  3.056586   tcp   147.32.86.89  4768     ->   \n",
       "3  2011/08/10 09:47:48.230897  3.111769   tcp   147.32.86.89  4788     ->   \n",
       "4  2011/08/10 09:47:48.963351  3.083411   tcp   147.32.86.89  4850     ->   \n",
       "\n",
       "        DstAddr Dport State  sTos  dTos  TotPkts  TotBytes  SrcBytes  \\\n",
       "0  147.32.84.59  6881  S_RA   0.0   0.0        4       276       156   \n",
       "1  147.32.84.59  6881  S_RA   0.0   0.0        4       276       156   \n",
       "2   77.75.73.33    80  SR_A   0.0   0.0        3       182       122   \n",
       "3   77.75.73.33    80  SR_A   0.0   0.0        3       182       122   \n",
       "4   77.75.73.33    80  SR_A   0.0   0.0        3       182       122   \n",
       "\n",
       "                                    Label  \n",
       "0  flow=Background-Established-cmpgw-CVUT  \n",
       "1  flow=Background-Established-cmpgw-CVUT  \n",
       "2             flow=Background-TCP-Attempt  \n",
       "3             flow=Background-TCP-Attempt  \n",
       "4             flow=Background-TCP-Attempt  "
      ]
     },
     "execution_count": 2,
     "metadata": {},
     "output_type": "execute_result"
    }
   ],
   "source": [
    "data = pd.read_csv('CTU-13-Dataset/capture20110810.binetflow')\n",
    "data.head()"
   ]
  },
  {
   "cell_type": "code",
   "execution_count": 8,
   "metadata": {},
   "outputs": [],
   "source": [
    "data['StartTime'] = pd.to_datetime(data['StartTime'])"
   ]
  },
  {
   "cell_type": "code",
   "execution_count": 9,
   "metadata": {},
   "outputs": [
    {
     "name": "stdout",
     "output_type": "stream",
     "text": [
      "<class 'pandas.core.frame.DataFrame'>\n",
      "RangeIndex: 2824636 entries, 0 to 2824635\n",
      "Data columns (total 15 columns):\n",
      " #   Column     Dtype         \n",
      "---  ------     -----         \n",
      " 0   StartTime  datetime64[ns]\n",
      " 1   Dur        float64       \n",
      " 2   Proto      object        \n",
      " 3   SrcAddr    object        \n",
      " 4   Sport      object        \n",
      " 5   Dir        object        \n",
      " 6   DstAddr    object        \n",
      " 7   Dport      object        \n",
      " 8   State      object        \n",
      " 9   sTos       float64       \n",
      " 10  dTos       float64       \n",
      " 11  TotPkts    int64         \n",
      " 12  TotBytes   int64         \n",
      " 13  SrcBytes   int64         \n",
      " 14  Label      object        \n",
      "dtypes: datetime64[ns](1), float64(3), int64(3), object(8)\n",
      "memory usage: 323.3+ MB\n"
     ]
    }
   ],
   "source": [
    "data.info()"
   ]
  },
  {
   "cell_type": "code",
   "execution_count": 10,
   "metadata": {},
   "outputs": [
    {
     "data": {
      "text/html": [
       "<div>\n",
       "<style scoped>\n",
       "    .dataframe tbody tr th:only-of-type {\n",
       "        vertical-align: middle;\n",
       "    }\n",
       "\n",
       "    .dataframe tbody tr th {\n",
       "        vertical-align: top;\n",
       "    }\n",
       "\n",
       "    .dataframe thead th {\n",
       "        text-align: right;\n",
       "    }\n",
       "</style>\n",
       "<table border=\"1\" class=\"dataframe\">\n",
       "  <thead>\n",
       "    <tr style=\"text-align: right;\">\n",
       "      <th></th>\n",
       "      <th>StartTime</th>\n",
       "      <th>Dur</th>\n",
       "      <th>Proto</th>\n",
       "      <th>SrcAddr</th>\n",
       "      <th>Sport</th>\n",
       "      <th>Dir</th>\n",
       "      <th>DstAddr</th>\n",
       "      <th>Dport</th>\n",
       "      <th>State</th>\n",
       "      <th>sTos</th>\n",
       "      <th>dTos</th>\n",
       "      <th>TotPkts</th>\n",
       "      <th>TotBytes</th>\n",
       "      <th>SrcBytes</th>\n",
       "      <th>Label</th>\n",
       "    </tr>\n",
       "  </thead>\n",
       "  <tbody>\n",
       "    <tr>\n",
       "      <th>0</th>\n",
       "      <td>2011-08-10 09:46:59.607825</td>\n",
       "      <td>1.026539</td>\n",
       "      <td>tcp</td>\n",
       "      <td>94.44.127.113</td>\n",
       "      <td>1577</td>\n",
       "      <td>-&gt;</td>\n",
       "      <td>147.32.84.59</td>\n",
       "      <td>6881</td>\n",
       "      <td>S_RA</td>\n",
       "      <td>0.0</td>\n",
       "      <td>0.0</td>\n",
       "      <td>4</td>\n",
       "      <td>276</td>\n",
       "      <td>156</td>\n",
       "      <td>Normal</td>\n",
       "    </tr>\n",
       "    <tr>\n",
       "      <th>1</th>\n",
       "      <td>2011-08-10 09:47:00.634364</td>\n",
       "      <td>1.009595</td>\n",
       "      <td>tcp</td>\n",
       "      <td>94.44.127.113</td>\n",
       "      <td>1577</td>\n",
       "      <td>-&gt;</td>\n",
       "      <td>147.32.84.59</td>\n",
       "      <td>6881</td>\n",
       "      <td>S_RA</td>\n",
       "      <td>0.0</td>\n",
       "      <td>0.0</td>\n",
       "      <td>4</td>\n",
       "      <td>276</td>\n",
       "      <td>156</td>\n",
       "      <td>Normal</td>\n",
       "    </tr>\n",
       "    <tr>\n",
       "      <th>2</th>\n",
       "      <td>2011-08-10 09:47:48.185538</td>\n",
       "      <td>3.056586</td>\n",
       "      <td>tcp</td>\n",
       "      <td>147.32.86.89</td>\n",
       "      <td>4768</td>\n",
       "      <td>-&gt;</td>\n",
       "      <td>77.75.73.33</td>\n",
       "      <td>80</td>\n",
       "      <td>SR_A</td>\n",
       "      <td>0.0</td>\n",
       "      <td>0.0</td>\n",
       "      <td>3</td>\n",
       "      <td>182</td>\n",
       "      <td>122</td>\n",
       "      <td>Normal</td>\n",
       "    </tr>\n",
       "    <tr>\n",
       "      <th>3</th>\n",
       "      <td>2011-08-10 09:47:48.230897</td>\n",
       "      <td>3.111769</td>\n",
       "      <td>tcp</td>\n",
       "      <td>147.32.86.89</td>\n",
       "      <td>4788</td>\n",
       "      <td>-&gt;</td>\n",
       "      <td>77.75.73.33</td>\n",
       "      <td>80</td>\n",
       "      <td>SR_A</td>\n",
       "      <td>0.0</td>\n",
       "      <td>0.0</td>\n",
       "      <td>3</td>\n",
       "      <td>182</td>\n",
       "      <td>122</td>\n",
       "      <td>Normal</td>\n",
       "    </tr>\n",
       "    <tr>\n",
       "      <th>4</th>\n",
       "      <td>2011-08-10 09:47:48.963351</td>\n",
       "      <td>3.083411</td>\n",
       "      <td>tcp</td>\n",
       "      <td>147.32.86.89</td>\n",
       "      <td>4850</td>\n",
       "      <td>-&gt;</td>\n",
       "      <td>77.75.73.33</td>\n",
       "      <td>80</td>\n",
       "      <td>SR_A</td>\n",
       "      <td>0.0</td>\n",
       "      <td>0.0</td>\n",
       "      <td>3</td>\n",
       "      <td>182</td>\n",
       "      <td>122</td>\n",
       "      <td>Normal</td>\n",
       "    </tr>\n",
       "  </tbody>\n",
       "</table>\n",
       "</div>"
      ],
      "text/plain": [
       "                   StartTime       Dur Proto        SrcAddr Sport    Dir  \\\n",
       "0 2011-08-10 09:46:59.607825  1.026539   tcp  94.44.127.113  1577     ->   \n",
       "1 2011-08-10 09:47:00.634364  1.009595   tcp  94.44.127.113  1577     ->   \n",
       "2 2011-08-10 09:47:48.185538  3.056586   tcp   147.32.86.89  4768     ->   \n",
       "3 2011-08-10 09:47:48.230897  3.111769   tcp   147.32.86.89  4788     ->   \n",
       "4 2011-08-10 09:47:48.963351  3.083411   tcp   147.32.86.89  4850     ->   \n",
       "\n",
       "        DstAddr Dport State  sTos  dTos  TotPkts  TotBytes  SrcBytes   Label  \n",
       "0  147.32.84.59  6881  S_RA   0.0   0.0        4       276       156  Normal  \n",
       "1  147.32.84.59  6881  S_RA   0.0   0.0        4       276       156  Normal  \n",
       "2   77.75.73.33    80  SR_A   0.0   0.0        3       182       122  Normal  \n",
       "3   77.75.73.33    80  SR_A   0.0   0.0        3       182       122  Normal  \n",
       "4   77.75.73.33    80  SR_A   0.0   0.0        3       182       122  Normal  "
      ]
     },
     "execution_count": 10,
     "metadata": {},
     "output_type": "execute_result"
    }
   ],
   "source": [
    "data"
   ]
  },
  {
   "cell_type": "markdown",
   "metadata": {},
   "source": [
    "1. Start time: Date of the flow start (from 2011/08/10 09:46:53 to 2011/08/10 15:54:07). The Start times of NetFlow seens uniformly distributed except at around 10:20 due to starting of Netflow"
   ]
  },
  {
   "cell_type": "code",
   "execution_count": 4,
   "metadata": {},
   "outputs": [
    {
     "data": {
      "image/png": "[encoded data removed]",
      "text/plain": [
       "<Figure size 576x432 with 1 Axes>"
      ]
     },
     "metadata": {
      "needs_background": "light"
     },
     "output_type": "display_data"
    }
   ],
   "source": [
    "data.resample('T', on='StartTime').count()['StartTime'].plot()\n",
    "plt.xlabel('Date')\n",
    "plt.ylabel('Frequency')\n",
    "plt.savefig('Fig1.png')\n",
    "plt.show()"
   ]
  },
  {
   "cell_type": "code",
   "execution_count": 5,
   "metadata": {},
   "outputs": [
    {
     "data": {
      "text/plain": [
       "1312969613.0472772"
      ]
     },
     "execution_count": 5,
     "metadata": {},
     "output_type": "execute_result"
    }
   ],
   "source": [
    "data['StartTime'] = pd.to_datetime(data['StartTime']).values.astype('int') * 1e-9\n",
    "datatimeStart = data['StartTime'].min()\n",
    "datatimeStart"
   ]
  },
  {
   "cell_type": "code",
   "execution_count": 82,
   "metadata": {},
   "outputs": [
    {
     "data": {
      "image/png": "[encoded data removed]",
      "text/plain": [
       "<Figure size 576x432 with 1 Axes>"
      ]
     },
     "metadata": {
      "needs_background": "light"
     },
     "output_type": "display_data"
    }
   ],
   "source": [
    "countDur = data['Dur'].apply(lambda x: int(x))\n",
    "sns.distplot(countDur, kde=False)\n",
    "plt.xlabel('Duration (in seconds)')\n",
    "plt.ylabel('Frequency')\n",
    "plt.show()"
   ]
  },
  {
   "cell_type": "markdown",
   "metadata": {},
   "source": [
    "2. Majority of the communications last less than 1ms"
   ]
  },
  {
   "cell_type": "code",
   "execution_count": 12,
   "metadata": {},
   "outputs": [
    {
     "data": {
      "image/png": "[encoded data removed]",
      "text/plain": [
       "<Figure size 576x432 with 1 Axes>"
      ]
     },
     "metadata": {},
     "output_type": "display_data"
    }
   ],
   "source": [
    "def classifyProto(proto):\n",
    "    mainLabels = {'udp': 'UDP', 'icmp': 'ICMP', 'tcp': 'TCP'}\n",
    "    if proto not in mainLabels:\n",
    "        return 'Others'\n",
    "    \n",
    "    return mainLabels[proto]\n",
    "\n",
    "fig = plt.figure(figsize=(8, 6))\n",
    "ax = fig.add_axes([0.1, 0.18, 0.86, 0.75])\n",
    "piePlotProto = data['Proto'].apply(classifyProto)\n",
    "count = piePlotProto.value_counts()\n",
    "ax.pie(count.values, labels=count.index, autopct='%1.0f%%')\n",
    "plt.savefig('Fig3.png')\n",
    "plt.show()"
   ]
  },
  {
   "cell_type": "markdown",
   "metadata": {},
   "source": [
    "3.Proto: Transport Protocol used (15 protocols in total)"
   ]
  },
  {
   "cell_type": "code",
   "execution_count": 59,
   "metadata": {},
   "outputs": [
    {
     "data": {
      "image/png": "[encoded data removed]",
      "text/plain": [
       "<Figure size 576x432 with 1 Axes>"
      ]
     },
     "metadata": {},
     "output_type": "display_data"
    }
   ],
   "source": [
    "count = data['SrcAddr'].value_counts()[:5]\n",
    "count['Others'] = len(data) - count.values.sum()\n",
    "plt.pie(count.values, labels=count.index, autopct='%1.0f%%')\n",
    "plt.show()"
   ]
  },
  {
   "cell_type": "markdown",
   "metadata": {},
   "source": [
    "4. The huge number of different IP address (542 093) prevents the categorization based on the feature. Another way needs to be found out"
   ]
  },
  {
   "cell_type": "code",
   "execution_count": 13,
   "metadata": {},
   "outputs": [
    {
     "data": {
      "image/png": "[encoded data removed]",
      "text/plain": [
       "<Figure size 576x432 with 1 Axes>"
      ]
     },
     "metadata": {},
     "output_type": "display_data"
    }
   ],
   "source": [
    "count = data['Sport'].value_counts()[:2]\n",
    "count['Others'] = len(data) - count.values.sum()\n",
    "plt.pie(count.values, labels=count.index, autopct='%1.0f%%')\n",
    "plt.savefig('Fig5.png')\n",
    "plt.show()"
   ]
  },
  {
   "cell_type": "markdown",
   "metadata": {},
   "source": [
    "5. The huge number of source port (64 752)"
   ]
  },
  {
   "cell_type": "code",
   "execution_count": 63,
   "metadata": {},
   "outputs": [
    {
     "data": {
      "text/plain": [
       "  <->    0.775988\n",
       "   ->    0.217712\n",
       "  <-     0.002501\n",
       "  <?>    0.002186\n",
       "   ?>    0.001439\n",
       "  who    0.000170\n",
       "  <?     0.000002\n",
       "Name: Dir, dtype: float64"
      ]
     },
     "execution_count": 63,
     "metadata": {},
     "output_type": "execute_result"
    }
   ],
   "source": [
    "data['Dir'].value_counts() / len(data)"
   ]
  },
  {
   "cell_type": "markdown",
   "metadata": {},
   "source": [
    "6. **Dir**: Direction of the flow (78% bidirectional, 22% from src to dest)"
   ]
  },
  {
   "cell_type": "code",
   "execution_count": 14,
   "metadata": {},
   "outputs": [
    {
     "data": {
      "image/png": "[encoded data removed]",
      "text/plain": [
       "<Figure size 576x432 with 1 Axes>"
      ]
     },
     "metadata": {},
     "output_type": "display_data"
    }
   ],
   "source": [
    "count = data['DstAddr'].value_counts()[:4]\n",
    "count['Others'] = len(data) - count.values.sum()\n",
    "count = count.sample(frac=1., random_state=42)\n",
    "plt.pie(count.values, labels=count.index, autopct='%1.0f%%')\n",
    "plt.savefig('Fig7.png')\n",
    "plt.show()"
   ]
  },
  {
   "cell_type": "markdown",
   "metadata": {},
   "source": [
    "7. The huge number of destination address (119 296)"
   ]
  },
  {
   "cell_type": "code",
   "execution_count": 15,
   "metadata": {},
   "outputs": [
    {
     "data": {
      "image/png": "[encoded data removed]",
      "text/plain": [
       "<Figure size 576x432 with 1 Axes>"
      ]
     },
     "metadata": {},
     "output_type": "display_data"
    }
   ],
   "source": [
    "count = data['Dport'].value_counts()[:5]\n",
    "count['Others'] = len(data) - count.values.sum()\n",
    "count = count.sample(frac=1., random_state=42)\n",
    "plt.pie(count.values, labels=[f'Port {x}' if x != 'Others' else x for x in count.index], autopct='%1.0f%%')\n",
    "plt.savefig('Fig8.png')\n",
    "plt.show()"
   ]
  },
  {
   "cell_type": "markdown",
   "metadata": {},
   "source": [
    "8. The huge number of source port (73 786)"
   ]
  },
  {
   "cell_type": "code",
   "execution_count": 16,
   "metadata": {},
   "outputs": [
    {
     "data": {
      "image/png": "[encoded data removed]",
      "text/plain": [
       "<Figure size 576x432 with 1 Axes>"
      ]
     },
     "metadata": {},
     "output_type": "display_data"
    }
   ],
   "source": [
    "count = data['State'].value_counts()[:8]\n",
    "count['Others'] = len(data) - count.values.sum()\n",
    "count = count.sample(frac=1., random_state=42)\n",
    "plt.pie(count.values, labels=count.index, autopct='%1.0f%%')\n",
    "plt.savefig('Fig9.png')\n",
    "plt.show()"
   ]
  },
  {
   "cell_type": "markdown",
   "metadata": {},
   "source": [
    "9. State: Transaction state (230 states in total)"
   ]
  },
  {
   "cell_type": "code",
   "execution_count": 102,
   "metadata": {},
   "outputs": [
    {
     "data": {
      "text/plain": [
       "0.0      0.995074\n",
       "2.0      0.000478\n",
       "3.0      0.000341\n",
       "1.0      0.000224\n",
       "192.0    0.000133\n",
       "Name: sTos, dtype: float64"
      ]
     },
     "execution_count": 102,
     "metadata": {},
     "output_type": "execute_result"
    }
   ],
   "source": [
    "data['sTos'].value_counts() / len(data)"
   ]
  },
  {
   "cell_type": "markdown",
   "metadata": {},
   "source": [
    "10. sTos: Source TOS byte value (0 for 99.9% of the communications)"
   ]
  },
  {
   "cell_type": "code",
   "execution_count": 103,
   "metadata": {},
   "outputs": [
    {
     "data": {
      "text/plain": [
       "0.0    0.930721\n",
       "2.0    0.000087\n",
       "3.0    0.000075\n",
       "1.0    0.000015\n",
       "Name: dTos, dtype: float64"
      ]
     },
     "execution_count": 103,
     "metadata": {},
     "output_type": "execute_result"
    }
   ],
   "source": [
    "data['dTos'].value_counts() / len(data)"
   ]
  },
  {
   "cell_type": "markdown",
   "metadata": {},
   "source": [
    "11. dTos: Dest TOS byte value (0 for 93% of the communications)"
   ]
  },
  {
   "cell_type": "code",
   "execution_count": 6,
   "metadata": {
    "collapsed": true,
    "jupyter": {
     "outputs_hidden": true
    }
   },
   "outputs": [
    {
     "data": {
      "image/png": "[encoded data removed]",
      "text/plain": [
       "<Figure size 576x432 with 1 Axes>"
      ]
     },
     "metadata": {
      "needs_background": "light"
     },
     "output_type": "display_data"
    }
   ],
   "source": [
    "count = data['TotPkts'].value_counts()[:30] / len(data)\n",
    "sns.barplot(count.index, count.values)\n",
    "plt.xlabel('Number of packets')\n",
    "plt.ylabel('Frequency')\n",
    "plt.savefig('Fig12.png')"
   ]
  },
  {
   "cell_type": "markdown",
   "metadata": {},
   "source": [
    "12. TotPkts: Total number of transaction Packets (min: 1 packet; max: 2 686 731 packets)"
   ]
  },
  {
   "cell_type": "code",
   "execution_count": 7,
   "metadata": {},
   "outputs": [
    {
     "data": {
      "image/png": "[encoded data removed]",
      "text/plain": [
       "<Figure size 576x432 with 1 Axes>"
      ]
     },
     "metadata": {
      "needs_background": "light"
     },
     "output_type": "display_data"
    }
   ],
   "source": [
    "count = data['TotBytes'].value_counts()[:30] / len(data)\n",
    "ax = sns.barplot(count.index, count.values)\n",
    "plt.xlabel('Number of Bytes')\n",
    "plt.ylabel('Frequency')\n",
    "plt.xticks(rotation=90)\n",
    "plt.savefig('Fig13.png')"
   ]
  },
  {
   "cell_type": "markdown",
   "metadata": {},
   "source": [
    "13. TotBytes: Total number of transaction Bytes (min: 60 Bytes; max: 2 689 640 464 Bytes)"
   ]
  },
  {
   "cell_type": "code",
   "execution_count": 8,
   "metadata": {},
   "outputs": [
    {
     "data": {
      "image/png": "[encoded data removed]",
      "text/plain": [
       "<Figure size 576x432 with 1 Axes>"
      ]
     },
     "metadata": {
      "needs_background": "light"
     },
     "output_type": "display_data"
    }
   ],
   "source": [
    "count = data['SrcBytes'].value_counts()[:30] / len(data)\n",
    "ax = sns.barplot(count.index, count.values)\n",
    "plt.xlabel('Number of Bytes from Source')\n",
    "plt.ylabel('Frequency')\n",
    "plt.xticks(rotation=90)\n",
    "plt.savefig('Fig14.png')"
   ]
  },
  {
   "cell_type": "markdown",
   "metadata": {},
   "source": [
    "14. SrcBytes: Total number of transaction Bytes from the Source (min: 0 Byte; max: 2 635 366 235 Bytes)"
   ]
  },
  {
   "cell_type": "code",
   "execution_count": null,
   "metadata": {},
   "outputs": [],
   "source": [
    "labels = ['To-Background', 'From-Botnet', 'From-Normal', 'From-Background', 'To-Normal', 'Normal', 'Background']\n",
    "def categorizeLabel(x):\n",
    "    for label in labels:\n",
    "        if label in x:\n",
    "            return label\n",
    "    return None\n",
    "count = data['Label'].apply(categorizeLabel)\n",
    "count.value_counts() / count.values.sum()"
   ]
  },
  {
   "cell_type": "code",
   "execution_count": 3,
   "metadata": {},
   "outputs": [],
   "source": [
    "def categorizeLabel(x):\n",
    "    if 'Botnet' in x:\n",
    "        return 'Botnet'\n",
    "    return 'Normal'\n",
    "\n",
    "data['Label'] = data['Label'].apply(categorizeLabel)"
   ]
  },
  {
   "cell_type": "code",
   "execution_count": 9,
   "metadata": {},
   "outputs": [
    {
     "data": {
      "text/plain": [
       "array([6.32906682e-01, 1.77722014e-04, 1.45013375e-02, 1.07121767e-02,\n",
       "       3.18625126e-06, 3.41656412e-01, 4.24833501e-05])"
      ]
     },
     "execution_count": 9,
     "metadata": {},
     "output_type": "execute_result"
    }
   ],
   "source": [
    "count = np.load('tmp.npy', allow_pickle=True)\n",
    "unique, freq = np.unique(count, return_counts=True)\n",
    "freq = freq / freq.sum()\n",
    "freq"
   ]
  },
  {
   "cell_type": "code",
   "execution_count": 7,
   "metadata": {},
   "outputs": [
    {
     "data": {
      "text/plain": [
       "<matplotlib.axes._subplots.AxesSubplot at 0x7fef342fc1c0>"
      ]
     },
     "execution_count": 7,
     "metadata": {},
     "output_type": "execute_result"
    },
    {
     "data": {
      "image/png": "[encoded data removed]",
      "text/plain": [
       "<Figure size 432x288 with 1 Axes>"
      ]
     },
     "metadata": {
      "needs_background": "light"
     },
     "output_type": "display_data"
    }
   ],
   "source": [
    "sns.countplot(x='Label', data=data)"
   ]
  },
  {
   "cell_type": "markdown",
   "metadata": {},
   "source": [
    "15. Distribution of the 113 Labels"
   ]
  },
  {
   "cell_type": "markdown",
   "metadata": {},
   "source": [
    "## 4.2. Feature Extraction\n",
    "### 4.2.1. Motivation\n",
    "The main problem with CTU dataset is that most of the features are categorical. Using one-hot encode results in expansion of storage. It encourages us to extract new features based on the literature of network traffic analysis\n",
    "### 4.2.2. Use of time windows\n",
    "- This is justified by the fact that botnets **tend to have a temporal locality behavior**, which enables us to reduce the amount of data\n",
    "- The main issue is to find out the width and stride of time window which depends on the detection method and is often empirical. As for the dataset, we choose **a time width of 2 minutes and a stride of 1 minutes**\n",
    "\n",
    "### 4.2.3. Extracted features\n",
    "- The extracted features represent the Netflow communications inside a time window, so the **time window data is grouped by SrcAddr**\n",
    "- In terms of categorical features (*Sport*, *DstAddr*, *Dport*, ), 2 features are extracted:\n",
    "    - The number of unique occurrences in the subgroup\n",
    "    - The normalized subgroup entropy: $E = -\\sum_{x_i \\in X} p(x_i) \\text{log}p(x_i)$ with $p(x_i) = \\frac{\\text{#}x_i}{\\text{#}X}$\n",
    "- As for numerical features (), "
   ]
  },
  {
   "cell_type": "code",
   "execution_count": null,
   "metadata": {},
   "outputs": [],
   "source": [
    "X = pd.DataFrame()\n",
    "for i in range(data['windowUpper'].max()):\n",
    "    gb = data.loc[(data['windowLower'] <= i) & (data['windowUpper'] > i)].groupby('SrcAddr')\n",
    "    X = X.append(gb.size().to_frame(name='counts').join(gb.agg({'Sport':'nunique', \n",
    "                                                       'DstAddr':'nunique', \n",
    "                                                       'Dport':'nunique', \n",
    "                                                       'Dur':['sum', 'mean', 'std', 'max', 'median'],\n",
    "                                                       'TotBytes':['sum', 'mean', 'std', 'max', 'median'],\n",
    "                                                       'SrcBytes':['sum', 'mean', 'std', 'max', 'median'],\n",
    "                                                       'Label':lambda x: stats.mode(x)[0]})).reset_index().assign(window_id=i))\n",
    "    print(X.shape)"
   ]
  },
  {
   "cell_type": "markdown",
   "metadata": {},
   "source": [
    "## 4.3. Feature selection\n",
    "### 4.3.1. Filter methods\n",
    "The Pearson Correlation statistical test is used since the pre-processed data involves continuous data"
   ]
  },
  {
   "cell_type": "code",
   "execution_count": 15,
   "metadata": {},
   "outputs": [
    {
     "data": {
      "text/plain": [
       "array([0, 2, 3, 1, 4, 6])"
      ]
     },
     "execution_count": 15,
     "metadata": {},
     "output_type": "execute_result"
    }
   ],
   "source": [
    "X['Label_<lambda>'].unique()"
   ]
  },
  {
   "cell_type": "code",
   "execution_count": 19,
   "metadata": {
    "colab": {
     "base_uri": "https://localhost:8080/",
     "height": 736
    },
    "colab_type": "code",
    "executionInfo": {
     "elapsed": 10550,
     "status": "ok",
     "timestamp": 1598245431850,
     "user": {
      "displayName": "Subrata Maji",
      "photoUrl": "https://lh3.googleusercontent.com/a-/AOh14Ghxu8VIGqB6XL51-t5wM_f1R1LdmEePYHIwb9b-=s64",
      "userId": "03124174213573157612"
     },
     "user_tz": -330
    },
    "id": "wAMp7tqvUtmJ",
    "outputId": "0d637ad9-3d08-414f-978f-014f91def310"
   },
   "outputs": [
    {
     "data": {
      "image/png": "[encoded data removed]",
      "text/plain": [
       "<Figure size 864x864 with 2 Axes>"
      ]
     },
     "metadata": {
      "needs_background": "light"
     },
     "output_type": "display_data"
    }
   ],
   "source": [
    "# Plotting the correlation matrix of numerical feature in dataset\n",
    "\n",
    "method = \"pearson\"\n",
    "# correlation matrix\n",
    "corr_mat = train.corr(method=method)\n",
    "\n",
    "plt.figure(figsize=(12,12)) \n",
    "sns.heatmap(corr_mat, square=True)\n",
    "plt.show()"
   ]
  },
  {
   "cell_type": "markdown",
   "metadata": {},
   "source": [
    "# EDA #1\n",
    "\n",
    "- Preprocess program to extract window-related data from Netflow files\n",
    "\n",
    "- Input:\n",
    "    - windowWidth / windowStride (in seconds)\n",
    "    - data: first Netflow files\n",
    "   \n",
    "- Output:\n",
    "    - dataWindowBotnet{id}.h5: 'Sport_nunique',\n",
    "                            'DstAddr_nunique', 'Dport_nunique',\n",
    "                            'Dur_sum', 'Dur_mean', 'Dur_std', 'Dur_max', 'Dur_median',\n",
    "                            'TotBytes_sum', 'TotBytes_mean', 'TotBytes_std', 'TotBytes_max', 'TotBytes_median',\n",
    "                            'SrcBytes_sum', 'SrcBytes_mean', 'SrcBytes_std', 'SrcBytes_max', 'SrcBytes_median'\n",
    "    - dataWindowBotnet{id}ID.npy: Numpy arr contain ScrAddr\n",
    "    - dataWindowBotnet{id}Labels.npy: Numpy arr contain Label"
   ]
  },
  {
   "cell_type": "code",
   "execution_count": 4,
   "metadata": {},
   "outputs": [
    {
     "data": {
      "text/plain": [
       "0          1312969619\n",
       "1          1312969620\n",
       "2          1312969668\n",
       "3          1312969668\n",
       "4          1312969668\n",
       "              ...    \n",
       "2824631    1312991647\n",
       "2824632    1312991647\n",
       "2824633    1312991647\n",
       "2824634    1312991647\n",
       "2824635    1312991647\n",
       "Name: StartTime, Length: 2824636, dtype: int64"
      ]
     },
     "execution_count": 4,
     "metadata": {},
     "output_type": "execute_result"
    }
   ],
   "source": [
    "windowWidth, windowStride = 120, 60 # seconds\n",
    "data['StartTime'].astype('int')"
   ]
  },
  {
   "cell_type": "code",
   "execution_count": 5,
   "metadata": {},
   "outputs": [
    {
     "data": {
      "text/plain": [
       "0           -0.890658\n",
       "1           -0.873549\n",
       "2           -0.081029\n",
       "3           -0.080273\n",
       "4           -0.068065\n",
       "              ...    \n",
       "2824631    366.238419\n",
       "2824632    366.238443\n",
       "2824633    366.238500\n",
       "2824634    366.238659\n",
       "2824635    366.238684\n",
       "Name: windowLower, Length: 2824636, dtype: float64"
      ]
     },
     "execution_count": 5,
     "metadata": {},
     "output_type": "execute_result"
    }
   ],
   "source": [
    "data['windowLower'] = (data['StartTime'] - datatimeStart - windowWidth) / windowStride + 1\n",
    "data['windowLower']"
   ]
  },
  {
   "cell_type": "code",
   "execution_count": 6,
   "metadata": {},
   "outputs": [
    {
     "data": {
      "text/plain": [
       "0            0.000000\n",
       "1            0.000000\n",
       "2            0.000000\n",
       "3            0.000000\n",
       "4            0.000000\n",
       "              ...    \n",
       "2824631    366.238419\n",
       "2824632    366.238443\n",
       "2824633    366.238500\n",
       "2824634    366.238659\n",
       "2824635    366.238684\n",
       "Name: windowLower, Length: 2824636, dtype: float64"
      ]
     },
     "execution_count": 6,
     "metadata": {},
     "output_type": "execute_result"
    }
   ],
   "source": [
    "data['windowLower'].clip(lower=0, inplace=True)\n",
    "data['windowLower']"
   ]
  },
  {
   "cell_type": "code",
   "execution_count": 7,
   "metadata": {},
   "outputs": [
    {
     "data": {
      "text/plain": [
       "0            1.109342\n",
       "1            1.126451\n",
       "2            1.918971\n",
       "3            1.919727\n",
       "4            1.931935\n",
       "              ...    \n",
       "2824631    368.238419\n",
       "2824632    368.238443\n",
       "2824633    368.238500\n",
       "2824634    368.238659\n",
       "2824635    368.238684\n",
       "Name: windowUpper, Length: 2824636, dtype: float64"
      ]
     },
     "execution_count": 7,
     "metadata": {},
     "output_type": "execute_result"
    }
   ],
   "source": [
    "data['windowUpper'] = (data['StartTime'] - datatimeStart) / windowStride + 1\n",
    "data['windowUpper']"
   ]
  },
  {
   "cell_type": "code",
   "execution_count": 8,
   "metadata": {},
   "outputs": [
    {
     "data": {
      "text/html": [
       "<div>\n",
       "<style scoped>\n",
       "    .dataframe tbody tr th:only-of-type {\n",
       "        vertical-align: middle;\n",
       "    }\n",
       "\n",
       "    .dataframe tbody tr th {\n",
       "        vertical-align: top;\n",
       "    }\n",
       "\n",
       "    .dataframe thead th {\n",
       "        text-align: right;\n",
       "    }\n",
       "</style>\n",
       "<table border=\"1\" class=\"dataframe\">\n",
       "  <thead>\n",
       "    <tr style=\"text-align: right;\">\n",
       "      <th></th>\n",
       "      <th>Dur</th>\n",
       "      <th>Proto</th>\n",
       "      <th>SrcAddr</th>\n",
       "      <th>Sport</th>\n",
       "      <th>Dir</th>\n",
       "      <th>DstAddr</th>\n",
       "      <th>Dport</th>\n",
       "      <th>State</th>\n",
       "      <th>sTos</th>\n",
       "      <th>dTos</th>\n",
       "      <th>TotPkts</th>\n",
       "      <th>TotBytes</th>\n",
       "      <th>SrcBytes</th>\n",
       "      <th>Label</th>\n",
       "      <th>windowLower</th>\n",
       "      <th>windowUpper</th>\n",
       "    </tr>\n",
       "  </thead>\n",
       "  <tbody>\n",
       "    <tr>\n",
       "      <th>0</th>\n",
       "      <td>1.026539</td>\n",
       "      <td>tcp</td>\n",
       "      <td>94.44.127.113</td>\n",
       "      <td>1577</td>\n",
       "      <td>-&gt;</td>\n",
       "      <td>147.32.84.59</td>\n",
       "      <td>6881</td>\n",
       "      <td>S_RA</td>\n",
       "      <td>0.0</td>\n",
       "      <td>0.0</td>\n",
       "      <td>4</td>\n",
       "      <td>276</td>\n",
       "      <td>156</td>\n",
       "      <td>flow=Background-Established-cmpgw-CVUT</td>\n",
       "      <td>0</td>\n",
       "      <td>1</td>\n",
       "    </tr>\n",
       "    <tr>\n",
       "      <th>1</th>\n",
       "      <td>1.009595</td>\n",
       "      <td>tcp</td>\n",
       "      <td>94.44.127.113</td>\n",
       "      <td>1577</td>\n",
       "      <td>-&gt;</td>\n",
       "      <td>147.32.84.59</td>\n",
       "      <td>6881</td>\n",
       "      <td>S_RA</td>\n",
       "      <td>0.0</td>\n",
       "      <td>0.0</td>\n",
       "      <td>4</td>\n",
       "      <td>276</td>\n",
       "      <td>156</td>\n",
       "      <td>flow=Background-Established-cmpgw-CVUT</td>\n",
       "      <td>0</td>\n",
       "      <td>1</td>\n",
       "    </tr>\n",
       "    <tr>\n",
       "      <th>2</th>\n",
       "      <td>3.056586</td>\n",
       "      <td>tcp</td>\n",
       "      <td>147.32.86.89</td>\n",
       "      <td>4768</td>\n",
       "      <td>-&gt;</td>\n",
       "      <td>77.75.73.33</td>\n",
       "      <td>80</td>\n",
       "      <td>SR_A</td>\n",
       "      <td>0.0</td>\n",
       "      <td>0.0</td>\n",
       "      <td>3</td>\n",
       "      <td>182</td>\n",
       "      <td>122</td>\n",
       "      <td>flow=Background-TCP-Attempt</td>\n",
       "      <td>0</td>\n",
       "      <td>1</td>\n",
       "    </tr>\n",
       "    <tr>\n",
       "      <th>3</th>\n",
       "      <td>3.111769</td>\n",
       "      <td>tcp</td>\n",
       "      <td>147.32.86.89</td>\n",
       "      <td>4788</td>\n",
       "      <td>-&gt;</td>\n",
       "      <td>77.75.73.33</td>\n",
       "      <td>80</td>\n",
       "      <td>SR_A</td>\n",
       "      <td>0.0</td>\n",
       "      <td>0.0</td>\n",
       "      <td>3</td>\n",
       "      <td>182</td>\n",
       "      <td>122</td>\n",
       "      <td>flow=Background-TCP-Attempt</td>\n",
       "      <td>0</td>\n",
       "      <td>1</td>\n",
       "    </tr>\n",
       "    <tr>\n",
       "      <th>4</th>\n",
       "      <td>3.083411</td>\n",
       "      <td>tcp</td>\n",
       "      <td>147.32.86.89</td>\n",
       "      <td>4850</td>\n",
       "      <td>-&gt;</td>\n",
       "      <td>77.75.73.33</td>\n",
       "      <td>80</td>\n",
       "      <td>SR_A</td>\n",
       "      <td>0.0</td>\n",
       "      <td>0.0</td>\n",
       "      <td>3</td>\n",
       "      <td>182</td>\n",
       "      <td>122</td>\n",
       "      <td>flow=Background-TCP-Attempt</td>\n",
       "      <td>0</td>\n",
       "      <td>1</td>\n",
       "    </tr>\n",
       "  </tbody>\n",
       "</table>\n",
       "</div>"
      ],
      "text/plain": [
       "        Dur Proto        SrcAddr Sport    Dir       DstAddr Dport State  sTos  \\\n",
       "0  1.026539   tcp  94.44.127.113  1577     ->  147.32.84.59  6881  S_RA   0.0   \n",
       "1  1.009595   tcp  94.44.127.113  1577     ->  147.32.84.59  6881  S_RA   0.0   \n",
       "2  3.056586   tcp   147.32.86.89  4768     ->   77.75.73.33    80  SR_A   0.0   \n",
       "3  3.111769   tcp   147.32.86.89  4788     ->   77.75.73.33    80  SR_A   0.0   \n",
       "4  3.083411   tcp   147.32.86.89  4850     ->   77.75.73.33    80  SR_A   0.0   \n",
       "\n",
       "   dTos  TotPkts  TotBytes  SrcBytes                                   Label  \\\n",
       "0   0.0        4       276       156  flow=Background-Established-cmpgw-CVUT   \n",
       "1   0.0        4       276       156  flow=Background-Established-cmpgw-CVUT   \n",
       "2   0.0        3       182       122             flow=Background-TCP-Attempt   \n",
       "3   0.0        3       182       122             flow=Background-TCP-Attempt   \n",
       "4   0.0        3       182       122             flow=Background-TCP-Attempt   \n",
       "\n",
       "   windowLower  windowUpper  \n",
       "0            0            1  \n",
       "1            0            1  \n",
       "2            0            1  \n",
       "3            0            1  \n",
       "4            0            1  "
      ]
     },
     "execution_count": 8,
     "metadata": {},
     "output_type": "execute_result"
    }
   ],
   "source": [
    "data = data.astype({\n",
    "    'windowLower': int,\n",
    "    'windowUpper': int\n",
    "})\n",
    "\n",
    "data.drop('StartTime', axis=1, inplace=True)\n",
    "data.head()"
   ]
  },
  {
   "cell_type": "code",
   "execution_count": 9,
   "metadata": {},
   "outputs": [
    {
     "name": "stdout",
     "output_type": "stream",
     "text": [
      "(array([0, 0, 0, ..., 0, 0, 0]), Index(['flow=Background', 'flow=To-Backgro', 'flow=From-Backg',\n",
      "       'flow=From-Norma', 'flow=To-Normal-', 'flow=Normal-V42',\n",
      "       'flow=From-Botne'],\n",
      "      dtype='object'))\n"
     ]
    }
   ],
   "source": [
    "# del(data)\n",
    "print(pd.factorize(data['Label'].str.slice(0, 15)))\n",
    "data['Label'], labels = pd.factorize(data['Label'].str.slice(0, 15))"
   ]
  },
  {
   "cell_type": "code",
   "execution_count": 10,
   "metadata": {
    "scrolled": true
   },
   "outputs": [
    {
     "name": "stderr",
     "output_type": "stream",
     "text": [
      "/home/quan/anaconda3/lib/python3.8/site-packages/pandas/core/reshape/merge.py:618: UserWarning: merging between different levels can give an unintended result (1 levels on the left, 2 on the right)\n",
      "  warnings.warn(msg, UserWarning)\n"
     ]
    },
    {
     "name": "stdout",
     "output_type": "stream",
     "text": [
      "(9787, 22)\n",
      "(18611, 22)\n",
      "(27165, 22)\n",
      "(35618, 22)\n",
      "(44085, 22)\n",
      "(52590, 22)\n",
      "(60893, 22)\n",
      "(69155, 22)\n",
      "(77348, 22)\n",
      "(85099, 22)\n",
      "(92554, 22)\n",
      "(100050, 22)\n",
      "(107669, 22)\n",
      "(115314, 22)\n",
      "(122838, 22)\n",
      "(130249, 22)\n",
      "(137568, 22)\n",
      "(145031, 22)\n",
      "(152558, 22)\n",
      "(159813, 22)\n",
      "(166800, 22)\n",
      "(173642, 22)\n",
      "(180612, 22)\n",
      "(187548, 22)\n",
      "(194282, 22)\n",
      "(201025, 22)\n",
      "(207690, 22)\n",
      "(214395, 22)\n",
      "(221232, 22)\n",
      "(227866, 22)\n",
      "(234204, 22)\n",
      "(240528, 22)\n",
      "(246838, 22)\n",
      "(253249, 22)\n",
      "(259729, 22)\n",
      "(265888, 22)\n",
      "(272041, 22)\n",
      "(278226, 22)\n",
      "(284193, 22)\n",
      "(290107, 22)\n",
      "(295903, 22)\n",
      "(301515, 22)\n",
      "(306980, 22)\n",
      "(312316, 22)\n",
      "(317715, 22)\n",
      "(323153, 22)\n",
      "(328527, 22)\n",
      "(333850, 22)\n",
      "(339170, 22)\n",
      "(344346, 22)\n",
      "(349213, 22)\n",
      "(354009, 22)\n",
      "(358784, 22)\n",
      "(363468, 22)\n",
      "(368133, 22)\n",
      "(372748, 22)\n",
      "(377513, 22)\n",
      "(382344, 22)\n",
      "(387061, 22)\n",
      "(392084, 22)\n",
      "(397408, 22)\n",
      "(402838, 22)\n",
      "(408440, 22)\n",
      "(414104, 22)\n",
      "(419600, 22)\n",
      "(425073, 22)\n",
      "(430617, 22)\n",
      "(436259, 22)\n",
      "(442075, 22)\n",
      "(447944, 22)\n",
      "(453791, 22)\n",
      "(459609, 22)\n",
      "(465532, 22)\n",
      "(471410, 22)\n",
      "(477195, 22)\n",
      "(482926, 22)\n",
      "(488755, 22)\n",
      "(494764, 22)\n",
      "(500735, 22)\n",
      "(506756, 22)\n",
      "(512858, 22)\n",
      "(518825, 22)\n",
      "(524757, 22)\n",
      "(530697, 22)\n",
      "(536634, 22)\n",
      "(542561, 22)\n",
      "(548458, 22)\n",
      "(554441, 22)\n",
      "(560495, 22)\n",
      "(566513, 22)\n",
      "(572605, 22)\n",
      "(578727, 22)\n",
      "(584814, 22)\n",
      "(591012, 22)\n",
      "(597272, 22)\n",
      "(603494, 22)\n",
      "(609604, 22)\n",
      "(615604, 22)\n",
      "(621635, 22)\n",
      "(627807, 22)\n",
      "(633914, 22)\n",
      "(639898, 22)\n",
      "(645907, 22)\n",
      "(651983, 22)\n",
      "(658094, 22)\n",
      "(664253, 22)\n",
      "(670462, 22)\n",
      "(676562, 22)\n",
      "(682563, 22)\n",
      "(688607, 22)\n",
      "(694605, 22)\n",
      "(700572, 22)\n",
      "(706556, 22)\n",
      "(712598, 22)\n",
      "(718646, 22)\n",
      "(724725, 22)\n",
      "(730909, 22)\n",
      "(736939, 22)\n",
      "(742928, 22)\n",
      "(749090, 22)\n",
      "(755413, 22)\n",
      "(761613, 22)\n",
      "(767511, 22)\n",
      "(773578, 22)\n",
      "(779811, 22)\n",
      "(785980, 22)\n",
      "(792220, 22)\n",
      "(798494, 22)\n",
      "(804711, 22)\n",
      "(810980, 22)\n",
      "(817166, 22)\n",
      "(823237, 22)\n",
      "(829557, 22)\n",
      "(836097, 22)\n",
      "(842505, 22)\n",
      "(848644, 22)\n",
      "(854666, 22)\n",
      "(860752, 22)\n",
      "(866880, 22)\n",
      "(873017, 22)\n",
      "(879196, 22)\n",
      "(885252, 22)\n",
      "(891224, 22)\n",
      "(897231, 22)\n",
      "(903196, 22)\n",
      "(909150, 22)\n",
      "(915200, 22)\n",
      "(921248, 22)\n",
      "(927276, 22)\n",
      "(933346, 22)\n",
      "(939412, 22)\n",
      "(945437, 22)\n",
      "(951275, 22)\n",
      "(957219, 22)\n",
      "(963466, 22)\n",
      "(969537, 22)\n",
      "(975456, 22)\n",
      "(981451, 22)\n",
      "(987429, 22)\n",
      "(993368, 22)\n",
      "(999293, 22)\n",
      "(1005165, 22)\n",
      "(1011089, 22)\n",
      "(1017030, 22)\n",
      "(1022864, 22)\n",
      "(1028639, 22)\n",
      "(1034397, 22)\n",
      "(1040218, 22)\n",
      "(1046064, 22)\n",
      "(1051719, 22)\n",
      "(1057273, 22)\n",
      "(1063031, 22)\n",
      "(1068873, 22)\n",
      "(1074712, 22)\n",
      "(1080609, 22)\n",
      "(1086422, 22)\n",
      "(1092194, 22)\n",
      "(1098025, 22)\n",
      "(1103847, 22)\n",
      "(1109646, 22)\n",
      "(1115514, 22)\n",
      "(1121442, 22)\n",
      "(1127423, 22)\n",
      "(1133351, 22)\n",
      "(1139217, 22)\n",
      "(1145045, 22)\n",
      "(1150800, 22)\n",
      "(1156692, 22)\n",
      "(1162580, 22)\n",
      "(1168399, 22)\n",
      "(1174252, 22)\n",
      "(1180132, 22)\n",
      "(1186099, 22)\n",
      "(1192250, 22)\n",
      "(1198488, 22)\n",
      "(1204581, 22)\n",
      "(1210423, 22)\n",
      "(1216261, 22)\n",
      "(1222125, 22)\n",
      "(1227846, 22)\n",
      "(1233659, 22)\n",
      "(1239584, 22)\n",
      "(1245567, 22)\n",
      "(1251581, 22)\n",
      "(1257556, 22)\n",
      "(1263450, 22)\n",
      "(1269254, 22)\n",
      "(1275049, 22)\n",
      "(1280734, 22)\n",
      "(1286405, 22)\n",
      "(1292073, 22)\n",
      "(1297678, 22)\n",
      "(1303291, 22)\n",
      "(1308911, 22)\n",
      "(1314481, 22)\n",
      "(1320140, 22)\n",
      "(1325812, 22)\n",
      "(1331380, 22)\n",
      "(1337117, 22)\n",
      "(1342872, 22)\n",
      "(1348547, 22)\n",
      "(1354342, 22)\n",
      "(1360087, 22)\n",
      "(1365661, 22)\n",
      "(1371312, 22)\n",
      "(1377006, 22)\n",
      "(1382740, 22)\n",
      "(1388514, 22)\n",
      "(1394326, 22)\n",
      "(1400211, 22)\n",
      "(1405943, 22)\n",
      "(1411530, 22)\n",
      "(1417068, 22)\n",
      "(1422728, 22)\n",
      "(1428438, 22)\n",
      "(1434076, 22)\n",
      "(1439613, 22)\n",
      "(1445205, 22)\n",
      "(1450853, 22)\n",
      "(1456494, 22)\n",
      "(1462280, 22)\n",
      "(1468069, 22)\n",
      "(1473784, 22)\n",
      "(1479567, 22)\n",
      "(1485259, 22)\n",
      "(1490961, 22)\n",
      "(1496664, 22)\n",
      "(1502316, 22)\n",
      "(1508122, 22)\n",
      "(1513956, 22)\n",
      "(1519775, 22)\n",
      "(1525505, 22)\n",
      "(1531118, 22)\n",
      "(1536896, 22)\n",
      "(1542801, 22)\n",
      "(1548689, 22)\n",
      "(1554572, 22)\n",
      "(1560553, 22)\n",
      "(1566421, 22)\n",
      "(1572248, 22)\n",
      "(1578198, 22)\n",
      "(1584065, 22)\n",
      "(1589836, 22)\n",
      "(1595674, 22)\n",
      "(1601530, 22)\n",
      "(1607385, 22)\n",
      "(1613224, 22)\n",
      "(1618973, 22)\n",
      "(1624698, 22)\n",
      "(1630492, 22)\n",
      "(1636267, 22)\n",
      "(1642020, 22)\n",
      "(1647827, 22)\n",
      "(1653567, 22)\n",
      "(1659330, 22)\n",
      "(1665221, 22)\n",
      "(1671179, 22)\n",
      "(1677026, 22)\n",
      "(1682809, 22)\n",
      "(1688581, 22)\n",
      "(1694403, 22)\n",
      "(1700357, 22)\n",
      "(1706338, 22)\n",
      "(1712294, 22)\n",
      "(1718159, 22)\n",
      "(1723990, 22)\n",
      "(1729728, 22)\n",
      "(1735532, 22)\n",
      "(1741459, 22)\n",
      "(1747380, 22)\n",
      "(1753244, 22)\n",
      "(1758983, 22)\n",
      "(1764863, 22)\n",
      "(1770819, 22)\n",
      "(1776649, 22)\n",
      "(1782475, 22)\n",
      "(1788289, 22)\n",
      "(1794133, 22)\n",
      "(1800053, 22)\n",
      "(1805917, 22)\n",
      "(1811872, 22)\n",
      "(1817979, 22)\n",
      "(1824057, 22)\n",
      "(1830151, 22)\n",
      "(1836237, 22)\n",
      "(1842257, 22)\n",
      "(1848110, 22)\n",
      "(1854032, 22)\n",
      "(1860149, 22)\n",
      "(1866175, 22)\n",
      "(1872298, 22)\n",
      "(1878510, 22)\n",
      "(1884645, 22)\n",
      "(1890740, 22)\n",
      "(1896771, 22)\n",
      "(1902765, 22)\n",
      "(1908869, 22)\n",
      "(1915122, 22)\n",
      "(1921326, 22)\n",
      "(1927575, 22)\n",
      "(1933853, 22)\n",
      "(1940149, 22)\n",
      "(1946587, 22)\n",
      "(1953201, 22)\n",
      "(1959845, 22)\n",
      "(1966339, 22)\n",
      "(1972724, 22)\n",
      "(1979072, 22)\n",
      "(1985375, 22)\n",
      "(1991646, 22)\n",
      "(1997912, 22)\n",
      "(2004208, 22)\n",
      "(2010619, 22)\n",
      "(2017101, 22)\n",
      "(2023545, 22)\n",
      "(2029944, 22)\n",
      "(2036359, 22)\n",
      "(2042841, 22)\n",
      "(2049306, 22)\n",
      "(2055682, 22)\n",
      "(2062015, 22)\n",
      "(2068404, 22)\n",
      "(2074836, 22)\n",
      "(2081206, 22)\n",
      "(2087593, 22)\n",
      "(2094123, 22)\n",
      "(2100654, 22)\n",
      "(2107090, 22)\n",
      "(2113499, 22)\n",
      "(2119924, 22)\n",
      "(2126354, 22)\n",
      "(2132809, 22)\n",
      "(2139169, 22)\n",
      "(2145347, 22)\n",
      "(2151550, 22)\n",
      "(2157980, 22)\n",
      "(2164515, 22)\n",
      "(2170958, 22)\n",
      "(2177308, 22)\n",
      "(2183692, 22)\n",
      "(2190187, 22)\n",
      "(2196724, 22)\n",
      "(2203266, 22)\n",
      "(2209540, 22)\n",
      "(2215732, 22)\n",
      "(2222010, 22)\n",
      "(2225928, 22)\n",
      "(2226720, 22)\n"
     ]
    }
   ],
   "source": [
    "X = pd.DataFrame()\n",
    "for i in range(data['windowUpper'].max()):\n",
    "    gb = data.loc[(data['windowLower'] <= i) & (data['windowUpper'] > i)].groupby('SrcAddr')\n",
    "    X = X.append(gb.size().to_frame(name='counts').join(gb.agg({'Sport':'nunique', \n",
    "                                                       'DstAddr':'nunique', \n",
    "                                                       'Dport':'nunique', \n",
    "                                                       'Dur':['sum', 'mean', 'std', 'max', 'median'],\n",
    "                                                       'TotBytes':['sum', 'mean', 'std', 'max', 'median'],\n",
    "                                                       'SrcBytes':['sum', 'mean', 'std', 'max', 'median'],\n",
    "                                                       'Label':lambda x: stats.mode(x)[0]})).reset_index().assign(window_id=i))\n",
    "    print(X.shape)"
   ]
  },
  {
   "cell_type": "code",
   "execution_count": null,
   "metadata": {},
   "outputs": [],
   "source": []
  },
  {
   "cell_type": "code",
   "execution_count": 12,
   "metadata": {},
   "outputs": [
    {
     "data": {
      "text/plain": [
       "Index(['SrcAddr', 'counts', 'Sport_nunique', 'DstAddr_nunique',\n",
       "       'Dport_nunique', 'Dur_sum', 'Dur_mean', 'Dur_std', 'Dur_max',\n",
       "       'Dur_median', 'TotBytes_sum', 'TotBytes_mean', 'TotBytes_std',\n",
       "       'TotBytes_max', 'TotBytes_median', 'SrcBytes_sum', 'SrcBytes_mean',\n",
       "       'SrcBytes_std', 'SrcBytes_max', 'SrcBytes_median', 'Label_<lambda>',\n",
       "       'window_id'],\n",
       "      dtype='object')"
      ]
     },
     "execution_count": 12,
     "metadata": {},
     "output_type": "execute_result"
    }
   ],
   "source": [
    "X.columns = ['_'.join(x) if isinstance(x, tuple) else x for x in X.columns]\n",
    "X.columns"
   ]
  },
  {
   "cell_type": "code",
   "execution_count": 13,
   "metadata": {},
   "outputs": [
    {
     "name": "stdout",
     "output_type": "stream",
     "text": [
      "0.954575339512826\n"
     ]
    },
    {
     "data": {
      "text/plain": [
       "0.0"
      ]
     },
     "execution_count": 13,
     "metadata": {},
     "output_type": "execute_result"
    }
   ],
   "source": [
    "# std can be nan if only one element\n",
    "print(len(X[X.isnull().any(axis=1)]) / len(X))\n",
    "X.fillna(-1, inplace=True)\n",
    "len(X[X.isnull().any(axis=1)]) / len(X) # no row is null"
   ]
  },
  {
   "cell_type": "code",
   "execution_count": 16,
   "metadata": {},
   "outputs": [
    {
     "name": "stdout",
     "output_type": "stream",
     "text": [
      "(2226720, 22)\n",
      "               SrcAddr    counts  Sport_nunique  DstAddr_nunique  \\\n",
      "0              0.0.0.0 -0.019717      -0.027515        -0.025172   \n",
      "1    00:15:17:2c:e5:2d -0.019717      -0.050986        -0.025172   \n",
      "2        1.144.156.226 -0.019717      -0.027515        -0.025172   \n",
      "3           1.144.5.55 -0.019717      -0.027515        -0.025172   \n",
      "4        1.155.150.224 -0.019717      -0.027515        -0.025172   \n",
      "..                 ...       ...            ...              ...   \n",
      "787     99.192.158.141 -0.019717      -0.027515        -0.025172   \n",
      "788       99.242.24.14 -0.019717      -0.027515        -0.025172   \n",
      "789     99.245.126.143 -0.019717      -0.027515        -0.025172   \n",
      "790     99.245.140.246 -0.019717      -0.027515        -0.025172   \n",
      "791     99.254.184.154 -0.019717      -0.027515        -0.025172   \n",
      "\n",
      "     Dport_nunique   Dur_sum  Dur_mean   Dur_std   Dur_max  Dur_median  \\\n",
      "0        -0.004666  0.130027  2.268262 -0.090415  2.233044    2.267097   \n",
      "1        -0.020891  0.130070  2.268927 -0.090415  2.233703    2.267762   \n",
      "2        -0.004666 -0.056688 -0.640684 -0.090415 -0.646508   -0.638999   \n",
      "3        -0.004666 -0.056688 -0.640684 -0.090415 -0.646508   -0.638999   \n",
      "4        -0.004666 -0.056688 -0.640685 -0.090415 -0.646510   -0.639000   \n",
      "..             ...       ...       ...       ...       ...         ...   \n",
      "787      -0.004666 -0.056688 -0.640686 -0.090415 -0.646510   -0.639001   \n",
      "788      -0.004666 -0.056688 -0.640685 -0.090415 -0.646510   -0.639000   \n",
      "789      -0.004666 -0.056688 -0.640685 -0.090415 -0.646510   -0.639000   \n",
      "790      -0.004666 -0.056688 -0.640685 -0.090415 -0.646510   -0.639000   \n",
      "791      -0.004666 -0.056688 -0.640685 -0.090415 -0.646510   -0.639000   \n",
      "\n",
      "     TotBytes_sum  TotBytes_mean  TotBytes_std  TotBytes_max  TotBytes_median  \\\n",
      "0        0.011943       0.069540     -0.003351      0.016315         0.071832   \n",
      "1        0.000671       0.028206     -0.003351      0.003094         0.029619   \n",
      "2       -0.008330      -0.004803     -0.003351     -0.007463        -0.004093   \n",
      "3       -0.008261      -0.004549     -0.003351     -0.007382        -0.003834   \n",
      "4       -0.008330      -0.004802     -0.003351     -0.007463        -0.004092   \n",
      "..            ...            ...           ...           ...              ...   \n",
      "787     -0.008255      -0.004529     -0.003351     -0.007376        -0.003812   \n",
      "788     -0.008329      -0.004798     -0.003351     -0.007462        -0.004088   \n",
      "789     -0.008328      -0.004797     -0.003351     -0.007461        -0.004086   \n",
      "790     -0.008259      -0.004541     -0.003351     -0.007379        -0.003825   \n",
      "791     -0.008299      -0.004689     -0.003351     -0.007427        -0.003976   \n",
      "\n",
      "     SrcBytes_sum  SrcBytes_mean  SrcBytes_std  SrcBytes_max  SrcBytes_median  \\\n",
      "0        0.036407       0.088680     -0.001629      0.037010         0.090695   \n",
      "1        0.014272       0.037990     -0.001629      0.014803         0.039052   \n",
      "2       -0.003425      -0.002537     -0.001629     -0.002951        -0.002236   \n",
      "3       -0.003289      -0.002226     -0.001629     -0.002815        -0.001919   \n",
      "4       -0.003424      -0.002536     -0.001629     -0.002951        -0.002235   \n",
      "..            ...            ...           ...           ...              ...   \n",
      "787     -0.003278      -0.002200     -0.001629     -0.002804        -0.001893   \n",
      "788     -0.003422      -0.002531     -0.001629     -0.002949        -0.002230   \n",
      "789     -0.003421      -0.002529     -0.001629     -0.002948        -0.002228   \n",
      "790     -0.003424      -0.002535     -0.001629     -0.002950        -0.002234   \n",
      "791     -0.003428      -0.002544     -0.001629     -0.002954        -0.002243   \n",
      "\n",
      "     Label_<lambda>  window_id  \n",
      "0                 0          0  \n",
      "1                 0          0  \n",
      "2                 0          0  \n",
      "3                 0          0  \n",
      "4                 0          0  \n",
      "..              ...        ...  \n",
      "787               0        367  \n",
      "788               0        367  \n",
      "789               0        367  \n",
      "790               0        367  \n",
      "791               0        367  \n",
      "\n",
      "[2226720 rows x 22 columns]\n",
      "SrcAddr             object\n",
      "counts             float64\n",
      "Sport_nunique      float64\n",
      "DstAddr_nunique    float64\n",
      "Dport_nunique      float64\n",
      "                    ...   \n",
      "SrcBytes_std       float64\n",
      "SrcBytes_max       float64\n",
      "SrcBytes_median    float64\n",
      "Label_<lambda>       int64\n",
      "window_id            int64\n",
      "Length: 22, dtype: object\n"
     ]
    }
   ],
   "source": [
    "columnsForNomalization = list(X.columns.values)\n",
    "columnsForNomalization.remove('SrcAddr')\n",
    "columnsForNomalization.remove('Label_<lambda>')\n",
    "columnsForNomalization.remove('window_id')\n",
    "\n",
    "normalizationFiles = defaultdict(dict)\n",
    "\n",
    "def normalizeCol(col, df, normalizationFiles):\n",
    "    normalizationFiles[col]['mean'] = df[col].mean()\n",
    "    normalizationFiles[col]['std'] = df[col].std()\n",
    "    df[col] = (df[col] - df[col].mean()) / df[col].std()\n",
    "\n",
    "for col in columnsForNomalization:\n",
    "    normalizeCol(col, X, normalizationFiles)\n",
    "\n",
    "f = open('normalizationFilesWithoutRU.pickle', 'wb')\n",
    "f.write(pickle.dumps(normalizationFiles))\n",
    "f.close()\n",
    "\n",
    "with pd.option_context('display.max_rows', 10, 'display.max_columns', 22):\n",
    "    print(X.shape)\n",
    "    print(X)\n",
    "    print(X.dtypes)"
   ]
  },
  {
   "cell_type": "code",
   "execution_count": 17,
   "metadata": {},
   "outputs": [
    {
     "data": {
      "text/plain": [
       "defaultdict(dict,\n",
       "            {'counts': {'mean': 2.5321921930013653, 'std': 77.70940856755693},\n",
       "             'Sport_nunique': {'mean': 2.1722865919379175,\n",
       "              'std': 42.60578589665009},\n",
       "             'DstAddr_nunique': {'mean': 1.3124223072501258,\n",
       "              'std': 12.411583471303741},\n",
       "             'Dport_nunique': {'mean': 1.287559280017245,\n",
       "              'std': 61.63164926231007},\n",
       "             'Dur_sum': {'mean': 1090.604708552082, 'std': 19238.817413699682},\n",
       "             'Dur_mean': {'mean': 791.1653055265077,\n",
       "              'std': 1234.8719168333319},\n",
       "             'Dur_std': {'mean': 11.02408018251827, 'std': 132.98741530501906},\n",
       "             'Dur_max': {'mean': 806.5069415992403, 'std': 1247.4767493309369},\n",
       "             'Dur_median': {'mean': 789.8582490939663,\n",
       "              'std': 1236.0829055040663},\n",
       "             'TotBytes_sum': {'mean': 48577.96432330962,\n",
       "              'std': 5815654.790622006},\n",
       "             'TotBytes_mean': {'mean': 7749.940751521978,\n",
       "              'std': 1585917.2698760445},\n",
       "             'TotBytes_std': {'mean': 7523.61777472318,\n",
       "              'std': 2245569.7814050885},\n",
       "             'TotBytes_max': {'mean': 37139.06264954732,\n",
       "              'std': 4958436.857562022},\n",
       "             'TotBytes_median': {'mean': 6488.193718114536,\n",
       "              'std': 1552870.4181480042},\n",
       "             'SrcBytes_sum': {'mean': 10215.12322923403,\n",
       "              'std': 2961472.1215725113},\n",
       "             'SrcBytes_mean': {'mean': 3353.4513068987603,\n",
       "              'std': 1293191.3281726632},\n",
       "             'SrcBytes_std': {'mean': 3037.1169410073803,\n",
       "              'std': 1865273.6958644958},\n",
       "             'SrcBytes_max': {'mean': 8784.021175989797,\n",
       "              'std': 2951896.7650562627},\n",
       "             'SrcBytes_median': {'mean': 2910.874681594453,\n",
       "              'std': 1269349.4354168915},\n",
       "             'Sport_RU': {'mean': 0.9945739264146807,\n",
       "              'std': 0.06792829758050194},\n",
       "             'DstAddr_RU': {'mean': 0.9633793166683223,\n",
       "              'std': 0.18186710538663234},\n",
       "             'Dport_RU': {'mean': 0.9687719034149881, 'std': 0.1672046167076}})"
      ]
     },
     "execution_count": 17,
     "metadata": {},
     "output_type": "execute_result"
    }
   ],
   "source": [
    "# open pickle normalization files\n",
    "normalizationFiles = pickle.loads(open('normalizationFilesWithRU.pickle', 'rb').read())\n",
    "normalizationFiles"
   ]
  },
  {
   "cell_type": "code",
   "execution_count": 15,
   "metadata": {},
   "outputs": [
    {
     "data": {
      "text/html": [
       "<div>\n",
       "<style scoped>\n",
       "    .dataframe tbody tr th:only-of-type {\n",
       "        vertical-align: middle;\n",
       "    }\n",
       "\n",
       "    .dataframe tbody tr th {\n",
       "        vertical-align: top;\n",
       "    }\n",
       "\n",
       "    .dataframe thead th {\n",
       "        text-align: right;\n",
       "    }\n",
       "</style>\n",
       "<table border=\"1\" class=\"dataframe\">\n",
       "  <thead>\n",
       "    <tr style=\"text-align: right;\">\n",
       "      <th></th>\n",
       "      <th>SrcAddr</th>\n",
       "      <th>counts</th>\n",
       "      <th>Sport_nunique</th>\n",
       "      <th>DstAddr_nunique</th>\n",
       "      <th>Dport_nunique</th>\n",
       "      <th>Dur_sum</th>\n",
       "      <th>Dur_mean</th>\n",
       "      <th>Dur_std</th>\n",
       "      <th>Dur_max</th>\n",
       "      <th>Dur_median</th>\n",
       "      <th>...</th>\n",
       "      <th>TotBytes_std</th>\n",
       "      <th>TotBytes_max</th>\n",
       "      <th>TotBytes_median</th>\n",
       "      <th>SrcBytes_sum</th>\n",
       "      <th>SrcBytes_mean</th>\n",
       "      <th>SrcBytes_std</th>\n",
       "      <th>SrcBytes_max</th>\n",
       "      <th>SrcBytes_median</th>\n",
       "      <th>Label_&lt;lambda&gt;</th>\n",
       "      <th>window_id</th>\n",
       "    </tr>\n",
       "  </thead>\n",
       "  <tbody>\n",
       "    <tr>\n",
       "      <th>787</th>\n",
       "      <td>99.192.158.141</td>\n",
       "      <td>-0.019717</td>\n",
       "      <td>-0.027515</td>\n",
       "      <td>-0.025172</td>\n",
       "      <td>-0.004666</td>\n",
       "      <td>-0.056688</td>\n",
       "      <td>-0.640686</td>\n",
       "      <td>-0.090415</td>\n",
       "      <td>-0.64651</td>\n",
       "      <td>-0.639001</td>\n",
       "      <td>...</td>\n",
       "      <td>-0.003351</td>\n",
       "      <td>-0.007376</td>\n",
       "      <td>-0.003812</td>\n",
       "      <td>-0.003278</td>\n",
       "      <td>-0.002200</td>\n",
       "      <td>-0.001629</td>\n",
       "      <td>-0.002804</td>\n",
       "      <td>-0.001893</td>\n",
       "      <td>0</td>\n",
       "      <td>367</td>\n",
       "    </tr>\n",
       "    <tr>\n",
       "      <th>788</th>\n",
       "      <td>99.242.24.14</td>\n",
       "      <td>-0.019717</td>\n",
       "      <td>-0.027515</td>\n",
       "      <td>-0.025172</td>\n",
       "      <td>-0.004666</td>\n",
       "      <td>-0.056688</td>\n",
       "      <td>-0.640685</td>\n",
       "      <td>-0.090415</td>\n",
       "      <td>-0.64651</td>\n",
       "      <td>-0.639000</td>\n",
       "      <td>...</td>\n",
       "      <td>-0.003351</td>\n",
       "      <td>-0.007462</td>\n",
       "      <td>-0.004088</td>\n",
       "      <td>-0.003422</td>\n",
       "      <td>-0.002531</td>\n",
       "      <td>-0.001629</td>\n",
       "      <td>-0.002949</td>\n",
       "      <td>-0.002230</td>\n",
       "      <td>0</td>\n",
       "      <td>367</td>\n",
       "    </tr>\n",
       "    <tr>\n",
       "      <th>789</th>\n",
       "      <td>99.245.126.143</td>\n",
       "      <td>-0.019717</td>\n",
       "      <td>-0.027515</td>\n",
       "      <td>-0.025172</td>\n",
       "      <td>-0.004666</td>\n",
       "      <td>-0.056688</td>\n",
       "      <td>-0.640685</td>\n",
       "      <td>-0.090415</td>\n",
       "      <td>-0.64651</td>\n",
       "      <td>-0.639000</td>\n",
       "      <td>...</td>\n",
       "      <td>-0.003351</td>\n",
       "      <td>-0.007461</td>\n",
       "      <td>-0.004086</td>\n",
       "      <td>-0.003421</td>\n",
       "      <td>-0.002529</td>\n",
       "      <td>-0.001629</td>\n",
       "      <td>-0.002948</td>\n",
       "      <td>-0.002228</td>\n",
       "      <td>0</td>\n",
       "      <td>367</td>\n",
       "    </tr>\n",
       "    <tr>\n",
       "      <th>790</th>\n",
       "      <td>99.245.140.246</td>\n",
       "      <td>-0.019717</td>\n",
       "      <td>-0.027515</td>\n",
       "      <td>-0.025172</td>\n",
       "      <td>-0.004666</td>\n",
       "      <td>-0.056688</td>\n",
       "      <td>-0.640685</td>\n",
       "      <td>-0.090415</td>\n",
       "      <td>-0.64651</td>\n",
       "      <td>-0.639000</td>\n",
       "      <td>...</td>\n",
       "      <td>-0.003351</td>\n",
       "      <td>-0.007379</td>\n",
       "      <td>-0.003825</td>\n",
       "      <td>-0.003424</td>\n",
       "      <td>-0.002535</td>\n",
       "      <td>-0.001629</td>\n",
       "      <td>-0.002950</td>\n",
       "      <td>-0.002234</td>\n",
       "      <td>0</td>\n",
       "      <td>367</td>\n",
       "    </tr>\n",
       "    <tr>\n",
       "      <th>791</th>\n",
       "      <td>99.254.184.154</td>\n",
       "      <td>-0.019717</td>\n",
       "      <td>-0.027515</td>\n",
       "      <td>-0.025172</td>\n",
       "      <td>-0.004666</td>\n",
       "      <td>-0.056688</td>\n",
       "      <td>-0.640685</td>\n",
       "      <td>-0.090415</td>\n",
       "      <td>-0.64651</td>\n",
       "      <td>-0.639000</td>\n",
       "      <td>...</td>\n",
       "      <td>-0.003351</td>\n",
       "      <td>-0.007427</td>\n",
       "      <td>-0.003976</td>\n",
       "      <td>-0.003428</td>\n",
       "      <td>-0.002544</td>\n",
       "      <td>-0.001629</td>\n",
       "      <td>-0.002954</td>\n",
       "      <td>-0.002243</td>\n",
       "      <td>0</td>\n",
       "      <td>367</td>\n",
       "    </tr>\n",
       "  </tbody>\n",
       "</table>\n",
       "<p>5 rows × 22 columns</p>\n",
       "</div>"
      ],
      "text/plain": [
       "            SrcAddr    counts  Sport_nunique  DstAddr_nunique  Dport_nunique  \\\n",
       "787  99.192.158.141 -0.019717      -0.027515        -0.025172      -0.004666   \n",
       "788    99.242.24.14 -0.019717      -0.027515        -0.025172      -0.004666   \n",
       "789  99.245.126.143 -0.019717      -0.027515        -0.025172      -0.004666   \n",
       "790  99.245.140.246 -0.019717      -0.027515        -0.025172      -0.004666   \n",
       "791  99.254.184.154 -0.019717      -0.027515        -0.025172      -0.004666   \n",
       "\n",
       "      Dur_sum  Dur_mean   Dur_std  Dur_max  Dur_median  ...  TotBytes_std  \\\n",
       "787 -0.056688 -0.640686 -0.090415 -0.64651   -0.639001  ...     -0.003351   \n",
       "788 -0.056688 -0.640685 -0.090415 -0.64651   -0.639000  ...     -0.003351   \n",
       "789 -0.056688 -0.640685 -0.090415 -0.64651   -0.639000  ...     -0.003351   \n",
       "790 -0.056688 -0.640685 -0.090415 -0.64651   -0.639000  ...     -0.003351   \n",
       "791 -0.056688 -0.640685 -0.090415 -0.64651   -0.639000  ...     -0.003351   \n",
       "\n",
       "     TotBytes_max  TotBytes_median  SrcBytes_sum  SrcBytes_mean  SrcBytes_std  \\\n",
       "787     -0.007376        -0.003812     -0.003278      -0.002200     -0.001629   \n",
       "788     -0.007462        -0.004088     -0.003422      -0.002531     -0.001629   \n",
       "789     -0.007461        -0.004086     -0.003421      -0.002529     -0.001629   \n",
       "790     -0.007379        -0.003825     -0.003424      -0.002535     -0.001629   \n",
       "791     -0.007427        -0.003976     -0.003428      -0.002544     -0.001629   \n",
       "\n",
       "     SrcBytes_max  SrcBytes_median  Label_<lambda>  window_id  \n",
       "787     -0.002804        -0.001893               0        367  \n",
       "788     -0.002949        -0.002230               0        367  \n",
       "789     -0.002948        -0.002228               0        367  \n",
       "790     -0.002950        -0.002234               0        367  \n",
       "791     -0.002954        -0.002243               0        367  \n",
       "\n",
       "[5 rows x 22 columns]"
      ]
     },
     "execution_count": 15,
     "metadata": {},
     "output_type": "execute_result"
    }
   ],
   "source": [
    "X.tail()"
   ]
  },
  {
   "cell_type": "code",
   "execution_count": 17,
   "metadata": {},
   "outputs": [],
   "source": [
    "X.drop('SrcAddr', axis=1).to_hdf('dataWindowBotnet0.h5', key='data', mode='w')\n",
    "np.save('dataWindowBotnet0ID.npy', X['SrcAddr'])\n",
    "np.save('dataWindowBotnet0Labels.npy', labels)"
   ]
  },
  {
   "cell_type": "markdown",
   "metadata": {},
   "source": [
    "# EDA #2\n",
    "\n",
    "- Preprocess program to extract window-related **normalized entropy** from Netflow files\n",
    "\n",
    "- Input:\n",
    "    - windowWidth / windowStride (in seconds)\n",
    "    - data: first Netflow files\n",
    "   \n",
    "- Output:\n",
    "    - dataWindowBotnet{id}.h5: DF with the extracted data: Sport (RU), DstAddr (RU), Dport (RU)\n",
    "    - dataWindowBotnet{id}ID.npy: Numpy arr contain ScrAddr\n",
    "    - dataWindowBotnet{id}Labels.npy: Numpy arr contain Label"
   ]
  },
  {
   "cell_type": "code",
   "execution_count": 2,
   "metadata": {},
   "outputs": [
    {
     "data": {
      "text/html": [
       "<div>\n",
       "<style scoped>\n",
       "    .dataframe tbody tr th:only-of-type {\n",
       "        vertical-align: middle;\n",
       "    }\n",
       "\n",
       "    .dataframe tbody tr th {\n",
       "        vertical-align: top;\n",
       "    }\n",
       "\n",
       "    .dataframe thead th {\n",
       "        text-align: right;\n",
       "    }\n",
       "</style>\n",
       "<table border=\"1\" class=\"dataframe\">\n",
       "  <thead>\n",
       "    <tr style=\"text-align: right;\">\n",
       "      <th></th>\n",
       "      <th>StartTime</th>\n",
       "      <th>Dur</th>\n",
       "      <th>Proto</th>\n",
       "      <th>SrcAddr</th>\n",
       "      <th>Sport</th>\n",
       "      <th>Dir</th>\n",
       "      <th>DstAddr</th>\n",
       "      <th>Dport</th>\n",
       "      <th>State</th>\n",
       "      <th>sTos</th>\n",
       "      <th>dTos</th>\n",
       "      <th>TotPkts</th>\n",
       "      <th>TotBytes</th>\n",
       "      <th>SrcBytes</th>\n",
       "      <th>Label</th>\n",
       "    </tr>\n",
       "  </thead>\n",
       "  <tbody>\n",
       "    <tr>\n",
       "      <th>0</th>\n",
       "      <td>2011/08/10 09:46:59.607825</td>\n",
       "      <td>1.026539</td>\n",
       "      <td>tcp</td>\n",
       "      <td>94.44.127.113</td>\n",
       "      <td>1577</td>\n",
       "      <td>-&gt;</td>\n",
       "      <td>147.32.84.59</td>\n",
       "      <td>6881</td>\n",
       "      <td>S_RA</td>\n",
       "      <td>0.0</td>\n",
       "      <td>0.0</td>\n",
       "      <td>4</td>\n",
       "      <td>276</td>\n",
       "      <td>156</td>\n",
       "      <td>flow=Background-Established-cmpgw-CVUT</td>\n",
       "    </tr>\n",
       "    <tr>\n",
       "      <th>1</th>\n",
       "      <td>2011/08/10 09:47:00.634364</td>\n",
       "      <td>1.009595</td>\n",
       "      <td>tcp</td>\n",
       "      <td>94.44.127.113</td>\n",
       "      <td>1577</td>\n",
       "      <td>-&gt;</td>\n",
       "      <td>147.32.84.59</td>\n",
       "      <td>6881</td>\n",
       "      <td>S_RA</td>\n",
       "      <td>0.0</td>\n",
       "      <td>0.0</td>\n",
       "      <td>4</td>\n",
       "      <td>276</td>\n",
       "      <td>156</td>\n",
       "      <td>flow=Background-Established-cmpgw-CVUT</td>\n",
       "    </tr>\n",
       "    <tr>\n",
       "      <th>2</th>\n",
       "      <td>2011/08/10 09:47:48.185538</td>\n",
       "      <td>3.056586</td>\n",
       "      <td>tcp</td>\n",
       "      <td>147.32.86.89</td>\n",
       "      <td>4768</td>\n",
       "      <td>-&gt;</td>\n",
       "      <td>77.75.73.33</td>\n",
       "      <td>80</td>\n",
       "      <td>SR_A</td>\n",
       "      <td>0.0</td>\n",
       "      <td>0.0</td>\n",
       "      <td>3</td>\n",
       "      <td>182</td>\n",
       "      <td>122</td>\n",
       "      <td>flow=Background-TCP-Attempt</td>\n",
       "    </tr>\n",
       "    <tr>\n",
       "      <th>3</th>\n",
       "      <td>2011/08/10 09:47:48.230897</td>\n",
       "      <td>3.111769</td>\n",
       "      <td>tcp</td>\n",
       "      <td>147.32.86.89</td>\n",
       "      <td>4788</td>\n",
       "      <td>-&gt;</td>\n",
       "      <td>77.75.73.33</td>\n",
       "      <td>80</td>\n",
       "      <td>SR_A</td>\n",
       "      <td>0.0</td>\n",
       "      <td>0.0</td>\n",
       "      <td>3</td>\n",
       "      <td>182</td>\n",
       "      <td>122</td>\n",
       "      <td>flow=Background-TCP-Attempt</td>\n",
       "    </tr>\n",
       "    <tr>\n",
       "      <th>4</th>\n",
       "      <td>2011/08/10 09:47:48.963351</td>\n",
       "      <td>3.083411</td>\n",
       "      <td>tcp</td>\n",
       "      <td>147.32.86.89</td>\n",
       "      <td>4850</td>\n",
       "      <td>-&gt;</td>\n",
       "      <td>77.75.73.33</td>\n",
       "      <td>80</td>\n",
       "      <td>SR_A</td>\n",
       "      <td>0.0</td>\n",
       "      <td>0.0</td>\n",
       "      <td>3</td>\n",
       "      <td>182</td>\n",
       "      <td>122</td>\n",
       "      <td>flow=Background-TCP-Attempt</td>\n",
       "    </tr>\n",
       "  </tbody>\n",
       "</table>\n",
       "</div>"
      ],
      "text/plain": [
       "                    StartTime       Dur Proto        SrcAddr Sport    Dir  \\\n",
       "0  2011/08/10 09:46:59.607825  1.026539   tcp  94.44.127.113  1577     ->   \n",
       "1  2011/08/10 09:47:00.634364  1.009595   tcp  94.44.127.113  1577     ->   \n",
       "2  2011/08/10 09:47:48.185538  3.056586   tcp   147.32.86.89  4768     ->   \n",
       "3  2011/08/10 09:47:48.230897  3.111769   tcp   147.32.86.89  4788     ->   \n",
       "4  2011/08/10 09:47:48.963351  3.083411   tcp   147.32.86.89  4850     ->   \n",
       "\n",
       "        DstAddr Dport State  sTos  dTos  TotPkts  TotBytes  SrcBytes  \\\n",
       "0  147.32.84.59  6881  S_RA   0.0   0.0        4       276       156   \n",
       "1  147.32.84.59  6881  S_RA   0.0   0.0        4       276       156   \n",
       "2   77.75.73.33    80  SR_A   0.0   0.0        3       182       122   \n",
       "3   77.75.73.33    80  SR_A   0.0   0.0        3       182       122   \n",
       "4   77.75.73.33    80  SR_A   0.0   0.0        3       182       122   \n",
       "\n",
       "                                    Label  \n",
       "0  flow=Background-Established-cmpgw-CVUT  \n",
       "1  flow=Background-Established-cmpgw-CVUT  \n",
       "2             flow=Background-TCP-Attempt  \n",
       "3             flow=Background-TCP-Attempt  \n",
       "4             flow=Background-TCP-Attempt  "
      ]
     },
     "execution_count": 2,
     "metadata": {},
     "output_type": "execute_result"
    }
   ],
   "source": [
    "data = pd.read_csv('CTU-13-Dataset/capture20110810.binetflow', low_memory=False)\n",
    "data.head()"
   ]
  },
  {
   "cell_type": "code",
   "execution_count": 3,
   "metadata": {},
   "outputs": [
    {
     "data": {
      "text/plain": [
       "1312969613.0472772"
      ]
     },
     "execution_count": 3,
     "metadata": {},
     "output_type": "execute_result"
    }
   ],
   "source": [
    "data['StartTime'] = pd.to_datetime(data['StartTime']).values.astype('int') * 1e-9\n",
    "datatimeStart = data['StartTime'].min()\n",
    "datatimeStart"
   ]
  },
  {
   "cell_type": "code",
   "execution_count": 4,
   "metadata": {},
   "outputs": [
    {
     "data": {
      "text/plain": [
       "0          1312969619\n",
       "1          1312969620\n",
       "2          1312969668\n",
       "3          1312969668\n",
       "4          1312969668\n",
       "              ...    \n",
       "2824631    1312991647\n",
       "2824632    1312991647\n",
       "2824633    1312991647\n",
       "2824634    1312991647\n",
       "2824635    1312991647\n",
       "Name: StartTime, Length: 2824636, dtype: int64"
      ]
     },
     "execution_count": 4,
     "metadata": {},
     "output_type": "execute_result"
    }
   ],
   "source": [
    "windowWidth, windowStride = 120, 60 # seconds\n",
    "data['StartTime'].astype('int')"
   ]
  },
  {
   "cell_type": "code",
   "execution_count": 5,
   "metadata": {},
   "outputs": [
    {
     "data": {
      "text/plain": [
       "0           -0.890658\n",
       "1           -0.873549\n",
       "2           -0.081029\n",
       "3           -0.080273\n",
       "4           -0.068065\n",
       "              ...    \n",
       "2824631    366.238419\n",
       "2824632    366.238443\n",
       "2824633    366.238500\n",
       "2824634    366.238659\n",
       "2824635    366.238684\n",
       "Name: windowLower, Length: 2824636, dtype: float64"
      ]
     },
     "execution_count": 5,
     "metadata": {},
     "output_type": "execute_result"
    }
   ],
   "source": [
    "data['windowLower'] = (data['StartTime'] - datatimeStart - windowWidth) / windowStride + 1\n",
    "data['windowLower']"
   ]
  },
  {
   "cell_type": "code",
   "execution_count": 6,
   "metadata": {},
   "outputs": [
    {
     "data": {
      "text/plain": [
       "0            0.000000\n",
       "1            0.000000\n",
       "2            0.000000\n",
       "3            0.000000\n",
       "4            0.000000\n",
       "              ...    \n",
       "2824631    366.238419\n",
       "2824632    366.238443\n",
       "2824633    366.238500\n",
       "2824634    366.238659\n",
       "2824635    366.238684\n",
       "Name: windowLower, Length: 2824636, dtype: float64"
      ]
     },
     "execution_count": 6,
     "metadata": {},
     "output_type": "execute_result"
    }
   ],
   "source": [
    "data['windowLower'].clip(lower=0, inplace=True)\n",
    "data['windowLower']"
   ]
  },
  {
   "cell_type": "code",
   "execution_count": 7,
   "metadata": {},
   "outputs": [
    {
     "data": {
      "text/plain": [
       "0            1.109342\n",
       "1            1.126451\n",
       "2            1.918971\n",
       "3            1.919727\n",
       "4            1.931935\n",
       "              ...    \n",
       "2824631    368.238419\n",
       "2824632    368.238443\n",
       "2824633    368.238500\n",
       "2824634    368.238659\n",
       "2824635    368.238684\n",
       "Name: windowUpper, Length: 2824636, dtype: float64"
      ]
     },
     "execution_count": 7,
     "metadata": {},
     "output_type": "execute_result"
    }
   ],
   "source": [
    "data['windowUpper'] = (data['StartTime'] - datatimeStart) / windowStride + 1\n",
    "data['windowUpper']"
   ]
  },
  {
   "cell_type": "code",
   "execution_count": 8,
   "metadata": {},
   "outputs": [
    {
     "data": {
      "text/html": [
       "<div>\n",
       "<style scoped>\n",
       "    .dataframe tbody tr th:only-of-type {\n",
       "        vertical-align: middle;\n",
       "    }\n",
       "\n",
       "    .dataframe tbody tr th {\n",
       "        vertical-align: top;\n",
       "    }\n",
       "\n",
       "    .dataframe thead th {\n",
       "        text-align: right;\n",
       "    }\n",
       "</style>\n",
       "<table border=\"1\" class=\"dataframe\">\n",
       "  <thead>\n",
       "    <tr style=\"text-align: right;\">\n",
       "      <th></th>\n",
       "      <th>Dur</th>\n",
       "      <th>Proto</th>\n",
       "      <th>SrcAddr</th>\n",
       "      <th>Sport</th>\n",
       "      <th>Dir</th>\n",
       "      <th>DstAddr</th>\n",
       "      <th>Dport</th>\n",
       "      <th>State</th>\n",
       "      <th>sTos</th>\n",
       "      <th>dTos</th>\n",
       "      <th>TotPkts</th>\n",
       "      <th>TotBytes</th>\n",
       "      <th>SrcBytes</th>\n",
       "      <th>Label</th>\n",
       "      <th>windowLower</th>\n",
       "      <th>windowUpper</th>\n",
       "    </tr>\n",
       "  </thead>\n",
       "  <tbody>\n",
       "    <tr>\n",
       "      <th>0</th>\n",
       "      <td>1.026539</td>\n",
       "      <td>tcp</td>\n",
       "      <td>94.44.127.113</td>\n",
       "      <td>1577</td>\n",
       "      <td>-&gt;</td>\n",
       "      <td>147.32.84.59</td>\n",
       "      <td>6881</td>\n",
       "      <td>S_RA</td>\n",
       "      <td>0.0</td>\n",
       "      <td>0.0</td>\n",
       "      <td>4</td>\n",
       "      <td>276</td>\n",
       "      <td>156</td>\n",
       "      <td>flow=Background-Established-cmpgw-CVUT</td>\n",
       "      <td>0</td>\n",
       "      <td>1</td>\n",
       "    </tr>\n",
       "    <tr>\n",
       "      <th>1</th>\n",
       "      <td>1.009595</td>\n",
       "      <td>tcp</td>\n",
       "      <td>94.44.127.113</td>\n",
       "      <td>1577</td>\n",
       "      <td>-&gt;</td>\n",
       "      <td>147.32.84.59</td>\n",
       "      <td>6881</td>\n",
       "      <td>S_RA</td>\n",
       "      <td>0.0</td>\n",
       "      <td>0.0</td>\n",
       "      <td>4</td>\n",
       "      <td>276</td>\n",
       "      <td>156</td>\n",
       "      <td>flow=Background-Established-cmpgw-CVUT</td>\n",
       "      <td>0</td>\n",
       "      <td>1</td>\n",
       "    </tr>\n",
       "    <tr>\n",
       "      <th>2</th>\n",
       "      <td>3.056586</td>\n",
       "      <td>tcp</td>\n",
       "      <td>147.32.86.89</td>\n",
       "      <td>4768</td>\n",
       "      <td>-&gt;</td>\n",
       "      <td>77.75.73.33</td>\n",
       "      <td>80</td>\n",
       "      <td>SR_A</td>\n",
       "      <td>0.0</td>\n",
       "      <td>0.0</td>\n",
       "      <td>3</td>\n",
       "      <td>182</td>\n",
       "      <td>122</td>\n",
       "      <td>flow=Background-TCP-Attempt</td>\n",
       "      <td>0</td>\n",
       "      <td>1</td>\n",
       "    </tr>\n",
       "    <tr>\n",
       "      <th>3</th>\n",
       "      <td>3.111769</td>\n",
       "      <td>tcp</td>\n",
       "      <td>147.32.86.89</td>\n",
       "      <td>4788</td>\n",
       "      <td>-&gt;</td>\n",
       "      <td>77.75.73.33</td>\n",
       "      <td>80</td>\n",
       "      <td>SR_A</td>\n",
       "      <td>0.0</td>\n",
       "      <td>0.0</td>\n",
       "      <td>3</td>\n",
       "      <td>182</td>\n",
       "      <td>122</td>\n",
       "      <td>flow=Background-TCP-Attempt</td>\n",
       "      <td>0</td>\n",
       "      <td>1</td>\n",
       "    </tr>\n",
       "    <tr>\n",
       "      <th>4</th>\n",
       "      <td>3.083411</td>\n",
       "      <td>tcp</td>\n",
       "      <td>147.32.86.89</td>\n",
       "      <td>4850</td>\n",
       "      <td>-&gt;</td>\n",
       "      <td>77.75.73.33</td>\n",
       "      <td>80</td>\n",
       "      <td>SR_A</td>\n",
       "      <td>0.0</td>\n",
       "      <td>0.0</td>\n",
       "      <td>3</td>\n",
       "      <td>182</td>\n",
       "      <td>122</td>\n",
       "      <td>flow=Background-TCP-Attempt</td>\n",
       "      <td>0</td>\n",
       "      <td>1</td>\n",
       "    </tr>\n",
       "  </tbody>\n",
       "</table>\n",
       "</div>"
      ],
      "text/plain": [
       "        Dur Proto        SrcAddr Sport    Dir       DstAddr Dport State  sTos  \\\n",
       "0  1.026539   tcp  94.44.127.113  1577     ->  147.32.84.59  6881  S_RA   0.0   \n",
       "1  1.009595   tcp  94.44.127.113  1577     ->  147.32.84.59  6881  S_RA   0.0   \n",
       "2  3.056586   tcp   147.32.86.89  4768     ->   77.75.73.33    80  SR_A   0.0   \n",
       "3  3.111769   tcp   147.32.86.89  4788     ->   77.75.73.33    80  SR_A   0.0   \n",
       "4  3.083411   tcp   147.32.86.89  4850     ->   77.75.73.33    80  SR_A   0.0   \n",
       "\n",
       "   dTos  TotPkts  TotBytes  SrcBytes                                   Label  \\\n",
       "0   0.0        4       276       156  flow=Background-Established-cmpgw-CVUT   \n",
       "1   0.0        4       276       156  flow=Background-Established-cmpgw-CVUT   \n",
       "2   0.0        3       182       122             flow=Background-TCP-Attempt   \n",
       "3   0.0        3       182       122             flow=Background-TCP-Attempt   \n",
       "4   0.0        3       182       122             flow=Background-TCP-Attempt   \n",
       "\n",
       "   windowLower  windowUpper  \n",
       "0            0            1  \n",
       "1            0            1  \n",
       "2            0            1  \n",
       "3            0            1  \n",
       "4            0            1  "
      ]
     },
     "execution_count": 8,
     "metadata": {},
     "output_type": "execute_result"
    }
   ],
   "source": [
    "data = data.astype({\n",
    "    'windowLower': int,\n",
    "    'windowUpper': int\n",
    "})\n",
    "\n",
    "data.drop('StartTime', axis=1, inplace=True)\n",
    "data.head()"
   ]
  },
  {
   "cell_type": "code",
   "execution_count": 9,
   "metadata": {},
   "outputs": [
    {
     "name": "stdout",
     "output_type": "stream",
     "text": [
      "(array([0, 0, 0, ..., 0, 0, 0]), Index(['flow=Background', 'flow=To-Backgro', 'flow=From-Backg',\n",
      "       'flow=From-Norma', 'flow=To-Normal-', 'flow=Normal-V42',\n",
      "       'flow=From-Botne'],\n",
      "      dtype='object'))\n"
     ]
    }
   ],
   "source": [
    "# del(data)\n",
    "print(pd.factorize(data['Label'].str.slice(0, 15)))\n",
    "data['Label'], labels = pd.factorize(data['Label'].str.slice(0, 15))"
   ]
  },
  {
   "cell_type": "code",
   "execution_count": 10,
   "metadata": {},
   "outputs": [],
   "source": [
    "def RU(df):\n",
    "    if df.shape[0] == 1:\n",
    "        return 1.\n",
    "    \n",
    "    prob = df.value_counts() / df.shape[0]\n",
    "    h = prob * np.log10(prob)\n",
    "    return -h.sum() / np.log10(df.shape[0])"
   ]
  },
  {
   "cell_type": "code",
   "execution_count": 11,
   "metadata": {
    "scrolled": true
   },
   "outputs": [
    {
     "name": "stdout",
     "output_type": "stream",
     "text": [
      "(9787, 4)\n",
      "(18611, 4)\n",
      "(27165, 4)\n",
      "(35618, 4)\n",
      "(44085, 4)\n",
      "(52590, 4)\n",
      "(60893, 4)\n",
      "(69155, 4)\n",
      "(77348, 4)\n",
      "(85099, 4)\n",
      "(92554, 4)\n",
      "(100050, 4)\n",
      "(107669, 4)\n",
      "(115314, 4)\n",
      "(122838, 4)\n",
      "(130249, 4)\n",
      "(137568, 4)\n",
      "(145031, 4)\n",
      "(152558, 4)\n",
      "(159813, 4)\n",
      "(166800, 4)\n",
      "(173642, 4)\n",
      "(180612, 4)\n",
      "(187548, 4)\n",
      "(194282, 4)\n",
      "(201025, 4)\n",
      "(207690, 4)\n",
      "(214395, 4)\n",
      "(221232, 4)\n",
      "(227866, 4)\n",
      "(234204, 4)\n",
      "(240528, 4)\n",
      "(246838, 4)\n",
      "(253249, 4)\n",
      "(259729, 4)\n",
      "(265888, 4)\n",
      "(272041, 4)\n",
      "(278226, 4)\n",
      "(284193, 4)\n",
      "(290107, 4)\n",
      "(295903, 4)\n",
      "(301515, 4)\n",
      "(306980, 4)\n",
      "(312316, 4)\n",
      "(317715, 4)\n",
      "(323153, 4)\n",
      "(328527, 4)\n",
      "(333850, 4)\n",
      "(339170, 4)\n",
      "(344346, 4)\n",
      "(349213, 4)\n",
      "(354009, 4)\n",
      "(358784, 4)\n",
      "(363468, 4)\n",
      "(368133, 4)\n",
      "(372748, 4)\n",
      "(377513, 4)\n",
      "(382344, 4)\n",
      "(387061, 4)\n",
      "(392084, 4)\n",
      "(397408, 4)\n",
      "(402838, 4)\n",
      "(408440, 4)\n",
      "(414104, 4)\n",
      "(419600, 4)\n",
      "(425073, 4)\n",
      "(430617, 4)\n",
      "(436259, 4)\n",
      "(442075, 4)\n",
      "(447944, 4)\n",
      "(453791, 4)\n",
      "(459609, 4)\n",
      "(465532, 4)\n",
      "(471410, 4)\n",
      "(477195, 4)\n",
      "(482926, 4)\n",
      "(488755, 4)\n",
      "(494764, 4)\n",
      "(500735, 4)\n",
      "(506756, 4)\n",
      "(512858, 4)\n",
      "(518825, 4)\n",
      "(524757, 4)\n",
      "(530697, 4)\n",
      "(536634, 4)\n",
      "(542561, 4)\n",
      "(548458, 4)\n",
      "(554441, 4)\n",
      "(560495, 4)\n",
      "(566513, 4)\n",
      "(572605, 4)\n",
      "(578727, 4)\n",
      "(584814, 4)\n",
      "(591012, 4)\n",
      "(597272, 4)\n",
      "(603494, 4)\n",
      "(609604, 4)\n",
      "(615604, 4)\n",
      "(621635, 4)\n",
      "(627807, 4)\n",
      "(633914, 4)\n",
      "(639898, 4)\n",
      "(645907, 4)\n",
      "(651983, 4)\n",
      "(658094, 4)\n",
      "(664253, 4)\n",
      "(670462, 4)\n",
      "(676562, 4)\n",
      "(682563, 4)\n",
      "(688607, 4)\n",
      "(694605, 4)\n",
      "(700572, 4)\n",
      "(706556, 4)\n",
      "(712598, 4)\n",
      "(718646, 4)\n",
      "(724725, 4)\n",
      "(730909, 4)\n",
      "(736939, 4)\n",
      "(742928, 4)\n",
      "(749090, 4)\n",
      "(755413, 4)\n",
      "(761613, 4)\n",
      "(767511, 4)\n",
      "(773578, 4)\n",
      "(779811, 4)\n",
      "(785980, 4)\n",
      "(792220, 4)\n",
      "(798494, 4)\n",
      "(804711, 4)\n",
      "(810980, 4)\n",
      "(817166, 4)\n",
      "(823237, 4)\n",
      "(829557, 4)\n",
      "(836097, 4)\n",
      "(842505, 4)\n",
      "(848644, 4)\n",
      "(854666, 4)\n",
      "(860752, 4)\n",
      "(866880, 4)\n",
      "(873017, 4)\n",
      "(879196, 4)\n",
      "(885252, 4)\n",
      "(891224, 4)\n",
      "(897231, 4)\n",
      "(903196, 4)\n",
      "(909150, 4)\n",
      "(915200, 4)\n",
      "(921248, 4)\n",
      "(927276, 4)\n",
      "(933346, 4)\n",
      "(939412, 4)\n",
      "(945437, 4)\n",
      "(951275, 4)\n",
      "(957219, 4)\n",
      "(963466, 4)\n",
      "(969537, 4)\n",
      "(975456, 4)\n",
      "(981451, 4)\n",
      "(987429, 4)\n",
      "(993368, 4)\n",
      "(999293, 4)\n",
      "(1005165, 4)\n",
      "(1011089, 4)\n",
      "(1017030, 4)\n",
      "(1022864, 4)\n",
      "(1028639, 4)\n",
      "(1034397, 4)\n",
      "(1040218, 4)\n",
      "(1046064, 4)\n",
      "(1051719, 4)\n",
      "(1057273, 4)\n",
      "(1063031, 4)\n",
      "(1068873, 4)\n",
      "(1074712, 4)\n",
      "(1080609, 4)\n",
      "(1086422, 4)\n",
      "(1092194, 4)\n",
      "(1098025, 4)\n",
      "(1103847, 4)\n",
      "(1109646, 4)\n",
      "(1115514, 4)\n",
      "(1121442, 4)\n",
      "(1127423, 4)\n",
      "(1133351, 4)\n",
      "(1139217, 4)\n",
      "(1145045, 4)\n",
      "(1150800, 4)\n",
      "(1156692, 4)\n",
      "(1162580, 4)\n",
      "(1168399, 4)\n",
      "(1174252, 4)\n",
      "(1180132, 4)\n",
      "(1186099, 4)\n",
      "(1192250, 4)\n",
      "(1198488, 4)\n",
      "(1204581, 4)\n",
      "(1210423, 4)\n",
      "(1216261, 4)\n",
      "(1222125, 4)\n",
      "(1227846, 4)\n",
      "(1233659, 4)\n",
      "(1239584, 4)\n",
      "(1245567, 4)\n",
      "(1251581, 4)\n",
      "(1257556, 4)\n",
      "(1263450, 4)\n",
      "(1269254, 4)\n",
      "(1275049, 4)\n",
      "(1280734, 4)\n",
      "(1286405, 4)\n",
      "(1292073, 4)\n",
      "(1297678, 4)\n",
      "(1303291, 4)\n",
      "(1308911, 4)\n",
      "(1314481, 4)\n",
      "(1320140, 4)\n",
      "(1325812, 4)\n",
      "(1331380, 4)\n",
      "(1337117, 4)\n",
      "(1342872, 4)\n",
      "(1348547, 4)\n",
      "(1354342, 4)\n",
      "(1360087, 4)\n",
      "(1365661, 4)\n",
      "(1371312, 4)\n",
      "(1377006, 4)\n",
      "(1382740, 4)\n",
      "(1388514, 4)\n",
      "(1394326, 4)\n",
      "(1400211, 4)\n",
      "(1405943, 4)\n",
      "(1411530, 4)\n",
      "(1417068, 4)\n",
      "(1422728, 4)\n",
      "(1428438, 4)\n",
      "(1434076, 4)\n",
      "(1439613, 4)\n",
      "(1445205, 4)\n",
      "(1450853, 4)\n",
      "(1456494, 4)\n",
      "(1462280, 4)\n",
      "(1468069, 4)\n",
      "(1473784, 4)\n",
      "(1479567, 4)\n",
      "(1485259, 4)\n",
      "(1490961, 4)\n",
      "(1496664, 4)\n",
      "(1502316, 4)\n",
      "(1508122, 4)\n",
      "(1513956, 4)\n",
      "(1519775, 4)\n",
      "(1525505, 4)\n",
      "(1531118, 4)\n",
      "(1536896, 4)\n",
      "(1542801, 4)\n",
      "(1548689, 4)\n",
      "(1554572, 4)\n",
      "(1560553, 4)\n",
      "(1566421, 4)\n",
      "(1572248, 4)\n",
      "(1578198, 4)\n",
      "(1584065, 4)\n",
      "(1589836, 4)\n",
      "(1595674, 4)\n",
      "(1601530, 4)\n",
      "(1607385, 4)\n",
      "(1613224, 4)\n",
      "(1618973, 4)\n",
      "(1624698, 4)\n",
      "(1630492, 4)\n",
      "(1636267, 4)\n",
      "(1642020, 4)\n",
      "(1647827, 4)\n",
      "(1653567, 4)\n",
      "(1659330, 4)\n",
      "(1665221, 4)\n",
      "(1671179, 4)\n",
      "(1677026, 4)\n",
      "(1682809, 4)\n",
      "(1688581, 4)\n",
      "(1694403, 4)\n",
      "(1700357, 4)\n",
      "(1706338, 4)\n",
      "(1712294, 4)\n",
      "(1718159, 4)\n",
      "(1723990, 4)\n",
      "(1729728, 4)\n",
      "(1735532, 4)\n",
      "(1741459, 4)\n",
      "(1747380, 4)\n",
      "(1753244, 4)\n",
      "(1758983, 4)\n",
      "(1764863, 4)\n",
      "(1770819, 4)\n",
      "(1776649, 4)\n",
      "(1782475, 4)\n",
      "(1788289, 4)\n",
      "(1794133, 4)\n",
      "(1800053, 4)\n",
      "(1805917, 4)\n",
      "(1811872, 4)\n",
      "(1817979, 4)\n",
      "(1824057, 4)\n",
      "(1830151, 4)\n",
      "(1836237, 4)\n",
      "(1842257, 4)\n",
      "(1848110, 4)\n",
      "(1854032, 4)\n",
      "(1860149, 4)\n",
      "(1866175, 4)\n",
      "(1872298, 4)\n",
      "(1878510, 4)\n",
      "(1884645, 4)\n",
      "(1890740, 4)\n",
      "(1896771, 4)\n",
      "(1902765, 4)\n",
      "(1908869, 4)\n",
      "(1915122, 4)\n",
      "(1921326, 4)\n",
      "(1927575, 4)\n",
      "(1933853, 4)\n",
      "(1940149, 4)\n",
      "(1946587, 4)\n",
      "(1953201, 4)\n",
      "(1959845, 4)\n",
      "(1966339, 4)\n",
      "(1972724, 4)\n",
      "(1979072, 4)\n",
      "(1985375, 4)\n",
      "(1991646, 4)\n",
      "(1997912, 4)\n",
      "(2004208, 4)\n",
      "(2010619, 4)\n",
      "(2017101, 4)\n",
      "(2023545, 4)\n",
      "(2029944, 4)\n",
      "(2036359, 4)\n",
      "(2042841, 4)\n",
      "(2049306, 4)\n",
      "(2055682, 4)\n",
      "(2062015, 4)\n",
      "(2068404, 4)\n",
      "(2074836, 4)\n",
      "(2081206, 4)\n",
      "(2087593, 4)\n",
      "(2094123, 4)\n",
      "(2100654, 4)\n",
      "(2107090, 4)\n",
      "(2113499, 4)\n",
      "(2119924, 4)\n",
      "(2126354, 4)\n",
      "(2132809, 4)\n",
      "(2139169, 4)\n",
      "(2145347, 4)\n",
      "(2151550, 4)\n",
      "(2157980, 4)\n",
      "(2164515, 4)\n",
      "(2170958, 4)\n",
      "(2177308, 4)\n",
      "(2183692, 4)\n",
      "(2190187, 4)\n",
      "(2196724, 4)\n",
      "(2203266, 4)\n",
      "(2209540, 4)\n",
      "(2215732, 4)\n",
      "(2222010, 4)\n",
      "(2225928, 4)\n",
      "(2226720, 4)\n"
     ]
    }
   ],
   "source": [
    "X = pd.DataFrame()\n",
    "\n",
    "for i in range(data['windowUpper'].max()):\n",
    "    gb = data[(data['windowLower'] <= i) & (data['windowUpper'] > i)].groupby('SrcAddr')\n",
    "    X = X.append(gb.agg({\n",
    "        'Sport': [RU],\n",
    "        'DstAddr': [RU],\n",
    "        'Dport': [RU]\n",
    "    }).reset_index())\n",
    "    print(X.shape)"
   ]
  },
  {
   "cell_type": "code",
   "execution_count": 13,
   "metadata": {},
   "outputs": [
    {
     "data": {
      "text/plain": [
       "Index(['SrcAddr_', 'Sport_RU', 'DstAddr_RU', 'Dport_RU'], dtype='object')"
      ]
     },
     "execution_count": 13,
     "metadata": {},
     "output_type": "execute_result"
    }
   ],
   "source": [
    "X.columns = ['_'.join(x) if isinstance(x, tuple) else x for x in X.columns]\n",
    "X.columns"
   ]
  },
  {
   "cell_type": "code",
   "execution_count": 15,
   "metadata": {},
   "outputs": [
    {
     "name": "stdout",
     "output_type": "stream",
     "text": [
      "(2226720, 4)\n",
      "              SrcAddr_  Sport_RU  DstAddr_RU  Dport_RU\n",
      "0              0.0.0.0  0.079879     0.20136  0.186766\n",
      "1    00:15:17:2c:e5:2d  0.079879     0.20136  0.186766\n",
      "2        1.144.156.226  0.079879     0.20136  0.186766\n",
      "3           1.144.5.55  0.079879     0.20136  0.186766\n",
      "4        1.155.150.224  0.079879     0.20136  0.186766\n",
      "..                 ...       ...         ...       ...\n",
      "787     99.192.158.141  0.079879     0.20136  0.186766\n",
      "788       99.242.24.14  0.079879     0.20136  0.186766\n",
      "789     99.245.126.143  0.079879     0.20136  0.186766\n",
      "790     99.245.140.246  0.079879     0.20136  0.186766\n",
      "791     99.254.184.154  0.079879     0.20136  0.186766\n",
      "\n",
      "[2226720 rows x 4 columns]\n",
      "SrcAddr_       object\n",
      "Sport_RU      float64\n",
      "DstAddr_RU    float64\n",
      "Dport_RU      float64\n",
      "dtype: object\n"
     ]
    }
   ],
   "source": [
    "columnsForNomalization = list(X.columns.values)\n",
    "columnsForNomalization.remove('SrcAddr_')\n",
    "\n",
    "# normalizationFiles = defaultdict(dict)\n",
    "\n",
    "def normalizeCol(col, df, normalizationFiles):\n",
    "    normalizationFiles[col]['mean'] = df[col].mean()\n",
    "    normalizationFiles[col]['std'] = df[col].std()\n",
    "    df[col] = (df[col] - df[col].mean()) / df[col].std()\n",
    "\n",
    "for col in columnsForNomalization:\n",
    "    normalizeCol(col, X, normalizationFiles)\n",
    "\n",
    "with pd.option_context('display.max_rows', 10, 'display.max_columns', 22):\n",
    "    print(X.shape)\n",
    "    print(X)\n",
    "    print(X.dtypes)"
   ]
  },
  {
   "cell_type": "code",
   "execution_count": 16,
   "metadata": {},
   "outputs": [],
   "source": [
    "f = open('normalizationFilesWithRU.pickle', 'wb')\n",
    "f.write(pickle.dumps(normalizationFiles))\n",
    "f.close()"
   ]
  },
  {
   "cell_type": "code",
   "execution_count": 14,
   "metadata": {},
   "outputs": [
    {
     "data": {
      "text/html": [
       "<div>\n",
       "<style scoped>\n",
       "    .dataframe tbody tr th:only-of-type {\n",
       "        vertical-align: middle;\n",
       "    }\n",
       "\n",
       "    .dataframe tbody tr th {\n",
       "        vertical-align: top;\n",
       "    }\n",
       "\n",
       "    .dataframe thead th {\n",
       "        text-align: right;\n",
       "    }\n",
       "</style>\n",
       "<table border=\"1\" class=\"dataframe\">\n",
       "  <thead>\n",
       "    <tr style=\"text-align: right;\">\n",
       "      <th></th>\n",
       "      <th>SrcAddr_</th>\n",
       "      <th>Sport_RU</th>\n",
       "      <th>DstAddr_RU</th>\n",
       "      <th>Dport_RU</th>\n",
       "    </tr>\n",
       "  </thead>\n",
       "  <tbody>\n",
       "    <tr>\n",
       "      <th>787</th>\n",
       "      <td>99.192.158.141</td>\n",
       "      <td>0.079879</td>\n",
       "      <td>0.20136</td>\n",
       "      <td>0.186766</td>\n",
       "    </tr>\n",
       "    <tr>\n",
       "      <th>788</th>\n",
       "      <td>99.242.24.14</td>\n",
       "      <td>0.079879</td>\n",
       "      <td>0.20136</td>\n",
       "      <td>0.186766</td>\n",
       "    </tr>\n",
       "    <tr>\n",
       "      <th>789</th>\n",
       "      <td>99.245.126.143</td>\n",
       "      <td>0.079879</td>\n",
       "      <td>0.20136</td>\n",
       "      <td>0.186766</td>\n",
       "    </tr>\n",
       "    <tr>\n",
       "      <th>790</th>\n",
       "      <td>99.245.140.246</td>\n",
       "      <td>0.079879</td>\n",
       "      <td>0.20136</td>\n",
       "      <td>0.186766</td>\n",
       "    </tr>\n",
       "    <tr>\n",
       "      <th>791</th>\n",
       "      <td>99.254.184.154</td>\n",
       "      <td>0.079879</td>\n",
       "      <td>0.20136</td>\n",
       "      <td>0.186766</td>\n",
       "    </tr>\n",
       "  </tbody>\n",
       "</table>\n",
       "</div>"
      ],
      "text/plain": [
       "           SrcAddr_  Sport_RU  DstAddr_RU  Dport_RU\n",
       "787  99.192.158.141  0.079879     0.20136  0.186766\n",
       "788    99.242.24.14  0.079879     0.20136  0.186766\n",
       "789  99.245.126.143  0.079879     0.20136  0.186766\n",
       "790  99.245.140.246  0.079879     0.20136  0.186766\n",
       "791  99.254.184.154  0.079879     0.20136  0.186766"
      ]
     },
     "execution_count": 14,
     "metadata": {},
     "output_type": "execute_result"
    }
   ],
   "source": [
    "X.tail()"
   ]
  },
  {
   "cell_type": "code",
   "execution_count": 16,
   "metadata": {},
   "outputs": [],
   "source": [
    "X.drop('SrcAddr_', axis=1).to_hdf('dataWindowBotnet0WithRU.h5', key='data', mode='w')\n",
    "np.save('dataWindowBotnet0IDWithRU.npy', X['SrcAddr_'])\n",
    "np.save('dataWindowBotnet0LabelsWithRU.npy', labels)"
   ]
  },
  {
   "cell_type": "markdown",
   "metadata": {},
   "source": [
    "# Feature Selection"
   ]
  },
  {
   "cell_type": "code",
   "execution_count": 1,
   "metadata": {},
   "outputs": [],
   "source": [
    "import pandas as pd\n",
    "import numpy as np\n",
    "import matplotlib.pyplot as plt\n",
    "from sklearn.model_selection import train_test_split, ShuffleSplit, cross_validate, StratifiedKFold, cross_val_score\n",
    "from sklearn.linear_model import LogisticRegression, SGDClassifier\n",
    "from sklearn.feature_selection import RFE\n",
    "from sklearn.metrics import balanced_accuracy_score, precision_recall_fscore_support, classification_report"
   ]
  },
  {
   "cell_type": "code",
   "execution_count": null,
   "metadata": {},
   "outputs": [],
   "source": []
  },
  {
   "cell_type": "markdown",
   "metadata": {},
   "source": [
    "- Use different methods to extract relevant features\n",
    "    -Lasso and Ridge Logistic Regression\n",
    "    - SVM with Recursive Feature Elimination\n",
    "\n",
    "- Input\n",
    "    - dataWindowBotnet0.h5: preprocessed data without RU\n",
    "    - dataWindowBotnet0WithRU.h5: preprocessed data with RU\n",
    "    - dataWindowBotnet0Labels.npy: label numpy"
   ]
  },
  {
   "cell_type": "code",
   "execution_count": 3,
   "metadata": {},
   "outputs": [
    {
     "data": {
      "text/html": [
       "<div>\n",
       "<style scoped>\n",
       "    .dataframe tbody tr th:only-of-type {\n",
       "        vertical-align: middle;\n",
       "    }\n",
       "\n",
       "    .dataframe tbody tr th {\n",
       "        vertical-align: top;\n",
       "    }\n",
       "\n",
       "    .dataframe thead th {\n",
       "        text-align: right;\n",
       "    }\n",
       "</style>\n",
       "<table border=\"1\" class=\"dataframe\">\n",
       "  <thead>\n",
       "    <tr style=\"text-align: right;\">\n",
       "      <th></th>\n",
       "      <th>counts</th>\n",
       "      <th>Sport_nunique</th>\n",
       "      <th>DstAddr_nunique</th>\n",
       "      <th>Dport_nunique</th>\n",
       "      <th>Dur_sum</th>\n",
       "      <th>Dur_mean</th>\n",
       "      <th>Dur_std</th>\n",
       "      <th>Dur_max</th>\n",
       "      <th>Dur_median</th>\n",
       "      <th>TotBytes_sum</th>\n",
       "      <th>...</th>\n",
       "      <th>TotBytes_std</th>\n",
       "      <th>TotBytes_max</th>\n",
       "      <th>TotBytes_median</th>\n",
       "      <th>SrcBytes_sum</th>\n",
       "      <th>SrcBytes_mean</th>\n",
       "      <th>SrcBytes_std</th>\n",
       "      <th>SrcBytes_max</th>\n",
       "      <th>SrcBytes_median</th>\n",
       "      <th>Label_&lt;lambda&gt;</th>\n",
       "      <th>window_id</th>\n",
       "    </tr>\n",
       "  </thead>\n",
       "  <tbody>\n",
       "    <tr>\n",
       "      <th>2226715</th>\n",
       "      <td>-0.019717</td>\n",
       "      <td>-0.027515</td>\n",
       "      <td>-0.025172</td>\n",
       "      <td>-0.004666</td>\n",
       "      <td>-0.056688</td>\n",
       "      <td>-0.640686</td>\n",
       "      <td>-0.090415</td>\n",
       "      <td>-0.64651</td>\n",
       "      <td>-0.639001</td>\n",
       "      <td>-0.008255</td>\n",
       "      <td>...</td>\n",
       "      <td>-0.003351</td>\n",
       "      <td>-0.007376</td>\n",
       "      <td>-0.003812</td>\n",
       "      <td>-0.003278</td>\n",
       "      <td>-0.002200</td>\n",
       "      <td>-0.001629</td>\n",
       "      <td>-0.002804</td>\n",
       "      <td>-0.001893</td>\n",
       "      <td>0</td>\n",
       "      <td>367</td>\n",
       "    </tr>\n",
       "    <tr>\n",
       "      <th>2226716</th>\n",
       "      <td>-0.019717</td>\n",
       "      <td>-0.027515</td>\n",
       "      <td>-0.025172</td>\n",
       "      <td>-0.004666</td>\n",
       "      <td>-0.056688</td>\n",
       "      <td>-0.640685</td>\n",
       "      <td>-0.090415</td>\n",
       "      <td>-0.64651</td>\n",
       "      <td>-0.639000</td>\n",
       "      <td>-0.008329</td>\n",
       "      <td>...</td>\n",
       "      <td>-0.003351</td>\n",
       "      <td>-0.007462</td>\n",
       "      <td>-0.004088</td>\n",
       "      <td>-0.003422</td>\n",
       "      <td>-0.002531</td>\n",
       "      <td>-0.001629</td>\n",
       "      <td>-0.002949</td>\n",
       "      <td>-0.002230</td>\n",
       "      <td>0</td>\n",
       "      <td>367</td>\n",
       "    </tr>\n",
       "    <tr>\n",
       "      <th>2226717</th>\n",
       "      <td>-0.019717</td>\n",
       "      <td>-0.027515</td>\n",
       "      <td>-0.025172</td>\n",
       "      <td>-0.004666</td>\n",
       "      <td>-0.056688</td>\n",
       "      <td>-0.640685</td>\n",
       "      <td>-0.090415</td>\n",
       "      <td>-0.64651</td>\n",
       "      <td>-0.639000</td>\n",
       "      <td>-0.008328</td>\n",
       "      <td>...</td>\n",
       "      <td>-0.003351</td>\n",
       "      <td>-0.007461</td>\n",
       "      <td>-0.004086</td>\n",
       "      <td>-0.003421</td>\n",
       "      <td>-0.002529</td>\n",
       "      <td>-0.001629</td>\n",
       "      <td>-0.002948</td>\n",
       "      <td>-0.002228</td>\n",
       "      <td>0</td>\n",
       "      <td>367</td>\n",
       "    </tr>\n",
       "    <tr>\n",
       "      <th>2226718</th>\n",
       "      <td>-0.019717</td>\n",
       "      <td>-0.027515</td>\n",
       "      <td>-0.025172</td>\n",
       "      <td>-0.004666</td>\n",
       "      <td>-0.056688</td>\n",
       "      <td>-0.640685</td>\n",
       "      <td>-0.090415</td>\n",
       "      <td>-0.64651</td>\n",
       "      <td>-0.639000</td>\n",
       "      <td>-0.008259</td>\n",
       "      <td>...</td>\n",
       "      <td>-0.003351</td>\n",
       "      <td>-0.007379</td>\n",
       "      <td>-0.003825</td>\n",
       "      <td>-0.003424</td>\n",
       "      <td>-0.002535</td>\n",
       "      <td>-0.001629</td>\n",
       "      <td>-0.002950</td>\n",
       "      <td>-0.002234</td>\n",
       "      <td>0</td>\n",
       "      <td>367</td>\n",
       "    </tr>\n",
       "    <tr>\n",
       "      <th>2226719</th>\n",
       "      <td>-0.019717</td>\n",
       "      <td>-0.027515</td>\n",
       "      <td>-0.025172</td>\n",
       "      <td>-0.004666</td>\n",
       "      <td>-0.056688</td>\n",
       "      <td>-0.640685</td>\n",
       "      <td>-0.090415</td>\n",
       "      <td>-0.64651</td>\n",
       "      <td>-0.639000</td>\n",
       "      <td>-0.008299</td>\n",
       "      <td>...</td>\n",
       "      <td>-0.003351</td>\n",
       "      <td>-0.007427</td>\n",
       "      <td>-0.003976</td>\n",
       "      <td>-0.003428</td>\n",
       "      <td>-0.002544</td>\n",
       "      <td>-0.001629</td>\n",
       "      <td>-0.002954</td>\n",
       "      <td>-0.002243</td>\n",
       "      <td>0</td>\n",
       "      <td>367</td>\n",
       "    </tr>\n",
       "  </tbody>\n",
       "</table>\n",
       "<p>5 rows × 21 columns</p>\n",
       "</div>"
      ],
      "text/plain": [
       "           counts  Sport_nunique  DstAddr_nunique  Dport_nunique   Dur_sum  \\\n",
       "2226715 -0.019717      -0.027515        -0.025172      -0.004666 -0.056688   \n",
       "2226716 -0.019717      -0.027515        -0.025172      -0.004666 -0.056688   \n",
       "2226717 -0.019717      -0.027515        -0.025172      -0.004666 -0.056688   \n",
       "2226718 -0.019717      -0.027515        -0.025172      -0.004666 -0.056688   \n",
       "2226719 -0.019717      -0.027515        -0.025172      -0.004666 -0.056688   \n",
       "\n",
       "         Dur_mean   Dur_std  Dur_max  Dur_median  TotBytes_sum  ...  \\\n",
       "2226715 -0.640686 -0.090415 -0.64651   -0.639001     -0.008255  ...   \n",
       "2226716 -0.640685 -0.090415 -0.64651   -0.639000     -0.008329  ...   \n",
       "2226717 -0.640685 -0.090415 -0.64651   -0.639000     -0.008328  ...   \n",
       "2226718 -0.640685 -0.090415 -0.64651   -0.639000     -0.008259  ...   \n",
       "2226719 -0.640685 -0.090415 -0.64651   -0.639000     -0.008299  ...   \n",
       "\n",
       "         TotBytes_std  TotBytes_max  TotBytes_median  SrcBytes_sum  \\\n",
       "2226715     -0.003351     -0.007376        -0.003812     -0.003278   \n",
       "2226716     -0.003351     -0.007462        -0.004088     -0.003422   \n",
       "2226717     -0.003351     -0.007461        -0.004086     -0.003421   \n",
       "2226718     -0.003351     -0.007379        -0.003825     -0.003424   \n",
       "2226719     -0.003351     -0.007427        -0.003976     -0.003428   \n",
       "\n",
       "         SrcBytes_mean  SrcBytes_std  SrcBytes_max  SrcBytes_median  \\\n",
       "2226715      -0.002200     -0.001629     -0.002804        -0.001893   \n",
       "2226716      -0.002531     -0.001629     -0.002949        -0.002230   \n",
       "2226717      -0.002529     -0.001629     -0.002948        -0.002228   \n",
       "2226718      -0.002535     -0.001629     -0.002950        -0.002234   \n",
       "2226719      -0.002544     -0.001629     -0.002954        -0.002243   \n",
       "\n",
       "         Label_<lambda>  window_id  \n",
       "2226715               0        367  \n",
       "2226716               0        367  \n",
       "2226717               0        367  \n",
       "2226718               0        367  \n",
       "2226719               0        367  \n",
       "\n",
       "[5 rows x 21 columns]"
      ]
     },
     "execution_count": 3,
     "metadata": {},
     "output_type": "execute_result"
    }
   ],
   "source": [
    "X = pd.read_hdf('dataWindowBotnet0.h5', key='data')\n",
    "X.reset_index(drop=True, inplace=True)\n",
    "X.tail()"
   ]
  },
  {
   "cell_type": "code",
   "execution_count": 4,
   "metadata": {},
   "outputs": [
    {
     "data": {
      "text/html": [
       "<div>\n",
       "<style scoped>\n",
       "    .dataframe tbody tr th:only-of-type {\n",
       "        vertical-align: middle;\n",
       "    }\n",
       "\n",
       "    .dataframe tbody tr th {\n",
       "        vertical-align: top;\n",
       "    }\n",
       "\n",
       "    .dataframe thead th {\n",
       "        text-align: right;\n",
       "    }\n",
       "</style>\n",
       "<table border=\"1\" class=\"dataframe\">\n",
       "  <thead>\n",
       "    <tr style=\"text-align: right;\">\n",
       "      <th></th>\n",
       "      <th>Sport_RU</th>\n",
       "      <th>DstAddr_RU</th>\n",
       "      <th>Dport_RU</th>\n",
       "    </tr>\n",
       "  </thead>\n",
       "  <tbody>\n",
       "    <tr>\n",
       "      <th>0</th>\n",
       "      <td>0.079879</td>\n",
       "      <td>0.20136</td>\n",
       "      <td>0.186766</td>\n",
       "    </tr>\n",
       "    <tr>\n",
       "      <th>1</th>\n",
       "      <td>0.079879</td>\n",
       "      <td>0.20136</td>\n",
       "      <td>0.186766</td>\n",
       "    </tr>\n",
       "    <tr>\n",
       "      <th>2</th>\n",
       "      <td>0.079879</td>\n",
       "      <td>0.20136</td>\n",
       "      <td>0.186766</td>\n",
       "    </tr>\n",
       "    <tr>\n",
       "      <th>3</th>\n",
       "      <td>0.079879</td>\n",
       "      <td>0.20136</td>\n",
       "      <td>0.186766</td>\n",
       "    </tr>\n",
       "    <tr>\n",
       "      <th>4</th>\n",
       "      <td>0.079879</td>\n",
       "      <td>0.20136</td>\n",
       "      <td>0.186766</td>\n",
       "    </tr>\n",
       "  </tbody>\n",
       "</table>\n",
       "</div>"
      ],
      "text/plain": [
       "   Sport_RU  DstAddr_RU  Dport_RU\n",
       "0  0.079879     0.20136  0.186766\n",
       "1  0.079879     0.20136  0.186766\n",
       "2  0.079879     0.20136  0.186766\n",
       "3  0.079879     0.20136  0.186766\n",
       "4  0.079879     0.20136  0.186766"
      ]
     },
     "execution_count": 4,
     "metadata": {},
     "output_type": "execute_result"
    }
   ],
   "source": [
    "XWithRU = pd.read_hdf('dataWindowBotnet0WithRU.h5', key='data')\n",
    "XWithRU.reset_index(drop=True, inplace=True)\n",
    "XWithRU.head()"
   ]
  },
  {
   "cell_type": "code",
   "execution_count": 5,
   "metadata": {},
   "outputs": [
    {
     "data": {
      "text/html": [
       "<div>\n",
       "<style scoped>\n",
       "    .dataframe tbody tr th:only-of-type {\n",
       "        vertical-align: middle;\n",
       "    }\n",
       "\n",
       "    .dataframe tbody tr th {\n",
       "        vertical-align: top;\n",
       "    }\n",
       "\n",
       "    .dataframe thead th {\n",
       "        text-align: right;\n",
       "    }\n",
       "</style>\n",
       "<table border=\"1\" class=\"dataframe\">\n",
       "  <thead>\n",
       "    <tr style=\"text-align: right;\">\n",
       "      <th></th>\n",
       "      <th>counts</th>\n",
       "      <th>Sport_nunique</th>\n",
       "      <th>DstAddr_nunique</th>\n",
       "      <th>Dport_nunique</th>\n",
       "      <th>Dur_sum</th>\n",
       "      <th>Dur_mean</th>\n",
       "      <th>Dur_std</th>\n",
       "      <th>Dur_max</th>\n",
       "      <th>Dur_median</th>\n",
       "      <th>TotBytes_sum</th>\n",
       "      <th>...</th>\n",
       "      <th>SrcBytes_sum</th>\n",
       "      <th>SrcBytes_mean</th>\n",
       "      <th>SrcBytes_std</th>\n",
       "      <th>SrcBytes_max</th>\n",
       "      <th>SrcBytes_median</th>\n",
       "      <th>Label_&lt;lambda&gt;</th>\n",
       "      <th>window_id</th>\n",
       "      <th>Sport_RU</th>\n",
       "      <th>DstAddr_RU</th>\n",
       "      <th>Dport_RU</th>\n",
       "    </tr>\n",
       "  </thead>\n",
       "  <tbody>\n",
       "    <tr>\n",
       "      <th>0</th>\n",
       "      <td>-0.019717</td>\n",
       "      <td>-0.027515</td>\n",
       "      <td>-0.025172</td>\n",
       "      <td>-0.004666</td>\n",
       "      <td>0.130027</td>\n",
       "      <td>2.268262</td>\n",
       "      <td>-0.090415</td>\n",
       "      <td>2.233044</td>\n",
       "      <td>2.267097</td>\n",
       "      <td>0.011943</td>\n",
       "      <td>...</td>\n",
       "      <td>0.036407</td>\n",
       "      <td>0.088680</td>\n",
       "      <td>-0.001629</td>\n",
       "      <td>0.037010</td>\n",
       "      <td>0.090695</td>\n",
       "      <td>0</td>\n",
       "      <td>0</td>\n",
       "      <td>0.079879</td>\n",
       "      <td>0.20136</td>\n",
       "      <td>0.186766</td>\n",
       "    </tr>\n",
       "    <tr>\n",
       "      <th>1</th>\n",
       "      <td>-0.019717</td>\n",
       "      <td>-0.050986</td>\n",
       "      <td>-0.025172</td>\n",
       "      <td>-0.020891</td>\n",
       "      <td>0.130070</td>\n",
       "      <td>2.268927</td>\n",
       "      <td>-0.090415</td>\n",
       "      <td>2.233703</td>\n",
       "      <td>2.267762</td>\n",
       "      <td>0.000671</td>\n",
       "      <td>...</td>\n",
       "      <td>0.014272</td>\n",
       "      <td>0.037990</td>\n",
       "      <td>-0.001629</td>\n",
       "      <td>0.014803</td>\n",
       "      <td>0.039052</td>\n",
       "      <td>0</td>\n",
       "      <td>0</td>\n",
       "      <td>0.079879</td>\n",
       "      <td>0.20136</td>\n",
       "      <td>0.186766</td>\n",
       "    </tr>\n",
       "    <tr>\n",
       "      <th>2</th>\n",
       "      <td>-0.019717</td>\n",
       "      <td>-0.027515</td>\n",
       "      <td>-0.025172</td>\n",
       "      <td>-0.004666</td>\n",
       "      <td>-0.056688</td>\n",
       "      <td>-0.640684</td>\n",
       "      <td>-0.090415</td>\n",
       "      <td>-0.646508</td>\n",
       "      <td>-0.638999</td>\n",
       "      <td>-0.008330</td>\n",
       "      <td>...</td>\n",
       "      <td>-0.003425</td>\n",
       "      <td>-0.002537</td>\n",
       "      <td>-0.001629</td>\n",
       "      <td>-0.002951</td>\n",
       "      <td>-0.002236</td>\n",
       "      <td>0</td>\n",
       "      <td>0</td>\n",
       "      <td>0.079879</td>\n",
       "      <td>0.20136</td>\n",
       "      <td>0.186766</td>\n",
       "    </tr>\n",
       "    <tr>\n",
       "      <th>3</th>\n",
       "      <td>-0.019717</td>\n",
       "      <td>-0.027515</td>\n",
       "      <td>-0.025172</td>\n",
       "      <td>-0.004666</td>\n",
       "      <td>-0.056688</td>\n",
       "      <td>-0.640684</td>\n",
       "      <td>-0.090415</td>\n",
       "      <td>-0.646508</td>\n",
       "      <td>-0.638999</td>\n",
       "      <td>-0.008261</td>\n",
       "      <td>...</td>\n",
       "      <td>-0.003289</td>\n",
       "      <td>-0.002226</td>\n",
       "      <td>-0.001629</td>\n",
       "      <td>-0.002815</td>\n",
       "      <td>-0.001919</td>\n",
       "      <td>0</td>\n",
       "      <td>0</td>\n",
       "      <td>0.079879</td>\n",
       "      <td>0.20136</td>\n",
       "      <td>0.186766</td>\n",
       "    </tr>\n",
       "    <tr>\n",
       "      <th>4</th>\n",
       "      <td>-0.019717</td>\n",
       "      <td>-0.027515</td>\n",
       "      <td>-0.025172</td>\n",
       "      <td>-0.004666</td>\n",
       "      <td>-0.056688</td>\n",
       "      <td>-0.640685</td>\n",
       "      <td>-0.090415</td>\n",
       "      <td>-0.646510</td>\n",
       "      <td>-0.639000</td>\n",
       "      <td>-0.008330</td>\n",
       "      <td>...</td>\n",
       "      <td>-0.003424</td>\n",
       "      <td>-0.002536</td>\n",
       "      <td>-0.001629</td>\n",
       "      <td>-0.002951</td>\n",
       "      <td>-0.002235</td>\n",
       "      <td>0</td>\n",
       "      <td>0</td>\n",
       "      <td>0.079879</td>\n",
       "      <td>0.20136</td>\n",
       "      <td>0.186766</td>\n",
       "    </tr>\n",
       "  </tbody>\n",
       "</table>\n",
       "<p>5 rows × 24 columns</p>\n",
       "</div>"
      ],
      "text/plain": [
       "     counts  Sport_nunique  DstAddr_nunique  Dport_nunique   Dur_sum  \\\n",
       "0 -0.019717      -0.027515        -0.025172      -0.004666  0.130027   \n",
       "1 -0.019717      -0.050986        -0.025172      -0.020891  0.130070   \n",
       "2 -0.019717      -0.027515        -0.025172      -0.004666 -0.056688   \n",
       "3 -0.019717      -0.027515        -0.025172      -0.004666 -0.056688   \n",
       "4 -0.019717      -0.027515        -0.025172      -0.004666 -0.056688   \n",
       "\n",
       "   Dur_mean   Dur_std   Dur_max  Dur_median  TotBytes_sum  ...  SrcBytes_sum  \\\n",
       "0  2.268262 -0.090415  2.233044    2.267097      0.011943  ...      0.036407   \n",
       "1  2.268927 -0.090415  2.233703    2.267762      0.000671  ...      0.014272   \n",
       "2 -0.640684 -0.090415 -0.646508   -0.638999     -0.008330  ...     -0.003425   \n",
       "3 -0.640684 -0.090415 -0.646508   -0.638999     -0.008261  ...     -0.003289   \n",
       "4 -0.640685 -0.090415 -0.646510   -0.639000     -0.008330  ...     -0.003424   \n",
       "\n",
       "   SrcBytes_mean  SrcBytes_std  SrcBytes_max  SrcBytes_median  Label_<lambda>  \\\n",
       "0       0.088680     -0.001629      0.037010         0.090695               0   \n",
       "1       0.037990     -0.001629      0.014803         0.039052               0   \n",
       "2      -0.002537     -0.001629     -0.002951        -0.002236               0   \n",
       "3      -0.002226     -0.001629     -0.002815        -0.001919               0   \n",
       "4      -0.002536     -0.001629     -0.002951        -0.002235               0   \n",
       "\n",
       "   window_id  Sport_RU  DstAddr_RU  Dport_RU  \n",
       "0          0  0.079879     0.20136  0.186766  \n",
       "1          0  0.079879     0.20136  0.186766  \n",
       "2          0  0.079879     0.20136  0.186766  \n",
       "3          0  0.079879     0.20136  0.186766  \n",
       "4          0  0.079879     0.20136  0.186766  \n",
       "\n",
       "[5 rows x 24 columns]"
      ]
     },
     "execution_count": 5,
     "metadata": {},
     "output_type": "execute_result"
    }
   ],
   "source": [
    "X = X.join(XWithRU)\n",
    "X.head()"
   ]
  },
  {
   "cell_type": "code",
   "execution_count": 6,
   "metadata": {},
   "outputs": [
    {
     "data": {
      "text/html": [
       "<div>\n",
       "<style scoped>\n",
       "    .dataframe tbody tr th:only-of-type {\n",
       "        vertical-align: middle;\n",
       "    }\n",
       "\n",
       "    .dataframe tbody tr th {\n",
       "        vertical-align: top;\n",
       "    }\n",
       "\n",
       "    .dataframe thead th {\n",
       "        text-align: right;\n",
       "    }\n",
       "</style>\n",
       "<table border=\"1\" class=\"dataframe\">\n",
       "  <thead>\n",
       "    <tr style=\"text-align: right;\">\n",
       "      <th></th>\n",
       "      <th>counts</th>\n",
       "      <th>Sport_nunique</th>\n",
       "      <th>DstAddr_nunique</th>\n",
       "      <th>Dport_nunique</th>\n",
       "      <th>Dur_sum</th>\n",
       "      <th>Dur_mean</th>\n",
       "      <th>Dur_std</th>\n",
       "      <th>Dur_max</th>\n",
       "      <th>Dur_median</th>\n",
       "      <th>TotBytes_sum</th>\n",
       "      <th>...</th>\n",
       "      <th>TotBytes_median</th>\n",
       "      <th>SrcBytes_sum</th>\n",
       "      <th>SrcBytes_mean</th>\n",
       "      <th>SrcBytes_std</th>\n",
       "      <th>SrcBytes_max</th>\n",
       "      <th>SrcBytes_median</th>\n",
       "      <th>Label_&lt;lambda&gt;</th>\n",
       "      <th>Sport_RU</th>\n",
       "      <th>DstAddr_RU</th>\n",
       "      <th>Dport_RU</th>\n",
       "    </tr>\n",
       "  </thead>\n",
       "  <tbody>\n",
       "    <tr>\n",
       "      <th>0</th>\n",
       "      <td>-0.019717</td>\n",
       "      <td>-0.027515</td>\n",
       "      <td>-0.025172</td>\n",
       "      <td>-0.004666</td>\n",
       "      <td>0.130027</td>\n",
       "      <td>2.268262</td>\n",
       "      <td>-0.090415</td>\n",
       "      <td>2.233044</td>\n",
       "      <td>2.267097</td>\n",
       "      <td>0.011943</td>\n",
       "      <td>...</td>\n",
       "      <td>0.071832</td>\n",
       "      <td>0.036407</td>\n",
       "      <td>0.088680</td>\n",
       "      <td>-0.001629</td>\n",
       "      <td>0.037010</td>\n",
       "      <td>0.090695</td>\n",
       "      <td>0</td>\n",
       "      <td>0.079879</td>\n",
       "      <td>0.20136</td>\n",
       "      <td>0.186766</td>\n",
       "    </tr>\n",
       "    <tr>\n",
       "      <th>1</th>\n",
       "      <td>-0.019717</td>\n",
       "      <td>-0.050986</td>\n",
       "      <td>-0.025172</td>\n",
       "      <td>-0.020891</td>\n",
       "      <td>0.130070</td>\n",
       "      <td>2.268927</td>\n",
       "      <td>-0.090415</td>\n",
       "      <td>2.233703</td>\n",
       "      <td>2.267762</td>\n",
       "      <td>0.000671</td>\n",
       "      <td>...</td>\n",
       "      <td>0.029619</td>\n",
       "      <td>0.014272</td>\n",
       "      <td>0.037990</td>\n",
       "      <td>-0.001629</td>\n",
       "      <td>0.014803</td>\n",
       "      <td>0.039052</td>\n",
       "      <td>0</td>\n",
       "      <td>0.079879</td>\n",
       "      <td>0.20136</td>\n",
       "      <td>0.186766</td>\n",
       "    </tr>\n",
       "    <tr>\n",
       "      <th>2</th>\n",
       "      <td>-0.019717</td>\n",
       "      <td>-0.027515</td>\n",
       "      <td>-0.025172</td>\n",
       "      <td>-0.004666</td>\n",
       "      <td>-0.056688</td>\n",
       "      <td>-0.640684</td>\n",
       "      <td>-0.090415</td>\n",
       "      <td>-0.646508</td>\n",
       "      <td>-0.638999</td>\n",
       "      <td>-0.008330</td>\n",
       "      <td>...</td>\n",
       "      <td>-0.004093</td>\n",
       "      <td>-0.003425</td>\n",
       "      <td>-0.002537</td>\n",
       "      <td>-0.001629</td>\n",
       "      <td>-0.002951</td>\n",
       "      <td>-0.002236</td>\n",
       "      <td>0</td>\n",
       "      <td>0.079879</td>\n",
       "      <td>0.20136</td>\n",
       "      <td>0.186766</td>\n",
       "    </tr>\n",
       "    <tr>\n",
       "      <th>3</th>\n",
       "      <td>-0.019717</td>\n",
       "      <td>-0.027515</td>\n",
       "      <td>-0.025172</td>\n",
       "      <td>-0.004666</td>\n",
       "      <td>-0.056688</td>\n",
       "      <td>-0.640684</td>\n",
       "      <td>-0.090415</td>\n",
       "      <td>-0.646508</td>\n",
       "      <td>-0.638999</td>\n",
       "      <td>-0.008261</td>\n",
       "      <td>...</td>\n",
       "      <td>-0.003834</td>\n",
       "      <td>-0.003289</td>\n",
       "      <td>-0.002226</td>\n",
       "      <td>-0.001629</td>\n",
       "      <td>-0.002815</td>\n",
       "      <td>-0.001919</td>\n",
       "      <td>0</td>\n",
       "      <td>0.079879</td>\n",
       "      <td>0.20136</td>\n",
       "      <td>0.186766</td>\n",
       "    </tr>\n",
       "    <tr>\n",
       "      <th>4</th>\n",
       "      <td>-0.019717</td>\n",
       "      <td>-0.027515</td>\n",
       "      <td>-0.025172</td>\n",
       "      <td>-0.004666</td>\n",
       "      <td>-0.056688</td>\n",
       "      <td>-0.640685</td>\n",
       "      <td>-0.090415</td>\n",
       "      <td>-0.646510</td>\n",
       "      <td>-0.639000</td>\n",
       "      <td>-0.008330</td>\n",
       "      <td>...</td>\n",
       "      <td>-0.004092</td>\n",
       "      <td>-0.003424</td>\n",
       "      <td>-0.002536</td>\n",
       "      <td>-0.001629</td>\n",
       "      <td>-0.002951</td>\n",
       "      <td>-0.002235</td>\n",
       "      <td>0</td>\n",
       "      <td>0.079879</td>\n",
       "      <td>0.20136</td>\n",
       "      <td>0.186766</td>\n",
       "    </tr>\n",
       "  </tbody>\n",
       "</table>\n",
       "<p>5 rows × 23 columns</p>\n",
       "</div>"
      ],
      "text/plain": [
       "     counts  Sport_nunique  DstAddr_nunique  Dport_nunique   Dur_sum  \\\n",
       "0 -0.019717      -0.027515        -0.025172      -0.004666  0.130027   \n",
       "1 -0.019717      -0.050986        -0.025172      -0.020891  0.130070   \n",
       "2 -0.019717      -0.027515        -0.025172      -0.004666 -0.056688   \n",
       "3 -0.019717      -0.027515        -0.025172      -0.004666 -0.056688   \n",
       "4 -0.019717      -0.027515        -0.025172      -0.004666 -0.056688   \n",
       "\n",
       "   Dur_mean   Dur_std   Dur_max  Dur_median  TotBytes_sum  ...  \\\n",
       "0  2.268262 -0.090415  2.233044    2.267097      0.011943  ...   \n",
       "1  2.268927 -0.090415  2.233703    2.267762      0.000671  ...   \n",
       "2 -0.640684 -0.090415 -0.646508   -0.638999     -0.008330  ...   \n",
       "3 -0.640684 -0.090415 -0.646508   -0.638999     -0.008261  ...   \n",
       "4 -0.640685 -0.090415 -0.646510   -0.639000     -0.008330  ...   \n",
       "\n",
       "   TotBytes_median  SrcBytes_sum  SrcBytes_mean  SrcBytes_std  SrcBytes_max  \\\n",
       "0         0.071832      0.036407       0.088680     -0.001629      0.037010   \n",
       "1         0.029619      0.014272       0.037990     -0.001629      0.014803   \n",
       "2        -0.004093     -0.003425      -0.002537     -0.001629     -0.002951   \n",
       "3        -0.003834     -0.003289      -0.002226     -0.001629     -0.002815   \n",
       "4        -0.004092     -0.003424      -0.002536     -0.001629     -0.002951   \n",
       "\n",
       "   SrcBytes_median  Label_<lambda>  Sport_RU  DstAddr_RU  Dport_RU  \n",
       "0         0.090695               0  0.079879     0.20136  0.186766  \n",
       "1         0.039052               0  0.079879     0.20136  0.186766  \n",
       "2        -0.002236               0  0.079879     0.20136  0.186766  \n",
       "3        -0.001919               0  0.079879     0.20136  0.186766  \n",
       "4        -0.002235               0  0.079879     0.20136  0.186766  \n",
       "\n",
       "[5 rows x 23 columns]"
      ]
     },
     "execution_count": 6,
     "metadata": {},
     "output_type": "execute_result"
    }
   ],
   "source": [
    "X.drop('window_id', axis=1, inplace=True)\n",
    "X.head()"
   ]
  },
  {
   "cell_type": "code",
   "execution_count": 6,
   "metadata": {},
   "outputs": [],
   "source": [
    "y = X['Label_<lambda>']\n",
    "X.drop('Label_<lambda>', axis=1, inplace=True)"
   ]
  },
  {
   "cell_type": "code",
   "execution_count": 7,
   "metadata": {},
   "outputs": [
    {
     "data": {
      "text/plain": [
       "array(['flow=Background', 'flow=To-Backgro', 'flow=From-Backg',\n",
       "       'flow=From-Norma', 'flow=To-Normal-', 'flow=Normal-V42',\n",
       "       'flow=From-Botne'], dtype=object)"
      ]
     },
     "execution_count": 7,
     "metadata": {},
     "output_type": "execute_result"
    }
   ],
   "source": [
    "labels = np.load('dataWindowBotnet0Labels.npy', allow_pickle=True)\n",
    "labels"
   ]
  },
  {
   "cell_type": "code",
   "execution_count": 9,
   "metadata": {},
   "outputs": [
    {
     "data": {
      "text/plain": [
       "array(['counts', 'Sport_nunique', 'DstAddr_nunique', 'Dport_nunique',\n",
       "       'Dur_sum', 'Dur_mean', 'Dur_std', 'Dur_max', 'Dur_median',\n",
       "       'TotBytes_sum', 'TotBytes_mean', 'TotBytes_std', 'TotBytes_max',\n",
       "       'TotBytes_median', 'SrcBytes_sum', 'SrcBytes_mean', 'SrcBytes_std',\n",
       "       'SrcBytes_max', 'SrcBytes_median', 'Sport_RU', 'DstAddr_RU',\n",
       "       'Dport_RU'], dtype=object)"
      ]
     },
     "execution_count": 9,
     "metadata": {},
     "output_type": "execute_result"
    }
   ],
   "source": [
    "X.columns.values"
   ]
  },
  {
   "cell_type": "code",
   "execution_count": 16,
   "metadata": {},
   "outputs": [
    {
     "data": {
      "text/plain": [
       "array([0, 2, 3, 1, 4, 6])"
      ]
     },
     "execution_count": 16,
     "metadata": {},
     "output_type": "execute_result"
    }
   ],
   "source": [
    "y.unique()"
   ]
  },
  {
   "cell_type": "code",
   "execution_count": 8,
   "metadata": {},
   "outputs": [],
   "source": [
    "yBin6 = (y == 6)\n",
    "trainX, testX, trainY, testY = train_test_split(X, yBin6, test_size=0.33, random_state=42)"
   ]
  },
  {
   "cell_type": "code",
   "execution_count": 19,
   "metadata": {},
   "outputs": [
    {
     "data": {
      "text/plain": [
       "(array([0, 1, 2, 3, 4, 6]),\n",
       " array([2207092,   18047,     263,     984,      48,     286]))"
      ]
     },
     "execution_count": 19,
     "metadata": {},
     "output_type": "execute_result"
    }
   ],
   "source": [
    "np.unique(y, return_counts=True)"
   ]
  },
  {
   "cell_type": "code",
   "execution_count": 20,
   "metadata": {},
   "outputs": [
    {
     "data": {
      "text/plain": [
       "(array([False,  True]), array([1491686,     216]))"
      ]
     },
     "execution_count": 20,
     "metadata": {},
     "output_type": "execute_result"
    }
   ],
   "source": [
    "np.unique(trainY, return_counts=True)"
   ]
  },
  {
   "cell_type": "code",
   "execution_count": 21,
   "metadata": {},
   "outputs": [
    {
     "data": {
      "text/plain": [
       "(array([False,  True]), array([734748,     70]))"
      ]
     },
     "execution_count": 21,
     "metadata": {},
     "output_type": "execute_result"
    }
   ],
   "source": [
    "np.unique(testY, return_counts=True)"
   ]
  },
  {
   "cell_type": "code",
   "execution_count": 11,
   "metadata": {},
   "outputs": [
    {
     "name": "stderr",
     "output_type": "stream",
     "text": [
      "[Parallel(n_jobs=-1)]: Using backend LokyBackend with 8 concurrent workers.\n"
     ]
    },
    {
     "name": "stdout",
     "output_type": "stream",
     "text": [
      "[[-2.16997286e+00  5.87285739e-01  2.08464495e+00 -9.56591226e+00\n",
      "  -2.73605192e+00 -1.64968846e+00 -7.55006548e-01  2.09327975e+00\n",
      "  -1.52409842e+00 -4.66473425e+00 -6.88930171e-02  6.46356760e-03\n",
      "  -2.38881822e+00 -1.11505338e-01  9.67097690e-02 -2.32814376e-02\n",
      "   1.23352284e-01  7.06595453e-01 -4.13407832e-02 -1.08990927e-02\n",
      "   5.50569765e-01 -1.15962562e+00]]\n",
      "[-11.85821628]\n"
     ]
    },
    {
     "name": "stderr",
     "output_type": "stream",
     "text": [
      "[Parallel(n_jobs=-1)]: Done   1 out of   1 | elapsed:  1.8min finished\n"
     ]
    }
   ],
   "source": [
    "clf = LogisticRegression(random_state=42, max_iter=1000, verbose=1, n_jobs=-1)\n",
    "clf.fit(trainX, trainY)\n",
    "print(clf.coef_)\n",
    "print(clf.intercept_)"
   ]
  },
  {
   "cell_type": "code",
   "execution_count": 12,
   "metadata": {},
   "outputs": [
    {
     "name": "stdout",
     "output_type": "stream",
     "text": [
      "Balanced accuracy score: 0.8071367325940322\n"
     ]
    }
   ],
   "source": [
    "predY = clf.predict(testX)\n",
    "print(f'Balanced accuracy score: {balanced_accuracy_score(testY, predY)}')"
   ]
  },
  {
   "cell_type": "code",
   "execution_count": 13,
   "metadata": {},
   "outputs": [
    {
     "name": "stdout",
     "output_type": "stream",
     "text": [
      "              precision    recall  f1-score   support\n",
      "\n",
      "       False       1.00      1.00      1.00    734748\n",
      "        True       0.83      0.61      0.70        70\n",
      "\n",
      "    accuracy                           1.00    734818\n",
      "   macro avg       0.91      0.81      0.85    734818\n",
      "weighted avg       1.00      1.00      1.00    734818\n",
      "\n"
     ]
    }
   ],
   "source": [
    "print(classification_report(testY, predY))"
   ]
  },
  {
   "cell_type": "code",
   "execution_count": 14,
   "metadata": {},
   "outputs": [
    {
     "name": "stdout",
     "output_type": "stream",
     "text": [
      "precision =  0.8269230769230769\n",
      "recall =  0.6142857142857143\n",
      "fbeta_score =  0.7049180327868853\n",
      "support =  70\n"
     ]
    }
   ],
   "source": [
    "precision, recall, fbeta_score, support = precision_recall_fscore_support(testY, predY)\n",
    "print(\"precision = \", precision[1])\n",
    "print(\"recall = \", recall[1])\n",
    "print(\"fbeta_score = \", fbeta_score[1])\n",
    "print(\"support = \", support[1])"
   ]
  },
  {
   "cell_type": "code",
   "execution_count": 15,
   "metadata": {},
   "outputs": [
    {
     "name": "stderr",
     "output_type": "stream",
     "text": [
      "[Parallel(n_jobs=-1)]: Using backend LokyBackend with 8 concurrent workers.\n",
      "[Parallel(n_jobs=-1)]: Done   1 out of   1 | elapsed:  6.3min finished\n"
     ]
    },
    {
     "name": "stdout",
     "output_type": "stream",
     "text": [
      "[[ -5.14765132   1.28336298   6.53377604 -26.57477613 -19.18948359\n",
      "  -24.07105747   1.28086773   1.56713231  -4.60119712  -4.32918278\n",
      "   -0.36872127   3.30648504   0.05855307  -1.55328972  -6.58352068\n",
      "   -0.23227656   0.068309    -0.5344584   -0.55087879  -0.36517028\n",
      "   -0.09164185  -0.39231816]]\n",
      "[-23.96304019]\n",
      "Balanced accuracy score: 0.9847826737874754\n",
      "              precision    recall  f1-score   support\n",
      "\n",
      "       False       1.00      1.00      1.00    734748\n",
      "        True       0.05      0.97      0.09        70\n",
      "\n",
      "    accuracy                           1.00    734818\n",
      "   macro avg       0.52      0.98      0.54    734818\n",
      "weighted avg       1.00      1.00      1.00    734818\n",
      "\n"
     ]
    }
   ],
   "source": [
    "clf = LogisticRegression(random_state=42, max_iter=1000, class_weight='balanced', verbose=1, n_jobs=-1)\n",
    "clf.fit(trainX, trainY)\n",
    "print(clf.coef_)\n",
    "print(clf.intercept_)\n",
    "\n",
    "predY = clf.predict(testX)\n",
    "print(f'Balanced accuracy score: {balanced_accuracy_score(testY, predY)}')\n",
    "print(classification_report(testY, predY))"
   ]
  },
  {
   "cell_type": "code",
   "execution_count": 38,
   "metadata": {},
   "outputs": [
    {
     "name": "stderr",
     "output_type": "stream",
     "text": [
      "[Parallel(n_jobs=-1)]: Using backend LokyBackend with 8 concurrent workers.\n",
      "[Parallel(n_jobs=-1)]: Done   1 out of   1 | elapsed:  1.0min finished\n"
     ]
    },
    {
     "name": "stdout",
     "output_type": "stream",
     "text": [
      "[[-6.16545590e-05 -7.22643147e-05 -5.85310625e-05 -7.12486173e-05\n",
      "  -1.74199104e-03 -1.99200422e-03  8.01850378e-05 -1.91440131e-03\n",
      "  -1.99286047e-03  5.27832419e-05 -1.07314601e-02  1.57944518e-03\n",
      "  -8.89456933e-05 -1.09615284e-02 -1.34611211e-03 -6.02171948e-03\n",
      "   7.07051048e-04 -2.01343590e-03 -6.08757474e-03  9.97684849e-04\n",
      "   3.14700273e-04  3.50914715e-04]]\n",
      "[-7.31210254e-05]\n",
      "Balanced accuracy score: 0.49999863898915003\n",
      "              precision    recall  f1-score   support\n",
      "\n",
      "       False       1.00      1.00      1.00    734748\n",
      "        True       0.00      0.00      0.00        70\n",
      "\n",
      "    accuracy                           1.00    734818\n",
      "   macro avg       0.50      0.50      0.50    734818\n",
      "weighted avg       1.00      1.00      1.00    734818\n",
      "\n"
     ]
    }
   ],
   "source": [
    "clf = LogisticRegression(random_state=42, max_iter=1000, class_weight={0: .5, 1: .5}, verbose=1, n_jobs=-1)\n",
    "clf.fit(trainX, trainY)\n",
    "print(clf.coef_)\n",
    "print(clf.intercept_)\n",
    "\n",
    "predY = clf.predict(testX)\n",
    "print(f'Balanced accuracy score: {balanced_accuracy_score(testY, predY)}')\n",
    "print(classification_report(testY, predY))"
   ]
  },
  {
   "cell_type": "markdown",
   "metadata": {},
   "source": [
    "## Comments\n",
    "- With `class_weight='balanced`, very high recall but very low precision\n",
    "- Without `balanced` mode, low precision along with recall\n",
    "- accuracy is not a good metric, even balanced one"
   ]
  },
  {
   "cell_type": "code",
   "execution_count": 10,
   "metadata": {},
   "outputs": [],
   "source": [
    "# def applyLogRegCV(X, Y, **logRegArgs):\n",
    "#     clf = LogisticRegression(logRegArgs)\n",
    "#     print(clf)\n",
    "#     cv = StratifiedKFold(n_splits=3, shuffle=True, random_state=42)\n",
    "#     scores = cross_validate(clf, X, Y, scoring=['precision', 'recall', 'f1'], cv=cv, n_jobs=-1, verbose=0, return_train_score=True)\n",
    "\n",
    "#     precision = cross_val_score(clf, X, Y, cv=3, n_jobs=-1, scoring='precision')\n",
    "#     recall = cross_val_score(clf, X, Y, cv=3, n_jobs=-1, scoring='recall')\n",
    "#     f1 = cross_val_score(clf, X, Y, cv=3, n_jobs=-1, scoring='f1')\n",
    "    \n",
    "#     return precision, recall, f1"
   ]
  },
  {
   "cell_type": "code",
   "execution_count": 16,
   "metadata": {},
   "outputs": [
    {
     "name": "stdout",
     "output_type": "stream",
     "text": [
      "[0.         0.01111111 0.02222222 0.03333333 0.04444444 0.05555556\n",
      " 0.06666667 0.07777778 0.08888889 0.1       ]\n"
     ]
    }
   ],
   "source": [
    "searchClassWeight = np.linspace(0, .1, 10)\n",
    "print(searchClassWeight)"
   ]
  },
  {
   "cell_type": "code",
   "execution_count": 9,
   "metadata": {},
   "outputs": [],
   "source": [
    "# searchScores = []\n",
    "# for classWeight in list(searchClassWeight[0:2]):\n",
    "#     searchScores.append(applyLogRegCV(trainX, trainY, random_state=42, max_iter=1000,\n",
    "#                                       class_weight={0: classWeight, 1: 1 - classWeight}, verbose=1, n_jobs=-1))\n",
    "# print(searchScores)"
   ]
  },
  {
   "cell_type": "code",
   "execution_count": 17,
   "metadata": {},
   "outputs": [
    {
     "data": {
      "text/plain": [
       "array([0.        , 0.01111111, 0.02222222, 0.03333333, 0.04444444,\n",
       "       0.05555556, 0.06666667, 0.07777778, 0.08888889, 0.1       ])"
      ]
     },
     "execution_count": 17,
     "metadata": {},
     "output_type": "execute_result"
    }
   ],
   "source": [
    "searchClassWeight"
   ]
  },
  {
   "cell_type": "code",
   "execution_count": 18,
   "metadata": {},
   "outputs": [
    {
     "name": "stdout",
     "output_type": "stream",
     "text": [
      "LogisticRegression(class_weight={0: 0.0, 1: 1.0}, max_iter=1000, n_jobs=-1,\n",
      "                   random_state=42, verbose=1)\n",
      "[0.00015550535890234668, 1.0, 0.00031096205971767934]\n",
      "--------------------------------------------\n",
      "LogisticRegression(class_weight={0: 0.011111111111111112,\n",
      "                                 1: 0.9888888888888889},\n",
      "                   max_iter=1000, n_jobs=-1, random_state=42, verbose=1)\n",
      "[0.23313857390357318, 0.9488246536072623, 0.3738643650088235]\n",
      "--------------------------------------------\n",
      "LogisticRegression(class_weight={0: 0.022222222222222223,\n",
      "                                 1: 0.9777777777777777},\n",
      "                   max_iter=1000, n_jobs=-1, random_state=42, verbose=1)\n",
      "[0.39930731031368244, 0.9488246536072623, 0.5603929393358787]\n",
      "--------------------------------------------\n",
      "LogisticRegression(class_weight={0: 0.03333333333333333, 1: 0.9666666666666667},\n",
      "                   max_iter=1000, n_jobs=-1, random_state=42, verbose=1)\n",
      "[0.48508576230831757, 0.9488246536072623, 0.6402640496152852]\n",
      "--------------------------------------------\n",
      "LogisticRegression(class_weight={0: 0.044444444444444446,\n",
      "                                 1: 0.9555555555555556},\n",
      "                   max_iter=1000, n_jobs=-1, random_state=42, verbose=1)\n",
      "[0.5576261532572133, 0.9448246536072622, 0.7001956897202904]\n",
      "--------------------------------------------\n",
      "LogisticRegression(class_weight={0: 0.05555555555555556, 1: 0.9444444444444444},\n",
      "                   max_iter=1000, n_jobs=-1, random_state=42, verbose=1)\n",
      "[0.579443858097109, 0.9368246536072622, 0.7146546450450582]\n",
      "--------------------------------------------\n",
      "LogisticRegression(class_weight={0: 0.06666666666666667, 1: 0.9333333333333333},\n",
      "                   max_iter=1000, n_jobs=-1, random_state=42, verbose=1)\n",
      "[0.5852535079535764, 0.9199313729748511, 0.7141690489913517]\n",
      "--------------------------------------------\n",
      "LogisticRegression(class_weight={0: 0.07777777777777778, 1: 0.9222222222222223},\n",
      "                   max_iter=1000, n_jobs=-1, random_state=42, verbose=1)\n",
      "[0.5831459653886124, 0.8909317059751842, 0.7032731323886766]\n",
      "--------------------------------------------\n",
      "LogisticRegression(class_weight={0: 0.08888888888888889, 1: 0.9111111111111111},\n",
      "                   max_iter=1000, n_jobs=-1, random_state=42, verbose=1)\n",
      "[0.5841029644706115, 0.8825838798882277, 0.7013369299424372]\n",
      "--------------------------------------------\n",
      "LogisticRegression(class_weight={0: 0.1, 1: 0.9}, max_iter=1000, n_jobs=-1,\n",
      "                   random_state=42, verbose=1)\n",
      "[0.5858135551517905, 0.8703898999551173, 0.6984761602208185]\n",
      "--------------------------------------------\n"
     ]
    }
   ],
   "source": [
    "searchScores = []\n",
    "\n",
    "for classWeight in searchClassWeight:\n",
    "    clf = LogisticRegression(random_state=42, max_iter=1000, class_weight={0: classWeight, 1: 1 - classWeight}, verbose=1, n_jobs=-1)\n",
    "    print(clf)\n",
    "    \n",
    "    cv = ShuffleSplit(n_splits=10, test_size=.1, random_state=42)\n",
    "    scores = cross_validate(clf, trainX, trainY, scoring=['precision', 'recall', 'f1'], cv=cv, n_jobs=-1, verbose=0, return_train_score=True)\n",
    "    \n",
    "    searchScores.append([scores['test_precision'].mean(), scores['test_recall'].mean(), scores['test_f1'].mean()])\n",
    "    print(searchScores[-1])\n",
    "    print('-'*44)"
   ]
  },
  {
   "cell_type": "code",
   "execution_count": 22,
   "metadata": {},
   "outputs": [
    {
     "data": {
      "image/png": "[encoded data removed]",
      "text/plain": [
       "<Figure size 432x288 with 1 Axes>"
      ]
     },
     "metadata": {
      "needs_background": "light"
     },
     "output_type": "display_data"
    }
   ],
   "source": [
    "plt.plot(searchClassWeight, [searchScore[0] for searchScore in searchScores])\n",
    "plt.plot(searchClassWeight, [searchScore[1] for searchScore in searchScores])\n",
    "plt.plot(searchClassWeight, [searchScore[2] for searchScore in searchScores])\n",
    "plt.legend(['test_precision', 'test_recall', 'test_f1'])\n",
    "plt.xlabel('Botnet class weight')\n",
    "\n",
    "plt.tight_layout(rect=[0, .03, 1, .95])\n",
    "plt.savefig('crossValidationClassWeight.png', format='png')\n",
    "plt.show()"
   ]
  },
  {
   "cell_type": "code",
   "execution_count": null,
   "metadata": {},
   "outputs": [],
   "source": []
  },
  {
   "cell_type": "code",
   "execution_count": 23,
   "metadata": {},
   "outputs": [
    {
     "data": {
      "text/plain": [
       "array([1.e-02, 1.e-01, 1.e+00, 1.e+01, 1.e+02, 1.e+03, 1.e+04, 1.e+05,\n",
       "       1.e+06])"
      ]
     },
     "execution_count": 23,
     "metadata": {},
     "output_type": "execute_result"
    }
   ],
   "source": [
    "searchForC = np.logspace(-2, 6, 9)\n",
    "searchForC"
   ]
  },
  {
   "cell_type": "code",
   "execution_count": 24,
   "metadata": {},
   "outputs": [
    {
     "data": {
      "text/plain": [
       "array([-2., -1.,  0.,  1.,  2.,  3.,  4.,  5.,  6.])"
      ]
     },
     "execution_count": 24,
     "metadata": {},
     "output_type": "execute_result"
    }
   ],
   "source": [
    "searchForTabC = np.log10(searchForC)\n",
    "searchForTabC"
   ]
  },
  {
   "cell_type": "code",
   "execution_count": 26,
   "metadata": {},
   "outputs": [
    {
     "name": "stdout",
     "output_type": "stream",
     "text": [
      "LogisticRegression(C=0.01, class_weight={0: 0.05, 1: 0.95}, max_iter=1000,\n",
      "                   n_jobs=-1, random_state=42)\n",
      "0.12963254844708733 0.20688068453285843 0.1583524380240929\n",
      "----------------------------------------------------------------------------------------------------\n",
      "LogisticRegression(C=0.1, class_weight={0: 0.05, 1: 0.95}, max_iter=1000,\n",
      "                   n_jobs=-1, random_state=42)\n",
      "0.20884772205151708 0.726901012031447 0.3239876870142746\n",
      "----------------------------------------------------------------------------------------------------\n",
      "LogisticRegression(class_weight={0: 0.05, 1: 0.95}, max_iter=1000, n_jobs=-1,\n",
      "                   random_state=42)\n",
      "0.5744879698904466 0.9408246536072623 0.7120047368738747\n",
      "----------------------------------------------------------------------------------------------------\n",
      "LogisticRegression(C=10.0, class_weight={0: 0.05, 1: 0.95}, max_iter=1000,\n",
      "                   n_jobs=-1, random_state=42)\n",
      "0.7465175388200972 0.9495865583691669 0.8335648321934016\n",
      "----------------------------------------------------------------------------------------------------\n",
      "LogisticRegression(C=100.0, class_weight={0: 0.05, 1: 0.95}, max_iter=1000,\n",
      "                   n_jobs=-1, random_state=42)\n",
      "0.7782264430971327 0.9579343844561234 0.8568359869957858\n",
      "----------------------------------------------------------------------------------------------------\n",
      "LogisticRegression(C=1000.0, class_weight={0: 0.05, 1: 0.95}, max_iter=1000,\n",
      "                   n_jobs=-1, random_state=42)\n",
      "0.7762889983579638 0.9579343844561234 0.8553899003800562\n",
      "----------------------------------------------------------------------------------------------------\n",
      "LogisticRegression(C=10000.0, class_weight={0: 0.05, 1: 0.95}, max_iter=1000,\n",
      "                   n_jobs=-1, random_state=42)\n",
      "0.7787075586630647 0.9579343844561234 0.8571252230325304\n",
      "----------------------------------------------------------------------------------------------------\n",
      "LogisticRegression(C=100000.0, class_weight={0: 0.05, 1: 0.95}, max_iter=1000,\n",
      "                   n_jobs=-1, random_state=42)\n",
      "0.7834912214222559 0.9579343844561234 0.8602892190546149\n",
      "----------------------------------------------------------------------------------------------------\n",
      "LogisticRegression(C=1000000.0, class_weight={0: 0.05, 1: 0.95}, max_iter=1000,\n",
      "                   n_jobs=-1, random_state=42)\n",
      "0.7972584838533114 0.9579343844561234 0.8685684235903695\n",
      "----------------------------------------------------------------------------------------------------\n"
     ]
    }
   ],
   "source": [
    "scoresForC = []\n",
    "\n",
    "for C in searchForC:\n",
    "    clf = LogisticRegression(C=C, class_weight={0: 0.05, 1: 1 - 0.05}, random_state=42, max_iter=1000, n_jobs=-1)\n",
    "    print(clf)\n",
    "    \n",
    "    cv = ShuffleSplit(n_splits=10, test_size=.1, random_state=42)\n",
    "    scores = cross_validate(clf, trainX, trainY, scoring=['precision', 'recall', 'f1'], cv=cv, n_jobs=-1, return_train_score=True, return_estimator=True)\n",
    "    print(scores['test_precision'].mean(), scores['test_recall'].mean(), scores['test_f1'].mean())\n",
    "    scoresForC.append([scores['test_precision'].mean(), scores['test_recall'].mean(), scores['test_f1'].mean(),\\\n",
    "                       np.mean([model.coef_[0] for model in scores['estimator']], axis=0)])\n",
    "    print('-'*100)"
   ]
  },
  {
   "cell_type": "code",
   "execution_count": 28,
   "metadata": {},
   "outputs": [
    {
     "data": {
      "image/png": "[encoded data removed]",
      "text/plain": [
       "<Figure size 432x288 with 1 Axes>"
      ]
     },
     "metadata": {
      "needs_background": "light"
     },
     "output_type": "display_data"
    }
   ],
   "source": [
    "np.save('scoresForC.npy', np.array(scoresForC))\n",
    "\n",
    "plt.plot(searchForTabC, [score[0] for score in scoresForC])\n",
    "plt.plot(searchForTabC, [score[1] for score in scoresForC])\n",
    "plt.plot(searchForTabC, [score[2] for score in scoresForC])\n",
    "plt.legend(['test_precision', 'test_recall', 'test_f1'])\n",
    "\n",
    "plt.xlabel('log(C)')\n",
    "\n",
    "plt.tight_layout(rect=[0, .03, 1, .95])\n",
    "plt.savefig('crossValidationForC.png', format='png')\n",
    "plt.show()"
   ]
  },
  {
   "cell_type": "code",
   "execution_count": 30,
   "metadata": {},
   "outputs": [
    {
     "name": "stdout",
     "output_type": "stream",
     "text": [
      "LogisticRegression(C=100.0, class_weight={0: 0.05, 1: 0.95}, max_iter=1000,\n",
      "                   n_jobs=-1, random_state=42)\n",
      "0.7782264430971327 0.9579343844561234 0.8568359869957858\n",
      "----------------------------------------------------------------------------------------------------\n",
      "LogisticRegression(C=200.0, class_weight={0: 0.05, 1: 0.95}, max_iter=1000,\n",
      "                   n_jobs=-1, random_state=42)\n",
      "0.7778816155109258 0.9579343844561234 0.8567355288154165\n",
      "----------------------------------------------------------------------------------------------------\n",
      "LogisticRegression(C=300.0, class_weight={0: 0.05, 1: 0.95}, max_iter=1000,\n",
      "                   n_jobs=-1, random_state=42)\n",
      "0.7778816155109258 0.9579343844561234 0.8567355288154165\n",
      "----------------------------------------------------------------------------------------------------\n",
      "LogisticRegression(C=400.0, class_weight={0: 0.05, 1: 0.95}, max_iter=1000,\n",
      "                   n_jobs=-1, random_state=42)\n",
      "0.7778816155109258 0.9579343844561234 0.8567355288154165\n",
      "----------------------------------------------------------------------------------------------------\n",
      "LogisticRegression(C=500.0, class_weight={0: 0.05, 1: 0.95}, max_iter=1000,\n",
      "                   n_jobs=-1, random_state=42)\n",
      "0.7778816155109258 0.9579343844561234 0.8567355288154165\n",
      "----------------------------------------------------------------------------------------------------\n",
      "LogisticRegression(C=600.0, class_weight={0: 0.05, 1: 0.95}, max_iter=1000,\n",
      "                   n_jobs=-1, random_state=42)\n",
      "0.7757982821775925 0.9579343844561234 0.8552540473339351\n",
      "----------------------------------------------------------------------------------------------------\n",
      "LogisticRegression(C=700.0, class_weight={0: 0.05, 1: 0.95}, max_iter=1000,\n",
      "                   n_jobs=-1, random_state=42)\n",
      "0.7762889983579638 0.9579343844561234 0.8553899003800562\n",
      "----------------------------------------------------------------------------------------------------\n",
      "LogisticRegression(C=800.0, class_weight={0: 0.05, 1: 0.95}, max_iter=1000,\n",
      "                   n_jobs=-1, random_state=42)\n",
      "0.7762889983579638 0.9579343844561234 0.8553899003800562\n",
      "----------------------------------------------------------------------------------------------------\n",
      "LogisticRegression(C=900.0, class_weight={0: 0.05, 1: 0.95}, max_iter=1000,\n",
      "                   n_jobs=-1, random_state=42)\n",
      "0.7762889983579638 0.9579343844561234 0.8553899003800562\n",
      "----------------------------------------------------------------------------------------------------\n",
      "LogisticRegression(C=1000.0, class_weight={0: 0.05, 1: 0.95}, max_iter=1000,\n",
      "                   n_jobs=-1, random_state=42)\n",
      "0.7762889983579638 0.9579343844561234 0.8553899003800562\n",
      "----------------------------------------------------------------------------------------------------\n"
     ]
    }
   ],
   "source": [
    "searchForLinearC = np.linspace(100, 1000, 10)\n",
    "scoresForLinearC = []\n",
    "\n",
    "for C in searchForLinearC:\n",
    "    clf = LogisticRegression(C=C, class_weight={0: 0.05, 1: 1 - 0.05}, random_state=42, max_iter=1000, n_jobs=-1)\n",
    "    print(clf)\n",
    "    \n",
    "    cv = ShuffleSplit(n_splits=10, test_size=.1, random_state=42)\n",
    "    scores = cross_validate(clf, trainX, trainY, scoring=['precision', 'recall', 'f1'], cv=cv, n_jobs=-1, return_train_score=True, return_estimator=True)\n",
    "    print(scores['test_precision'].mean(), scores['test_recall'].mean(), scores['test_f1'].mean())\n",
    "    scoresForLinearC.append([scores['test_precision'].mean(), scores['test_recall'].mean(), scores['test_f1'].mean(),\\\n",
    "                       np.mean([model.coef_[0] for model in scores['estimator']], axis=0)])\n",
    "    print('-'*100)"
   ]
  },
  {
   "cell_type": "code",
   "execution_count": 31,
   "metadata": {},
   "outputs": [
    {
     "data": {
      "image/png": "[encoded data removed]",
      "text/plain": [
       "<Figure size 432x288 with 1 Axes>"
      ]
     },
     "metadata": {
      "needs_background": "light"
     },
     "output_type": "display_data"
    }
   ],
   "source": [
    "np.save('scoresForLinearC.npy', np.array(scoresForC))\n",
    "\n",
    "plt.plot(searchForLinearC, [score[0] for score in scoresForLinearC])\n",
    "plt.plot(searchForLinearC, [score[1] for score in scoresForLinearC])\n",
    "plt.plot(searchForLinearC, [score[2] for score in scoresForLinearC])\n",
    "plt.legend(['test_precision', 'test_recall', 'test_f1'])\n",
    "\n",
    "plt.xlabel('C')\n",
    "\n",
    "plt.tight_layout(rect=[0, .03, 1, .95])\n",
    "plt.savefig('crossValidationForLinearC.png', format='png')\n",
    "plt.show()"
   ]
  },
  {
   "cell_type": "markdown",
   "metadata": {},
   "source": [
    "#### SVM method with RFE"
   ]
  },
  {
   "cell_type": "code",
   "execution_count": 17,
   "metadata": {},
   "outputs": [],
   "source": [
    "def rfeSVM(X, y):\n",
    "    clf = SGDClassifier(penalty='elasticnet', alpha=1e-9, n_jobs=-1, random_state=42,class_weight={0: 0.05, 1: 1 - 0.05})\n",
    "    cv = ShuffleSplit(n_splits=10, test_size=.1, random_state=42)\n",
    "    \n",
    "    nFeatures = X.shape[1]\n",
    "    print(nFeatures)\n",
    "\n",
    "    scores = cross_validate(clf, X, y, scoring=['precision', 'recall', 'f1'], cv=cv, n_jobs=-1, return_train_score=True)\n",
    "    print(nFeatures, scores['test_precision'].mean(), scores['test_recall'].mean(), scores['test_f1'].mean())\n",
    "    print('-'*100)\n",
    "\n",
    "    if nFeatures > 1:\n",
    "        rfe = RFE(clf, n_features_to_select=nFeatures - 1, step=1)\n",
    "        rfe.fit(X, y)\n",
    "        output = rfeSVM(rfe.transform(X), y)\n",
    "        \n",
    "        output.append([nFeatures, scores['test_precision'].mean(), scores['test_recall'].mean(), scores['test_f1'].mean(), rfe.support_, rfe.ranking_])\n",
    "        return output\n",
    "    else:\n",
    "        return [[nFeatures, scores['test_precision'].mean(), scores['test_recall'].mean(), scores['test_f1'].mean(), [True], [1]]]"
   ]
  },
  {
   "cell_type": "code",
   "execution_count": 18,
   "metadata": {
    "scrolled": true
   },
   "outputs": [
    {
     "name": "stdout",
     "output_type": "stream",
     "text": [
      "22\n",
      "22 0.7922835178869663 0.957191301452171 0.859710088796715\n",
      "----------------------------------------------------------------------------------------------------\n",
      "21\n",
      "21 0.8239467620502104 0.9531913014521709 0.8719390042610685\n",
      "----------------------------------------------------------------------------------------------------\n",
      "20\n",
      "20 0.8480846930846931 0.9488434753652143 0.8827781651002293\n",
      "----------------------------------------------------------------------------------------------------\n",
      "19\n",
      "19 0.8209600861070625 0.9247595303247478 0.8363459411414841\n",
      "----------------------------------------------------------------------------------------------------\n",
      "18\n",
      "18 0.7941146410339959 0.9274510417119114 0.8412060184308101\n",
      "----------------------------------------------------------------------------------------------------\n",
      "17\n",
      "17 0.8054670287969469 0.9045073187681885 0.8333458110053854\n",
      "----------------------------------------------------------------------------------------------------\n",
      "16\n",
      "16 0.842688049357674 0.9306891369500064 0.8698831982406589\n",
      "----------------------------------------------------------------------------------------------------\n",
      "15\n",
      "15 0.8508030458191749 0.9286093616528397 0.882046265328874\n",
      "----------------------------------------------------------------------------------------------------\n",
      "14\n",
      "14 0.8755626814786993 0.9200226150660933 0.8924384892215871\n",
      "----------------------------------------------------------------------------------------------------\n",
      "13\n",
      "13 0.8143572578700498 0.9281728126945519 0.8448480363412374\n",
      "----------------------------------------------------------------------------------------------------\n",
      "12\n",
      "12 0.7102425087336509 0.9439501947328033 0.8026429534936426\n",
      "----------------------------------------------------------------------------------------------------\n",
      "11\n",
      "11 0.7196542734395333 0.9439501947328033 0.8085597485629801\n",
      "----------------------------------------------------------------------------------------------------\n",
      "10\n",
      "10 0.7046984715101723 0.9423601326210023 0.8016024685909514\n",
      "----------------------------------------------------------------------------------------------------\n",
      "9\n",
      "9 0.6180852871981874 0.931122037382907 0.7102270530651086\n",
      "----------------------------------------------------------------------------------------------------\n",
      "8\n",
      "8 0.6432682571277396 0.9659343844561235 0.7514062838407142\n",
      "----------------------------------------------------------------------------------------------------\n",
      "7\n",
      "7 0.6923185446413792 0.9266265328874026 0.7519613511147187\n",
      "----------------------------------------------------------------------------------------------------\n",
      "6\n",
      "6 0.6387675800200784 0.966021978021978 0.7442696490179974\n",
      "----------------------------------------------------------------------------------------------------\n",
      "5\n",
      "5 0.7443406513567804 0.9404518669736059 0.8133692326950885\n",
      "----------------------------------------------------------------------------------------------------\n",
      "4\n",
      "4 0.0 0.0 0.0\n",
      "----------------------------------------------------------------------------------------------------\n",
      "3\n",
      "3 0.0 0.0 0.0\n",
      "----------------------------------------------------------------------------------------------------\n",
      "2\n",
      "2 0.0 0.0 0.0\n",
      "----------------------------------------------------------------------------------------------------\n",
      "1\n",
      "1 0.0 0.0 0.0\n",
      "----------------------------------------------------------------------------------------------------\n"
     ]
    },
    {
     "data": {
      "text/plain": [
       "array([[1, 0.0, 0.0, 0.0, list([True]), list([1])],\n",
       "       [2, 0.0, 0.0, 0.0, array([ True, False]), array([1, 2])],\n",
       "       [3, 0.0, 0.0, 0.0, array([ True, False,  True]), array([1, 2, 1])],\n",
       "       [4, 0.0, 0.0, 0.0, array([False,  True,  True,  True]),\n",
       "        array([2, 1, 1, 1])],\n",
       "       [5, 0.7443406513567804, 0.9404518669736059, 0.8133692326950885,\n",
       "        array([False,  True,  True,  True,  True]),\n",
       "        array([2, 1, 1, 1, 1])],\n",
       "       [6, 0.6387675800200784, 0.966021978021978, 0.7442696490179974,\n",
       "        array([ True,  True,  True, False,  True,  True]),\n",
       "        array([1, 1, 1, 2, 1, 1])],\n",
       "       [7, 0.6923185446413792, 0.9266265328874026, 0.7519613511147187,\n",
       "        array([ True,  True,  True,  True, False,  True,  True]),\n",
       "        array([1, 1, 1, 1, 2, 1, 1])],\n",
       "       [8, 0.6432682571277396, 0.9659343844561235, 0.7514062838407142,\n",
       "        array([ True,  True,  True,  True, False,  True,  True,  True]),\n",
       "        array([1, 1, 1, 1, 2, 1, 1, 1])],\n",
       "       [9, 0.6180852871981874, 0.931122037382907, 0.7102270530651086,\n",
       "        array([ True,  True,  True,  True, False,  True,  True,  True,  True]),\n",
       "        array([1, 1, 1, 1, 2, 1, 1, 1, 1])],\n",
       "       [10, 0.7046984715101723, 0.9423601326210023, 0.8016024685909514,\n",
       "        array([False,  True,  True,  True,  True,  True,  True,  True,  True,\n",
       "        True]),\n",
       "        array([2, 1, 1, 1, 1, 1, 1, 1, 1, 1])],\n",
       "       [11, 0.7196542734395333, 0.9439501947328033, 0.8085597485629801,\n",
       "        array([ True,  True,  True,  True,  True,  True,  True,  True,  True,\n",
       "        True, False]),\n",
       "        array([1, 1, 1, 1, 1, 1, 1, 1, 1, 1, 2])],\n",
       "       [12, 0.7102425087336509, 0.9439501947328033, 0.8026429534936426,\n",
       "        array([ True,  True,  True,  True,  True,  True,  True,  True,  True,\n",
       "        True,  True, False]),\n",
       "        array([1, 1, 1, 1, 1, 1, 1, 1, 1, 1, 1, 2])],\n",
       "       [13, 0.8143572578700498, 0.9281728126945519, 0.8448480363412374,\n",
       "        array([ True,  True,  True,  True,  True,  True,  True,  True,  True,\n",
       "        True,  True,  True, False]),\n",
       "        array([1, 1, 1, 1, 1, 1, 1, 1, 1, 1, 1, 1, 2])],\n",
       "       [14, 0.8755626814786993, 0.9200226150660933, 0.8924384892215871,\n",
       "        array([ True,  True,  True,  True,  True,  True,  True,  True,  True,\n",
       "        True,  True, False,  True,  True]),\n",
       "        array([1, 1, 1, 1, 1, 1, 1, 1, 1, 1, 1, 2, 1, 1])],\n",
       "       [15, 0.8508030458191749, 0.9286093616528397, 0.882046265328874,\n",
       "        array([ True, False,  True,  True,  True,  True,  True,  True,  True,\n",
       "        True,  True,  True,  True,  True,  True]),\n",
       "        array([1, 2, 1, 1, 1, 1, 1, 1, 1, 1, 1, 1, 1, 1, 1])],\n",
       "       [16, 0.842688049357674, 0.9306891369500064, 0.8698831982406589,\n",
       "        array([ True,  True,  True,  True,  True,  True,  True,  True,  True,\n",
       "        True,  True,  True,  True,  True, False,  True]),\n",
       "        array([1, 1, 1, 1, 1, 1, 1, 1, 1, 1, 1, 1, 1, 1, 2, 1])],\n",
       "       [17, 0.8054670287969469, 0.9045073187681885, 0.8333458110053854,\n",
       "        array([ True,  True,  True,  True,  True,  True,  True,  True,  True,\n",
       "        True,  True, False,  True,  True,  True,  True,  True]),\n",
       "        array([1, 1, 1, 1, 1, 1, 1, 1, 1, 1, 1, 2, 1, 1, 1, 1, 1])],\n",
       "       [18, 0.7941146410339959, 0.9274510417119114, 0.8412060184308101,\n",
       "        array([ True,  True,  True,  True,  True,  True,  True,  True,  True,\n",
       "        True, False,  True,  True,  True,  True,  True,  True,  True]),\n",
       "        array([1, 1, 1, 1, 1, 1, 1, 1, 1, 1, 2, 1, 1, 1, 1, 1, 1, 1])],\n",
       "       [19, 0.8209600861070625, 0.9247595303247478, 0.8363459411414841,\n",
       "        array([ True,  True,  True,  True,  True,  True,  True,  True,  True,\n",
       "        True,  True,  True,  True,  True,  True,  True,  True, False,\n",
       "        True]),\n",
       "        array([1, 1, 1, 1, 1, 1, 1, 1, 1, 1, 1, 1, 1, 1, 1, 1, 1, 2, 1])],\n",
       "       [20, 0.8480846930846931, 0.9488434753652143, 0.8827781651002293,\n",
       "        array([ True,  True,  True,  True,  True,  True,  True,  True,  True,\n",
       "        True,  True, False,  True,  True,  True,  True,  True,  True,\n",
       "        True,  True]),\n",
       "        array([1, 1, 1, 1, 1, 1, 1, 1, 1, 1, 1, 2, 1, 1, 1, 1, 1, 1, 1, 1])],\n",
       "       [21, 0.8239467620502104, 0.9531913014521709, 0.8719390042610685,\n",
       "        array([ True,  True,  True,  True,  True,  True,  True,  True,  True,\n",
       "        True,  True,  True,  True,  True,  True,  True, False,  True,\n",
       "        True,  True,  True]),\n",
       "        array([1, 1, 1, 1, 1, 1, 1, 1, 1, 1, 1, 1, 1, 1, 1, 1, 2, 1, 1, 1, 1])],\n",
       "       [22, 0.7922835178869663, 0.957191301452171, 0.859710088796715,\n",
       "        array([ True,  True,  True,  True,  True,  True,  True,  True,  True,\n",
       "        True,  True,  True,  True,  True,  True,  True,  True, False,\n",
       "        True,  True,  True,  True]),\n",
       "        array([1, 1, 1, 1, 1, 1, 1, 1, 1, 1, 1, 1, 1, 1, 1, 1, 1, 2, 1, 1, 1, 1])]],\n",
       "      dtype=object)"
      ]
     },
     "execution_count": 18,
     "metadata": {},
     "output_type": "execute_result"
    }
   ],
   "source": [
    "results = np.array(rfeSVM(trainX, trainY))\n",
    "results"
   ]
  },
  {
   "cell_type": "code",
   "execution_count": 19,
   "metadata": {},
   "outputs": [],
   "source": [
    "np.save('rfeSVM.npy', np.array(results))"
   ]
  },
  {
   "cell_type": "code",
   "execution_count": 20,
   "metadata": {},
   "outputs": [
    {
     "name": "stdout",
     "output_type": "stream",
     "text": [
      "SGDClassifier(alpha=1e-09, class_weight={0: 0.0, 1: 1.0}, n_jobs=-1,\n",
      "              penalty='elasticnet', random_state=42)\n",
      "0.00015550535890234668 1.0 0.00031096205971767934\n",
      "----------------------------------------------------------------------------------------------------\n",
      "SGDClassifier(alpha=1e-09,\n",
      "              class_weight={0: 0.011111111111111112, 1: 0.9888888888888889},\n",
      "              n_jobs=-1, penalty='elasticnet', random_state=42)\n",
      "0.5241402188989601 0.9651062271062271 0.6551127620944677\n",
      "----------------------------------------------------------------------------------------------------\n",
      "SGDClassifier(alpha=1e-09,\n",
      "              class_weight={0: 0.022222222222222223, 1: 0.9777777777777777},\n",
      "              n_jobs=-1, penalty='elasticnet', random_state=42)\n",
      "0.693161646495164 0.9582822105430802 0.787628893096193\n",
      "----------------------------------------------------------------------------------------------------\n",
      "SGDClassifier(alpha=1e-09,\n",
      "              class_weight={0: 0.03333333333333333, 1: 0.9666666666666667},\n",
      "              n_jobs=-1, penalty='elasticnet', random_state=42)\n",
      "0.8539261075817141 0.9369748512357209 0.8794443967100471\n",
      "----------------------------------------------------------------------------------------------------\n",
      "SGDClassifier(alpha=1e-09,\n",
      "              class_weight={0: 0.044444444444444446, 1: 0.9555555555555556},\n",
      "              n_jobs=-1, penalty='elasticnet', random_state=42)\n",
      "0.7850225325419834 0.9361952540213411 0.8370997108110995\n",
      "----------------------------------------------------------------------------------------------------\n",
      "SGDClassifier(alpha=1e-09,\n",
      "              class_weight={0: 0.05555555555555556, 1: 0.9444444444444444},\n",
      "              n_jobs=-1, penalty='elasticnet', random_state=42)\n",
      "0.8070039117037071 0.9443041885650582 0.8433028058172942\n",
      "----------------------------------------------------------------------------------------------------\n",
      "SGDClassifier(alpha=1e-09,\n",
      "              class_weight={0: 0.06666666666666667, 1: 0.9333333333333333},\n",
      "              n_jobs=-1, penalty='elasticnet', random_state=42)\n",
      "0.8466655351353627 0.9321290014333492 0.8815934175574656\n",
      "----------------------------------------------------------------------------------------------------\n",
      "SGDClassifier(alpha=1e-09,\n",
      "              class_weight={0: 0.07777777777777778, 1: 0.9222222222222223},\n",
      "              n_jobs=-1, penalty='elasticnet', random_state=42)\n",
      "0.806219717741457 0.9245868913695 0.8547610245080344\n",
      "----------------------------------------------------------------------------------------------------\n",
      "SGDClassifier(alpha=1e-09,\n",
      "              class_weight={0: 0.08888888888888889, 1: 0.9111111111111111},\n",
      "              n_jobs=-1, penalty='elasticnet', random_state=42)\n",
      "0.8233308181744026 0.9323704411530498 0.8546854332079423\n",
      "----------------------------------------------------------------------------------------------------\n",
      "SGDClassifier(alpha=1e-09, class_weight={0: 0.1, 1: 0.9}, n_jobs=-1,\n",
      "              penalty='elasticnet', random_state=42)\n",
      "0.754380103556574 0.9197999971043449 0.8076906097510788\n",
      "----------------------------------------------------------------------------------------------------\n"
     ]
    }
   ],
   "source": [
    "searchClassWeight = np.linspace(0, .1, 10)\n",
    "scoresForSVM = []\n",
    "\n",
    "for classWeight in searchClassWeight:\n",
    "    clf = SGDClassifier(penalty='elasticnet', alpha=1e-9, n_jobs=-1, random_state=42,class_weight={0: classWeight, 1: 1 - classWeight})\n",
    "    print(clf)\n",
    "    \n",
    "    cv = ShuffleSplit(n_splits=10, test_size=.1, random_state=42)\n",
    "    scores = cross_validate(clf, trainX, trainY, scoring=['precision', 'recall', 'f1'], cv=cv, n_jobs=-1, return_train_score=True)\n",
    "    print(scores['test_precision'].mean(), scores['test_recall'].mean(), scores['test_f1'].mean())\n",
    "    scoresForSVM.append([scores['test_precision'].mean(), scores['test_recall'].mean(), scores['test_f1'].mean()])\n",
    "    print('-'*100)"
   ]
  },
  {
   "cell_type": "code",
   "execution_count": 21,
   "metadata": {},
   "outputs": [
    {
     "data": {
      "image/png": "[encoded data removed]",
      "text/plain": [
       "<Figure size 432x288 with 1 Axes>"
      ]
     },
     "metadata": {
      "needs_background": "light"
     },
     "output_type": "display_data"
    }
   ],
   "source": [
    "plt.plot(searchClassWeight, [score[0] for score in scoresForSVM])\n",
    "plt.plot(searchClassWeight, [score[1] for score in scoresForSVM])\n",
    "plt.plot(searchClassWeight, [score[2] for score in scoresForSVM])\n",
    "plt.legend(['test_precision', 'test_recall', 'test_f1'])\n",
    "\n",
    "plt.xlabel('Botnet Class Weight')\n",
    "\n",
    "plt.tight_layout(rect=[0, .03, 1, .95])\n",
    "plt.savefig('crossValidationClassWeightSVM.png', format='png')\n",
    "plt.show()"
   ]
  },
  {
   "cell_type": "code",
   "execution_count": 22,
   "metadata": {},
   "outputs": [
    {
     "data": {
      "text/plain": [
       "0.033"
      ]
     },
     "execution_count": 22,
     "metadata": {},
     "output_type": "execute_result"
    }
   ],
   "source": []
  },
  {
   "cell_type": "code",
   "execution_count": null,
   "metadata": {},
   "outputs": [
    {
     "name": "stdout",
     "output_type": "stream",
     "text": [
      "SGDClassifier(alpha=1e-16, class_weight={0: 0.033, 1: 0.967}, n_jobs=-1,\n",
      "              penalty='elasticnet', random_state=42)\n",
      "0.7086275233859844 0.943714922758401 0.7784844398072166\n",
      "----------------------------------------------------------------------------------------------------\n",
      "SGDClassifier(alpha=1e-15, class_weight={0: 0.033, 1: 0.967}, n_jobs=-1,\n",
      "              penalty='elasticnet', random_state=42)\n",
      "0.7290297012624442 0.9367182672400064 0.7989393683735528\n",
      "----------------------------------------------------------------------------------------------------\n",
      "SGDClassifier(alpha=1e-14, class_weight={0: 0.033, 1: 0.967}, n_jobs=-1,\n",
      "              penalty='elasticnet', random_state=42)\n",
      "0.8052786339930267 0.9076486701704093 0.8313218702699106\n",
      "----------------------------------------------------------------------------------------------------\n",
      "SGDClassifier(alpha=1e-13, class_weight={0: 0.033, 1: 0.967}, n_jobs=-1,\n",
      "              penalty='elasticnet', random_state=42)\n",
      "0.7085271975245678 0.941191301452171 0.7914801779668607\n",
      "----------------------------------------------------------------------------------------------------\n",
      "SGDClassifier(alpha=1e-12, class_weight={0: 0.033, 1: 0.967}, n_jobs=-1,\n",
      "              penalty='elasticnet', random_state=42)\n",
      "0.718840168733678 0.9570374552983247 0.7863025404773796\n",
      "----------------------------------------------------------------------------------------------------\n",
      "SGDClassifier(alpha=1e-11, class_weight={0: 0.033, 1: 0.967}, n_jobs=-1,\n",
      "              penalty='elasticnet', random_state=42)\n",
      "0.7375892654266887 0.895059433320303 0.7656282126951919\n",
      "----------------------------------------------------------------------------------------------------\n",
      "SGDClassifier(alpha=1e-10, class_weight={0: 0.033, 1: 0.967}, n_jobs=-1,\n",
      "              penalty='elasticnet', random_state=42)\n",
      "0.7774671233575855 0.9448434753652144 0.8416652620578642\n",
      "----------------------------------------------------------------------------------------------------\n",
      "SGDClassifier(alpha=1e-09, class_weight={0: 0.033, 1: 0.967}, n_jobs=-1,\n",
      "              penalty='elasticnet', random_state=42)\n",
      "0.654328350951745 0.9541758241758241 0.7447813981323755\n",
      "----------------------------------------------------------------------------------------------------\n",
      "SGDClassifier(alpha=1e-08, class_weight={0: 0.033, 1: 0.967}, n_jobs=-1,\n",
      "              penalty='elasticnet', random_state=42)\n"
     ]
    }
   ],
   "source": [
    "searchForC = np.logspace(-16, -4, 13)\n",
    "\n",
    "scoresForC = []\n",
    "\n",
    "for C in searchForC:\n",
    "    clf = SGDClassifier(penalty='elasticnet', alpha=C, n_jobs=-1, random_state=42,class_weight={0: 0.033, 1: 1 - 0.033})\n",
    "    print(clf)\n",
    "    \n",
    "    cv = ShuffleSplit(n_splits=10, test_size=.1, random_state=42)\n",
    "    scores = cross_validate(clf, trainX, trainY, scoring=['precision', 'recall', 'f1'], cv=cv, n_jobs=-1, return_train_score=True)\n",
    "    print(scores['test_precision'].mean(), scores['test_recall'].mean(), scores['test_f1'].mean())\n",
    "    scoresForC.append([scores['test_precision'].mean(), scores['test_recall'].mean(), scores['test_f1'].mean()])\n",
    "    print('-'*100)"
   ]
  },
  {
   "cell_type": "code",
   "execution_count": 32,
   "metadata": {},
   "outputs": [
    {
     "data": {
      "image/png": "[encoded data removed]",
      "text/plain": [
       "<Figure size 432x288 with 1 Axes>"
      ]
     },
     "metadata": {
      "needs_background": "light"
     },
     "output_type": "display_data"
    }
   ],
   "source": [
    "np.save('scoresForSVMAlpha.npy', np.array(scoresForC))\n",
    "\n",
    "plt.plot(np.log10(searchForC), [score[0] for score in scoresForC])\n",
    "plt.plot(np.log10(searchForC), [score[1] for score in scoresForC])\n",
    "plt.plot(np.log10(searchForC), [score[2] for score in scoresForC])\n",
    "plt.legend(['test_precision', 'test_recall', 'test_f1'])\n",
    "\n",
    "plt.xlabel('log(C)')\n",
    "\n",
    "plt.tight_layout(rect=[0, .03, 1, .95])\n",
    "plt.savefig('crossValidationForSVMAlpha.png', format='png')\n",
    "plt.show()"
   ]
  },
  {
   "cell_type": "code",
   "execution_count": null,
   "metadata": {},
   "outputs": [],
   "source": []
  }
 ],
 "metadata": {
  "kernelspec": {
   "display_name": "Python 3",
   "language": "python",
   "name": "python3"
  },
  "language_info": {
   "codemirror_mode": {
    "name": "ipython",
    "version": 3
   },
   "file_extension": ".py",
   "mimetype": "text/x-python",
   "name": "python",
   "nbconvert_exporter": "python",
   "pygments_lexer": "ipython3",
   "version": "3.8.3"
  }
 },
 "nbformat": 4,
 "nbformat_minor": 4
}