{
 "cells": [
  {
   "cell_type": "code",
   "execution_count": 31,
   "metadata": {},
   "outputs": [],
   "source": [
    "import pandas as pd\n",
    "import numpy as np\n",
    "import datetime\n",
    "import h5py\n",
    "import pickle\n",
    "from collections import defaultdict\n",
    "\n",
    "from scipy import stats\n",
    "import seaborn as sns\n",
    "\n",
    "import matplotlib.pyplot as plt\n",
    "plt.rcParams[\"figure.figsize\"] = (8, 6)"
   ]
  },
  {
   "cell_type": "code",
   "execution_count": 32,
   "metadata": {},
   "outputs": [
    {
     "data": {
      "text/html": [
       "<div>\n",
       "<style scoped>\n",
       "    .dataframe tbody tr th:only-of-type {\n",
       "        vertical-align: middle;\n",
       "    }\n",
       "\n",
       "    .dataframe tbody tr th {\n",
       "        vertical-align: top;\n",
       "    }\n",
       "\n",
       "    .dataframe thead th {\n",
       "        text-align: right;\n",
       "    }\n",
       "</style>\n",
       "<table border=\"1\" class=\"dataframe\">\n",
       "  <thead>\n",
       "    <tr style=\"text-align: right;\">\n",
       "      <th></th>\n",
       "      <th>StartTime</th>\n",
       "      <th>Dur</th>\n",
       "      <th>Proto</th>\n",
       "      <th>SrcAddr</th>\n",
       "      <th>Sport</th>\n",
       "      <th>Dir</th>\n",
       "      <th>DstAddr</th>\n",
       "      <th>Dport</th>\n",
       "      <th>State</th>\n",
       "      <th>sTos</th>\n",
       "      <th>dTos</th>\n",
       "      <th>TotPkts</th>\n",
       "      <th>TotBytes</th>\n",
       "      <th>SrcBytes</th>\n",
       "      <th>Label</th>\n",
       "    </tr>\n",
       "  </thead>\n",
       "  <tbody>\n",
       "    <tr>\n",
       "      <th>0</th>\n",
       "      <td>2011/08/10 09:46:59.607825</td>\n",
       "      <td>1.026539</td>\n",
       "      <td>tcp</td>\n",
       "      <td>94.44.127.113</td>\n",
       "      <td>1577</td>\n",
       "      <td>-&gt;</td>\n",
       "      <td>147.32.84.59</td>\n",
       "      <td>6881</td>\n",
       "      <td>S_RA</td>\n",
       "      <td>0.0</td>\n",
       "      <td>0.0</td>\n",
       "      <td>4</td>\n",
       "      <td>276</td>\n",
       "      <td>156</td>\n",
       "      <td>flow=Background-Established-cmpgw-CVUT</td>\n",
       "    </tr>\n",
       "    <tr>\n",
       "      <th>1</th>\n",
       "      <td>2011/08/10 09:47:00.634364</td>\n",
       "      <td>1.009595</td>\n",
       "      <td>tcp</td>\n",
       "      <td>94.44.127.113</td>\n",
       "      <td>1577</td>\n",
       "      <td>-&gt;</td>\n",
       "      <td>147.32.84.59</td>\n",
       "      <td>6881</td>\n",
       "      <td>S_RA</td>\n",
       "      <td>0.0</td>\n",
       "      <td>0.0</td>\n",
       "      <td>4</td>\n",
       "      <td>276</td>\n",
       "      <td>156</td>\n",
       "      <td>flow=Background-Established-cmpgw-CVUT</td>\n",
       "    </tr>\n",
       "    <tr>\n",
       "      <th>2</th>\n",
       "      <td>2011/08/10 09:47:48.185538</td>\n",
       "      <td>3.056586</td>\n",
       "      <td>tcp</td>\n",
       "      <td>147.32.86.89</td>\n",
       "      <td>4768</td>\n",
       "      <td>-&gt;</td>\n",
       "      <td>77.75.73.33</td>\n",
       "      <td>80</td>\n",
       "      <td>SR_A</td>\n",
       "      <td>0.0</td>\n",
       "      <td>0.0</td>\n",
       "      <td>3</td>\n",
       "      <td>182</td>\n",
       "      <td>122</td>\n",
       "      <td>flow=Background-TCP-Attempt</td>\n",
       "    </tr>\n",
       "    <tr>\n",
       "      <th>3</th>\n",
       "      <td>2011/08/10 09:47:48.230897</td>\n",
       "      <td>3.111769</td>\n",
       "      <td>tcp</td>\n",
       "      <td>147.32.86.89</td>\n",
       "      <td>4788</td>\n",
       "      <td>-&gt;</td>\n",
       "      <td>77.75.73.33</td>\n",
       "      <td>80</td>\n",
       "      <td>SR_A</td>\n",
       "      <td>0.0</td>\n",
       "      <td>0.0</td>\n",
       "      <td>3</td>\n",
       "      <td>182</td>\n",
       "      <td>122</td>\n",
       "      <td>flow=Background-TCP-Attempt</td>\n",
       "    </tr>\n",
       "    <tr>\n",
       "      <th>4</th>\n",
       "      <td>2011/08/10 09:47:48.963351</td>\n",
       "      <td>3.083411</td>\n",
       "      <td>tcp</td>\n",
       "      <td>147.32.86.89</td>\n",
       "      <td>4850</td>\n",
       "      <td>-&gt;</td>\n",
       "      <td>77.75.73.33</td>\n",
       "      <td>80</td>\n",
       "      <td>SR_A</td>\n",
       "      <td>0.0</td>\n",
       "      <td>0.0</td>\n",
       "      <td>3</td>\n",
       "      <td>182</td>\n",
       "      <td>122</td>\n",
       "      <td>flow=Background-TCP-Attempt</td>\n",
       "    </tr>\n",
       "  </tbody>\n",
       "</table>\n",
       "</div>"
      ],
      "text/plain": [
       "                    StartTime       Dur Proto        SrcAddr Sport    Dir  \\\n",
       "0  2011/08/10 09:46:59.607825  1.026539   tcp  94.44.127.113  1577     ->   \n",
       "1  2011/08/10 09:47:00.634364  1.009595   tcp  94.44.127.113  1577     ->   \n",
       "2  2011/08/10 09:47:48.185538  3.056586   tcp   147.32.86.89  4768     ->   \n",
       "3  2011/08/10 09:47:48.230897  3.111769   tcp   147.32.86.89  4788     ->   \n",
       "4  2011/08/10 09:47:48.963351  3.083411   tcp   147.32.86.89  4850     ->   \n",
       "\n",
       "        DstAddr Dport State  sTos  dTos  TotPkts  TotBytes  SrcBytes  \\\n",
       "0  147.32.84.59  6881  S_RA   0.0   0.0        4       276       156   \n",
       "1  147.32.84.59  6881  S_RA   0.0   0.0        4       276       156   \n",
       "2   77.75.73.33    80  SR_A   0.0   0.0        3       182       122   \n",
       "3   77.75.73.33    80  SR_A   0.0   0.0        3       182       122   \n",
       "4   77.75.73.33    80  SR_A   0.0   0.0        3       182       122   \n",
       "\n",
       "                                    Label  \n",
       "0  flow=Background-Established-cmpgw-CVUT  \n",
       "1  flow=Background-Established-cmpgw-CVUT  \n",
       "2             flow=Background-TCP-Attempt  \n",
       "3             flow=Background-TCP-Attempt  \n",
       "4             flow=Background-TCP-Attempt  "
      ]
     },
     "execution_count": 32,
     "metadata": {},
     "output_type": "execute_result"
    }
   ],
   "source": [
    "data = pd.read_csv('CTU-13-Dataset/capture20110810.binetflow')\n",
    "data.head()"
   ]
  },
  {
   "cell_type": "code",
   "execution_count": 4,
   "metadata": {},
   "outputs": [
    {
     "data": {
      "text/plain": [
       "(1, 2686731)"
      ]
     },
     "execution_count": 4,
     "metadata": {},
     "output_type": "execute_result"
    }
   ],
   "source": [
    "data['TotPkts'].min(), data['TotPkts'].max()"
   ]
  },
  {
   "cell_type": "code",
   "execution_count": 33,
   "metadata": {},
   "outputs": [],
   "source": [
    "data['StartTime'] = pd.to_datetime(data['StartTime'])"
   ]
  },
  {
   "cell_type": "code",
   "execution_count": 36,
   "metadata": {},
   "outputs": [
    {
     "data": {
      "image/png": "[encoded data removed]",
      "text/plain": [
       "<Figure size 576x432 with 1 Axes>"
      ]
     },
     "metadata": {
      "needs_background": "light"
     },
     "output_type": "display_data"
    }
   ],
   "source": [
    "data.resample('T', on='StartTime').sum()['TotPkts'].plot()\n",
    "plt.xlabel('Date')\n",
    "plt.ylabel('Total of packets')\n",
    "plt.savefig('Fig16.png')\n",
    "plt.show()"
   ]
  },
  {
   "cell_type": "code",
   "execution_count": 34,
   "metadata": {},
   "outputs": [
    {
     "data": {
      "text/plain": [
       "DatetimeIndex(['2011-08-10 12:20:00'], dtype='datetime64[ns]', name='StartTime', freq='5T')"
      ]
     },
     "execution_count": 34,
     "metadata": {},
     "output_type": "execute_result"
    }
   ],
   "source": [
    "tmp = data.resample('5T', on='StartTime').sum()['TotPkts']\n",
    "target = tmp[tmp == 4664716].index\n",
    "target"
   ]
  },
  {
   "cell_type": "code",
   "execution_count": null,
   "metadata": {},
   "outputs": [],
   "source": [
    "data[data['StartTime']]"
   ]
  },
  {
   "cell_type": "code",
   "execution_count": 37,
   "metadata": {},
   "outputs": [
    {
     "data": {
      "text/plain": [
       "datetime.datetime(2011, 8, 10, 12, 20)"
      ]
     },
     "execution_count": 37,
     "metadata": {},
     "output_type": "execute_result"
    }
   ],
   "source": [
    "target = target.to_pydatetime()[0]\n",
    "target"
   ]
  },
  {
   "cell_type": "code",
   "execution_count": 38,
   "metadata": {},
   "outputs": [
    {
     "data": {
      "text/plain": [
       "(datetime.datetime(2011, 8, 10, 12, 10),\n",
       " datetime.datetime(2011, 8, 10, 12, 30))"
      ]
     },
     "execution_count": 38,
     "metadata": {},
     "output_type": "execute_result"
    }
   ],
   "source": [
    "target + datetime.timedelta(minutes=1)\n",
    "lower = target - datetime.timedelta(minutes=10)\n",
    "upper = target + datetime.timedelta(minutes=10)\n",
    "lower, upper"
   ]
  },
  {
   "cell_type": "code",
   "execution_count": 39,
   "metadata": {},
   "outputs": [
    {
     "data": {
      "image/png": "[encoded data removed]",
      "text/plain": [
       "<Figure size 576x432 with 1 Axes>"
      ]
     },
     "metadata": {
      "needs_background": "light"
     },
     "output_type": "display_data"
    }
   ],
   "source": [
    "attacked = data[(data['StartTime'] > lower) & (data['StartTime'] < upper)]\n",
    "attacked.resample('T', on='StartTime').sum()['TotPkts'].plot()\n",
    "plt.xlabel('Date')\n",
    "plt.ylabel('Total of packets')\n",
    "plt.savefig('Fig17.png')\n",
    "plt.show()"
   ]
  },
  {
   "cell_type": "code",
   "execution_count": null,
   "metadata": {},
   "outputs": [],
   "source": []
  }
 ],
 "metadata": {
  "kernelspec": {
   "display_name": "Python 3",
   "language": "python",
   "name": "python3"
  },
  "language_info": {
   "codemirror_mode": {
    "name": "ipython",
    "version": 3
   },
   "file_extension": ".py",
   "mimetype": "text/x-python",
   "name": "python",
   "nbconvert_exporter": "python",
   "pygments_lexer": "ipython3",
   "version": "3.8.3"
  }
 },
 "nbformat": 4,
 "nbformat_minor": 4
}