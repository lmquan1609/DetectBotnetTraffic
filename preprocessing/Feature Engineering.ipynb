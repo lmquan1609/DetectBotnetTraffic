{
 "cells": [
  {
   "cell_type": "code",
   "execution_count": 1,
   "metadata": {},
   "outputs": [],
   "source": [
    "# Refer: https://towardsdatascience.com/feature-selection-techniques-for-classification-and-python-tips-for-their-application-10c0ddd7918b"
   ]
  },
  {
   "cell_type": "markdown",
   "metadata": {
    "colab_type": "text",
    "id": "z47K0yNEqyAN"
   },
   "source": [
    "## Importing libraries"
   ]
  },
  {
   "cell_type": "code",
   "execution_count": 9,
   "metadata": {},
   "outputs": [],
   "source": [
    "import numpy as np  # for array\n",
    "import pandas as pd  # for csv files and dataframe\n",
    "import matplotlib.pyplot as plt  # for plotting\n",
    "import seaborn as sns  # plotting\n",
    "from scipy import stats\n",
    "from category_encoders import hashing as hs\n",
    "import itertools\n",
    "\n",
    "import pickle  # To load data int disk\n",
    "from prettytable import PrettyTable  # To print in tabular format\n",
    "import os\n",
    "\n",
    "import warnings\n",
    "warnings.filterwarnings(\"ignore\")\n",
    "\n",
    "from sklearn.preprocessing import StandardScaler,MinMaxScaler\n",
    "from sklearn.preprocessing import LabelEncoder, OneHotEncoder\n",
    "\n",
    "from sklearn.model_selection import train_test_split\n",
    "from sklearn.linear_model import LogisticRegression, SGDClassifier\n",
    "from sklearn.svm import LinearSVC\n",
    "from sklearn.naive_bayes import MultinomialNB\n",
    "from sklearn.tree import DecisionTreeClassifier\n",
    "from sklearn.ensemble import RandomForestClassifier\n",
    "from sklearn.svm import OneClassSVM\n",
    "from sklearn.ensemble import IsolationForest\n",
    "from sklearn.neighbors import LocalOutlierFactor\n",
    "from sklearn.covariance import EllipticEnvelope\n",
    "import xgboost as xgb\n",
    "\n",
    "from sklearn.metrics import accuracy_score, confusion_matrix, make_scorer, classification_report, plot_roc_curve, plot_precision_recall_curve\n",
    "from sklearn.metrics import auc, f1_score, roc_curve, roc_auc_score, recall_score, precision_score, precision_recall_curve\n",
    "from sklearn.model_selection import GridSearchCV, RandomizedSearchCV\n",
    "from sklearn.model_selection import cross_validate, cross_val_predict\n",
    "\n",
    "%matplotlib inline"
   ]
  },
  {
   "cell_type": "markdown",
   "metadata": {
    "colab_type": "text",
    "id": "YWffoP0FqwE4"
   },
   "source": [
    "# CTU - 13: Feature Engineering"
   ]
  },
  {
   "cell_type": "code",
   "execution_count": 2,
   "metadata": {
    "colab": {},
    "colab_type": "code",
    "id": "NOMATARHRcV5"
   },
   "outputs": [],
   "source": [
    "# Loading data from disk\n",
    "train = pd.read_csv('./train_alldata_EDA.csv')\n"
   ]
  },
  {
   "cell_type": "code",
   "execution_count": 3,
   "metadata": {},
   "outputs": [],
   "source": [
    "test = pd.read_csv('./test_alldata_EDA.csv')"
   ]
  },
  {
   "cell_type": "code",
   "execution_count": 4,
   "metadata": {
    "colab": {},
    "colab_type": "code",
    "id": "fIc3neXESMFG"
   },
   "outputs": [],
   "source": [
    "# Utility function\n",
    "def multi_corr(col1, col2=\"target\", df=train):\n",
    "    '''\n",
    "    This function returns correlation between 2 given features.\n",
    "    Also gives corr of the given features with \"label\" after applying log1p to it.\n",
    "    '''\n",
    "    corr = df[[col1, col2]].corr().iloc[0,1]\n",
    "    log_corr = df[col1].apply(np.log1p).corr(df[col2])\n",
    "\n",
    "    print(\"Correlation : {}\\nlog_Correlation: {}\".format(corr, log_corr))"
   ]
  },
  {
   "cell_type": "code",
   "execution_count": 5,
   "metadata": {
    "colab": {},
    "colab_type": "code",
    "id": "3LJoqWxGSMFK"
   },
   "outputs": [],
   "source": [
    "def corr(col1, col2=\"target\", df=train):\n",
    "    \"\"\"\n",
    "    This function returns correlation between 2 given features\n",
    "    \"\"\"\n",
    "    return df[[col1, col2]].corr().iloc[0,1]"
   ]
  },
  {
   "cell_type": "code",
   "execution_count": 10,
   "metadata": {},
   "outputs": [],
   "source": [
    "def convertToOneClass(y):\n",
    "    if y == 1:\n",
    "        return -1\n",
    "    return 1"
   ]
  },
  {
   "cell_type": "code",
   "execution_count": 7,
   "metadata": {},
   "outputs": [],
   "source": [
    "def plot_confusion_matrix(cm, classes,\n",
    "                          normalize=False,\n",
    "                          title='Confusion matrix',\n",
    "                          cmap=plt.cm.Blues):\n",
    "    \"\"\"\n",
    "    This function prints and plots the confusion matrix.\n",
    "    Normalization can be applied by setting `normalize=True`.\n",
    "    \"\"\"\n",
    "    if normalize:\n",
    "        cm = cm.astype('float') / cm.sum(axis=1, keepdims = True)\n",
    "\n",
    "    plt.imshow(cm, interpolation='nearest', cmap=cmap)\n",
    "    plt.title(title)\n",
    "    plt.colorbar()\n",
    "    tick_marks = np.arange(len(classes))\n",
    "    plt.xticks(tick_marks, classes, rotation=45)\n",
    "    plt.yticks(tick_marks, classes)\n",
    "\n",
    "    fmt = '.2f' if normalize else 'd'\n",
    "    thresh = cm.max() / 2.\n",
    "    for i, j in itertools.product(range(cm.shape[0]), range(cm.shape[1])):\n",
    "        plt.text(j, i, format(cm[i, j], fmt),\n",
    "                 horizontalalignment=\"center\",\n",
    "                 color=\"white\" if cm[i, j] > thresh else \"black\")\n",
    "\n",
    "    plt.tight_layout()\n",
    "    plt.ylabel('True label')\n",
    "    plt.xlabel('Predicted label')\n",
    "\n"
   ]
  },
  {
   "cell_type": "markdown",
   "metadata": {
    "colab_type": "text",
    "id": "2QWyeKKUQsz4"
   },
   "source": [
    "## Removing unnecessary features"
   ]
  },
  {
   "cell_type": "code",
   "execution_count": 8,
   "metadata": {},
   "outputs": [],
   "source": [
    "train.drop(columns='Unnamed: 0', axis=1, inplace=True)\n",
    "test.drop(columns='Unnamed: 0', axis=1, inplace=True)"
   ]
  },
  {
   "cell_type": "code",
   "execution_count": 9,
   "metadata": {
    "colab": {
     "base_uri": "https://localhost:8080/",
     "height": 34
    },
    "colab_type": "code",
    "executionInfo": {
     "elapsed": 742,
     "status": "ok",
     "timestamp": 1598254591696,
     "user": {
      "displayName": "Subrata Maji",
      "photoUrl": "https://lh3.googleusercontent.com/a-/AOh14Ghxu8VIGqB6XL51-t5wM_f1R1LdmEePYHIwb9b-=s64",
      "userId": "03124174213573157612"
     },
     "user_tz": -330
    },
    "id": "BFYbC6urQs0Q",
    "outputId": "9d85f065-04de-4d79-d028-62272a1c9c58"
   },
   "outputs": [
    {
     "data": {
      "text/plain": [
       "((9950992, 16), (4271468, 16))"
      ]
     },
     "execution_count": 9,
     "metadata": {},
     "output_type": "execute_result"
    }
   ],
   "source": [
    "train.shape, test.shape"
   ]
  },
  {
   "cell_type": "code",
   "execution_count": 10,
   "metadata": {},
   "outputs": [
    {
     "data": {
      "text/html": [
       "<div>\n",
       "<style scoped>\n",
       "    .dataframe tbody tr th:only-of-type {\n",
       "        vertical-align: middle;\n",
       "    }\n",
       "\n",
       "    .dataframe tbody tr th {\n",
       "        vertical-align: top;\n",
       "    }\n",
       "\n",
       "    .dataframe thead th {\n",
       "        text-align: right;\n",
       "    }\n",
       "</style>\n",
       "<table border=\"1\" class=\"dataframe\">\n",
       "  <thead>\n",
       "    <tr style=\"text-align: right;\">\n",
       "      <th></th>\n",
       "      <th>starttime</th>\n",
       "      <th>dur</th>\n",
       "      <th>proto</th>\n",
       "      <th>srcaddr</th>\n",
       "      <th>sport</th>\n",
       "      <th>dir</th>\n",
       "      <th>dstaddr</th>\n",
       "      <th>dport</th>\n",
       "      <th>state</th>\n",
       "      <th>stos</th>\n",
       "      <th>dtos</th>\n",
       "      <th>totpkts</th>\n",
       "      <th>totbytes</th>\n",
       "      <th>srcbytes</th>\n",
       "      <th>label</th>\n",
       "      <th>target</th>\n",
       "    </tr>\n",
       "  </thead>\n",
       "  <tbody>\n",
       "    <tr>\n",
       "      <th>0</th>\n",
       "      <td>2011-08-12 22:08:41.277072</td>\n",
       "      <td>0.000000</td>\n",
       "      <td>tcp</td>\n",
       "      <td>74.86.42.203</td>\n",
       "      <td>80</td>\n",
       "      <td>-&gt;</td>\n",
       "      <td>147.32.86.50</td>\n",
       "      <td>3072</td>\n",
       "      <td>SA_</td>\n",
       "      <td>0.0</td>\n",
       "      <td>0.0</td>\n",
       "      <td>1</td>\n",
       "      <td>60</td>\n",
       "      <td>60</td>\n",
       "      <td>flow=Background-TCP-Established</td>\n",
       "      <td>0</td>\n",
       "    </tr>\n",
       "    <tr>\n",
       "      <th>1</th>\n",
       "      <td>2011-08-14 23:11:07.462572</td>\n",
       "      <td>0.003940</td>\n",
       "      <td>udp</td>\n",
       "      <td>67.49.33.55</td>\n",
       "      <td>53622</td>\n",
       "      <td>&lt;-&gt;</td>\n",
       "      <td>147.32.84.229</td>\n",
       "      <td>13363</td>\n",
       "      <td>CON</td>\n",
       "      <td>0.0</td>\n",
       "      <td>0.0</td>\n",
       "      <td>4</td>\n",
       "      <td>2995</td>\n",
       "      <td>60</td>\n",
       "      <td>flow=Background-UDP-Established</td>\n",
       "      <td>0</td>\n",
       "    </tr>\n",
       "    <tr>\n",
       "      <th>2</th>\n",
       "      <td>2011-08-15 14:02:41.946307</td>\n",
       "      <td>0.000289</td>\n",
       "      <td>udp</td>\n",
       "      <td>147.32.86.171</td>\n",
       "      <td>56559</td>\n",
       "      <td>&lt;-&gt;</td>\n",
       "      <td>147.32.80.9</td>\n",
       "      <td>53</td>\n",
       "      <td>CON</td>\n",
       "      <td>0.0</td>\n",
       "      <td>0.0</td>\n",
       "      <td>2</td>\n",
       "      <td>392</td>\n",
       "      <td>77</td>\n",
       "      <td>flow=To-Background-UDP-CVUT-DNS-Server</td>\n",
       "      <td>0</td>\n",
       "    </tr>\n",
       "    <tr>\n",
       "      <th>3</th>\n",
       "      <td>2011-08-16 08:46:24.544795</td>\n",
       "      <td>1336.481934</td>\n",
       "      <td>udp</td>\n",
       "      <td>77.87.33.112</td>\n",
       "      <td>35057</td>\n",
       "      <td>&lt;-&gt;</td>\n",
       "      <td>147.32.84.229</td>\n",
       "      <td>13363</td>\n",
       "      <td>CON</td>\n",
       "      <td>0.0</td>\n",
       "      <td>0.0</td>\n",
       "      <td>4</td>\n",
       "      <td>1138</td>\n",
       "      <td>150</td>\n",
       "      <td>flow=Background-UDP-Established</td>\n",
       "      <td>0</td>\n",
       "    </tr>\n",
       "    <tr>\n",
       "      <th>4</th>\n",
       "      <td>2011-08-18 10:41:28.980563</td>\n",
       "      <td>0.984197</td>\n",
       "      <td>tcp</td>\n",
       "      <td>84.122.159.122</td>\n",
       "      <td>1958</td>\n",
       "      <td>-&gt;</td>\n",
       "      <td>147.32.84.118</td>\n",
       "      <td>6881</td>\n",
       "      <td>S_RA</td>\n",
       "      <td>0.0</td>\n",
       "      <td>0.0</td>\n",
       "      <td>6</td>\n",
       "      <td>366</td>\n",
       "      <td>186</td>\n",
       "      <td>flow=Background-TCP-Attempt</td>\n",
       "      <td>0</td>\n",
       "    </tr>\n",
       "    <tr>\n",
       "      <th>...</th>\n",
       "      <td>...</td>\n",
       "      <td>...</td>\n",
       "      <td>...</td>\n",
       "      <td>...</td>\n",
       "      <td>...</td>\n",
       "      <td>...</td>\n",
       "      <td>...</td>\n",
       "      <td>...</td>\n",
       "      <td>...</td>\n",
       "      <td>...</td>\n",
       "      <td>...</td>\n",
       "      <td>...</td>\n",
       "      <td>...</td>\n",
       "      <td>...</td>\n",
       "      <td>...</td>\n",
       "      <td>...</td>\n",
       "    </tr>\n",
       "    <tr>\n",
       "      <th>9950987</th>\n",
       "      <td>2011-08-15 01:55:47.339228</td>\n",
       "      <td>0.000598</td>\n",
       "      <td>udp</td>\n",
       "      <td>74.65.181.205</td>\n",
       "      <td>42064</td>\n",
       "      <td>&lt;-&gt;</td>\n",
       "      <td>147.32.84.229</td>\n",
       "      <td>13363</td>\n",
       "      <td>CON</td>\n",
       "      <td>0.0</td>\n",
       "      <td>0.0</td>\n",
       "      <td>2</td>\n",
       "      <td>552</td>\n",
       "      <td>75</td>\n",
       "      <td>flow=Background-UDP-Established</td>\n",
       "      <td>0</td>\n",
       "    </tr>\n",
       "    <tr>\n",
       "      <th>9950988</th>\n",
       "      <td>2011-08-16 04:08:02.954859</td>\n",
       "      <td>0.000469</td>\n",
       "      <td>udp</td>\n",
       "      <td>147.32.86.20</td>\n",
       "      <td>53758</td>\n",
       "      <td>&lt;-&gt;</td>\n",
       "      <td>147.32.80.9</td>\n",
       "      <td>53</td>\n",
       "      <td>CON</td>\n",
       "      <td>0.0</td>\n",
       "      <td>0.0</td>\n",
       "      <td>2</td>\n",
       "      <td>239</td>\n",
       "      <td>79</td>\n",
       "      <td>flow=To-Background-UDP-CVUT-DNS-Server</td>\n",
       "      <td>0</td>\n",
       "    </tr>\n",
       "    <tr>\n",
       "      <th>9950989</th>\n",
       "      <td>2011-08-12 23:48:40.386105</td>\n",
       "      <td>0.000147</td>\n",
       "      <td>tcp</td>\n",
       "      <td>157.55.185.43</td>\n",
       "      <td>61000</td>\n",
       "      <td>-&gt;</td>\n",
       "      <td>147.32.85.100</td>\n",
       "      <td>41598</td>\n",
       "      <td>S_RA</td>\n",
       "      <td>0.0</td>\n",
       "      <td>0.0</td>\n",
       "      <td>2</td>\n",
       "      <td>126</td>\n",
       "      <td>66</td>\n",
       "      <td>flow=Background-TCP-Attempt</td>\n",
       "      <td>0</td>\n",
       "    </tr>\n",
       "    <tr>\n",
       "      <th>9950990</th>\n",
       "      <td>2011-08-17 13:07:44.185185</td>\n",
       "      <td>0.000253</td>\n",
       "      <td>udp</td>\n",
       "      <td>147.32.84.138</td>\n",
       "      <td>40794</td>\n",
       "      <td>&lt;-&gt;</td>\n",
       "      <td>147.32.80.9</td>\n",
       "      <td>53</td>\n",
       "      <td>CON</td>\n",
       "      <td>0.0</td>\n",
       "      <td>0.0</td>\n",
       "      <td>2</td>\n",
       "      <td>214</td>\n",
       "      <td>81</td>\n",
       "      <td>flow=To-Background-UDP-CVUT-DNS-Server</td>\n",
       "      <td>0</td>\n",
       "    </tr>\n",
       "    <tr>\n",
       "      <th>9950991</th>\n",
       "      <td>2011-08-17 12:44:26.140660</td>\n",
       "      <td>0.000799</td>\n",
       "      <td>udp</td>\n",
       "      <td>212.95.7.28</td>\n",
       "      <td>20374</td>\n",
       "      <td>&lt;-&gt;</td>\n",
       "      <td>147.32.84.229</td>\n",
       "      <td>13363</td>\n",
       "      <td>CON</td>\n",
       "      <td>0.0</td>\n",
       "      <td>0.0</td>\n",
       "      <td>2</td>\n",
       "      <td>264</td>\n",
       "      <td>179</td>\n",
       "      <td>flow=Background-UDP-Established</td>\n",
       "      <td>0</td>\n",
       "    </tr>\n",
       "  </tbody>\n",
       "</table>\n",
       "<p>9950992 rows × 16 columns</p>\n",
       "</div>"
      ],
      "text/plain": [
       "                          starttime          dur proto         srcaddr  sport  \\\n",
       "0        2011-08-12 22:08:41.277072     0.000000   tcp    74.86.42.203     80   \n",
       "1        2011-08-14 23:11:07.462572     0.003940   udp     67.49.33.55  53622   \n",
       "2        2011-08-15 14:02:41.946307     0.000289   udp   147.32.86.171  56559   \n",
       "3        2011-08-16 08:46:24.544795  1336.481934   udp    77.87.33.112  35057   \n",
       "4        2011-08-18 10:41:28.980563     0.984197   tcp  84.122.159.122   1958   \n",
       "...                             ...          ...   ...             ...    ...   \n",
       "9950987  2011-08-15 01:55:47.339228     0.000598   udp   74.65.181.205  42064   \n",
       "9950988  2011-08-16 04:08:02.954859     0.000469   udp    147.32.86.20  53758   \n",
       "9950989  2011-08-12 23:48:40.386105     0.000147   tcp   157.55.185.43  61000   \n",
       "9950990  2011-08-17 13:07:44.185185     0.000253   udp   147.32.84.138  40794   \n",
       "9950991  2011-08-17 12:44:26.140660     0.000799   udp     212.95.7.28  20374   \n",
       "\n",
       "           dir        dstaddr  dport state  stos  dtos  totpkts  totbytes  \\\n",
       "0           ->   147.32.86.50   3072   SA_   0.0   0.0        1        60   \n",
       "1          <->  147.32.84.229  13363   CON   0.0   0.0        4      2995   \n",
       "2          <->    147.32.80.9     53   CON   0.0   0.0        2       392   \n",
       "3          <->  147.32.84.229  13363   CON   0.0   0.0        4      1138   \n",
       "4           ->  147.32.84.118   6881  S_RA   0.0   0.0        6       366   \n",
       "...        ...            ...    ...   ...   ...   ...      ...       ...   \n",
       "9950987    <->  147.32.84.229  13363   CON   0.0   0.0        2       552   \n",
       "9950988    <->    147.32.80.9     53   CON   0.0   0.0        2       239   \n",
       "9950989     ->  147.32.85.100  41598  S_RA   0.0   0.0        2       126   \n",
       "9950990    <->    147.32.80.9     53   CON   0.0   0.0        2       214   \n",
       "9950991    <->  147.32.84.229  13363   CON   0.0   0.0        2       264   \n",
       "\n",
       "         srcbytes                                   label  target  \n",
       "0              60         flow=Background-TCP-Established       0  \n",
       "1              60         flow=Background-UDP-Established       0  \n",
       "2              77  flow=To-Background-UDP-CVUT-DNS-Server       0  \n",
       "3             150         flow=Background-UDP-Established       0  \n",
       "4             186             flow=Background-TCP-Attempt       0  \n",
       "...           ...                                     ...     ...  \n",
       "9950987        75         flow=Background-UDP-Established       0  \n",
       "9950988        79  flow=To-Background-UDP-CVUT-DNS-Server       0  \n",
       "9950989        66             flow=Background-TCP-Attempt       0  \n",
       "9950990        81  flow=To-Background-UDP-CVUT-DNS-Server       0  \n",
       "9950991       179         flow=Background-UDP-Established       0  \n",
       "\n",
       "[9950992 rows x 16 columns]"
      ]
     },
     "execution_count": 10,
     "metadata": {},
     "output_type": "execute_result"
    }
   ],
   "source": [
    "train"
   ]
  },
  {
   "cell_type": "markdown",
   "metadata": {
    "colab_type": "text",
    "id": "6oqmHrbOrB16"
   },
   "source": [
    "Refer: https://www.elastic.co/guide/en/ecs/master/ecs-network.html\n",
    "* Network bytes: Total bytes trasferred by the network. It is sum of 'sbytes' (Source to destination bytes) and 'dbytes' (Destination to source bytes)."
   ]
  },
  {
   "cell_type": "code",
   "execution_count": 11,
   "metadata": {},
   "outputs": [],
   "source": [
    "saved_dict = {}"
   ]
  },
  {
   "cell_type": "code",
   "execution_count": 12,
   "metadata": {},
   "outputs": [
    {
     "data": {
      "text/plain": [
       "Index(['starttime', 'dur', 'proto', 'srcaddr', 'sport', 'dir', 'dstaddr',\n",
       "       'dport', 'state', 'stos', 'dtos', 'totpkts', 'totbytes', 'srcbytes',\n",
       "       'label', 'target'],\n",
       "      dtype='object')"
      ]
     },
     "execution_count": 12,
     "metadata": {},
     "output_type": "execute_result"
    }
   ],
   "source": [
    "train.columns"
   ]
  },
  {
   "cell_type": "code",
   "execution_count": 13,
   "metadata": {},
   "outputs": [],
   "source": [
    "starttime = train['starttime']\n",
    "srcaddr = train['srcaddr']\n",
    "dstaddr = train['dstaddr']\n",
    "state = train['state']"
   ]
  },
  {
   "cell_type": "code",
   "execution_count": 14,
   "metadata": {
    "colab": {},
    "colab_type": "code",
    "id": "0Bht_lnc2S62"
   },
   "outputs": [],
   "source": [
    "# Dropping columns which are not useful for the classification\n",
    "# label is for binary classification\n",
    "# all the other columns are address related and not present in sample train data\n",
    "train.drop(['starttime', 'srcaddr', 'dstaddr', 'state'], axis=1, inplace=True)"
   ]
  },
  {
   "cell_type": "code",
   "execution_count": 15,
   "metadata": {
    "colab": {},
    "colab_type": "code",
    "id": "qKmGyfTs_rrw"
   },
   "outputs": [],
   "source": [
    "# To use during test data transformation\n",
    "saved_dict['to_drop'] = ['starttime', 'srcaddr', 'dstaddr', 'state']"
   ]
  },
  {
   "cell_type": "code",
   "execution_count": 16,
   "metadata": {
    "colab": {
     "base_uri": "https://localhost:8080/",
     "height": 34
    },
    "colab_type": "code",
    "executionInfo": {
     "elapsed": 1665,
     "status": "ok",
     "timestamp": 1598254605266,
     "user": {
      "displayName": "Subrata Maji",
      "photoUrl": "https://lh3.googleusercontent.com/a-/AOh14Ghxu8VIGqB6XL51-t5wM_f1R1LdmEePYHIwb9b-=s64",
      "userId": "03124174213573157612"
     },
     "user_tz": -330
    },
    "id": "1MN4vE9aQT_V",
    "outputId": "e8112a4e-173d-4862-da60-137b420bcf95"
   },
   "outputs": [
    {
     "data": {
      "text/plain": [
       "((9950992, 12), (4271468, 16))"
      ]
     },
     "execution_count": 16,
     "metadata": {},
     "output_type": "execute_result"
    }
   ],
   "source": [
    "train.shape, test.shape"
   ]
  },
  {
   "cell_type": "code",
   "execution_count": 17,
   "metadata": {
    "colab": {},
    "colab_type": "code",
    "id": "ibWUIhAU_8Em"
   },
   "outputs": [],
   "source": [
    "# mode values of every features, will use to fill Null values of test\n",
    "mode_dict = train.mode().iloc[0].to_dict()"
   ]
  },
  {
   "cell_type": "code",
   "execution_count": 18,
   "metadata": {},
   "outputs": [
    {
     "data": {
      "text/plain": [
       "{'dur': 0.0,\n",
       " 'proto': 'udp',\n",
       " 'sport': '13363',\n",
       " 'dir': '  <->',\n",
       " 'dport': '53',\n",
       " 'stos': 0.0,\n",
       " 'dtos': 0.0,\n",
       " 'totpkts': 2,\n",
       " 'totbytes': 214,\n",
       " 'srcbytes': 81,\n",
       " 'label': 'flow=To-Background-UDP-CVUT-DNS-Server',\n",
       " 'target': 0}"
      ]
     },
     "execution_count": 18,
     "metadata": {},
     "output_type": "execute_result"
    }
   ],
   "source": [
    "mode_dict"
   ]
  },
  {
   "cell_type": "code",
   "execution_count": 19,
   "metadata": {},
   "outputs": [],
   "source": [
    "saved_dict['moded_featute'] = mode_dict"
   ]
  },
  {
   "cell_type": "code",
   "execution_count": 20,
   "metadata": {},
   "outputs": [
    {
     "data": {
      "text/plain": [
       "{'to_drop': ['starttime', 'srcaddr', 'dstaddr', 'state'],\n",
       " 'moded_featute': {'dur': 0.0,\n",
       "  'proto': 'udp',\n",
       "  'sport': '13363',\n",
       "  'dir': '  <->',\n",
       "  'dport': '53',\n",
       "  'stos': 0.0,\n",
       "  'dtos': 0.0,\n",
       "  'totpkts': 2,\n",
       "  'totbytes': 214,\n",
       "  'srcbytes': 81,\n",
       "  'label': 'flow=To-Background-UDP-CVUT-DNS-Server',\n",
       "  'target': 0}}"
      ]
     },
     "execution_count": 20,
     "metadata": {},
     "output_type": "execute_result"
    }
   ],
   "source": [
    "saved_dict"
   ]
  },
  {
   "cell_type": "code",
   "execution_count": 21,
   "metadata": {
    "colab": {},
    "colab_type": "code",
    "id": "5YvVxlBS6Anw"
   },
   "outputs": [],
   "source": [
    "# creating x and y set from the dataset\n",
    "x_train, y_train, y_train_label = train.drop(columns=['label', 'target']), train['target'], train['label']\n",
    "# x_test, y_test, y_test_label = test.drop(columns=['label', 'target']), test['target'], test['label']"
   ]
  },
  {
   "cell_type": "code",
   "execution_count": 22,
   "metadata": {
    "colab": {
     "base_uri": "https://localhost:8080/",
     "height": 68
    },
    "colab_type": "code",
    "executionInfo": {
     "elapsed": 996,
     "status": "ok",
     "timestamp": 1598252886305,
     "user": {
      "displayName": "Subrata Maji",
      "photoUrl": "https://lh3.googleusercontent.com/a-/AOh14Ghxu8VIGqB6XL51-t5wM_f1R1LdmEePYHIwb9b-=s64",
      "userId": "03124174213573157612"
     },
     "user_tz": -330
    },
    "id": "_rcY9ebK6USH",
    "outputId": "57848477-e19f-411a-fd58-83a1820d4724"
   },
   "outputs": [
    {
     "name": "stdout",
     "output_type": "stream",
     "text": [
      "(9950992, 10) (9950992,) (9950992,)\n",
      "\n"
     ]
    }
   ],
   "source": [
    "print(x_train.shape, y_train.shape, y_train_label.shape)\n",
    "print()\n",
    "# print(x_test.shape, y_test.shape, y_test_label.shape)"
   ]
  },
  {
   "cell_type": "code",
   "execution_count": 23,
   "metadata": {
    "colab": {},
    "colab_type": "code",
    "id": "wFEVBjtU72ad"
   },
   "outputs": [],
   "source": [
    "# Saving all the files to disk to use later\n",
    "pickle.dump((x_train, y_train, y_train_label), open('./final_train.pkl', 'wb'))\n",
    "# pickle.dump((x_test, y_test, y_test_label), open('./final_test.pkl', 'wb'))"
   ]
  },
  {
   "cell_type": "code",
   "execution_count": 24,
   "metadata": {
    "colab": {},
    "colab_type": "code",
    "id": "vXxUr-le6YNY"
   },
   "outputs": [],
   "source": [
    "# getting categorical and numerical columns in 2 diff lists\n",
    "num_col = [ 'dur', 'sport', 'dport', 'totpkts', 'totbytes', 'srcbytes']\n",
    "cat_col = list(set(x_train.columns) - set(num_col))"
   ]
  },
  {
   "cell_type": "code",
   "execution_count": 25,
   "metadata": {
    "colab": {},
    "colab_type": "code",
    "id": "rvGoI5IMAO1N"
   },
   "outputs": [],
   "source": [
    "# To use later, during test data cleaning\n",
    "saved_dict['cat_col'] = cat_col\n",
    "saved_dict['num_col'] = num_col"
   ]
  },
  {
   "cell_type": "code",
   "execution_count": 26,
   "metadata": {},
   "outputs": [
    {
     "data": {
      "text/plain": [
       "{'to_drop': ['starttime', 'srcaddr', 'dstaddr', 'state'],\n",
       " 'moded_featute': {'dur': 0.0,\n",
       "  'proto': 'udp',\n",
       "  'sport': '13363',\n",
       "  'dir': '  <->',\n",
       "  'dport': '53',\n",
       "  'stos': 0.0,\n",
       "  'dtos': 0.0,\n",
       "  'totpkts': 2,\n",
       "  'totbytes': 214,\n",
       "  'srcbytes': 81,\n",
       "  'label': 'flow=To-Background-UDP-CVUT-DNS-Server',\n",
       "  'target': 0},\n",
       " 'cat_col': ['proto', 'dtos', 'dir', 'stos'],\n",
       " 'num_col': ['dur', 'sport', 'dport', 'totpkts', 'totbytes', 'srcbytes']}"
      ]
     },
     "execution_count": 26,
     "metadata": {},
     "output_type": "execute_result"
    }
   ],
   "source": [
    "saved_dict"
   ]
  },
  {
   "cell_type": "code",
   "execution_count": 27,
   "metadata": {},
   "outputs": [],
   "source": [
    "def is_hex(s):\n",
    "    try:\n",
    "        int(s, 16)\n",
    "        return True\n",
    "    except ValueError:\n",
    "        return False\n",
    "\n",
    "def convertHexInSport(port):\n",
    "    if str(int(port, 16)) != port:\n",
    "        return int(port, 16)\n",
    "\n",
    "    return int(port)\n",
    "\n",
    "\n"
   ]
  },
  {
   "cell_type": "code",
   "execution_count": 28,
   "metadata": {},
   "outputs": [],
   "source": [
    "x_train['sport'] = x_train['sport'].apply(convertHexInSport)\n",
    "x_train['dport'] = x_train['dport'].apply(convertHexInSport)"
   ]
  },
  {
   "cell_type": "code",
   "execution_count": null,
   "metadata": {},
   "outputs": [],
   "source": []
  },
  {
   "cell_type": "markdown",
   "metadata": {
    "colab_type": "text",
    "id": "OPugBJCJ4M2t"
   },
   "source": [
    "## Standardizing\n",
    "    \n",
    "As we have seen that the range of few features in this dataset is very large. So we will keep everything within certain range by applying standardscaler. After this all the features will have mean 0 and std 1"
   ]
  },
  {
   "cell_type": "code",
   "execution_count": 29,
   "metadata": {
    "colab": {},
    "colab_type": "code",
    "id": "zahQPu3dAZyJ"
   },
   "outputs": [],
   "source": [
    "# Standardizing the data\n",
    "scaler = MinMaxScaler()\n",
    "scaler = scaler.fit(x_train[num_col])"
   ]
  },
  {
   "cell_type": "code",
   "execution_count": 30,
   "metadata": {
    "colab": {},
    "colab_type": "code",
    "id": "0ERzXoVGAhNY"
   },
   "outputs": [],
   "source": [
    "x_train[num_col] = scaler.transform(x_train[num_col])"
   ]
  },
  {
   "cell_type": "code",
   "execution_count": 31,
   "metadata": {
    "colab": {
     "base_uri": "https://localhost:8080/",
     "height": 224
    },
    "colab_type": "code",
    "executionInfo": {
     "elapsed": 1325,
     "status": "ok",
     "timestamp": 1598254679362,
     "user": {
      "displayName": "Subrata Maji",
      "photoUrl": "https://lh3.googleusercontent.com/a-/AOh14Ghxu8VIGqB6XL51-t5wM_f1R1LdmEePYHIwb9b-=s64",
      "userId": "03124174213573157612"
     },
     "user_tz": -330
    },
    "id": "bqrHkb0H7OXm",
    "outputId": "e14875d6-0293-4a88-bbe4-2c7b51db78f5"
   },
   "outputs": [
    {
     "data": {
      "text/html": [
       "<div>\n",
       "<style scoped>\n",
       "    .dataframe tbody tr th:only-of-type {\n",
       "        vertical-align: middle;\n",
       "    }\n",
       "\n",
       "    .dataframe tbody tr th {\n",
       "        vertical-align: top;\n",
       "    }\n",
       "\n",
       "    .dataframe thead th {\n",
       "        text-align: right;\n",
       "    }\n",
       "</style>\n",
       "<table border=\"1\" class=\"dataframe\">\n",
       "  <thead>\n",
       "    <tr style=\"text-align: right;\">\n",
       "      <th></th>\n",
       "      <th>dur</th>\n",
       "      <th>proto</th>\n",
       "      <th>sport</th>\n",
       "      <th>dir</th>\n",
       "      <th>dport</th>\n",
       "      <th>stos</th>\n",
       "      <th>dtos</th>\n",
       "      <th>totpkts</th>\n",
       "      <th>totbytes</th>\n",
       "      <th>srcbytes</th>\n",
       "    </tr>\n",
       "  </thead>\n",
       "  <tbody>\n",
       "    <tr>\n",
       "      <th>0</th>\n",
       "      <td>0.000000e+00</td>\n",
       "      <td>tcp</td>\n",
       "      <td>0.000306</td>\n",
       "      <td>-&gt;</td>\n",
       "      <td>2.300602e-05</td>\n",
       "      <td>0.0</td>\n",
       "      <td>0.0</td>\n",
       "      <td>0.000000e+00</td>\n",
       "      <td>0.000000e+00</td>\n",
       "      <td>1.752639e-08</td>\n",
       "    </tr>\n",
       "    <tr>\n",
       "      <th>1</th>\n",
       "      <td>1.077368e-06</td>\n",
       "      <td>udp</td>\n",
       "      <td>0.822925</td>\n",
       "      <td>&lt;-&gt;</td>\n",
       "      <td>1.459837e-04</td>\n",
       "      <td>0.0</td>\n",
       "      <td>0.0</td>\n",
       "      <td>7.810340e-07</td>\n",
       "      <td>8.314675e-07</td>\n",
       "      <td>1.752639e-08</td>\n",
       "    </tr>\n",
       "    <tr>\n",
       "      <th>2</th>\n",
       "      <td>7.902520e-08</td>\n",
       "      <td>udp</td>\n",
       "      <td>0.852049</td>\n",
       "      <td>&lt;-&gt;</td>\n",
       "      <td>1.521243e-07</td>\n",
       "      <td>0.0</td>\n",
       "      <td>0.0</td>\n",
       "      <td>2.603447e-07</td>\n",
       "      <td>9.405356e-08</td>\n",
       "      <td>2.249221e-08</td>\n",
       "    </tr>\n",
       "    <tr>\n",
       "      <th>3</th>\n",
       "      <td>3.654524e-01</td>\n",
       "      <td>udp</td>\n",
       "      <td>0.523276</td>\n",
       "      <td>&lt;-&gt;</td>\n",
       "      <td>1.459837e-04</td>\n",
       "      <td>0.0</td>\n",
       "      <td>0.0</td>\n",
       "      <td>7.810340e-07</td>\n",
       "      <td>3.053908e-07</td>\n",
       "      <td>4.381598e-08</td>\n",
       "    </tr>\n",
       "    <tr>\n",
       "      <th>4</th>\n",
       "      <td>2.691224e-04</td>\n",
       "      <td>tcp</td>\n",
       "      <td>0.015630</td>\n",
       "      <td>-&gt;</td>\n",
       "      <td>4.962964e-05</td>\n",
       "      <td>0.0</td>\n",
       "      <td>0.0</td>\n",
       "      <td>1.301723e-06</td>\n",
       "      <td>8.668792e-08</td>\n",
       "      <td>5.433182e-08</td>\n",
       "    </tr>\n",
       "  </tbody>\n",
       "</table>\n",
       "</div>"
      ],
      "text/plain": [
       "            dur proto     sport    dir         dport  stos  dtos  \\\n",
       "0  0.000000e+00   tcp  0.000306     ->  2.300602e-05   0.0   0.0   \n",
       "1  1.077368e-06   udp  0.822925    <->  1.459837e-04   0.0   0.0   \n",
       "2  7.902520e-08   udp  0.852049    <->  1.521243e-07   0.0   0.0   \n",
       "3  3.654524e-01   udp  0.523276    <->  1.459837e-04   0.0   0.0   \n",
       "4  2.691224e-04   tcp  0.015630     ->  4.962964e-05   0.0   0.0   \n",
       "\n",
       "        totpkts      totbytes      srcbytes  \n",
       "0  0.000000e+00  0.000000e+00  1.752639e-08  \n",
       "1  7.810340e-07  8.314675e-07  1.752639e-08  \n",
       "2  2.603447e-07  9.405356e-08  2.249221e-08  \n",
       "3  7.810340e-07  3.053908e-07  4.381598e-08  \n",
       "4  1.301723e-06  8.668792e-08  5.433182e-08  "
      ]
     },
     "execution_count": 31,
     "metadata": {},
     "output_type": "execute_result"
    }
   ],
   "source": [
    "x_train.head()"
   ]
  },
  {
   "cell_type": "code",
   "execution_count": 32,
   "metadata": {},
   "outputs": [
    {
     "data": {
      "text/plain": [
       "array([ 0.00000000e+00, -2.40947599e-06, -1.85517487e-09, -2.60344665e-07,\n",
       "       -1.69976311e-08,  0.00000000e+00])"
      ]
     },
     "execution_count": 32,
     "metadata": {},
     "output_type": "execute_result"
    }
   ],
   "source": [
    "scaler.min_"
   ]
  },
  {
   "cell_type": "code",
   "execution_count": 33,
   "metadata": {},
   "outputs": [
    {
     "data": {
      "text/plain": [
       "array([2.73443600e-04, 2.40947599e-06, 1.85517487e-09, 2.60344665e-07,\n",
       "       2.83293851e-10, 2.92106565e-10])"
      ]
     },
     "execution_count": 33,
     "metadata": {},
     "output_type": "execute_result"
    }
   ],
   "source": [
    "scaler.scale_"
   ]
  },
  {
   "cell_type": "markdown",
   "metadata": {
    "colab_type": "text",
    "id": "-9sQ48qZ4ktf"
   },
   "source": [
    "## Encoding categorical features \n",
    "\n",
    "#### Refer: https://towardsdatascience.com/a-data-scientists-toolkit-to-encode-categorical-variables-to-numeric-d17ad9fae03f\n",
    "In our dataset we have few categorical columns with text data.\n",
    "But ML models can't process text data it can process numbers.\n",
    "\n",
    "So we have to convert categorical columns to numerical columns in some way.\n",
    "\n",
    "We will use onehotencoder where we will assign 1 if the value is present for the row and rest of the columns will be 0.\n",
    "We will use RU transform"
   ]
  },
  {
   "cell_type": "markdown",
   "metadata": {},
   "source": [
    "# Using onehot encoding"
   ]
  },
  {
   "cell_type": "code",
   "execution_count": null,
   "metadata": {},
   "outputs": [],
   "source": []
  },
  {
   "cell_type": "code",
   "execution_count": 34,
   "metadata": {
    "colab": {},
    "colab_type": "code",
    "id": "Esez2EkUlZ3o"
   },
   "outputs": [],
   "source": [
    "# Onehot Encoding and Hashing Encoding\n",
    "\n",
    "stos_ = OneHotEncoder()\n",
    "dtos_ = OneHotEncoder()\n",
    "dir_ = OneHotEncoder()\n",
    "proto_ = OneHotEncoder()\n",
    "\n",
    "\n",
    "\n",
    "ohe_stos = stos_.fit(x_train.stos.values.reshape(-1,1))\n",
    "ohe_dtos = dtos_.fit(x_train.dtos.values.reshape(-1,1))\n",
    "ohe_dir = dir_.fit(x_train.dir.values.reshape(-1,1))\n",
    "ohe_proto = proto_.fit(x_train.proto.values.reshape(-1,1))\n"
   ]
  },
  {
   "cell_type": "code",
   "execution_count": 35,
   "metadata": {
    "colab": {},
    "colab_type": "code",
    "id": "GUc8MixOBcb_"
   },
   "outputs": [],
   "source": [
    "# We are onehot/hasing encoding the given column\n",
    "# Remove the original categorical column\n",
    "for col, encoding in zip(['stos', 'dtos', 'dir', 'proto'], [ohe_stos, ohe_dtos, ohe_dir, ohe_proto]):\n",
    "    x = encoding.transform(x_train[col].values.reshape(-1,1))\n",
    "    tmp_df = pd.DataFrame(x.toarray(), dtype='int64', columns=[col+'_'+str(i) for i in encoding.categories_[0]])\n",
    "    x_train = pd.concat([x_train.drop(col, axis=1), tmp_df], axis=1)"
   ]
  },
  {
   "cell_type": "code",
   "execution_count": 36,
   "metadata": {},
   "outputs": [
    {
     "data": {
      "text/plain": [
       "(9950992, 39)"
      ]
     },
     "execution_count": 36,
     "metadata": {},
     "output_type": "execute_result"
    }
   ],
   "source": [
    "x_train.shape"
   ]
  },
  {
   "cell_type": "markdown",
   "metadata": {
    "colab_type": "text",
    "id": "HB0cKgK1cISu"
   },
   "source": [
    "Saving all the important parameters and objects to disk so that we can apply same process on test data"
   ]
  },
  {
   "cell_type": "code",
   "execution_count": 37,
   "metadata": {
    "colab": {},
    "colab_type": "code",
    "id": "d1joGxiQVUPT"
   },
   "outputs": [],
   "source": [
    "file_path = './final/'"
   ]
  },
  {
   "cell_type": "code",
   "execution_count": 38,
   "metadata": {
    "colab": {},
    "colab_type": "code",
    "id": "b_FpdYpQErot"
   },
   "outputs": [],
   "source": [
    "pickle.dump(scaler, open(file_path+'scaler.pkl', 'wb'))  # Standard scaler\n",
    "pickle.dump(saved_dict, open(file_path+'saved_dict.pkl', 'wb'))  # Dictionary with important parameters\n",
    "pickle.dump(mode_dict, open(file_path+'mode_dict.pkl', 'wb'))  #  Dictionary with most frequent values of columns"
   ]
  },
  {
   "cell_type": "code",
   "execution_count": 39,
   "metadata": {
    "colab": {},
    "colab_type": "code",
    "id": "T_Z5UekVFksJ"
   },
   "outputs": [],
   "source": [
    "# Onehot encoder for categorical columns\n",
    "pickle.dump(ohe_proto, open(file_path+'ohe_proto.pkl', 'wb'))\n",
    "pickle.dump(ohe_dir, open(file_path+'ohe_dir.pkl', 'wb'))\n",
    "pickle.dump(ohe_stos, open(file_path+'ohe_stos.pkl', 'wb'))\n",
    "pickle.dump(ohe_dtos, open(file_path+'ohe_dtos.pkl', 'wb'))"
   ]
  },
  {
   "cell_type": "code",
   "execution_count": 40,
   "metadata": {
    "colab": {},
    "colab_type": "code",
    "id": "B_-6QrZdGtEK"
   },
   "outputs": [],
   "source": [
    "# Cleaned and processed train data\n",
    "pickle.dump((x_train, y_train, y_train_label), open(file_path+'final_train.pkl', 'wb'))"
   ]
  },
  {
   "cell_type": "markdown",
   "metadata": {},
   "source": [
    "# PipeLine"
   ]
  },
  {
   "cell_type": "markdown",
   "metadata": {
    "colab_type": "text",
    "id": "3GAn5_uXJTEd"
   },
   "source": [
    "We have to prepare a pipeline, where we can send raw data and get the output.\n",
    "\n",
    "We will use test data to implement the pipeline. Here we will use all the parameters we have saved using train data.\n",
    "\n",
    "Also standardize and onehot encode test data using train data objects for standardscaler and onehotencoder."
   ]
  },
  {
   "cell_type": "code",
   "execution_count": 41,
   "metadata": {},
   "outputs": [
    {
     "data": {
      "text/html": [
       "<div>\n",
       "<style scoped>\n",
       "    .dataframe tbody tr th:only-of-type {\n",
       "        vertical-align: middle;\n",
       "    }\n",
       "\n",
       "    .dataframe tbody tr th {\n",
       "        vertical-align: top;\n",
       "    }\n",
       "\n",
       "    .dataframe thead th {\n",
       "        text-align: right;\n",
       "    }\n",
       "</style>\n",
       "<table border=\"1\" class=\"dataframe\">\n",
       "  <thead>\n",
       "    <tr style=\"text-align: right;\">\n",
       "      <th></th>\n",
       "      <th>starttime</th>\n",
       "      <th>dur</th>\n",
       "      <th>proto</th>\n",
       "      <th>srcaddr</th>\n",
       "      <th>sport</th>\n",
       "      <th>dir</th>\n",
       "      <th>dstaddr</th>\n",
       "      <th>dport</th>\n",
       "      <th>state</th>\n",
       "      <th>stos</th>\n",
       "      <th>dtos</th>\n",
       "      <th>totpkts</th>\n",
       "      <th>totbytes</th>\n",
       "      <th>srcbytes</th>\n",
       "      <th>label</th>\n",
       "      <th>target</th>\n",
       "    </tr>\n",
       "  </thead>\n",
       "  <tbody>\n",
       "    <tr>\n",
       "      <th>0</th>\n",
       "      <td>2011-08-16 18:52:53.503136</td>\n",
       "      <td>1922.225708</td>\n",
       "      <td>udp</td>\n",
       "      <td>147.32.84.94</td>\n",
       "      <td>7103</td>\n",
       "      <td>-&gt;</td>\n",
       "      <td>79.212.81.149</td>\n",
       "      <td>7168</td>\n",
       "      <td>INT</td>\n",
       "      <td>0.0</td>\n",
       "      <td>NaN</td>\n",
       "      <td>8</td>\n",
       "      <td>672</td>\n",
       "      <td>672</td>\n",
       "      <td>flow=Background-UDP-Attempt</td>\n",
       "      <td>0</td>\n",
       "    </tr>\n",
       "    <tr>\n",
       "      <th>1</th>\n",
       "      <td>2011-08-16 15:20:40.858776</td>\n",
       "      <td>0.000676</td>\n",
       "      <td>udp</td>\n",
       "      <td>92.6.165.241</td>\n",
       "      <td>51704</td>\n",
       "      <td>&lt;-&gt;</td>\n",
       "      <td>147.32.84.229</td>\n",
       "      <td>13363</td>\n",
       "      <td>CON</td>\n",
       "      <td>0.0</td>\n",
       "      <td>0.0</td>\n",
       "      <td>2</td>\n",
       "      <td>134</td>\n",
       "      <td>74</td>\n",
       "      <td>flow=Background-UDP-Established</td>\n",
       "      <td>0</td>\n",
       "    </tr>\n",
       "    <tr>\n",
       "      <th>2</th>\n",
       "      <td>2011-08-16 04:25:06.617213</td>\n",
       "      <td>0.000114</td>\n",
       "      <td>udp</td>\n",
       "      <td>147.32.84.138</td>\n",
       "      <td>59030</td>\n",
       "      <td>&lt;-&gt;</td>\n",
       "      <td>147.32.80.9</td>\n",
       "      <td>53</td>\n",
       "      <td>CON</td>\n",
       "      <td>0.0</td>\n",
       "      <td>0.0</td>\n",
       "      <td>2</td>\n",
       "      <td>214</td>\n",
       "      <td>81</td>\n",
       "      <td>flow=To-Background-UDP-CVUT-DNS-Server</td>\n",
       "      <td>0</td>\n",
       "    </tr>\n",
       "    <tr>\n",
       "      <th>3</th>\n",
       "      <td>2011-08-14 15:41:43.314808</td>\n",
       "      <td>0.000310</td>\n",
       "      <td>udp</td>\n",
       "      <td>147.32.84.138</td>\n",
       "      <td>53216</td>\n",
       "      <td>&lt;-&gt;</td>\n",
       "      <td>147.32.80.9</td>\n",
       "      <td>53</td>\n",
       "      <td>CON</td>\n",
       "      <td>0.0</td>\n",
       "      <td>0.0</td>\n",
       "      <td>2</td>\n",
       "      <td>214</td>\n",
       "      <td>81</td>\n",
       "      <td>flow=To-Background-UDP-CVUT-DNS-Server</td>\n",
       "      <td>0</td>\n",
       "    </tr>\n",
       "    <tr>\n",
       "      <th>4</th>\n",
       "      <td>2011-08-15 14:00:04.715413</td>\n",
       "      <td>0.366707</td>\n",
       "      <td>tcp</td>\n",
       "      <td>147.32.86.186</td>\n",
       "      <td>4896</td>\n",
       "      <td>-&gt;</td>\n",
       "      <td>38.107.110.11</td>\n",
       "      <td>80</td>\n",
       "      <td>SRPA_FSPA</td>\n",
       "      <td>0.0</td>\n",
       "      <td>0.0</td>\n",
       "      <td>9</td>\n",
       "      <td>2184</td>\n",
       "      <td>1400</td>\n",
       "      <td>flow=Background-TCP-Established</td>\n",
       "      <td>0</td>\n",
       "    </tr>\n",
       "    <tr>\n",
       "      <th>...</th>\n",
       "      <td>...</td>\n",
       "      <td>...</td>\n",
       "      <td>...</td>\n",
       "      <td>...</td>\n",
       "      <td>...</td>\n",
       "      <td>...</td>\n",
       "      <td>...</td>\n",
       "      <td>...</td>\n",
       "      <td>...</td>\n",
       "      <td>...</td>\n",
       "      <td>...</td>\n",
       "      <td>...</td>\n",
       "      <td>...</td>\n",
       "      <td>...</td>\n",
       "      <td>...</td>\n",
       "      <td>...</td>\n",
       "    </tr>\n",
       "    <tr>\n",
       "      <th>4271463</th>\n",
       "      <td>2011-08-18 12:35:06.263141</td>\n",
       "      <td>0.000000</td>\n",
       "      <td>icmp</td>\n",
       "      <td>147.32.84.206</td>\n",
       "      <td>0xfbcc</td>\n",
       "      <td>-&gt;</td>\n",
       "      <td>147.32.96.69</td>\n",
       "      <td>NaN</td>\n",
       "      <td>UNK</td>\n",
       "      <td>0.0</td>\n",
       "      <td>NaN</td>\n",
       "      <td>1</td>\n",
       "      <td>1066</td>\n",
       "      <td>1066</td>\n",
       "      <td>flow=From-Botnet-V51-7-ICMP</td>\n",
       "      <td>1</td>\n",
       "    </tr>\n",
       "    <tr>\n",
       "      <th>4271464</th>\n",
       "      <td>2011-08-18 14:36:03.209083</td>\n",
       "      <td>0.000206</td>\n",
       "      <td>udp</td>\n",
       "      <td>147.32.86.122</td>\n",
       "      <td>57192</td>\n",
       "      <td>&lt;-&gt;</td>\n",
       "      <td>147.32.80.9</td>\n",
       "      <td>53</td>\n",
       "      <td>CON</td>\n",
       "      <td>0.0</td>\n",
       "      <td>0.0</td>\n",
       "      <td>2</td>\n",
       "      <td>271</td>\n",
       "      <td>80</td>\n",
       "      <td>flow=To-Background-UDP-CVUT-DNS-Server</td>\n",
       "      <td>0</td>\n",
       "    </tr>\n",
       "    <tr>\n",
       "      <th>4271465</th>\n",
       "      <td>2011-08-18 13:40:19.527054</td>\n",
       "      <td>0.100161</td>\n",
       "      <td>udp</td>\n",
       "      <td>147.32.84.59</td>\n",
       "      <td>52777</td>\n",
       "      <td>&lt;-&gt;</td>\n",
       "      <td>147.32.80.9</td>\n",
       "      <td>53</td>\n",
       "      <td>CON</td>\n",
       "      <td>0.0</td>\n",
       "      <td>0.0</td>\n",
       "      <td>4</td>\n",
       "      <td>384</td>\n",
       "      <td>255</td>\n",
       "      <td>flow=To-Background-UDP-CVUT-DNS-Server</td>\n",
       "      <td>0</td>\n",
       "    </tr>\n",
       "    <tr>\n",
       "      <th>4271466</th>\n",
       "      <td>2011-08-16 14:30:14.259618</td>\n",
       "      <td>0.000693</td>\n",
       "      <td>udp</td>\n",
       "      <td>68.107.154.78</td>\n",
       "      <td>47109</td>\n",
       "      <td>&lt;-&gt;</td>\n",
       "      <td>147.32.84.229</td>\n",
       "      <td>13363</td>\n",
       "      <td>CON</td>\n",
       "      <td>0.0</td>\n",
       "      <td>0.0</td>\n",
       "      <td>2</td>\n",
       "      <td>134</td>\n",
       "      <td>74</td>\n",
       "      <td>flow=Background-UDP-Established</td>\n",
       "      <td>0</td>\n",
       "    </tr>\n",
       "    <tr>\n",
       "      <th>4271467</th>\n",
       "      <td>2011-08-15 15:05:52.355661</td>\n",
       "      <td>0.000264</td>\n",
       "      <td>udp</td>\n",
       "      <td>147.32.85.25</td>\n",
       "      <td>58218</td>\n",
       "      <td>&lt;-&gt;</td>\n",
       "      <td>147.32.80.9</td>\n",
       "      <td>53</td>\n",
       "      <td>CON</td>\n",
       "      <td>0.0</td>\n",
       "      <td>0.0</td>\n",
       "      <td>2</td>\n",
       "      <td>208</td>\n",
       "      <td>79</td>\n",
       "      <td>flow=To-Background-UDP-CVUT-DNS-Server</td>\n",
       "      <td>0</td>\n",
       "    </tr>\n",
       "  </tbody>\n",
       "</table>\n",
       "<p>4271468 rows × 16 columns</p>\n",
       "</div>"
      ],
      "text/plain": [
       "                          starttime          dur proto        srcaddr   sport  \\\n",
       "0        2011-08-16 18:52:53.503136  1922.225708   udp   147.32.84.94    7103   \n",
       "1        2011-08-16 15:20:40.858776     0.000676   udp   92.6.165.241   51704   \n",
       "2        2011-08-16 04:25:06.617213     0.000114   udp  147.32.84.138   59030   \n",
       "3        2011-08-14 15:41:43.314808     0.000310   udp  147.32.84.138   53216   \n",
       "4        2011-08-15 14:00:04.715413     0.366707   tcp  147.32.86.186    4896   \n",
       "...                             ...          ...   ...            ...     ...   \n",
       "4271463  2011-08-18 12:35:06.263141     0.000000  icmp  147.32.84.206  0xfbcc   \n",
       "4271464  2011-08-18 14:36:03.209083     0.000206   udp  147.32.86.122   57192   \n",
       "4271465  2011-08-18 13:40:19.527054     0.100161   udp   147.32.84.59   52777   \n",
       "4271466  2011-08-16 14:30:14.259618     0.000693   udp  68.107.154.78   47109   \n",
       "4271467  2011-08-15 15:05:52.355661     0.000264   udp   147.32.85.25   58218   \n",
       "\n",
       "           dir        dstaddr  dport      state  stos  dtos  totpkts  \\\n",
       "0           ->  79.212.81.149   7168        INT   0.0   NaN        8   \n",
       "1          <->  147.32.84.229  13363        CON   0.0   0.0        2   \n",
       "2          <->    147.32.80.9     53        CON   0.0   0.0        2   \n",
       "3          <->    147.32.80.9     53        CON   0.0   0.0        2   \n",
       "4           ->  38.107.110.11     80  SRPA_FSPA   0.0   0.0        9   \n",
       "...        ...            ...    ...        ...   ...   ...      ...   \n",
       "4271463     ->   147.32.96.69    NaN        UNK   0.0   NaN        1   \n",
       "4271464    <->    147.32.80.9     53        CON   0.0   0.0        2   \n",
       "4271465    <->    147.32.80.9     53        CON   0.0   0.0        4   \n",
       "4271466    <->  147.32.84.229  13363        CON   0.0   0.0        2   \n",
       "4271467    <->    147.32.80.9     53        CON   0.0   0.0        2   \n",
       "\n",
       "         totbytes  srcbytes                                   label  target  \n",
       "0             672       672             flow=Background-UDP-Attempt       0  \n",
       "1             134        74         flow=Background-UDP-Established       0  \n",
       "2             214        81  flow=To-Background-UDP-CVUT-DNS-Server       0  \n",
       "3             214        81  flow=To-Background-UDP-CVUT-DNS-Server       0  \n",
       "4            2184      1400         flow=Background-TCP-Established       0  \n",
       "...           ...       ...                                     ...     ...  \n",
       "4271463      1066      1066             flow=From-Botnet-V51-7-ICMP       1  \n",
       "4271464       271        80  flow=To-Background-UDP-CVUT-DNS-Server       0  \n",
       "4271465       384       255  flow=To-Background-UDP-CVUT-DNS-Server       0  \n",
       "4271466       134        74         flow=Background-UDP-Established       0  \n",
       "4271467       208        79  flow=To-Background-UDP-CVUT-DNS-Server       0  \n",
       "\n",
       "[4271468 rows x 16 columns]"
      ]
     },
     "execution_count": 41,
     "metadata": {},
     "output_type": "execute_result"
    }
   ],
   "source": [
    "test"
   ]
  },
  {
   "cell_type": "code",
   "execution_count": 42,
   "metadata": {},
   "outputs": [],
   "source": [
    "# Parametrs\n",
    "saved_dict = pickle.load(open(file_path+'saved_dict.pkl', 'rb'))\n",
    "# Mode value of all the columns\n",
    "mode_dict = pickle.load(open(file_path+'mode_dict.pkl', 'rb'))\n",
    "# Stanardscaler object\n",
    "scaler = pickle.load(open(file_path+'scaler.pkl', 'rb'))"
   ]
  },
  {
   "cell_type": "code",
   "execution_count": 43,
   "metadata": {},
   "outputs": [],
   "source": [
    "# One hot encoder objects\n",
    "ohe_dtos = pickle.load(open(file_path+'ohe_dtos.pkl', 'rb'))\n",
    "ohe_stos = pickle.load(open(file_path+'ohe_stos.pkl', 'rb'))\n",
    "le_dir = pickle.load(open(file_path+'ohe_dir.pkl', 'rb'))\n",
    "le_proto = pickle.load(open(file_path+'ohe_proto.pkl', 'rb'))"
   ]
  },
  {
   "cell_type": "code",
   "execution_count": 44,
   "metadata": {},
   "outputs": [
    {
     "data": {
      "text/plain": [
       "{'to_drop': ['starttime', 'srcaddr', 'dstaddr', 'state'],\n",
       " 'moded_featute': {'dur': 0.0,\n",
       "  'proto': 'udp',\n",
       "  'sport': '13363',\n",
       "  'dir': '  <->',\n",
       "  'dport': '53',\n",
       "  'stos': 0.0,\n",
       "  'dtos': 0.0,\n",
       "  'totpkts': 2,\n",
       "  'totbytes': 214,\n",
       "  'srcbytes': 81,\n",
       "  'label': 'flow=To-Background-UDP-CVUT-DNS-Server',\n",
       "  'target': 0},\n",
       " 'cat_col': ['proto', 'dtos', 'dir', 'stos'],\n",
       " 'num_col': ['dur', 'sport', 'dport', 'totpkts', 'totbytes', 'srcbytes']}"
      ]
     },
     "execution_count": 44,
     "metadata": {},
     "output_type": "execute_result"
    }
   ],
   "source": [
    "saved_dict"
   ]
  },
  {
   "cell_type": "code",
   "execution_count": 45,
   "metadata": {
    "colab": {},
    "colab_type": "code",
    "id": "mbdSvaKIOpuL"
   },
   "outputs": [],
   "source": [
    "def clean_data(data=test, saved_dict=saved_dict):\n",
    "    '''\n",
    "    Cleans given raw data. Performs various cleaning, removes Null and wrong values.\n",
    "    Check for columns datatype and fix them.\n",
    "    '''\n",
    "    \n",
    "    data.drop(columns=saved_dict['to_drop'], axis=1, inplace=True)\n",
    "    \n",
    "    # Cleaning the data\n",
    "    data = data.drop(data[data['stos'] == 192.0].index)\n",
    "    data['stos'] = data.stos.fillna(value=0.0)\n",
    "    data['dtos'] = data.dtos.fillna(value=0.0)\n",
    "    data.dropna(inplace=True) #drop sport and dport missing\n",
    "    def is_hex(s):\n",
    "        try:\n",
    "            int(s, 16)\n",
    "            return True\n",
    "        except ValueError:\n",
    "            return False\n",
    "\n",
    "    def convertHexInSport(port):\n",
    "        if str(int(port, 16)) != port:\n",
    "            return int(port, 16)\n",
    "\n",
    "        return int(port)\n",
    "    \n",
    "    data['sport'] = data['sport'].apply(convertHexInSport)\n",
    "    data['dport'] = data['dport'].apply(convertHexInSport)\n",
    "    \n",
    "    return data"
   ]
  },
  {
   "cell_type": "code",
   "execution_count": 46,
   "metadata": {
    "colab": {},
    "colab_type": "code",
    "id": "uaJlj78XWGFA"
   },
   "outputs": [],
   "source": [
    "def standardize(data, saved_dict=saved_dict, scaler=scaler):\n",
    "    '''\n",
    "    Stanardize the given data. Performs mean centering and varience scaling.\n",
    "    Using stanardscaler object trained on train data.\n",
    "    '''\n",
    "    data[saved_dict['num_col']] = scaler.transform(data[saved_dict['num_col']])\n",
    "    return data"
   ]
  },
  {
   "cell_type": "code",
   "execution_count": 47,
   "metadata": {
    "colab": {},
    "colab_type": "code",
    "id": "sWl6pGluquBP"
   },
   "outputs": [],
   "source": [
    "def ohencoding(data, saved_dict=saved_dict, encoder=[ohe_dir, ohe_proto, ohe_stos, ohe_dtos]):\n",
    "    '''\n",
    "    Onehot encoding the categoricla columns.\n",
    "    Add the ohe columns with the data and removes categorical columns.\n",
    "    Using Onehotencoder objects trained on train data.\n",
    "    '''\n",
    "    # Adding encoding data to original data\n",
    "    for col, encoding in zip(['stos', 'dtos', 'dir', 'proto'], [encoder[2], encoder[3], encoder[0], encoder[1]]):\n",
    "        x = encoding.transform(data[col].values.reshape(-1,1))\n",
    "        tmp_df = pd.DataFrame(x.toarray(), dtype='int64', columns=[col+'_'+str(i) for i in encoding.categories_[0]])\n",
    "        data = data.reset_index(drop=True).join(tmp_df)\n",
    "        data = data.drop(col, axis=1)\n",
    "    return data"
   ]
  },
  {
   "cell_type": "markdown",
   "metadata": {
    "colab_type": "text",
    "id": "wzxR_OnQcika"
   },
   "source": [
    "Loading all the objects from disk, that we have trained on train data."
   ]
  },
  {
   "cell_type": "code",
   "execution_count": 48,
   "metadata": {
    "colab": {
     "base_uri": "https://localhost:8080/",
     "height": 34
    },
    "colab_type": "code",
    "executionInfo": {
     "elapsed": 971,
     "status": "ok",
     "timestamp": 1598254791308,
     "user": {
      "displayName": "Subrata Maji",
      "photoUrl": "https://lh3.googleusercontent.com/a-/AOh14Ghxu8VIGqB6XL51-t5wM_f1R1LdmEePYHIwb9b-=s64",
      "userId": "03124174213573157612"
     },
     "user_tz": -330
    },
    "id": "h9O_-z_ZlCE_",
    "outputId": "57909fa9-80c3-4a53-b041-b0f6d954560e"
   },
   "outputs": [
    {
     "data": {
      "text/plain": [
       "(4271468, 16)"
      ]
     },
     "execution_count": 48,
     "metadata": {},
     "output_type": "execute_result"
    }
   ],
   "source": [
    "test.shape"
   ]
  },
  {
   "cell_type": "code",
   "execution_count": 49,
   "metadata": {
    "colab": {},
    "colab_type": "code",
    "id": "xrowypS2smFi"
   },
   "outputs": [],
   "source": [
    "# Resetting index of test data\n",
    "test.reset_index(drop=True, inplace=True)"
   ]
  },
  {
   "cell_type": "code",
   "execution_count": 50,
   "metadata": {
    "colab": {
     "base_uri": "https://localhost:8080/",
     "height": 34
    },
    "colab_type": "code",
    "executionInfo": {
     "elapsed": 718,
     "status": "ok",
     "timestamp": 1598254793566,
     "user": {
      "displayName": "Subrata Maji",
      "photoUrl": "https://lh3.googleusercontent.com/a-/AOh14Ghxu8VIGqB6XL51-t5wM_f1R1LdmEePYHIwb9b-=s64",
      "userId": "03124174213573157612"
     },
     "user_tz": -330
    },
    "id": "nylwjO_Ifngf",
    "outputId": "84161159-1b04-433d-bf06-4b8f1a6870ea"
   },
   "outputs": [
    {
     "data": {
      "text/plain": [
       "(4271468, 16)"
      ]
     },
     "execution_count": 50,
     "metadata": {},
     "output_type": "execute_result"
    }
   ],
   "source": [
    "test.shape"
   ]
  },
  {
   "cell_type": "code",
   "execution_count": 51,
   "metadata": {},
   "outputs": [
    {
     "data": {
      "text/html": [
       "<div>\n",
       "<style scoped>\n",
       "    .dataframe tbody tr th:only-of-type {\n",
       "        vertical-align: middle;\n",
       "    }\n",
       "\n",
       "    .dataframe tbody tr th {\n",
       "        vertical-align: top;\n",
       "    }\n",
       "\n",
       "    .dataframe thead th {\n",
       "        text-align: right;\n",
       "    }\n",
       "</style>\n",
       "<table border=\"1\" class=\"dataframe\">\n",
       "  <thead>\n",
       "    <tr style=\"text-align: right;\">\n",
       "      <th></th>\n",
       "      <th>starttime</th>\n",
       "      <th>dur</th>\n",
       "      <th>proto</th>\n",
       "      <th>srcaddr</th>\n",
       "      <th>sport</th>\n",
       "      <th>dir</th>\n",
       "      <th>dstaddr</th>\n",
       "      <th>dport</th>\n",
       "      <th>state</th>\n",
       "      <th>stos</th>\n",
       "      <th>dtos</th>\n",
       "      <th>totpkts</th>\n",
       "      <th>totbytes</th>\n",
       "      <th>srcbytes</th>\n",
       "      <th>label</th>\n",
       "      <th>target</th>\n",
       "    </tr>\n",
       "  </thead>\n",
       "  <tbody>\n",
       "    <tr>\n",
       "      <th>0</th>\n",
       "      <td>2011-08-16 18:52:53.503136</td>\n",
       "      <td>1922.225708</td>\n",
       "      <td>udp</td>\n",
       "      <td>147.32.84.94</td>\n",
       "      <td>7103</td>\n",
       "      <td>-&gt;</td>\n",
       "      <td>79.212.81.149</td>\n",
       "      <td>7168</td>\n",
       "      <td>INT</td>\n",
       "      <td>0.0</td>\n",
       "      <td>NaN</td>\n",
       "      <td>8</td>\n",
       "      <td>672</td>\n",
       "      <td>672</td>\n",
       "      <td>flow=Background-UDP-Attempt</td>\n",
       "      <td>0</td>\n",
       "    </tr>\n",
       "    <tr>\n",
       "      <th>1</th>\n",
       "      <td>2011-08-16 15:20:40.858776</td>\n",
       "      <td>0.000676</td>\n",
       "      <td>udp</td>\n",
       "      <td>92.6.165.241</td>\n",
       "      <td>51704</td>\n",
       "      <td>&lt;-&gt;</td>\n",
       "      <td>147.32.84.229</td>\n",
       "      <td>13363</td>\n",
       "      <td>CON</td>\n",
       "      <td>0.0</td>\n",
       "      <td>0.0</td>\n",
       "      <td>2</td>\n",
       "      <td>134</td>\n",
       "      <td>74</td>\n",
       "      <td>flow=Background-UDP-Established</td>\n",
       "      <td>0</td>\n",
       "    </tr>\n",
       "    <tr>\n",
       "      <th>2</th>\n",
       "      <td>2011-08-16 04:25:06.617213</td>\n",
       "      <td>0.000114</td>\n",
       "      <td>udp</td>\n",
       "      <td>147.32.84.138</td>\n",
       "      <td>59030</td>\n",
       "      <td>&lt;-&gt;</td>\n",
       "      <td>147.32.80.9</td>\n",
       "      <td>53</td>\n",
       "      <td>CON</td>\n",
       "      <td>0.0</td>\n",
       "      <td>0.0</td>\n",
       "      <td>2</td>\n",
       "      <td>214</td>\n",
       "      <td>81</td>\n",
       "      <td>flow=To-Background-UDP-CVUT-DNS-Server</td>\n",
       "      <td>0</td>\n",
       "    </tr>\n",
       "    <tr>\n",
       "      <th>3</th>\n",
       "      <td>2011-08-14 15:41:43.314808</td>\n",
       "      <td>0.000310</td>\n",
       "      <td>udp</td>\n",
       "      <td>147.32.84.138</td>\n",
       "      <td>53216</td>\n",
       "      <td>&lt;-&gt;</td>\n",
       "      <td>147.32.80.9</td>\n",
       "      <td>53</td>\n",
       "      <td>CON</td>\n",
       "      <td>0.0</td>\n",
       "      <td>0.0</td>\n",
       "      <td>2</td>\n",
       "      <td>214</td>\n",
       "      <td>81</td>\n",
       "      <td>flow=To-Background-UDP-CVUT-DNS-Server</td>\n",
       "      <td>0</td>\n",
       "    </tr>\n",
       "    <tr>\n",
       "      <th>4</th>\n",
       "      <td>2011-08-15 14:00:04.715413</td>\n",
       "      <td>0.366707</td>\n",
       "      <td>tcp</td>\n",
       "      <td>147.32.86.186</td>\n",
       "      <td>4896</td>\n",
       "      <td>-&gt;</td>\n",
       "      <td>38.107.110.11</td>\n",
       "      <td>80</td>\n",
       "      <td>SRPA_FSPA</td>\n",
       "      <td>0.0</td>\n",
       "      <td>0.0</td>\n",
       "      <td>9</td>\n",
       "      <td>2184</td>\n",
       "      <td>1400</td>\n",
       "      <td>flow=Background-TCP-Established</td>\n",
       "      <td>0</td>\n",
       "    </tr>\n",
       "    <tr>\n",
       "      <th>...</th>\n",
       "      <td>...</td>\n",
       "      <td>...</td>\n",
       "      <td>...</td>\n",
       "      <td>...</td>\n",
       "      <td>...</td>\n",
       "      <td>...</td>\n",
       "      <td>...</td>\n",
       "      <td>...</td>\n",
       "      <td>...</td>\n",
       "      <td>...</td>\n",
       "      <td>...</td>\n",
       "      <td>...</td>\n",
       "      <td>...</td>\n",
       "      <td>...</td>\n",
       "      <td>...</td>\n",
       "      <td>...</td>\n",
       "    </tr>\n",
       "    <tr>\n",
       "      <th>4271463</th>\n",
       "      <td>2011-08-18 12:35:06.263141</td>\n",
       "      <td>0.000000</td>\n",
       "      <td>icmp</td>\n",
       "      <td>147.32.84.206</td>\n",
       "      <td>0xfbcc</td>\n",
       "      <td>-&gt;</td>\n",
       "      <td>147.32.96.69</td>\n",
       "      <td>NaN</td>\n",
       "      <td>UNK</td>\n",
       "      <td>0.0</td>\n",
       "      <td>NaN</td>\n",
       "      <td>1</td>\n",
       "      <td>1066</td>\n",
       "      <td>1066</td>\n",
       "      <td>flow=From-Botnet-V51-7-ICMP</td>\n",
       "      <td>1</td>\n",
       "    </tr>\n",
       "    <tr>\n",
       "      <th>4271464</th>\n",
       "      <td>2011-08-18 14:36:03.209083</td>\n",
       "      <td>0.000206</td>\n",
       "      <td>udp</td>\n",
       "      <td>147.32.86.122</td>\n",
       "      <td>57192</td>\n",
       "      <td>&lt;-&gt;</td>\n",
       "      <td>147.32.80.9</td>\n",
       "      <td>53</td>\n",
       "      <td>CON</td>\n",
       "      <td>0.0</td>\n",
       "      <td>0.0</td>\n",
       "      <td>2</td>\n",
       "      <td>271</td>\n",
       "      <td>80</td>\n",
       "      <td>flow=To-Background-UDP-CVUT-DNS-Server</td>\n",
       "      <td>0</td>\n",
       "    </tr>\n",
       "    <tr>\n",
       "      <th>4271465</th>\n",
       "      <td>2011-08-18 13:40:19.527054</td>\n",
       "      <td>0.100161</td>\n",
       "      <td>udp</td>\n",
       "      <td>147.32.84.59</td>\n",
       "      <td>52777</td>\n",
       "      <td>&lt;-&gt;</td>\n",
       "      <td>147.32.80.9</td>\n",
       "      <td>53</td>\n",
       "      <td>CON</td>\n",
       "      <td>0.0</td>\n",
       "      <td>0.0</td>\n",
       "      <td>4</td>\n",
       "      <td>384</td>\n",
       "      <td>255</td>\n",
       "      <td>flow=To-Background-UDP-CVUT-DNS-Server</td>\n",
       "      <td>0</td>\n",
       "    </tr>\n",
       "    <tr>\n",
       "      <th>4271466</th>\n",
       "      <td>2011-08-16 14:30:14.259618</td>\n",
       "      <td>0.000693</td>\n",
       "      <td>udp</td>\n",
       "      <td>68.107.154.78</td>\n",
       "      <td>47109</td>\n",
       "      <td>&lt;-&gt;</td>\n",
       "      <td>147.32.84.229</td>\n",
       "      <td>13363</td>\n",
       "      <td>CON</td>\n",
       "      <td>0.0</td>\n",
       "      <td>0.0</td>\n",
       "      <td>2</td>\n",
       "      <td>134</td>\n",
       "      <td>74</td>\n",
       "      <td>flow=Background-UDP-Established</td>\n",
       "      <td>0</td>\n",
       "    </tr>\n",
       "    <tr>\n",
       "      <th>4271467</th>\n",
       "      <td>2011-08-15 15:05:52.355661</td>\n",
       "      <td>0.000264</td>\n",
       "      <td>udp</td>\n",
       "      <td>147.32.85.25</td>\n",
       "      <td>58218</td>\n",
       "      <td>&lt;-&gt;</td>\n",
       "      <td>147.32.80.9</td>\n",
       "      <td>53</td>\n",
       "      <td>CON</td>\n",
       "      <td>0.0</td>\n",
       "      <td>0.0</td>\n",
       "      <td>2</td>\n",
       "      <td>208</td>\n",
       "      <td>79</td>\n",
       "      <td>flow=To-Background-UDP-CVUT-DNS-Server</td>\n",
       "      <td>0</td>\n",
       "    </tr>\n",
       "  </tbody>\n",
       "</table>\n",
       "<p>4271468 rows × 16 columns</p>\n",
       "</div>"
      ],
      "text/plain": [
       "                          starttime          dur proto        srcaddr   sport  \\\n",
       "0        2011-08-16 18:52:53.503136  1922.225708   udp   147.32.84.94    7103   \n",
       "1        2011-08-16 15:20:40.858776     0.000676   udp   92.6.165.241   51704   \n",
       "2        2011-08-16 04:25:06.617213     0.000114   udp  147.32.84.138   59030   \n",
       "3        2011-08-14 15:41:43.314808     0.000310   udp  147.32.84.138   53216   \n",
       "4        2011-08-15 14:00:04.715413     0.366707   tcp  147.32.86.186    4896   \n",
       "...                             ...          ...   ...            ...     ...   \n",
       "4271463  2011-08-18 12:35:06.263141     0.000000  icmp  147.32.84.206  0xfbcc   \n",
       "4271464  2011-08-18 14:36:03.209083     0.000206   udp  147.32.86.122   57192   \n",
       "4271465  2011-08-18 13:40:19.527054     0.100161   udp   147.32.84.59   52777   \n",
       "4271466  2011-08-16 14:30:14.259618     0.000693   udp  68.107.154.78   47109   \n",
       "4271467  2011-08-15 15:05:52.355661     0.000264   udp   147.32.85.25   58218   \n",
       "\n",
       "           dir        dstaddr  dport      state  stos  dtos  totpkts  \\\n",
       "0           ->  79.212.81.149   7168        INT   0.0   NaN        8   \n",
       "1          <->  147.32.84.229  13363        CON   0.0   0.0        2   \n",
       "2          <->    147.32.80.9     53        CON   0.0   0.0        2   \n",
       "3          <->    147.32.80.9     53        CON   0.0   0.0        2   \n",
       "4           ->  38.107.110.11     80  SRPA_FSPA   0.0   0.0        9   \n",
       "...        ...            ...    ...        ...   ...   ...      ...   \n",
       "4271463     ->   147.32.96.69    NaN        UNK   0.0   NaN        1   \n",
       "4271464    <->    147.32.80.9     53        CON   0.0   0.0        2   \n",
       "4271465    <->    147.32.80.9     53        CON   0.0   0.0        4   \n",
       "4271466    <->  147.32.84.229  13363        CON   0.0   0.0        2   \n",
       "4271467    <->    147.32.80.9     53        CON   0.0   0.0        2   \n",
       "\n",
       "         totbytes  srcbytes                                   label  target  \n",
       "0             672       672             flow=Background-UDP-Attempt       0  \n",
       "1             134        74         flow=Background-UDP-Established       0  \n",
       "2             214        81  flow=To-Background-UDP-CVUT-DNS-Server       0  \n",
       "3             214        81  flow=To-Background-UDP-CVUT-DNS-Server       0  \n",
       "4            2184      1400         flow=Background-TCP-Established       0  \n",
       "...           ...       ...                                     ...     ...  \n",
       "4271463      1066      1066             flow=From-Botnet-V51-7-ICMP       1  \n",
       "4271464       271        80  flow=To-Background-UDP-CVUT-DNS-Server       0  \n",
       "4271465       384       255  flow=To-Background-UDP-CVUT-DNS-Server       0  \n",
       "4271466       134        74         flow=Background-UDP-Established       0  \n",
       "4271467       208        79  flow=To-Background-UDP-CVUT-DNS-Server       0  \n",
       "\n",
       "[4271468 rows x 16 columns]"
      ]
     },
     "execution_count": 51,
     "metadata": {},
     "output_type": "execute_result"
    }
   ],
   "source": [
    "test"
   ]
  },
  {
   "cell_type": "code",
   "execution_count": 52,
   "metadata": {},
   "outputs": [
    {
     "data": {
      "text/plain": [
       "starttime         0\n",
       "dur               0\n",
       "proto             0\n",
       "srcaddr           0\n",
       "sport         55197\n",
       "dir               0\n",
       "dstaddr           0\n",
       "dport         53011\n",
       "state           406\n",
       "stos          59465\n",
       "dtos         350089\n",
       "totpkts           0\n",
       "totbytes          0\n",
       "srcbytes          0\n",
       "label             0\n",
       "target            0\n",
       "dtype: int64"
      ]
     },
     "execution_count": 52,
     "metadata": {},
     "output_type": "execute_result"
    }
   ],
   "source": [
    "test.isnull().sum()"
   ]
  },
  {
   "cell_type": "code",
   "execution_count": 53,
   "metadata": {
    "colab": {},
    "colab_type": "code",
    "id": "lkyzpOcSZhFo"
   },
   "outputs": [],
   "source": [
    "# Cleaning data using clean_data()\n",
    "test = clean_data(test)"
   ]
  },
  {
   "cell_type": "code",
   "execution_count": 54,
   "metadata": {},
   "outputs": [
    {
     "data": {
      "text/plain": [
       "dur         0\n",
       "proto       0\n",
       "sport       0\n",
       "dir         0\n",
       "dport       0\n",
       "stos        0\n",
       "dtos        0\n",
       "totpkts     0\n",
       "totbytes    0\n",
       "srcbytes    0\n",
       "label       0\n",
       "target      0\n",
       "dtype: int64"
      ]
     },
     "execution_count": 54,
     "metadata": {},
     "output_type": "execute_result"
    }
   ],
   "source": [
    "test.isnull().sum()"
   ]
  },
  {
   "cell_type": "code",
   "execution_count": 55,
   "metadata": {
    "colab": {
     "base_uri": "https://localhost:8080/",
     "height": 34
    },
    "colab_type": "code",
    "executionInfo": {
     "elapsed": 629,
     "status": "ok",
     "timestamp": 1598254819165,
     "user": {
      "displayName": "Subrata Maji",
      "photoUrl": "https://lh3.googleusercontent.com/a-/AOh14Ghxu8VIGqB6XL51-t5wM_f1R1LdmEePYHIwb9b-=s64",
      "userId": "03124174213573157612"
     },
     "user_tz": -330
    },
    "id": "Pd9v3-ODWW0d",
    "outputId": "3ff7306c-085c-4ee9-9b3c-1ab8741af7ab"
   },
   "outputs": [
    {
     "data": {
      "text/plain": [
       "(4176841, 12)"
      ]
     },
     "execution_count": 55,
     "metadata": {},
     "output_type": "execute_result"
    }
   ],
   "source": [
    "test.shape"
   ]
  },
  {
   "cell_type": "code",
   "execution_count": 56,
   "metadata": {
    "colab": {
     "base_uri": "https://localhost:8080/",
     "height": 170
    },
    "colab_type": "code",
    "executionInfo": {
     "elapsed": 574,
     "status": "ok",
     "timestamp": 1598254841517,
     "user": {
      "displayName": "Subrata Maji",
      "photoUrl": "https://lh3.googleusercontent.com/a-/AOh14Ghxu8VIGqB6XL51-t5wM_f1R1LdmEePYHIwb9b-=s64",
      "userId": "03124174213573157612"
     },
     "user_tz": -330
    },
    "id": "aWh6xLQwWb3W",
    "outputId": "1115319e-c1cf-4a84-fac0-7535f5484b6e"
   },
   "outputs": [
    {
     "data": {
      "text/plain": [
       "Index(['dur', 'proto', 'sport', 'dir', 'dport', 'stos', 'dtos', 'totpkts',\n",
       "       'totbytes', 'srcbytes', 'label', 'target'],\n",
       "      dtype='object')"
      ]
     },
     "execution_count": 56,
     "metadata": {},
     "output_type": "execute_result"
    }
   ],
   "source": [
    "test.columns"
   ]
  },
  {
   "cell_type": "code",
   "execution_count": 57,
   "metadata": {
    "colab": {},
    "colab_type": "code",
    "id": "SovFBr2XaLMB"
   },
   "outputs": [],
   "source": [
    "# Standardscaling using stanardize()\n",
    "test = standardize(test)"
   ]
  },
  {
   "cell_type": "code",
   "execution_count": 58,
   "metadata": {
    "colab": {
     "base_uri": "https://localhost:8080/",
     "height": 224
    },
    "colab_type": "code",
    "executionInfo": {
     "elapsed": 597,
     "status": "ok",
     "timestamp": 1598254856268,
     "user": {
      "displayName": "Subrata Maji",
      "photoUrl": "https://lh3.googleusercontent.com/a-/AOh14Ghxu8VIGqB6XL51-t5wM_f1R1LdmEePYHIwb9b-=s64",
      "userId": "03124174213573157612"
     },
     "user_tz": -330
    },
    "id": "f6HrpEbiWil5",
    "outputId": "c8859515-ff2e-4005-c37a-1d7d159a5952"
   },
   "outputs": [
    {
     "data": {
      "text/html": [
       "<div>\n",
       "<style scoped>\n",
       "    .dataframe tbody tr th:only-of-type {\n",
       "        vertical-align: middle;\n",
       "    }\n",
       "\n",
       "    .dataframe tbody tr th {\n",
       "        vertical-align: top;\n",
       "    }\n",
       "\n",
       "    .dataframe thead th {\n",
       "        text-align: right;\n",
       "    }\n",
       "</style>\n",
       "<table border=\"1\" class=\"dataframe\">\n",
       "  <thead>\n",
       "    <tr style=\"text-align: right;\">\n",
       "      <th></th>\n",
       "      <th>dur</th>\n",
       "      <th>proto</th>\n",
       "      <th>sport</th>\n",
       "      <th>dir</th>\n",
       "      <th>dport</th>\n",
       "      <th>stos</th>\n",
       "      <th>dtos</th>\n",
       "      <th>totpkts</th>\n",
       "      <th>totbytes</th>\n",
       "      <th>srcbytes</th>\n",
       "      <th>label</th>\n",
       "      <th>target</th>\n",
       "    </tr>\n",
       "  </thead>\n",
       "  <tbody>\n",
       "    <tr>\n",
       "      <th>0</th>\n",
       "      <td>5.256203e-01</td>\n",
       "      <td>udp</td>\n",
       "      <td>0.069706</td>\n",
       "      <td>-&gt;</td>\n",
       "      <td>5.385758e-05</td>\n",
       "      <td>0.0</td>\n",
       "      <td>0.0</td>\n",
       "      <td>1.822413e-06</td>\n",
       "      <td>1.733758e-07</td>\n",
       "      <td>1.962956e-07</td>\n",
       "      <td>flow=Background-UDP-Attempt</td>\n",
       "      <td>0</td>\n",
       "    </tr>\n",
       "    <tr>\n",
       "      <th>1</th>\n",
       "      <td>1.848479e-07</td>\n",
       "      <td>udp</td>\n",
       "      <td>0.803731</td>\n",
       "      <td>&lt;-&gt;</td>\n",
       "      <td>1.459837e-04</td>\n",
       "      <td>0.0</td>\n",
       "      <td>0.0</td>\n",
       "      <td>2.603447e-07</td>\n",
       "      <td>2.096374e-08</td>\n",
       "      <td>2.161589e-08</td>\n",
       "      <td>flow=Background-UDP-Established</td>\n",
       "      <td>0</td>\n",
       "    </tr>\n",
       "    <tr>\n",
       "      <th>2</th>\n",
       "      <td>3.117257e-08</td>\n",
       "      <td>udp</td>\n",
       "      <td>0.878473</td>\n",
       "      <td>&lt;-&gt;</td>\n",
       "      <td>1.521243e-07</td>\n",
       "      <td>0.0</td>\n",
       "      <td>0.0</td>\n",
       "      <td>2.603447e-07</td>\n",
       "      <td>4.362725e-08</td>\n",
       "      <td>2.366063e-08</td>\n",
       "      <td>flow=To-Background-UDP-CVUT-DNS-Server</td>\n",
       "      <td>0</td>\n",
       "    </tr>\n",
       "    <tr>\n",
       "      <th>3</th>\n",
       "      <td>8.476752e-08</td>\n",
       "      <td>udp</td>\n",
       "      <td>0.820429</td>\n",
       "      <td>&lt;-&gt;</td>\n",
       "      <td>1.521243e-07</td>\n",
       "      <td>0.0</td>\n",
       "      <td>0.0</td>\n",
       "      <td>2.603447e-07</td>\n",
       "      <td>4.362725e-08</td>\n",
       "      <td>2.366063e-08</td>\n",
       "      <td>flow=To-Background-UDP-CVUT-DNS-Server</td>\n",
       "      <td>0</td>\n",
       "    </tr>\n",
       "    <tr>\n",
       "      <th>4</th>\n",
       "      <td>1.002737e-04</td>\n",
       "      <td>tcp</td>\n",
       "      <td>0.044770</td>\n",
       "      <td>-&gt;</td>\n",
       "      <td>2.356072e-07</td>\n",
       "      <td>0.0</td>\n",
       "      <td>0.0</td>\n",
       "      <td>2.082757e-06</td>\n",
       "      <td>6.017161e-07</td>\n",
       "      <td>4.089492e-07</td>\n",
       "      <td>flow=Background-TCP-Established</td>\n",
       "      <td>0</td>\n",
       "    </tr>\n",
       "    <tr>\n",
       "      <th>...</th>\n",
       "      <td>...</td>\n",
       "      <td>...</td>\n",
       "      <td>...</td>\n",
       "      <td>...</td>\n",
       "      <td>...</td>\n",
       "      <td>...</td>\n",
       "      <td>...</td>\n",
       "      <td>...</td>\n",
       "      <td>...</td>\n",
       "      <td>...</td>\n",
       "      <td>...</td>\n",
       "      <td>...</td>\n",
       "    </tr>\n",
       "    <tr>\n",
       "      <th>4271462</th>\n",
       "      <td>4.656225e-05</td>\n",
       "      <td>tcp</td>\n",
       "      <td>0.034815</td>\n",
       "      <td>-&gt;</td>\n",
       "      <td>2.356072e-07</td>\n",
       "      <td>0.0</td>\n",
       "      <td>0.0</td>\n",
       "      <td>1.952585e-05</td>\n",
       "      <td>2.010565e-05</td>\n",
       "      <td>4.939522e-07</td>\n",
       "      <td>flow=Background-TCP-Established</td>\n",
       "      <td>0</td>\n",
       "    </tr>\n",
       "    <tr>\n",
       "      <th>4271464</th>\n",
       "      <td>5.632938e-08</td>\n",
       "      <td>udp</td>\n",
       "      <td>0.859588</td>\n",
       "      <td>&lt;-&gt;</td>\n",
       "      <td>1.521243e-07</td>\n",
       "      <td>0.0</td>\n",
       "      <td>0.0</td>\n",
       "      <td>2.603447e-07</td>\n",
       "      <td>5.977500e-08</td>\n",
       "      <td>2.336853e-08</td>\n",
       "      <td>flow=To-Background-UDP-CVUT-DNS-Server</td>\n",
       "      <td>0</td>\n",
       "    </tr>\n",
       "    <tr>\n",
       "      <th>4271465</th>\n",
       "      <td>2.738838e-05</td>\n",
       "      <td>udp</td>\n",
       "      <td>0.813878</td>\n",
       "      <td>&lt;-&gt;</td>\n",
       "      <td>1.521243e-07</td>\n",
       "      <td>0.0</td>\n",
       "      <td>0.0</td>\n",
       "      <td>7.810340e-07</td>\n",
       "      <td>9.178721e-08</td>\n",
       "      <td>7.448717e-08</td>\n",
       "      <td>flow=To-Background-UDP-CVUT-DNS-Server</td>\n",
       "      <td>0</td>\n",
       "    </tr>\n",
       "    <tr>\n",
       "      <th>4271466</th>\n",
       "      <td>1.894964e-07</td>\n",
       "      <td>udp</td>\n",
       "      <td>0.701350</td>\n",
       "      <td>&lt;-&gt;</td>\n",
       "      <td>1.459837e-04</td>\n",
       "      <td>0.0</td>\n",
       "      <td>0.0</td>\n",
       "      <td>2.603447e-07</td>\n",
       "      <td>2.096374e-08</td>\n",
       "      <td>2.161589e-08</td>\n",
       "      <td>flow=Background-UDP-Established</td>\n",
       "      <td>0</td>\n",
       "    </tr>\n",
       "    <tr>\n",
       "      <th>4271467</th>\n",
       "      <td>7.218911e-08</td>\n",
       "      <td>udp</td>\n",
       "      <td>0.869780</td>\n",
       "      <td>&lt;-&gt;</td>\n",
       "      <td>1.521243e-07</td>\n",
       "      <td>0.0</td>\n",
       "      <td>0.0</td>\n",
       "      <td>2.603447e-07</td>\n",
       "      <td>4.192749e-08</td>\n",
       "      <td>2.307642e-08</td>\n",
       "      <td>flow=To-Background-UDP-CVUT-DNS-Server</td>\n",
       "      <td>0</td>\n",
       "    </tr>\n",
       "  </tbody>\n",
       "</table>\n",
       "<p>4176841 rows × 12 columns</p>\n",
       "</div>"
      ],
      "text/plain": [
       "                  dur proto     sport    dir         dport  stos  dtos  \\\n",
       "0        5.256203e-01   udp  0.069706     ->  5.385758e-05   0.0   0.0   \n",
       "1        1.848479e-07   udp  0.803731    <->  1.459837e-04   0.0   0.0   \n",
       "2        3.117257e-08   udp  0.878473    <->  1.521243e-07   0.0   0.0   \n",
       "3        8.476752e-08   udp  0.820429    <->  1.521243e-07   0.0   0.0   \n",
       "4        1.002737e-04   tcp  0.044770     ->  2.356072e-07   0.0   0.0   \n",
       "...               ...   ...       ...    ...           ...   ...   ...   \n",
       "4271462  4.656225e-05   tcp  0.034815     ->  2.356072e-07   0.0   0.0   \n",
       "4271464  5.632938e-08   udp  0.859588    <->  1.521243e-07   0.0   0.0   \n",
       "4271465  2.738838e-05   udp  0.813878    <->  1.521243e-07   0.0   0.0   \n",
       "4271466  1.894964e-07   udp  0.701350    <->  1.459837e-04   0.0   0.0   \n",
       "4271467  7.218911e-08   udp  0.869780    <->  1.521243e-07   0.0   0.0   \n",
       "\n",
       "              totpkts      totbytes      srcbytes  \\\n",
       "0        1.822413e-06  1.733758e-07  1.962956e-07   \n",
       "1        2.603447e-07  2.096374e-08  2.161589e-08   \n",
       "2        2.603447e-07  4.362725e-08  2.366063e-08   \n",
       "3        2.603447e-07  4.362725e-08  2.366063e-08   \n",
       "4        2.082757e-06  6.017161e-07  4.089492e-07   \n",
       "...               ...           ...           ...   \n",
       "4271462  1.952585e-05  2.010565e-05  4.939522e-07   \n",
       "4271464  2.603447e-07  5.977500e-08  2.336853e-08   \n",
       "4271465  7.810340e-07  9.178721e-08  7.448717e-08   \n",
       "4271466  2.603447e-07  2.096374e-08  2.161589e-08   \n",
       "4271467  2.603447e-07  4.192749e-08  2.307642e-08   \n",
       "\n",
       "                                          label  target  \n",
       "0                   flow=Background-UDP-Attempt       0  \n",
       "1               flow=Background-UDP-Established       0  \n",
       "2        flow=To-Background-UDP-CVUT-DNS-Server       0  \n",
       "3        flow=To-Background-UDP-CVUT-DNS-Server       0  \n",
       "4               flow=Background-TCP-Established       0  \n",
       "...                                         ...     ...  \n",
       "4271462         flow=Background-TCP-Established       0  \n",
       "4271464  flow=To-Background-UDP-CVUT-DNS-Server       0  \n",
       "4271465  flow=To-Background-UDP-CVUT-DNS-Server       0  \n",
       "4271466         flow=Background-UDP-Established       0  \n",
       "4271467  flow=To-Background-UDP-CVUT-DNS-Server       0  \n",
       "\n",
       "[4176841 rows x 12 columns]"
      ]
     },
     "execution_count": 58,
     "metadata": {},
     "output_type": "execute_result"
    }
   ],
   "source": [
    "test"
   ]
  },
  {
   "cell_type": "code",
   "execution_count": 59,
   "metadata": {},
   "outputs": [
    {
     "data": {
      "text/plain": [
       "(4176841, 12)"
      ]
     },
     "execution_count": 59,
     "metadata": {},
     "output_type": "execute_result"
    }
   ],
   "source": [
    "test.shape"
   ]
  },
  {
   "cell_type": "code",
   "execution_count": 60,
   "metadata": {},
   "outputs": [],
   "source": [
    "#Encoding using One-hot Encoding\n",
    "test = ohencoding(test)"
   ]
  },
  {
   "cell_type": "code",
   "execution_count": 61,
   "metadata": {},
   "outputs": [
    {
     "data": {
      "text/html": [
       "<div>\n",
       "<style scoped>\n",
       "    .dataframe tbody tr th:only-of-type {\n",
       "        vertical-align: middle;\n",
       "    }\n",
       "\n",
       "    .dataframe tbody tr th {\n",
       "        vertical-align: top;\n",
       "    }\n",
       "\n",
       "    .dataframe thead th {\n",
       "        text-align: right;\n",
       "    }\n",
       "</style>\n",
       "<table border=\"1\" class=\"dataframe\">\n",
       "  <thead>\n",
       "    <tr style=\"text-align: right;\">\n",
       "      <th></th>\n",
       "      <th>dur</th>\n",
       "      <th>sport</th>\n",
       "      <th>dport</th>\n",
       "      <th>totpkts</th>\n",
       "      <th>totbytes</th>\n",
       "      <th>srcbytes</th>\n",
       "      <th>label</th>\n",
       "      <th>target</th>\n",
       "      <th>stos_0.0</th>\n",
       "      <th>stos_1.0</th>\n",
       "      <th>...</th>\n",
       "      <th>proto_llc</th>\n",
       "      <th>proto_pim</th>\n",
       "      <th>proto_rarp</th>\n",
       "      <th>proto_rsvp</th>\n",
       "      <th>proto_rtcp</th>\n",
       "      <th>proto_rtp</th>\n",
       "      <th>proto_tcp</th>\n",
       "      <th>proto_udp</th>\n",
       "      <th>proto_udt</th>\n",
       "      <th>proto_unas</th>\n",
       "    </tr>\n",
       "  </thead>\n",
       "  <tbody>\n",
       "    <tr>\n",
       "      <th>0</th>\n",
       "      <td>5.256203e-01</td>\n",
       "      <td>0.069706</td>\n",
       "      <td>5.385758e-05</td>\n",
       "      <td>1.822413e-06</td>\n",
       "      <td>1.733758e-07</td>\n",
       "      <td>1.962956e-07</td>\n",
       "      <td>flow=Background-UDP-Attempt</td>\n",
       "      <td>0</td>\n",
       "      <td>1</td>\n",
       "      <td>0</td>\n",
       "      <td>...</td>\n",
       "      <td>0</td>\n",
       "      <td>0</td>\n",
       "      <td>0</td>\n",
       "      <td>0</td>\n",
       "      <td>0</td>\n",
       "      <td>0</td>\n",
       "      <td>0</td>\n",
       "      <td>1</td>\n",
       "      <td>0</td>\n",
       "      <td>0</td>\n",
       "    </tr>\n",
       "    <tr>\n",
       "      <th>1</th>\n",
       "      <td>1.848479e-07</td>\n",
       "      <td>0.803731</td>\n",
       "      <td>1.459837e-04</td>\n",
       "      <td>2.603447e-07</td>\n",
       "      <td>2.096374e-08</td>\n",
       "      <td>2.161589e-08</td>\n",
       "      <td>flow=Background-UDP-Established</td>\n",
       "      <td>0</td>\n",
       "      <td>1</td>\n",
       "      <td>0</td>\n",
       "      <td>...</td>\n",
       "      <td>0</td>\n",
       "      <td>0</td>\n",
       "      <td>0</td>\n",
       "      <td>0</td>\n",
       "      <td>0</td>\n",
       "      <td>0</td>\n",
       "      <td>0</td>\n",
       "      <td>1</td>\n",
       "      <td>0</td>\n",
       "      <td>0</td>\n",
       "    </tr>\n",
       "    <tr>\n",
       "      <th>2</th>\n",
       "      <td>3.117257e-08</td>\n",
       "      <td>0.878473</td>\n",
       "      <td>1.521243e-07</td>\n",
       "      <td>2.603447e-07</td>\n",
       "      <td>4.362725e-08</td>\n",
       "      <td>2.366063e-08</td>\n",
       "      <td>flow=To-Background-UDP-CVUT-DNS-Server</td>\n",
       "      <td>0</td>\n",
       "      <td>1</td>\n",
       "      <td>0</td>\n",
       "      <td>...</td>\n",
       "      <td>0</td>\n",
       "      <td>0</td>\n",
       "      <td>0</td>\n",
       "      <td>0</td>\n",
       "      <td>0</td>\n",
       "      <td>0</td>\n",
       "      <td>0</td>\n",
       "      <td>1</td>\n",
       "      <td>0</td>\n",
       "      <td>0</td>\n",
       "    </tr>\n",
       "    <tr>\n",
       "      <th>3</th>\n",
       "      <td>8.476752e-08</td>\n",
       "      <td>0.820429</td>\n",
       "      <td>1.521243e-07</td>\n",
       "      <td>2.603447e-07</td>\n",
       "      <td>4.362725e-08</td>\n",
       "      <td>2.366063e-08</td>\n",
       "      <td>flow=To-Background-UDP-CVUT-DNS-Server</td>\n",
       "      <td>0</td>\n",
       "      <td>1</td>\n",
       "      <td>0</td>\n",
       "      <td>...</td>\n",
       "      <td>0</td>\n",
       "      <td>0</td>\n",
       "      <td>0</td>\n",
       "      <td>0</td>\n",
       "      <td>0</td>\n",
       "      <td>0</td>\n",
       "      <td>0</td>\n",
       "      <td>1</td>\n",
       "      <td>0</td>\n",
       "      <td>0</td>\n",
       "    </tr>\n",
       "    <tr>\n",
       "      <th>4</th>\n",
       "      <td>1.002737e-04</td>\n",
       "      <td>0.044770</td>\n",
       "      <td>2.356072e-07</td>\n",
       "      <td>2.082757e-06</td>\n",
       "      <td>6.017161e-07</td>\n",
       "      <td>4.089492e-07</td>\n",
       "      <td>flow=Background-TCP-Established</td>\n",
       "      <td>0</td>\n",
       "      <td>1</td>\n",
       "      <td>0</td>\n",
       "      <td>...</td>\n",
       "      <td>0</td>\n",
       "      <td>0</td>\n",
       "      <td>0</td>\n",
       "      <td>0</td>\n",
       "      <td>0</td>\n",
       "      <td>0</td>\n",
       "      <td>1</td>\n",
       "      <td>0</td>\n",
       "      <td>0</td>\n",
       "      <td>0</td>\n",
       "    </tr>\n",
       "    <tr>\n",
       "      <th>...</th>\n",
       "      <td>...</td>\n",
       "      <td>...</td>\n",
       "      <td>...</td>\n",
       "      <td>...</td>\n",
       "      <td>...</td>\n",
       "      <td>...</td>\n",
       "      <td>...</td>\n",
       "      <td>...</td>\n",
       "      <td>...</td>\n",
       "      <td>...</td>\n",
       "      <td>...</td>\n",
       "      <td>...</td>\n",
       "      <td>...</td>\n",
       "      <td>...</td>\n",
       "      <td>...</td>\n",
       "      <td>...</td>\n",
       "      <td>...</td>\n",
       "      <td>...</td>\n",
       "      <td>...</td>\n",
       "      <td>...</td>\n",
       "      <td>...</td>\n",
       "    </tr>\n",
       "    <tr>\n",
       "      <th>4176836</th>\n",
       "      <td>4.656225e-05</td>\n",
       "      <td>0.034815</td>\n",
       "      <td>2.356072e-07</td>\n",
       "      <td>1.952585e-05</td>\n",
       "      <td>2.010565e-05</td>\n",
       "      <td>4.939522e-07</td>\n",
       "      <td>flow=Background-TCP-Established</td>\n",
       "      <td>0</td>\n",
       "      <td>1</td>\n",
       "      <td>0</td>\n",
       "      <td>...</td>\n",
       "      <td>0</td>\n",
       "      <td>0</td>\n",
       "      <td>0</td>\n",
       "      <td>0</td>\n",
       "      <td>0</td>\n",
       "      <td>0</td>\n",
       "      <td>1</td>\n",
       "      <td>0</td>\n",
       "      <td>0</td>\n",
       "      <td>0</td>\n",
       "    </tr>\n",
       "    <tr>\n",
       "      <th>4176837</th>\n",
       "      <td>5.632938e-08</td>\n",
       "      <td>0.859588</td>\n",
       "      <td>1.521243e-07</td>\n",
       "      <td>2.603447e-07</td>\n",
       "      <td>5.977500e-08</td>\n",
       "      <td>2.336853e-08</td>\n",
       "      <td>flow=To-Background-UDP-CVUT-DNS-Server</td>\n",
       "      <td>0</td>\n",
       "      <td>1</td>\n",
       "      <td>0</td>\n",
       "      <td>...</td>\n",
       "      <td>0</td>\n",
       "      <td>0</td>\n",
       "      <td>0</td>\n",
       "      <td>0</td>\n",
       "      <td>0</td>\n",
       "      <td>0</td>\n",
       "      <td>0</td>\n",
       "      <td>1</td>\n",
       "      <td>0</td>\n",
       "      <td>0</td>\n",
       "    </tr>\n",
       "    <tr>\n",
       "      <th>4176838</th>\n",
       "      <td>2.738838e-05</td>\n",
       "      <td>0.813878</td>\n",
       "      <td>1.521243e-07</td>\n",
       "      <td>7.810340e-07</td>\n",
       "      <td>9.178721e-08</td>\n",
       "      <td>7.448717e-08</td>\n",
       "      <td>flow=To-Background-UDP-CVUT-DNS-Server</td>\n",
       "      <td>0</td>\n",
       "      <td>1</td>\n",
       "      <td>0</td>\n",
       "      <td>...</td>\n",
       "      <td>0</td>\n",
       "      <td>0</td>\n",
       "      <td>0</td>\n",
       "      <td>0</td>\n",
       "      <td>0</td>\n",
       "      <td>0</td>\n",
       "      <td>0</td>\n",
       "      <td>1</td>\n",
       "      <td>0</td>\n",
       "      <td>0</td>\n",
       "    </tr>\n",
       "    <tr>\n",
       "      <th>4176839</th>\n",
       "      <td>1.894964e-07</td>\n",
       "      <td>0.701350</td>\n",
       "      <td>1.459837e-04</td>\n",
       "      <td>2.603447e-07</td>\n",
       "      <td>2.096374e-08</td>\n",
       "      <td>2.161589e-08</td>\n",
       "      <td>flow=Background-UDP-Established</td>\n",
       "      <td>0</td>\n",
       "      <td>1</td>\n",
       "      <td>0</td>\n",
       "      <td>...</td>\n",
       "      <td>0</td>\n",
       "      <td>0</td>\n",
       "      <td>0</td>\n",
       "      <td>0</td>\n",
       "      <td>0</td>\n",
       "      <td>0</td>\n",
       "      <td>0</td>\n",
       "      <td>1</td>\n",
       "      <td>0</td>\n",
       "      <td>0</td>\n",
       "    </tr>\n",
       "    <tr>\n",
       "      <th>4176840</th>\n",
       "      <td>7.218911e-08</td>\n",
       "      <td>0.869780</td>\n",
       "      <td>1.521243e-07</td>\n",
       "      <td>2.603447e-07</td>\n",
       "      <td>4.192749e-08</td>\n",
       "      <td>2.307642e-08</td>\n",
       "      <td>flow=To-Background-UDP-CVUT-DNS-Server</td>\n",
       "      <td>0</td>\n",
       "      <td>1</td>\n",
       "      <td>0</td>\n",
       "      <td>...</td>\n",
       "      <td>0</td>\n",
       "      <td>0</td>\n",
       "      <td>0</td>\n",
       "      <td>0</td>\n",
       "      <td>0</td>\n",
       "      <td>0</td>\n",
       "      <td>0</td>\n",
       "      <td>1</td>\n",
       "      <td>0</td>\n",
       "      <td>0</td>\n",
       "    </tr>\n",
       "  </tbody>\n",
       "</table>\n",
       "<p>4176841 rows × 41 columns</p>\n",
       "</div>"
      ],
      "text/plain": [
       "                  dur     sport         dport       totpkts      totbytes  \\\n",
       "0        5.256203e-01  0.069706  5.385758e-05  1.822413e-06  1.733758e-07   \n",
       "1        1.848479e-07  0.803731  1.459837e-04  2.603447e-07  2.096374e-08   \n",
       "2        3.117257e-08  0.878473  1.521243e-07  2.603447e-07  4.362725e-08   \n",
       "3        8.476752e-08  0.820429  1.521243e-07  2.603447e-07  4.362725e-08   \n",
       "4        1.002737e-04  0.044770  2.356072e-07  2.082757e-06  6.017161e-07   \n",
       "...               ...       ...           ...           ...           ...   \n",
       "4176836  4.656225e-05  0.034815  2.356072e-07  1.952585e-05  2.010565e-05   \n",
       "4176837  5.632938e-08  0.859588  1.521243e-07  2.603447e-07  5.977500e-08   \n",
       "4176838  2.738838e-05  0.813878  1.521243e-07  7.810340e-07  9.178721e-08   \n",
       "4176839  1.894964e-07  0.701350  1.459837e-04  2.603447e-07  2.096374e-08   \n",
       "4176840  7.218911e-08  0.869780  1.521243e-07  2.603447e-07  4.192749e-08   \n",
       "\n",
       "             srcbytes                                   label  target  \\\n",
       "0        1.962956e-07             flow=Background-UDP-Attempt       0   \n",
       "1        2.161589e-08         flow=Background-UDP-Established       0   \n",
       "2        2.366063e-08  flow=To-Background-UDP-CVUT-DNS-Server       0   \n",
       "3        2.366063e-08  flow=To-Background-UDP-CVUT-DNS-Server       0   \n",
       "4        4.089492e-07         flow=Background-TCP-Established       0   \n",
       "...               ...                                     ...     ...   \n",
       "4176836  4.939522e-07         flow=Background-TCP-Established       0   \n",
       "4176837  2.336853e-08  flow=To-Background-UDP-CVUT-DNS-Server       0   \n",
       "4176838  7.448717e-08  flow=To-Background-UDP-CVUT-DNS-Server       0   \n",
       "4176839  2.161589e-08         flow=Background-UDP-Established       0   \n",
       "4176840  2.307642e-08  flow=To-Background-UDP-CVUT-DNS-Server       0   \n",
       "\n",
       "         stos_0.0  stos_1.0  ...  proto_llc  proto_pim  proto_rarp  \\\n",
       "0               1         0  ...          0          0           0   \n",
       "1               1         0  ...          0          0           0   \n",
       "2               1         0  ...          0          0           0   \n",
       "3               1         0  ...          0          0           0   \n",
       "4               1         0  ...          0          0           0   \n",
       "...           ...       ...  ...        ...        ...         ...   \n",
       "4176836         1         0  ...          0          0           0   \n",
       "4176837         1         0  ...          0          0           0   \n",
       "4176838         1         0  ...          0          0           0   \n",
       "4176839         1         0  ...          0          0           0   \n",
       "4176840         1         0  ...          0          0           0   \n",
       "\n",
       "         proto_rsvp  proto_rtcp  proto_rtp  proto_tcp  proto_udp  proto_udt  \\\n",
       "0                 0           0          0          0          1          0   \n",
       "1                 0           0          0          0          1          0   \n",
       "2                 0           0          0          0          1          0   \n",
       "3                 0           0          0          0          1          0   \n",
       "4                 0           0          0          1          0          0   \n",
       "...             ...         ...        ...        ...        ...        ...   \n",
       "4176836           0           0          0          1          0          0   \n",
       "4176837           0           0          0          0          1          0   \n",
       "4176838           0           0          0          0          1          0   \n",
       "4176839           0           0          0          0          1          0   \n",
       "4176840           0           0          0          0          1          0   \n",
       "\n",
       "         proto_unas  \n",
       "0                 0  \n",
       "1                 0  \n",
       "2                 0  \n",
       "3                 0  \n",
       "4                 0  \n",
       "...             ...  \n",
       "4176836           0  \n",
       "4176837           0  \n",
       "4176838           0  \n",
       "4176839           0  \n",
       "4176840           0  \n",
       "\n",
       "[4176841 rows x 41 columns]"
      ]
     },
     "execution_count": 61,
     "metadata": {},
     "output_type": "execute_result"
    }
   ],
   "source": [
    "test"
   ]
  },
  {
   "cell_type": "code",
   "execution_count": 62,
   "metadata": {},
   "outputs": [
    {
     "data": {
      "text/plain": [
       "(4176841, 41)"
      ]
     },
     "execution_count": 62,
     "metadata": {},
     "output_type": "execute_result"
    }
   ],
   "source": [
    "test.shape"
   ]
  },
  {
   "cell_type": "code",
   "execution_count": 63,
   "metadata": {},
   "outputs": [],
   "source": [
    "x_test, y_test, y_test_label = test.drop(columns=['label', 'target']), test['target'], test['label']"
   ]
  },
  {
   "cell_type": "code",
   "execution_count": 64,
   "metadata": {
    "colab": {},
    "colab_type": "code",
    "id": "I2RqN_AxiZBw"
   },
   "outputs": [
    {
     "data": {
      "text/plain": [
       "True"
      ]
     },
     "execution_count": 64,
     "metadata": {},
     "output_type": "execute_result"
    }
   ],
   "source": [
    "all(x_train.columns == x_test.columns)"
   ]
  },
  {
   "cell_type": "code",
   "execution_count": 65,
   "metadata": {},
   "outputs": [],
   "source": [
    "pickle.dump((x_test, y_test, y_test_label), open(file_path+'final_test.pkl', 'wb'))"
   ]
  },
  {
   "cell_type": "markdown",
   "metadata": {},
   "source": [
    "# Model Baseline\n",
    "\n",
    "### Decision Tree"
   ]
  },
  {
   "cell_type": "code",
   "execution_count": 65,
   "metadata": {},
   "outputs": [
    {
     "data": {
      "text/plain": [
       "DecisionTreeClassifier(class_weight={0: 0.05, 1: 0.95})"
      ]
     },
     "execution_count": 65,
     "metadata": {},
     "output_type": "execute_result"
    }
   ],
   "source": [
    "clf = DecisionTreeClassifier(class_weight={0:0.05, 1:0.95})\n",
    "clf.fit(x_train, y_train)"
   ]
  },
  {
   "cell_type": "code",
   "execution_count": 66,
   "metadata": {},
   "outputs": [
    {
     "name": "stdout",
     "output_type": "stream",
     "text": [
      "Độ chính xác trên tập train : 0.9994277957413693\n"
     ]
    }
   ],
   "source": [
    "print(f\"Độ chính xác trên tập train : {accuracy_score(y_train, clf.predict(x_train))}\")"
   ]
  },
  {
   "cell_type": "code",
   "execution_count": 67,
   "metadata": {},
   "outputs": [
    {
     "name": "stdout",
     "output_type": "stream",
     "text": [
      "Report trên tập train: \n",
      "               precision    recall  f1-score   support\n",
      "\n",
      "           0       1.00      1.00      1.00   9694069\n",
      "           1       0.98      1.00      0.99    256923\n",
      "\n",
      "    accuracy                           1.00   9950992\n",
      "   macro avg       0.99      1.00      0.99   9950992\n",
      "weighted avg       1.00      1.00      1.00   9950992\n",
      "\n"
     ]
    }
   ],
   "source": [
    "print(f\"Report trên tập train: \\n {classification_report(y_train, clf.predict(x_train))}\")"
   ]
  },
  {
   "cell_type": "code",
   "execution_count": 68,
   "metadata": {},
   "outputs": [
    {
     "name": "stdout",
     "output_type": "stream",
     "text": [
      "Confusion matrix trên tập train: \n",
      " [[9688453    5616]\n",
      " [     78  256845]]\n"
     ]
    }
   ],
   "source": [
    "print(f\"Confusion matrix trên tập train: \\n {confusion_matrix(y_train, clf.predict(x_train))}\")"
   ]
  },
  {
   "cell_type": "code",
   "execution_count": 69,
   "metadata": {},
   "outputs": [
    {
     "data": {
      "image/png": "[encoded data removed]",
      "text/plain": [
       "<Figure size 432x288 with 2 Axes>"
      ]
     },
     "metadata": {
      "needs_background": "light"
     },
     "output_type": "display_data"
    }
   ],
   "source": [
    "plot_confusion_matrix(confusion_matrix(y_train, clf.predict(x_train)), classes=['Normal', 'Attack'],\n",
    "                      title='Confusion matrix, without normalization')"
   ]
  },
  {
   "cell_type": "code",
   "execution_count": 70,
   "metadata": {},
   "outputs": [
    {
     "name": "stdout",
     "output_type": "stream",
     "text": [
      "Độ chính xác trên tập train : 0.9981902590977249\n"
     ]
    }
   ],
   "source": [
    "print(f\"Độ chính xác trên tập train : {accuracy_score(y_test, clf.predict(x_test))}\")"
   ]
  },
  {
   "cell_type": "code",
   "execution_count": 71,
   "metadata": {},
   "outputs": [
    {
     "name": "stdout",
     "output_type": "stream",
     "text": [
      "Report trên tập train: \n",
      "               precision    recall  f1-score   support\n",
      "\n",
      "           0       1.00      1.00      1.00   4097130\n",
      "           1       0.94      0.97      0.95     79711\n",
      "\n",
      "    accuracy                           1.00   4176841\n",
      "   macro avg       0.97      0.98      0.98   4176841\n",
      "weighted avg       1.00      1.00      1.00   4176841\n",
      "\n"
     ]
    }
   ],
   "source": [
    "print(f\"Report trên tập train: \\n {classification_report(y_test, clf.predict(x_test))}\")"
   ]
  },
  {
   "cell_type": "code",
   "execution_count": 72,
   "metadata": {},
   "outputs": [
    {
     "name": "stdout",
     "output_type": "stream",
     "text": [
      "Confusion matrix trên tập train: \n",
      " [[4092348    4782]\n",
      " [   2777   76934]]\n"
     ]
    }
   ],
   "source": [
    "print(f\"Confusion matrix trên tập train: \\n {confusion_matrix(y_test, clf.predict(x_test))}\")"
   ]
  },
  {
   "cell_type": "code",
   "execution_count": 73,
   "metadata": {},
   "outputs": [
    {
     "data": {
      "image/png": "[encoded data removed]",
      "text/plain": [
       "<Figure size 432x288 with 2 Axes>"
      ]
     },
     "metadata": {
      "needs_background": "light"
     },
     "output_type": "display_data"
    }
   ],
   "source": [
    "plot_confusion_matrix(confusion_matrix(y_test, clf.predict(x_test)), classes=['Normal', 'Attack'],\n",
    "                      title='Confusion matrix, without normalization')"
   ]
  },
  {
   "cell_type": "code",
   "execution_count": 74,
   "metadata": {},
   "outputs": [
    {
     "name": "stdout",
     "output_type": "stream",
     "text": [
      "AUC score: \n",
      " 0.9995585418996105\n",
      "AUC score: \n",
      " 0.9819972439867231\n"
     ]
    }
   ],
   "source": [
    "print(f\"AUC score: \\n {roc_auc_score(y_train, clf.predict(x_train))}\")\n",
    "print(f\"AUC score: \\n {roc_auc_score(y_test, clf.predict(x_test))}\")"
   ]
  },
  {
   "cell_type": "code",
   "execution_count": 75,
   "metadata": {},
   "outputs": [
    {
     "data": {
      "text/plain": [
       "<sklearn.metrics._plot.roc_curve.RocCurveDisplay at 0x7f715a9df760>"
      ]
     },
     "execution_count": 75,
     "metadata": {},
     "output_type": "execute_result"
    },
    {
     "data": {
      "image/png": "[encoded data removed]",
      "text/plain": [
       "<Figure size 432x288 with 1 Axes>"
      ]
     },
     "metadata": {
      "needs_background": "light"
     },
     "output_type": "display_data"
    },
    {
     "data": {
      "image/png": "[encoded data removed]",
      "text/plain": [
       "<Figure size 432x288 with 1 Axes>"
      ]
     },
     "metadata": {
      "needs_background": "light"
     },
     "output_type": "display_data"
    }
   ],
   "source": [
    "plot_roc_curve(clf, x_train, y_train)\n",
    "plot_roc_curve(clf, x_test, y_test)"
   ]
  },
  {
   "cell_type": "code",
   "execution_count": 76,
   "metadata": {},
   "outputs": [],
   "source": [
    "filename = 'ID3_model.sav'\n",
    "pickle.dump(clf, open(filename, 'wb'))"
   ]
  },
  {
   "cell_type": "code",
   "execution_count": 77,
   "metadata": {},
   "outputs": [
    {
     "name": "stdout",
     "output_type": "stream",
     "text": [
      "0.9981902590977249\n"
     ]
    }
   ],
   "source": [
    "loaded_model = pickle.load(open(filename, 'rb'))\n",
    "result = loaded_model.score(x_test, y_test)\n",
    "print(result)"
   ]
  },
  {
   "cell_type": "code",
   "execution_count": 80,
   "metadata": {},
   "outputs": [],
   "source": [
    "del loaded_model, clf"
   ]
  },
  {
   "cell_type": "markdown",
   "metadata": {},
   "source": [
    "# Unsupervised Learning\n"
   ]
  },
  {
   "cell_type": "code",
   "execution_count": 4,
   "metadata": {},
   "outputs": [],
   "source": [
    "file_path = './final/'"
   ]
  },
  {
   "cell_type": "code",
   "execution_count": 5,
   "metadata": {},
   "outputs": [],
   "source": [
    "x_train, y_train, y_train_label = pickle.load(open(file_path+'final_train.pkl', 'rb'))\n",
    "x_test, y_test, y_test_label = pickle.load(open(file_path+'final_test.pkl', 'rb'))"
   ]
  },
  {
   "cell_type": "code",
   "execution_count": 6,
   "metadata": {},
   "outputs": [],
   "source": [
    "x_train = x_train[y_train == 0]"
   ]
  },
  {
   "cell_type": "code",
   "execution_count": 7,
   "metadata": {},
   "outputs": [
    {
     "data": {
      "text/plain": [
       "(9694069, 39)"
      ]
     },
     "execution_count": 7,
     "metadata": {},
     "output_type": "execute_result"
    }
   ],
   "source": [
    "x_train.shape"
   ]
  },
  {
   "cell_type": "code",
   "execution_count": 11,
   "metadata": {},
   "outputs": [],
   "source": [
    "y_train, y_test = map(lambda y: y.apply(convertToOneClass), [y_train, y_test])"
   ]
  },
  {
   "cell_type": "code",
   "execution_count": 12,
   "metadata": {},
   "outputs": [
    {
     "data": {
      "text/plain": [
       " 1    9694069\n",
       "-1     256923\n",
       "Name: target, dtype: int64"
      ]
     },
     "execution_count": 12,
     "metadata": {},
     "output_type": "execute_result"
    }
   ],
   "source": [
    "y_train.value_counts()"
   ]
  },
  {
   "cell_type": "code",
   "execution_count": 13,
   "metadata": {},
   "outputs": [
    {
     "data": {
      "text/plain": [
       " 1    4097130\n",
       "-1      79711\n",
       "Name: target, dtype: int64"
      ]
     },
     "execution_count": 13,
     "metadata": {},
     "output_type": "execute_result"
    }
   ],
   "source": [
    "y_test.value_counts()"
   ]
  },
  {
   "cell_type": "code",
   "execution_count": null,
   "metadata": {},
   "outputs": [
    {
     "name": "stderr",
     "output_type": "stream",
     "text": [
      "[Parallel(n_jobs=4)]: Using backend ThreadingBackend with 4 concurrent workers.\n"
     ]
    }
   ],
   "source": [
    "clf_one = IsolationForest(n_estimators=15, max_samples=700000, n_jobs=4, verbose=1)\n",
    "clf_one.fit(x_train)"
   ]
  },
  {
   "cell_type": "code",
   "execution_count": 1,
   "metadata": {},
   "outputs": [],
   "source": [
    "import pickle"
   ]
  },
  {
   "cell_type": "code",
   "execution_count": 14,
   "metadata": {},
   "outputs": [],
   "source": [
    "clf_one = pickle.load(open(\"one_class.pkl\", \"rb\"))"
   ]
  },
  {
   "cell_type": "code",
   "execution_count": 15,
   "metadata": {},
   "outputs": [],
   "source": [
    "predY = clf_one.predict(x_test)"
   ]
  },
  {
   "cell_type": "code",
   "execution_count": 18,
   "metadata": {},
   "outputs": [
    {
     "name": "stdout",
     "output_type": "stream",
     "text": [
      "F1 Score: 0.019\n"
     ]
    }
   ],
   "source": [
    "score = f1_score(y_test, predY, pos_label=-1)\n",
    "print('F1 Score: %.3f' % score)"
   ]
  },
  {
   "cell_type": "code",
   "execution_count": null,
   "metadata": {},
   "outputs": [],
   "source": []
  }
 ],
 "metadata": {
  "kernelspec": {
   "display_name": "Python 3",
   "language": "python",
   "name": "python3"
  },
  "language_info": {
   "codemirror_mode": {
    "name": "ipython",
    "version": 3
   },
   "file_extension": ".py",
   "mimetype": "text/x-python",
   "name": "python",
   "nbconvert_exporter": "python",
   "pygments_lexer": "ipython3",
   "version": "3.8.3"
  }
 },
 "nbformat": 4,
 "nbformat_minor": 4
}