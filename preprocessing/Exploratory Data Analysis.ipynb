{
 "cells": [
  {
   "cell_type": "markdown",
   "metadata": {
    "colab_type": "text",
    "id": "gPaIPu6aXIhr"
   },
   "source": [
    "# CTU - 13: Exploratory Data Analysis"
   ]
  },
  {
   "cell_type": "markdown",
   "metadata": {
    "colab_type": "text",
    "id": "jVAjGsN8XvV8"
   },
   "source": [
    "Performing EDA on the dataset in this notebook.\n",
    "\n",
    "Below is my plan:\n",
    "1. Correlation of the features and its heatmap\n",
    "2. Pairplot between highly correlated features.\n",
    "3. For all the categorial or columns with small number of unique values, countplot or barplot of those features.\n",
    "4. For any numerical features, plot pdf"
   ]
  },
  {
   "cell_type": "code",
   "execution_count": null,
   "metadata": {},
   "outputs": [],
   "source": []
  },
  {
   "cell_type": "markdown",
   "metadata": {
    "colab_type": "text",
    "id": "z47K0yNEqyAN"
   },
   "source": [
    "## Importing libraries"
   ]
  },
  {
   "cell_type": "code",
   "execution_count": 1,
   "metadata": {},
   "outputs": [],
   "source": [
    "import numpy as np  # for array\n",
    "import pandas as pd  # for csv files and dataframe\n",
    "import matplotlib.pyplot as plt  # for plotting\n",
    "import seaborn as sns  # plotting\n",
    "from scipy import stats\n",
    "\n",
    "import pickle  # To load data int disk\n",
    "# from prettytable import PrettyTable  # To print in tabular format\n",
    "import os\n",
    "\n",
    "import warnings\n",
    "warnings.filterwarnings(\"ignore\")\n",
    "\n",
    "from sklearn.preprocessing import StandardScaler\n",
    "from sklearn.preprocessing import LabelEncoder, OneHotEncoder\n",
    "\n",
    "from sklearn.model_selection import train_test_split\n",
    "from sklearn.linear_model import LogisticRegression, SGDClassifier\n",
    "from sklearn.svm import LinearSVC\n",
    "from sklearn.naive_bayes import MultinomialNB\n",
    "from sklearn.tree import DecisionTreeClassifier\n",
    "from sklearn.ensemble import RandomForestClassifier\n",
    "# import xgboost as xgb\n",
    "\n",
    "from sklearn.metrics import accuracy_score, confusion_matrix, make_scorer\n",
    "from sklearn.metrics import auc, f1_score, roc_curve\n",
    "from sklearn.model_selection import GridSearchCV, RandomizedSearchCV\n",
    "from sklearn.model_selection import cross_validate, cross_val_predict\n",
    "\n",
    "%matplotlib inline"
   ]
  },
  {
   "cell_type": "markdown",
   "metadata": {
    "colab_type": "text",
    "id": "rylLMc_sXn2T"
   },
   "source": [
    "## Loading data from disk"
   ]
  },
  {
   "cell_type": "code",
   "execution_count": 2,
   "metadata": {
    "colab": {},
    "colab_type": "code",
    "id": "GU-IL9W34dvE"
   },
   "outputs": [],
   "source": [
    "train = pd.read_csv('./train_alldata_EDA.csv')"
   ]
  },
  {
   "cell_type": "code",
   "execution_count": 3,
   "metadata": {},
   "outputs": [],
   "source": [
    "test = pd.read_csv('./test_alldata_EDA.csv')"
   ]
  },
  {
   "cell_type": "code",
   "execution_count": 4,
   "metadata": {
    "colab": {
     "base_uri": "https://localhost:8080/",
     "height": 34
    },
    "colab_type": "code",
    "executionInfo": {
     "elapsed": 942,
     "status": "ok",
     "timestamp": 1598251511180,
     "user": {
      "displayName": "Subrata Maji",
      "photoUrl": "https://lh3.googleusercontent.com/a-/AOh14Ghxu8VIGqB6XL51-t5wM_f1R1LdmEePYHIwb9b-=s64",
      "userId": "03124174213573157612"
     },
     "user_tz": -330
    },
    "id": "YUxQIJVv4yS7",
    "outputId": "8aec4fa5-cef1-428f-bcba-d20ba2da5c7f"
   },
   "outputs": [
    {
     "data": {
      "text/plain": [
       "((9950992, 17), (4271468, 17))"
      ]
     },
     "execution_count": 4,
     "metadata": {},
     "output_type": "execute_result"
    }
   ],
   "source": [
    "train.shape, test.shape"
   ]
  },
  {
   "cell_type": "code",
   "execution_count": 5,
   "metadata": {},
   "outputs": [
    {
     "data": {
      "text/plain": [
       "9950992"
      ]
     },
     "execution_count": 5,
     "metadata": {},
     "output_type": "execute_result"
    }
   ],
   "source": [
    "len(train)"
   ]
  },
  {
   "cell_type": "code",
   "execution_count": 6,
   "metadata": {},
   "outputs": [],
   "source": [
    "train.drop(columns='Unnamed: 0', axis=1, inplace=True)\n",
    "test.drop(columns='Unnamed: 0', axis=1, inplace=True)"
   ]
  },
  {
   "cell_type": "code",
   "execution_count": 7,
   "metadata": {},
   "outputs": [
    {
     "data": {
      "text/html": [
       "<div>\n",
       "<style scoped>\n",
       "    .dataframe tbody tr th:only-of-type {\n",
       "        vertical-align: middle;\n",
       "    }\n",
       "\n",
       "    .dataframe tbody tr th {\n",
       "        vertical-align: top;\n",
       "    }\n",
       "\n",
       "    .dataframe thead th {\n",
       "        text-align: right;\n",
       "    }\n",
       "</style>\n",
       "<table border=\"1\" class=\"dataframe\">\n",
       "  <thead>\n",
       "    <tr style=\"text-align: right;\">\n",
       "      <th></th>\n",
       "      <th>starttime</th>\n",
       "      <th>dur</th>\n",
       "      <th>proto</th>\n",
       "      <th>srcaddr</th>\n",
       "      <th>sport</th>\n",
       "      <th>dir</th>\n",
       "      <th>dstaddr</th>\n",
       "      <th>dport</th>\n",
       "      <th>state</th>\n",
       "      <th>stos</th>\n",
       "      <th>dtos</th>\n",
       "      <th>totpkts</th>\n",
       "      <th>totbytes</th>\n",
       "      <th>srcbytes</th>\n",
       "      <th>label</th>\n",
       "      <th>target</th>\n",
       "    </tr>\n",
       "  </thead>\n",
       "  <tbody>\n",
       "    <tr>\n",
       "      <th>0</th>\n",
       "      <td>2011-08-12 22:08:41.277072</td>\n",
       "      <td>0.000000</td>\n",
       "      <td>tcp</td>\n",
       "      <td>74.86.42.203</td>\n",
       "      <td>80</td>\n",
       "      <td>-&gt;</td>\n",
       "      <td>147.32.86.50</td>\n",
       "      <td>3072</td>\n",
       "      <td>SA_</td>\n",
       "      <td>0.0</td>\n",
       "      <td>0.0</td>\n",
       "      <td>1</td>\n",
       "      <td>60</td>\n",
       "      <td>60</td>\n",
       "      <td>flow=Background-TCP-Established</td>\n",
       "      <td>0</td>\n",
       "    </tr>\n",
       "    <tr>\n",
       "      <th>1</th>\n",
       "      <td>2011-08-14 23:11:07.462572</td>\n",
       "      <td>0.003940</td>\n",
       "      <td>udp</td>\n",
       "      <td>67.49.33.55</td>\n",
       "      <td>53622</td>\n",
       "      <td>&lt;-&gt;</td>\n",
       "      <td>147.32.84.229</td>\n",
       "      <td>13363</td>\n",
       "      <td>CON</td>\n",
       "      <td>0.0</td>\n",
       "      <td>0.0</td>\n",
       "      <td>4</td>\n",
       "      <td>2995</td>\n",
       "      <td>60</td>\n",
       "      <td>flow=Background-UDP-Established</td>\n",
       "      <td>0</td>\n",
       "    </tr>\n",
       "    <tr>\n",
       "      <th>2</th>\n",
       "      <td>2011-08-15 14:02:41.946307</td>\n",
       "      <td>0.000289</td>\n",
       "      <td>udp</td>\n",
       "      <td>147.32.86.171</td>\n",
       "      <td>56559</td>\n",
       "      <td>&lt;-&gt;</td>\n",
       "      <td>147.32.80.9</td>\n",
       "      <td>53</td>\n",
       "      <td>CON</td>\n",
       "      <td>0.0</td>\n",
       "      <td>0.0</td>\n",
       "      <td>2</td>\n",
       "      <td>392</td>\n",
       "      <td>77</td>\n",
       "      <td>flow=To-Background-UDP-CVUT-DNS-Server</td>\n",
       "      <td>0</td>\n",
       "    </tr>\n",
       "    <tr>\n",
       "      <th>3</th>\n",
       "      <td>2011-08-16 08:46:24.544795</td>\n",
       "      <td>1336.481934</td>\n",
       "      <td>udp</td>\n",
       "      <td>77.87.33.112</td>\n",
       "      <td>35057</td>\n",
       "      <td>&lt;-&gt;</td>\n",
       "      <td>147.32.84.229</td>\n",
       "      <td>13363</td>\n",
       "      <td>CON</td>\n",
       "      <td>0.0</td>\n",
       "      <td>0.0</td>\n",
       "      <td>4</td>\n",
       "      <td>1138</td>\n",
       "      <td>150</td>\n",
       "      <td>flow=Background-UDP-Established</td>\n",
       "      <td>0</td>\n",
       "    </tr>\n",
       "    <tr>\n",
       "      <th>4</th>\n",
       "      <td>2011-08-18 10:41:28.980563</td>\n",
       "      <td>0.984197</td>\n",
       "      <td>tcp</td>\n",
       "      <td>84.122.159.122</td>\n",
       "      <td>1958</td>\n",
       "      <td>-&gt;</td>\n",
       "      <td>147.32.84.118</td>\n",
       "      <td>6881</td>\n",
       "      <td>S_RA</td>\n",
       "      <td>0.0</td>\n",
       "      <td>0.0</td>\n",
       "      <td>6</td>\n",
       "      <td>366</td>\n",
       "      <td>186</td>\n",
       "      <td>flow=Background-TCP-Attempt</td>\n",
       "      <td>0</td>\n",
       "    </tr>\n",
       "  </tbody>\n",
       "</table>\n",
       "</div>"
      ],
      "text/plain": [
       "                    starttime          dur proto         srcaddr  sport  \\\n",
       "0  2011-08-12 22:08:41.277072     0.000000   tcp    74.86.42.203     80   \n",
       "1  2011-08-14 23:11:07.462572     0.003940   udp     67.49.33.55  53622   \n",
       "2  2011-08-15 14:02:41.946307     0.000289   udp   147.32.86.171  56559   \n",
       "3  2011-08-16 08:46:24.544795  1336.481934   udp    77.87.33.112  35057   \n",
       "4  2011-08-18 10:41:28.980563     0.984197   tcp  84.122.159.122   1958   \n",
       "\n",
       "     dir        dstaddr  dport state  stos  dtos  totpkts  totbytes  srcbytes  \\\n",
       "0     ->   147.32.86.50   3072   SA_   0.0   0.0        1        60        60   \n",
       "1    <->  147.32.84.229  13363   CON   0.0   0.0        4      2995        60   \n",
       "2    <->    147.32.80.9     53   CON   0.0   0.0        2       392        77   \n",
       "3    <->  147.32.84.229  13363   CON   0.0   0.0        4      1138       150   \n",
       "4     ->  147.32.84.118   6881  S_RA   0.0   0.0        6       366       186   \n",
       "\n",
       "                                    label  target  \n",
       "0         flow=Background-TCP-Established       0  \n",
       "1         flow=Background-UDP-Established       0  \n",
       "2  flow=To-Background-UDP-CVUT-DNS-Server       0  \n",
       "3         flow=Background-UDP-Established       0  \n",
       "4             flow=Background-TCP-Attempt       0  "
      ]
     },
     "execution_count": 7,
     "metadata": {},
     "output_type": "execute_result"
    }
   ],
   "source": [
    "train.head()"
   ]
  },
  {
   "cell_type": "code",
   "execution_count": 8,
   "metadata": {
    "colab": {},
    "colab_type": "code",
    "id": "9fhkiLsVo08Y"
   },
   "outputs": [],
   "source": [
    "# Dividing the train data into attack and non-attack category\n",
    "normal = train[train['target']==0]\n",
    "anomaly = train[train['target']==1]"
   ]
  },
  {
   "cell_type": "code",
   "execution_count": 9,
   "metadata": {},
   "outputs": [
    {
     "data": {
      "text/plain": [
       "((9694069, 16), (256923, 16))"
      ]
     },
     "execution_count": 9,
     "metadata": {},
     "output_type": "execute_result"
    }
   ],
   "source": [
    "normal.shape, anomaly.shape"
   ]
  },
  {
   "cell_type": "markdown",
   "metadata": {
    "colab_type": "text",
    "id": "0jQ5H8uQsJsU"
   },
   "source": [
    "## Correlation\n",
    "Getting correlation values for all the features.\n",
    "\n",
    "Plot heatmap of correaltion for better visualization"
   ]
  },
  {
   "cell_type": "markdown",
   "metadata": {
    "colab_type": "text",
    "id": "-EBLCeb_VgA8"
   },
   "source": [
    "### Utility functions"
   ]
  },
  {
   "cell_type": "code",
   "execution_count": 10,
   "metadata": {
    "colab": {},
    "colab_type": "code",
    "id": "KvqfsM-KSa-g"
   },
   "outputs": [],
   "source": [
    "def multi_corr(col1, col2=\"label\", df=train):\n",
    "    '''\n",
    "    This function returns correlation between 2 given features.\n",
    "    Also gives corr of the given features with \"label\" afetr applying log1p to it.\n",
    "    '''\n",
    "    corr = df[[col1, col2]].corr().iloc[0,1]\n",
    "    log_corr = df[col1].apply(np.log1p).corr(df[col2])\n",
    "\n",
    "    print(\"Correlation : {}\\nlog_Correlation: {}\".format(corr, log_corr))"
   ]
  },
  {
   "cell_type": "code",
   "execution_count": 11,
   "metadata": {
    "colab": {},
    "colab_type": "code",
    "id": "xV4ciADWnzQW"
   },
   "outputs": [],
   "source": [
    "def corr(col1, col2=\"label\", df=train):\n",
    "    \"\"\"\n",
    "    This function returns correlation between 2 given features\n",
    "    \"\"\"\n",
    "    return df[[col1, col2]].corr().iloc[0,1]"
   ]
  },
  {
   "cell_type": "code",
   "execution_count": 12,
   "metadata": {
    "colab": {
     "base_uri": "https://localhost:8080/",
     "height": 736
    },
    "colab_type": "code",
    "executionInfo": {
     "elapsed": 10550,
     "status": "ok",
     "timestamp": 1598245431850,
     "user": {
      "displayName": "Subrata Maji",
      "photoUrl": "https://lh3.googleusercontent.com/a-/AOh14Ghxu8VIGqB6XL51-t5wM_f1R1LdmEePYHIwb9b-=s64",
      "userId": "03124174213573157612"
     },
     "user_tz": -330
    },
    "id": "wAMp7tqvUtmJ",
    "outputId": "0d637ad9-3d08-414f-978f-014f91def310"
   },
   "outputs": [
    {
     "data": {
      "image/png": "[encoded data removed]",
      "text/plain": [
       "<Figure size 864x864 with 2 Axes>"
      ]
     },
     "metadata": {
      "needs_background": "light"
     },
     "output_type": "display_data"
    }
   ],
   "source": [
    "# Plotting the correlation matrix of numerical feature in dataset\n",
    "\n",
    "method = \"pearson\"\n",
    "# correlation matrix\n",
    "corr_mat = train.corr(method=method)\n",
    "\n",
    "plt.figure(figsize=(12,12)) \n",
    "sns.heatmap(corr_mat, square=True)\n",
    "plt.show()"
   ]
  },
  {
   "cell_type": "code",
   "execution_count": 13,
   "metadata": {},
   "outputs": [
    {
     "data": {
      "text/plain": [
       "(7,)"
      ]
     },
     "execution_count": 13,
     "metadata": {},
     "output_type": "execute_result"
    }
   ],
   "source": [
    "corr_mat.columns.shape"
   ]
  },
  {
   "cell_type": "code",
   "execution_count": 14,
   "metadata": {
    "colab": {
     "base_uri": "https://localhost:8080/",
     "height": 323
    },
    "colab_type": "code",
    "executionInfo": {
     "elapsed": 985,
     "status": "ok",
     "timestamp": 1598245452595,
     "user": {
      "displayName": "Subrata Maji",
      "photoUrl": "https://lh3.googleusercontent.com/a-/AOh14Ghxu8VIGqB6XL51-t5wM_f1R1LdmEePYHIwb9b-=s64",
      "userId": "03124174213573157612"
     },
     "user_tz": -330
    },
    "id": "0KMHTLpKu437",
    "outputId": "2057276c-623a-4473-f1df-36f23c7967fe"
   },
   "outputs": [
    {
     "name": "stdout",
     "output_type": "stream",
     "text": [
      "totpkts              totbytes             0.9610826457599371\n",
      "totpkts              srcbytes             0.5496502723652984\n",
      "totbytes             srcbytes             0.5281981236371139\n"
     ]
    }
   ],
   "source": [
    "# Getting and printing high correlated features\n",
    "limit = 0.5\n",
    "\n",
    "columns = corr_mat.columns\n",
    "for i in range(corr_mat.shape[0]):\n",
    "    for j in range(i+1, corr_mat.shape[0]):\n",
    "        if corr_mat.iloc[i, j] >= limit:\n",
    "            print(f\"{columns[i]:20s} {columns[j]:20s} {corr_mat.iloc[i, j]}\")\n"
   ]
  },
  {
   "cell_type": "markdown",
   "metadata": {
    "colab_type": "text",
    "id": "ku8itWfCyfdv"
   },
   "source": [
    "Most correlated features are:\n",
    "* totpkts, totbytes\n",
    "\n"
   ]
  },
  {
   "cell_type": "markdown",
   "metadata": {
    "colab_type": "text",
    "id": "rJeXiKl6QiaE"
   },
   "source": [
    "## Pairplots of highly correlated features"
   ]
  },
  {
   "cell_type": "markdown",
   "metadata": {
    "colab_type": "text",
    "id": "NGSGf2FOZaF6"
   },
   "source": [
    "### totpkts and totbytes"
   ]
  },
  {
   "cell_type": "code",
   "execution_count": 15,
   "metadata": {
    "colab": {
     "base_uri": "https://localhost:8080/",
     "height": 398
    },
    "colab_type": "code",
    "executionInfo": {
     "elapsed": 11809,
     "status": "ok",
     "timestamp": 1598247462385,
     "user": {
      "displayName": "Subrata Maji",
      "photoUrl": "https://lh3.googleusercontent.com/a-/AOh14Ghxu8VIGqB6XL51-t5wM_f1R1LdmEePYHIwb9b-=s64",
      "userId": "03124174213573157612"
     },
     "user_tz": -330
    },
    "id": "HHSvsJHrxWiN",
    "outputId": "ecdd396e-d661-414d-eb3c-65729842770b"
   },
   "outputs": [
    {
     "data": {
      "image/png": "[encoded data removed]",
      "text/plain": [
       "<Figure size 360x360 with 6 Axes>"
      ]
     },
     "metadata": {},
     "output_type": "display_data"
    }
   ],
   "source": [
    "sns.set_style(\"whitegrid\")\n",
    "sns.pairplot(data=train, vars=['totpkts', 'totbytes'])\n",
    "plt.show()"
   ]
  },
  {
   "cell_type": "code",
   "execution_count": 16,
   "metadata": {},
   "outputs": [
    {
     "data": {
      "text/plain": [
       "<matplotlib.axes._subplots.AxesSubplot at 0x7fc2e63debb0>"
      ]
     },
     "execution_count": 16,
     "metadata": {},
     "output_type": "execute_result"
    },
    {
     "data": {
      "image/png": "[encoded data removed]",
      "text/plain": [
       "<Figure size 432x288 with 1 Axes>"
      ]
     },
     "metadata": {},
     "output_type": "display_data"
    }
   ],
   "source": [
    "sns.scatterplot(x='totpkts', y='totbytes', data=train)"
   ]
  },
  {
   "cell_type": "code",
   "execution_count": 17,
   "metadata": {},
   "outputs": [
    {
     "data": {
      "text/plain": [
       "<matplotlib.axes._subplots.AxesSubplot at 0x7fc2c1608c10>"
      ]
     },
     "execution_count": 17,
     "metadata": {},
     "output_type": "execute_result"
    },
    {
     "data": {
      "image/png": "[encoded data removed]",
      "text/plain": [
       "<Figure size 432x288 with 1 Axes>"
      ]
     },
     "metadata": {},
     "output_type": "display_data"
    }
   ],
   "source": [
    "sns.scatterplot(x='totbytes', y='totpkts', data=train)"
   ]
  },
  {
   "cell_type": "code",
   "execution_count": 18,
   "metadata": {},
   "outputs": [
    {
     "data": {
      "image/png": "[encoded data removed]",
      "text/plain": [
       "<Figure size 540x540 with 12 Axes>"
      ]
     },
     "metadata": {},
     "output_type": "display_data"
    }
   ],
   "source": [
    "sns.set_style(\"whitegrid\")\n",
    "sns.pairplot(data=train, vars=['totpkts', 'totbytes', 'srcbytes'])\n",
    "plt.show()"
   ]
  },
  {
   "cell_type": "markdown",
   "metadata": {
    "colab_type": "text",
    "id": "ns1ej_PCQzJO"
   },
   "source": [
    "### Countplots and pdf of features"
   ]
  },
  {
   "cell_type": "markdown",
   "metadata": {
    "colab_type": "text",
    "id": "p-fJkA63OzTX"
   },
   "source": [
    "### Utility functions"
   ]
  },
  {
   "cell_type": "code",
   "execution_count": 19,
   "metadata": {
    "colab": {},
    "colab_type": "code",
    "id": "1UFShc2KdC8A"
   },
   "outputs": [],
   "source": [
    "def col_countplot(col, train_data=train):\n",
    "    \"\"\"\n",
    "    This function plots countplot of a given feature for train dataset\n",
    "    \"\"\"\n",
    "    fig, ax = plt.subplots(figsize=(8,4))\n",
    "    sns.set_style('whitegrid')\n",
    "    # countplot of the given column\n",
    "    ax = sns.countplot(x=col, hue='target', data=train_data)\n",
    "    ax.legend(loc=\"upper right\", labels=('normal', 'attack'))\n",
    "    ax.set_title(\"train data\")\n",
    "    plt.xticks(rotation=45)\n",
    "    plt.show()"
   ]
  },
  {
   "cell_type": "code",
   "execution_count": 20,
   "metadata": {
    "colab": {},
    "colab_type": "code",
    "id": "aCNi1h_tQ0bX"
   },
   "outputs": [],
   "source": [
    "# Plotting pdf of numerical columns\n",
    "\n",
    "def dual_plot(col, data1=normal, data2=anomaly, label1='normal', label2='anomaly', method=None):\n",
    "    \"\"\"\n",
    "    This function plots pdf of the given feature on attack and non-attck data\n",
    "    \"\"\"\n",
    "    if method != None:\n",
    "        sns.set_style('whitegrid')\n",
    "        sns.distplot(data1[col].apply(method), label=label1, hist=False, rug=True)\n",
    "        sns.distplot(data2[col].apply(method), label=label2, hist=False, rug=True)\n",
    "    else:\n",
    "        sns.set_style('whitegrid')\n",
    "        sns.distplot(data1[col], label=label1, hist=False, rug=True)\n",
    "        sns.distplot(data2[col], label=label2, hist=False, rug=True)\n",
    "    plt.legend()"
   ]
  },
  {
   "cell_type": "code",
   "execution_count": 21,
   "metadata": {
    "colab": {},
    "colab_type": "code",
    "id": "GG-g7cEvF-Xw"
   },
   "outputs": [],
   "source": [
    "def reduce_column(s, to_keep):\n",
    "    \"\"\"\n",
    "    This function reduce categorical values of a given feature to values provided in to_keep list\n",
    "    and make every other value \"others\"\n",
    "    \"\"\"\n",
    "    s = s.lower().strip()\n",
    "    if s not in to_keep:\n",
    "        return \"others\"\n",
    "    else:\n",
    "        return s"
   ]
  },
  {
   "cell_type": "markdown",
   "metadata": {
    "colab_type": "text",
    "id": "uVEwL-VERD5u"
   },
   "source": [
    "#### Attack Category\n",
    "The name of each attack category. In this\n",
    "data set, there are total eight categories of attack and normal is non-attack.\n",
    "\n",
    "The data is highly imbalanced and have lots of non-attack than attacks.\n",
    "\n",
    "\n",
    "In train data most occured attack data categories are \"Neris\", \"Rbot\", \"Virut\", \"DonBot\", \"Sogou\", \"Murlo\" and \"NSIS.ay\""
   ]
  },
  {
   "cell_type": "code",
   "execution_count": 22,
   "metadata": {},
   "outputs": [
    {
     "data": {
      "text/plain": [
       "flow=From-Botnet-V44-TCP-Attempt                     18369\n",
       "flow=From-Botnet-V54-TCP-Attempt                     15714\n",
       "flow=From-Botnet-V50-1-UDP-DNS                       10627\n",
       "flow=From-Botnet-V50-7-UDP-DNS                        8840\n",
       "flow=From-Botnet-V51-6-ICMP                           8187\n",
       "                                                     ...  \n",
       "flow=From-Botnet-V45-TCP-Established-HTTP-Ad-4           1\n",
       "flow=From-Botnet-V51-8-TCP-CC1-HTTP-Not-Encrypted        1\n",
       "flow=From-Botnet-V50-5-TCP-CC7-Custom-Encryption         1\n",
       "flow=From-Botnet-V50-9-TCP-Established-HTTP-Ad-52        1\n",
       "flow=From-Botnet-V50-7-TCP-Established-HTTP-Ad-53        1\n",
       "Name: label, Length: 1009, dtype: int64"
      ]
     },
     "execution_count": 22,
     "metadata": {},
     "output_type": "execute_result"
    }
   ],
   "source": [
    "anomaly.label.value_counts()"
   ]
  },
  {
   "cell_type": "markdown",
   "metadata": {},
   "source": [
    "#### Proto\n",
    "Categorical feature. Transaction protocol\n",
    "\n",
    "\n",
    "1. Most of the values are consists of udp and tcp\n",
    "2. Special, for attacks count of tcp is lot higher\n",
    "3. Considering the imbalce there are lots of udp cat for attacks"
   ]
  },
  {
   "cell_type": "code",
   "execution_count": 23,
   "metadata": {},
   "outputs": [
    {
     "data": {
      "text/plain": [
       "18"
      ]
     },
     "execution_count": 23,
     "metadata": {},
     "output_type": "execute_result"
    }
   ],
   "source": [
    "train.proto.nunique()"
   ]
  },
  {
   "cell_type": "code",
   "execution_count": 24,
   "metadata": {},
   "outputs": [
    {
     "data": {
      "text/plain": [
       "udp          7298615\n",
       "tcp          2334205\n",
       "icmp          280538\n",
       "igmp           19079\n",
       "arp             6452\n",
       "rtp             6150\n",
       "rtcp            4961\n",
       "ipv6-icmp        689\n",
       "ipx/spx          162\n",
       "ipv6              75\n",
       "udt               21\n",
       "esp               16\n",
       "unas              10\n",
       "rarp               8\n",
       "llc                5\n",
       "rsvp               3\n",
       "pim                2\n",
       "ipnip              1\n",
       "Name: proto, dtype: int64"
      ]
     },
     "execution_count": 24,
     "metadata": {},
     "output_type": "execute_result"
    }
   ],
   "source": [
    "train.proto.value_counts()"
   ]
  },
  {
   "cell_type": "code",
   "execution_count": 25,
   "metadata": {
    "colab": {
     "base_uri": "https://localhost:8080/",
     "height": 34
    },
    "colab_type": "code",
    "executionInfo": {
     "elapsed": 1719,
     "status": "ok",
     "timestamp": 1597085827871,
     "user": {
      "displayName": "Subrata Maji",
      "photoUrl": "https://lh3.googleusercontent.com/a-/AOh14Ghxu8VIGqB6XL51-t5wM_f1R1LdmEePYHIwb9b-=s64",
      "userId": "03124174213573157612"
     },
     "user_tz": -330
    },
    "id": "6vd6fjEUfZps",
    "outputId": "d251801c-3970-426c-acb5-05d10fab3857"
   },
   "outputs": [
    {
     "data": {
      "text/plain": [
       "(18, 3)"
      ]
     },
     "execution_count": 25,
     "metadata": {},
     "output_type": "execute_result"
    }
   ],
   "source": [
    "normal['proto'].nunique(), anomaly['proto'].nunique()"
   ]
  },
  {
   "cell_type": "code",
   "execution_count": 26,
   "metadata": {},
   "outputs": [
    {
     "data": {
      "text/plain": [
       "tcp     100755\n",
       "udp      81578\n",
       "icmp     74590\n",
       "Name: proto, dtype: int64"
      ]
     },
     "execution_count": 26,
     "metadata": {},
     "output_type": "execute_result"
    }
   ],
   "source": [
    "anomaly['proto'].value_counts()"
   ]
  },
  {
   "cell_type": "code",
   "execution_count": 27,
   "metadata": {
    "colab": {
     "base_uri": "https://localhost:8080/",
     "height": 204
    },
    "colab_type": "code",
    "executionInfo": {
     "elapsed": 1295,
     "status": "ok",
     "timestamp": 1597085830664,
     "user": {
      "displayName": "Subrata Maji",
      "photoUrl": "https://lh3.googleusercontent.com/a-/AOh14Ghxu8VIGqB6XL51-t5wM_f1R1LdmEePYHIwb9b-=s64",
      "userId": "03124174213573157612"
     },
     "user_tz": -330
    },
    "id": "QMz-UexhFkB2",
    "outputId": "434d5e0c-f8d8-4901-816d-449f97bbb4c6"
   },
   "outputs": [
    {
     "data": {
      "text/plain": [
       "udp          73.345602\n",
       "tcp          23.457008\n",
       "icmp          2.819196\n",
       "igmp          0.191730\n",
       "arp           0.064838\n",
       "rtp           0.061803\n",
       "rtcp          0.049854\n",
       "ipv6-icmp     0.006924\n",
       "ipx/spx       0.001628\n",
       "ipv6          0.000754\n",
       "udt           0.000211\n",
       "esp           0.000161\n",
       "unas          0.000100\n",
       "rarp          0.000080\n",
       "llc           0.000050\n",
       "rsvp          0.000030\n",
       "pim           0.000020\n",
       "ipnip         0.000010\n",
       "Name: proto, dtype: float64"
      ]
     },
     "execution_count": 27,
     "metadata": {},
     "output_type": "execute_result"
    }
   ],
   "source": [
    "train['proto'].value_counts()*100/train.shape[0]"
   ]
  },
  {
   "cell_type": "code",
   "execution_count": 28,
   "metadata": {
    "colab": {},
    "colab_type": "code",
    "id": "OkWSnk9jFn0j"
   },
   "outputs": [],
   "source": [
    "to_keep = ['tcp', 'udp', 'icmp', 'igmp', 'rtp']\n",
    "train['proto_reduced'] = train['proto'].apply(reduce_column, args=(to_keep,))"
   ]
  },
  {
   "cell_type": "code",
   "execution_count": 29,
   "metadata": {
    "colab": {
     "base_uri": "https://localhost:8080/",
     "height": 316
    },
    "colab_type": "code",
    "executionInfo": {
     "elapsed": 1976,
     "status": "ok",
     "timestamp": 1598249025573,
     "user": {
      "displayName": "Subrata Maji",
      "photoUrl": "https://lh3.googleusercontent.com/a-/AOh14Ghxu8VIGqB6XL51-t5wM_f1R1LdmEePYHIwb9b-=s64",
      "userId": "03124174213573157612"
     },
     "user_tz": -330
    },
    "id": "ST5g_gi4HaQr",
    "outputId": "7a2d3a94-e16b-40cf-a70f-441de6d91160"
   },
   "outputs": [
    {
     "data": {
      "text/plain": [
       "udp       7298615\n",
       "tcp       2334205\n",
       "icmp       280538\n",
       "igmp        19079\n",
       "others      12405\n",
       "rtp          6150\n",
       "Name: proto_reduced, dtype: int64"
      ]
     },
     "execution_count": 29,
     "metadata": {},
     "output_type": "execute_result"
    }
   ],
   "source": [
    "train.proto_reduced.value_counts()"
   ]
  },
  {
   "cell_type": "code",
   "execution_count": 30,
   "metadata": {},
   "outputs": [],
   "source": [
    "anomaly['proto_reduced'] = anomaly['proto'].apply(reduce_column, args=(to_keep,))"
   ]
  },
  {
   "cell_type": "code",
   "execution_count": 31,
   "metadata": {},
   "outputs": [
    {
     "data": {
      "text/plain": [
       "tcp     100755\n",
       "udp      81578\n",
       "icmp     74590\n",
       "Name: proto_reduced, dtype: int64"
      ]
     },
     "execution_count": 31,
     "metadata": {},
     "output_type": "execute_result"
    }
   ],
   "source": [
    "anomaly.proto_reduced.value_counts()"
   ]
  },
  {
   "cell_type": "code",
   "execution_count": 32,
   "metadata": {},
   "outputs": [
    {
     "data": {
      "image/png": "[encoded data removed]",
      "text/plain": [
       "<Figure size 576x288 with 1 Axes>"
      ]
     },
     "metadata": {},
     "output_type": "display_data"
    }
   ],
   "source": [
    "col_countplot('proto_reduced')"
   ]
  },
  {
   "cell_type": "markdown",
   "metadata": {},
   "source": [
    "#### Direction\n",
    "Categorical Features\n",
    "\n",
    "\n",
    "1. Directions have three categories: forward, backward, bidirection\n",
    "2. Attack dir is always forward or bidirection not backward"
   ]
  },
  {
   "cell_type": "code",
   "execution_count": 33,
   "metadata": {},
   "outputs": [
    {
     "data": {
      "text/plain": [
       "  <->    7041896\n",
       "   ->    2754519\n",
       "  <-      100205\n",
       "  <?>      29377\n",
       "   ?>      18516\n",
       "  who       6460\n",
       "  <?          19\n",
       "Name: dir, dtype: int64"
      ]
     },
     "execution_count": 33,
     "metadata": {},
     "output_type": "execute_result"
    }
   ],
   "source": [
    "train.dir.value_counts()"
   ]
  },
  {
   "cell_type": "code",
   "execution_count": 34,
   "metadata": {},
   "outputs": [
    {
     "data": {
      "text/plain": [
       "  <->    70.765769\n",
       "   ->    27.680848\n",
       "  <-      1.006985\n",
       "  <?>     0.295217\n",
       "   ?>     0.186072\n",
       "  who     0.064918\n",
       "  <?      0.000191\n",
       "Name: dir, dtype: float64"
      ]
     },
     "execution_count": 34,
     "metadata": {},
     "output_type": "execute_result"
    }
   ],
   "source": [
    "train['dir'].value_counts()*100/train.shape[0]"
   ]
  },
  {
   "cell_type": "code",
   "execution_count": 35,
   "metadata": {},
   "outputs": [
    {
     "data": {
      "text/plain": [
       "   ->    68.441907\n",
       "  <->    31.539411\n",
       "  <?>     0.018683\n",
       "Name: dir, dtype: float64"
      ]
     },
     "execution_count": 35,
     "metadata": {},
     "output_type": "execute_result"
    }
   ],
   "source": [
    "anomaly['dir'].value_counts()*100/anomaly.shape[0]"
   ]
  },
  {
   "cell_type": "code",
   "execution_count": 36,
   "metadata": {},
   "outputs": [
    {
     "data": {
      "image/png": "[encoded data removed]",
      "text/plain": [
       "<Figure size 576x288 with 1 Axes>"
      ]
     },
     "metadata": {},
     "output_type": "display_data"
    }
   ],
   "source": [
    "col_countplot('dir')"
   ]
  },
  {
   "cell_type": "markdown",
   "metadata": {
    "colab_type": "text",
    "id": "dHapbShDRPx4"
   },
   "source": [
    "#### Service\n",
    "Categorical Features\n",
    "\n",
    "\n",
    "#### Stos, Dtos"
   ]
  },
  {
   "cell_type": "code",
   "execution_count": 37,
   "metadata": {},
   "outputs": [
    {
     "data": {
      "image/png": "[encoded data removed]",
      "text/plain": [
       "<Figure size 576x288 with 1 Axes>"
      ]
     },
     "metadata": {},
     "output_type": "display_data"
    }
   ],
   "source": [
    "col_countplot('stos')"
   ]
  },
  {
   "cell_type": "code",
   "execution_count": 38,
   "metadata": {},
   "outputs": [
    {
     "data": {
      "image/png": "[encoded data removed]",
      "text/plain": [
       "<Figure size 576x288 with 1 Axes>"
      ]
     },
     "metadata": {},
     "output_type": "display_data"
    }
   ],
   "source": [
    "col_countplot('dtos')"
   ]
  },
  {
   "cell_type": "markdown",
   "metadata": {
    "colab_type": "text",
    "id": "crrB6jyIRUJf"
   },
   "source": [
    "#### State\n",
    "Categorical feature. The state and its dependent protocol\n",
    "\n",
    "Reducing very rare values with \"others\" to plot and visualize better\n",
    "\n",
    "1. For non-attacks \"con\" is very frequent then \"fspa_fspa\" and few \"int\" also.\n",
    "2. In attack \"s_\" is nearly normal cat values. That could be really important feature to detect. There are very few \"s_\""
   ]
  },
  {
   "cell_type": "code",
   "execution_count": 39,
   "metadata": {
    "colab": {
     "base_uri": "https://localhost:8080/",
     "height": 34
    },
    "colab_type": "code",
    "executionInfo": {
     "elapsed": 901,
     "status": "ok",
     "timestamp": 1596826133051,
     "user": {
      "displayName": "Subrata Maji",
      "photoUrl": "https://lh3.googleusercontent.com/a-/AOh14Ghxu8VIGqB6XL51-t5wM_f1R1LdmEePYHIwb9b-=s64",
      "userId": "03124174213573157612"
     },
     "user_tz": -330
    },
    "id": "tR3rItyjLyKs",
    "outputId": "210e25a3-8f15-417c-c5db-b0f3cd2a462a"
   },
   "outputs": [
    {
     "data": {
      "text/plain": [
       "408"
      ]
     },
     "execution_count": 39,
     "metadata": {},
     "output_type": "execute_result"
    }
   ],
   "source": [
    "train['state'].nunique()"
   ]
  },
  {
   "cell_type": "code",
   "execution_count": 40,
   "metadata": {
    "colab": {
     "base_uri": "https://localhost:8080/",
     "height": 306
    },
    "colab_type": "code",
    "executionInfo": {
     "elapsed": 1022,
     "status": "ok",
     "timestamp": 1596826134802,
     "user": {
      "displayName": "Subrata Maji",
      "photoUrl": "https://lh3.googleusercontent.com/a-/AOh14Ghxu8VIGqB6XL51-t5wM_f1R1LdmEePYHIwb9b-=s64",
      "userId": "03124174213573157612"
     },
     "user_tz": -330
    },
    "id": "fYSfdohHNPhN",
    "outputId": "c6363b5e-64a2-4e72-cf8b-e6c38bda92a4"
   },
   "outputs": [
    {
     "data": {
      "text/plain": [
       "CON           7033000\n",
       "FSPA_FSPA     1084355\n",
       "INT            297007\n",
       "S_             258557\n",
       "S_RA           250211\n",
       "SRPA_FSPA      123724\n",
       "FSA_FSA        101210\n",
       "SRPA_SPA        70509\n",
       "FSRPA_FSPA      67439\n",
       "RED             64714\n",
       "UNK             60732\n",
       "SA_             57044\n",
       "URP             50576\n",
       "ECR             43830\n",
       "FSPA_FSRPA      31131\n",
       "ECO             26654\n",
       "S_SA            26631\n",
       "_FSPA           23919\n",
       "PA_PA           21557\n",
       "SA_R            15642\n",
       "Name: state, dtype: int64"
      ]
     },
     "execution_count": 40,
     "metadata": {},
     "output_type": "execute_result"
    }
   ],
   "source": [
    "train['state'].value_counts().head(20)"
   ]
  },
  {
   "cell_type": "code",
   "execution_count": 41,
   "metadata": {
    "colab": {},
    "colab_type": "code",
    "id": "ExkEWf9SNTSx"
   },
   "outputs": [],
   "source": [
    "to_keep = ['con', 'fspa_fspa', 'int', 's_', 's_ra', 'srpa_fspa', 'fsa_fsa']\n",
    "train['state_reduced'] = train['state'].apply(reduce_column, args=(to_keep,))"
   ]
  },
  {
   "cell_type": "code",
   "execution_count": 42,
   "metadata": {
    "colab": {
     "base_uri": "https://localhost:8080/",
     "height": 316
    },
    "colab_type": "code",
    "executionInfo": {
     "elapsed": 3832,
     "status": "ok",
     "timestamp": 1598249044969,
     "user": {
      "displayName": "Subrata Maji",
      "photoUrl": "https://lh3.googleusercontent.com/a-/AOh14Ghxu8VIGqB6XL51-t5wM_f1R1LdmEePYHIwb9b-=s64",
      "userId": "03124174213573157612"
     },
     "user_tz": -330
    },
    "id": "QGe7Ad-pNjxz",
    "outputId": "997d3028-19b3-448f-ca0f-be650736d484"
   },
   "outputs": [
    {
     "data": {
      "image/png": "[encoded data removed]",
      "text/plain": [
       "<Figure size 576x288 with 1 Axes>"
      ]
     },
     "metadata": {},
     "output_type": "display_data"
    }
   ],
   "source": [
    "col_countplot('state_reduced')"
   ]
  },
  {
   "cell_type": "code",
   "execution_count": 43,
   "metadata": {
    "colab": {},
    "colab_type": "code",
    "id": "1HOVnMkACAzp"
   },
   "outputs": [],
   "source": [
    "train.drop(columns=['proto_reduced', 'state_reduced'], inplace=True)"
   ]
  },
  {
   "cell_type": "code",
   "execution_count": 44,
   "metadata": {},
   "outputs": [
    {
     "data": {
      "text/html": [
       "<div>\n",
       "<style scoped>\n",
       "    .dataframe tbody tr th:only-of-type {\n",
       "        vertical-align: middle;\n",
       "    }\n",
       "\n",
       "    .dataframe tbody tr th {\n",
       "        vertical-align: top;\n",
       "    }\n",
       "\n",
       "    .dataframe thead th {\n",
       "        text-align: right;\n",
       "    }\n",
       "</style>\n",
       "<table border=\"1\" class=\"dataframe\">\n",
       "  <thead>\n",
       "    <tr style=\"text-align: right;\">\n",
       "      <th></th>\n",
       "      <th>starttime</th>\n",
       "      <th>dur</th>\n",
       "      <th>proto</th>\n",
       "      <th>srcaddr</th>\n",
       "      <th>sport</th>\n",
       "      <th>dir</th>\n",
       "      <th>dstaddr</th>\n",
       "      <th>dport</th>\n",
       "      <th>state</th>\n",
       "      <th>stos</th>\n",
       "      <th>dtos</th>\n",
       "      <th>totpkts</th>\n",
       "      <th>totbytes</th>\n",
       "      <th>srcbytes</th>\n",
       "      <th>label</th>\n",
       "      <th>target</th>\n",
       "    </tr>\n",
       "  </thead>\n",
       "  <tbody>\n",
       "    <tr>\n",
       "      <th>0</th>\n",
       "      <td>2011-08-12 22:08:41.277072</td>\n",
       "      <td>0.000000</td>\n",
       "      <td>tcp</td>\n",
       "      <td>74.86.42.203</td>\n",
       "      <td>80</td>\n",
       "      <td>-&gt;</td>\n",
       "      <td>147.32.86.50</td>\n",
       "      <td>3072</td>\n",
       "      <td>SA_</td>\n",
       "      <td>0.0</td>\n",
       "      <td>0.0</td>\n",
       "      <td>1</td>\n",
       "      <td>60</td>\n",
       "      <td>60</td>\n",
       "      <td>flow=Background-TCP-Established</td>\n",
       "      <td>0</td>\n",
       "    </tr>\n",
       "    <tr>\n",
       "      <th>1</th>\n",
       "      <td>2011-08-14 23:11:07.462572</td>\n",
       "      <td>0.003940</td>\n",
       "      <td>udp</td>\n",
       "      <td>67.49.33.55</td>\n",
       "      <td>53622</td>\n",
       "      <td>&lt;-&gt;</td>\n",
       "      <td>147.32.84.229</td>\n",
       "      <td>13363</td>\n",
       "      <td>CON</td>\n",
       "      <td>0.0</td>\n",
       "      <td>0.0</td>\n",
       "      <td>4</td>\n",
       "      <td>2995</td>\n",
       "      <td>60</td>\n",
       "      <td>flow=Background-UDP-Established</td>\n",
       "      <td>0</td>\n",
       "    </tr>\n",
       "    <tr>\n",
       "      <th>2</th>\n",
       "      <td>2011-08-15 14:02:41.946307</td>\n",
       "      <td>0.000289</td>\n",
       "      <td>udp</td>\n",
       "      <td>147.32.86.171</td>\n",
       "      <td>56559</td>\n",
       "      <td>&lt;-&gt;</td>\n",
       "      <td>147.32.80.9</td>\n",
       "      <td>53</td>\n",
       "      <td>CON</td>\n",
       "      <td>0.0</td>\n",
       "      <td>0.0</td>\n",
       "      <td>2</td>\n",
       "      <td>392</td>\n",
       "      <td>77</td>\n",
       "      <td>flow=To-Background-UDP-CVUT-DNS-Server</td>\n",
       "      <td>0</td>\n",
       "    </tr>\n",
       "    <tr>\n",
       "      <th>3</th>\n",
       "      <td>2011-08-16 08:46:24.544795</td>\n",
       "      <td>1336.481934</td>\n",
       "      <td>udp</td>\n",
       "      <td>77.87.33.112</td>\n",
       "      <td>35057</td>\n",
       "      <td>&lt;-&gt;</td>\n",
       "      <td>147.32.84.229</td>\n",
       "      <td>13363</td>\n",
       "      <td>CON</td>\n",
       "      <td>0.0</td>\n",
       "      <td>0.0</td>\n",
       "      <td>4</td>\n",
       "      <td>1138</td>\n",
       "      <td>150</td>\n",
       "      <td>flow=Background-UDP-Established</td>\n",
       "      <td>0</td>\n",
       "    </tr>\n",
       "    <tr>\n",
       "      <th>4</th>\n",
       "      <td>2011-08-18 10:41:28.980563</td>\n",
       "      <td>0.984197</td>\n",
       "      <td>tcp</td>\n",
       "      <td>84.122.159.122</td>\n",
       "      <td>1958</td>\n",
       "      <td>-&gt;</td>\n",
       "      <td>147.32.84.118</td>\n",
       "      <td>6881</td>\n",
       "      <td>S_RA</td>\n",
       "      <td>0.0</td>\n",
       "      <td>0.0</td>\n",
       "      <td>6</td>\n",
       "      <td>366</td>\n",
       "      <td>186</td>\n",
       "      <td>flow=Background-TCP-Attempt</td>\n",
       "      <td>0</td>\n",
       "    </tr>\n",
       "    <tr>\n",
       "      <th>...</th>\n",
       "      <td>...</td>\n",
       "      <td>...</td>\n",
       "      <td>...</td>\n",
       "      <td>...</td>\n",
       "      <td>...</td>\n",
       "      <td>...</td>\n",
       "      <td>...</td>\n",
       "      <td>...</td>\n",
       "      <td>...</td>\n",
       "      <td>...</td>\n",
       "      <td>...</td>\n",
       "      <td>...</td>\n",
       "      <td>...</td>\n",
       "      <td>...</td>\n",
       "      <td>...</td>\n",
       "      <td>...</td>\n",
       "    </tr>\n",
       "    <tr>\n",
       "      <th>9950987</th>\n",
       "      <td>2011-08-15 01:55:47.339228</td>\n",
       "      <td>0.000598</td>\n",
       "      <td>udp</td>\n",
       "      <td>74.65.181.205</td>\n",
       "      <td>42064</td>\n",
       "      <td>&lt;-&gt;</td>\n",
       "      <td>147.32.84.229</td>\n",
       "      <td>13363</td>\n",
       "      <td>CON</td>\n",
       "      <td>0.0</td>\n",
       "      <td>0.0</td>\n",
       "      <td>2</td>\n",
       "      <td>552</td>\n",
       "      <td>75</td>\n",
       "      <td>flow=Background-UDP-Established</td>\n",
       "      <td>0</td>\n",
       "    </tr>\n",
       "    <tr>\n",
       "      <th>9950988</th>\n",
       "      <td>2011-08-16 04:08:02.954859</td>\n",
       "      <td>0.000469</td>\n",
       "      <td>udp</td>\n",
       "      <td>147.32.86.20</td>\n",
       "      <td>53758</td>\n",
       "      <td>&lt;-&gt;</td>\n",
       "      <td>147.32.80.9</td>\n",
       "      <td>53</td>\n",
       "      <td>CON</td>\n",
       "      <td>0.0</td>\n",
       "      <td>0.0</td>\n",
       "      <td>2</td>\n",
       "      <td>239</td>\n",
       "      <td>79</td>\n",
       "      <td>flow=To-Background-UDP-CVUT-DNS-Server</td>\n",
       "      <td>0</td>\n",
       "    </tr>\n",
       "    <tr>\n",
       "      <th>9950989</th>\n",
       "      <td>2011-08-12 23:48:40.386105</td>\n",
       "      <td>0.000147</td>\n",
       "      <td>tcp</td>\n",
       "      <td>157.55.185.43</td>\n",
       "      <td>61000</td>\n",
       "      <td>-&gt;</td>\n",
       "      <td>147.32.85.100</td>\n",
       "      <td>41598</td>\n",
       "      <td>S_RA</td>\n",
       "      <td>0.0</td>\n",
       "      <td>0.0</td>\n",
       "      <td>2</td>\n",
       "      <td>126</td>\n",
       "      <td>66</td>\n",
       "      <td>flow=Background-TCP-Attempt</td>\n",
       "      <td>0</td>\n",
       "    </tr>\n",
       "    <tr>\n",
       "      <th>9950990</th>\n",
       "      <td>2011-08-17 13:07:44.185185</td>\n",
       "      <td>0.000253</td>\n",
       "      <td>udp</td>\n",
       "      <td>147.32.84.138</td>\n",
       "      <td>40794</td>\n",
       "      <td>&lt;-&gt;</td>\n",
       "      <td>147.32.80.9</td>\n",
       "      <td>53</td>\n",
       "      <td>CON</td>\n",
       "      <td>0.0</td>\n",
       "      <td>0.0</td>\n",
       "      <td>2</td>\n",
       "      <td>214</td>\n",
       "      <td>81</td>\n",
       "      <td>flow=To-Background-UDP-CVUT-DNS-Server</td>\n",
       "      <td>0</td>\n",
       "    </tr>\n",
       "    <tr>\n",
       "      <th>9950991</th>\n",
       "      <td>2011-08-17 12:44:26.140660</td>\n",
       "      <td>0.000799</td>\n",
       "      <td>udp</td>\n",
       "      <td>212.95.7.28</td>\n",
       "      <td>20374</td>\n",
       "      <td>&lt;-&gt;</td>\n",
       "      <td>147.32.84.229</td>\n",
       "      <td>13363</td>\n",
       "      <td>CON</td>\n",
       "      <td>0.0</td>\n",
       "      <td>0.0</td>\n",
       "      <td>2</td>\n",
       "      <td>264</td>\n",
       "      <td>179</td>\n",
       "      <td>flow=Background-UDP-Established</td>\n",
       "      <td>0</td>\n",
       "    </tr>\n",
       "  </tbody>\n",
       "</table>\n",
       "<p>9950992 rows × 16 columns</p>\n",
       "</div>"
      ],
      "text/plain": [
       "                          starttime          dur proto         srcaddr  sport  \\\n",
       "0        2011-08-12 22:08:41.277072     0.000000   tcp    74.86.42.203     80   \n",
       "1        2011-08-14 23:11:07.462572     0.003940   udp     67.49.33.55  53622   \n",
       "2        2011-08-15 14:02:41.946307     0.000289   udp   147.32.86.171  56559   \n",
       "3        2011-08-16 08:46:24.544795  1336.481934   udp    77.87.33.112  35057   \n",
       "4        2011-08-18 10:41:28.980563     0.984197   tcp  84.122.159.122   1958   \n",
       "...                             ...          ...   ...             ...    ...   \n",
       "9950987  2011-08-15 01:55:47.339228     0.000598   udp   74.65.181.205  42064   \n",
       "9950988  2011-08-16 04:08:02.954859     0.000469   udp    147.32.86.20  53758   \n",
       "9950989  2011-08-12 23:48:40.386105     0.000147   tcp   157.55.185.43  61000   \n",
       "9950990  2011-08-17 13:07:44.185185     0.000253   udp   147.32.84.138  40794   \n",
       "9950991  2011-08-17 12:44:26.140660     0.000799   udp     212.95.7.28  20374   \n",
       "\n",
       "           dir        dstaddr  dport state  stos  dtos  totpkts  totbytes  \\\n",
       "0           ->   147.32.86.50   3072   SA_   0.0   0.0        1        60   \n",
       "1          <->  147.32.84.229  13363   CON   0.0   0.0        4      2995   \n",
       "2          <->    147.32.80.9     53   CON   0.0   0.0        2       392   \n",
       "3          <->  147.32.84.229  13363   CON   0.0   0.0        4      1138   \n",
       "4           ->  147.32.84.118   6881  S_RA   0.0   0.0        6       366   \n",
       "...        ...            ...    ...   ...   ...   ...      ...       ...   \n",
       "9950987    <->  147.32.84.229  13363   CON   0.0   0.0        2       552   \n",
       "9950988    <->    147.32.80.9     53   CON   0.0   0.0        2       239   \n",
       "9950989     ->  147.32.85.100  41598  S_RA   0.0   0.0        2       126   \n",
       "9950990    <->    147.32.80.9     53   CON   0.0   0.0        2       214   \n",
       "9950991    <->  147.32.84.229  13363   CON   0.0   0.0        2       264   \n",
       "\n",
       "         srcbytes                                   label  target  \n",
       "0              60         flow=Background-TCP-Established       0  \n",
       "1              60         flow=Background-UDP-Established       0  \n",
       "2              77  flow=To-Background-UDP-CVUT-DNS-Server       0  \n",
       "3             150         flow=Background-UDP-Established       0  \n",
       "4             186             flow=Background-TCP-Attempt       0  \n",
       "...           ...                                     ...     ...  \n",
       "9950987        75         flow=Background-UDP-Established       0  \n",
       "9950988        79  flow=To-Background-UDP-CVUT-DNS-Server       0  \n",
       "9950989        66             flow=Background-TCP-Attempt       0  \n",
       "9950990        81  flow=To-Background-UDP-CVUT-DNS-Server       0  \n",
       "9950991       179         flow=Background-UDP-Established       0  \n",
       "\n",
       "[9950992 rows x 16 columns]"
      ]
     },
     "execution_count": 44,
     "metadata": {},
     "output_type": "execute_result"
    }
   ],
   "source": [
    "train"
   ]
  },
  {
   "cell_type": "code",
   "execution_count": 45,
   "metadata": {},
   "outputs": [
    {
     "data": {
      "text/plain": [
       "(9950992, 16)"
      ]
     },
     "execution_count": 45,
     "metadata": {},
     "output_type": "execute_result"
    }
   ],
   "source": [
    "train.shape"
   ]
  },
  {
   "cell_type": "markdown",
   "metadata": {},
   "source": [
    "#### SourcePort, DestPort\n",
    "\n",
    "They are numerical features"
   ]
  },
  {
   "cell_type": "code",
   "execution_count": null,
   "metadata": {},
   "outputs": [],
   "source": [
    "sns.boxplot(x='target', y='sport', data=train)"
   ]
  },
  {
   "cell_type": "markdown",
   "metadata": {
    "colab_type": "text",
    "id": "xoFOB7wR8Btj"
   },
   "source": [
    "#### totpkt\n",
    "Numerical feature. Total packets are exchanged on time (mSec)\n",
    "\n",
    "1. Feature has large range of values upto 17m packet\n",
    "2. For normal dataset there is high peek from 0 - 2.5m packet\n",
    "3. And for attack data all the values are very close to 0 and  distribution of values are very narrow.\n",
    "3. We can visualize better in log scale"
   ]
  },
  {
   "cell_type": "code",
   "execution_count": 46,
   "metadata": {},
   "outputs": [
    {
     "data": {
      "text/plain": [
       "2        6180227\n",
       "4         695800\n",
       "1         383825\n",
       "6         349064\n",
       "10        266116\n",
       "          ...   \n",
       "18747          1\n",
       "13232          1\n",
       "10550          1\n",
       "21439          1\n",
       "10045          1\n",
       "Name: totpkts, Length: 9990, dtype: int64"
      ]
     },
     "execution_count": 46,
     "metadata": {},
     "output_type": "execute_result"
    }
   ],
   "source": [
    "train['totpkts'].value_counts()"
   ]
  },
  {
   "cell_type": "code",
   "execution_count": 47,
   "metadata": {},
   "outputs": [
    {
     "data": {
      "image/png": "[encoded data removed]",
      "text/plain": [
       "<Figure size 1440x288 with 2 Axes>"
      ]
     },
     "metadata": {},
     "output_type": "display_data"
    }
   ],
   "source": [
    "plt.figure(figsize=(20,4))\n",
    "plt.subplot(121)\n",
    "dual_plot('totpkts')\n",
    "plt.subplot(122)\n",
    "dual_plot('totpkts', method=np.log1p)\n",
    "plt.show()"
   ]
  },
  {
   "cell_type": "markdown",
   "metadata": {
    "colab_type": "text",
    "id": "GdsSkAZdmx_C"
   },
   "source": [
    "#### totbytes\n",
    "Numerical feature.\n",
    "<br>\n",
    "Total packets are exchanged on time (mSec)\n",
    "\n",
    "\n",
    "1. Feature has large range of values upto 4.5*1e9\n",
    "2. For nonmal data there is a very high peek from 0 to 1*1e9\n",
    "3. And for attack data all the values are very close to 0 and distribution of values are very narrow."
   ]
  },
  {
   "cell_type": "code",
   "execution_count": 48,
   "metadata": {
    "colab": {
     "base_uri": "https://localhost:8080/",
     "height": 290
    },
    "colab_type": "code",
    "executionInfo": {
     "elapsed": 39911,
     "status": "ok",
     "timestamp": 1598249345406,
     "user": {
      "displayName": "Subrata Maji",
      "photoUrl": "https://lh3.googleusercontent.com/a-/AOh14Ghxu8VIGqB6XL51-t5wM_f1R1LdmEePYHIwb9b-=s64",
      "userId": "03124174213573157612"
     },
     "user_tz": -330
    },
    "id": "3hIYW_0DbfK3",
    "outputId": "c8f1974e-c203-404a-f532-b2959750cec4"
   },
   "outputs": [
    {
     "data": {
      "image/png": "[encoded data removed]",
      "text/plain": [
       "<Figure size 1440x288 with 2 Axes>"
      ]
     },
     "metadata": {},
     "output_type": "display_data"
    }
   ],
   "source": [
    "plt.figure(figsize=(20,4))\n",
    "plt.subplot(121)\n",
    "dual_plot('totbytes')\n",
    "plt.subplot(122)\n",
    "dual_plot('totbytes', method=np.log1p)\n",
    "plt.show()"
   ]
  },
  {
   "cell_type": "markdown",
   "metadata": {
    "colab_type": "text",
    "id": "0cLB2e0R-zII"
   },
   "source": [
    "#### srcbytes\n",
    "Numerical feature. Source Byte (mSec)\n",
    "1. Range of this feature is huge upto 9*1e8.\n",
    "2. Nbnormal data distributed over very wide range upto 100,000,000.\n",
    "3. For attack data there is a huge peek close to 0 and 100,000,000 moreover distributioon of values are very narrow.\n",
    "4. In log high peeks from 0 - 20% percentline of data distribution"
   ]
  },
  {
   "cell_type": "code",
   "execution_count": 49,
   "metadata": {
    "colab": {
     "base_uri": "https://localhost:8080/",
     "height": 290
    },
    "colab_type": "code",
    "executionInfo": {
     "elapsed": 36758,
     "status": "ok",
     "timestamp": 1598249467764,
     "user": {
      "displayName": "Subrata Maji",
      "photoUrl": "https://lh3.googleusercontent.com/a-/AOh14Ghxu8VIGqB6XL51-t5wM_f1R1LdmEePYHIwb9b-=s64",
      "userId": "03124174213573157612"
     },
     "user_tz": -330
    },
    "id": "vZYJQ2Brbyhv",
    "outputId": "b1d62765-bddb-4800-af98-a85e69d65a62"
   },
   "outputs": [
    {
     "data": {
      "image/png": "[encoded data removed]",
      "text/plain": [
       "<Figure size 1440x288 with 2 Axes>"
      ]
     },
     "metadata": {},
     "output_type": "display_data"
    }
   ],
   "source": [
    "plt.figure(figsize=(20,4))\n",
    "plt.subplot(121)\n",
    "dual_plot('srcbytes')\n",
    "plt.subplot(122)\n",
    "dual_plot('srcbytes', method=np.log1p)\n",
    "plt.show()"
   ]
  },
  {
   "cell_type": "markdown",
   "metadata": {
    "colab_type": "text",
    "id": "5YTlOJRETYj4"
   },
   "source": [
    "#### dur\n",
    "Numerical feature. Record total duration\n",
    "1. Range of this feature is 0 to 3600\n",
    "2. Both attack and non-attack cat values have many peeks.."
   ]
  },
  {
   "cell_type": "code",
   "execution_count": 53,
   "metadata": {
    "colab": {
     "base_uri": "https://localhost:8080/",
     "height": 34
    },
    "colab_type": "code",
    "executionInfo": {
     "elapsed": 996,
     "status": "ok",
     "timestamp": 1598249971667,
     "user": {
      "displayName": "Subrata Maji",
      "photoUrl": "https://lh3.googleusercontent.com/a-/AOh14Ghxu8VIGqB6XL51-t5wM_f1R1LdmEePYHIwb9b-=s64",
      "userId": "03124174213573157612"
     },
     "user_tz": -330
    },
    "id": "UomgWmjut1RX",
    "outputId": "5a1f3b2b-bbac-4bb2-bc9d-856da0858e26"
   },
   "outputs": [
    {
     "data": {
      "text/plain": [
       "2723243"
      ]
     },
     "execution_count": 53,
     "metadata": {},
     "output_type": "execute_result"
    }
   ],
   "source": [
    "col = 'dur'\n",
    "train[col].nunique()"
   ]
  },
  {
   "cell_type": "code",
   "execution_count": 54,
   "metadata": {
    "colab": {
     "base_uri": "https://localhost:8080/",
     "height": 279
    },
    "colab_type": "code",
    "executionInfo": {
     "elapsed": 37553,
     "status": "ok",
     "timestamp": 1598250024736,
     "user": {
      "displayName": "Subrata Maji",
      "photoUrl": "https://lh3.googleusercontent.com/a-/AOh14Ghxu8VIGqB6XL51-t5wM_f1R1LdmEePYHIwb9b-=s64",
      "userId": "03124174213573157612"
     },
     "user_tz": -330
    },
    "id": "BsBXO21zH0Fz",
    "outputId": "272d2e0f-9f3c-4882-9211-b8bd906141c1",
    "scrolled": true
   },
   "outputs": [
    {
     "data": {
      "image/png": "[encoded data removed]",
      "text/plain": [
       "<Figure size 1440x288 with 2 Axes>"
      ]
     },
     "metadata": {},
     "output_type": "display_data"
    }
   ],
   "source": [
    "plt.figure(figsize=(20,4))\n",
    "plt.subplot(121)\n",
    "dual_plot(col)\n",
    "plt.subplot(122)\n",
    "dual_plot(col, method=np.log1p)\n",
    "plt.show()"
   ]
  },
  {
   "cell_type": "markdown",
   "metadata": {},
   "source": [
    "## Distribuiton of numerical feature"
   ]
  },
  {
   "cell_type": "code",
   "execution_count": 20,
   "metadata": {},
   "outputs": [
    {
     "data": {
      "text/plain": [
       "<matplotlib.axes._subplots.AxesSubplot at 0x7fcd76468bb0>"
      ]
     },
     "execution_count": 20,
     "metadata": {},
     "output_type": "execute_result"
    },
    {
     "data": {
      "image/png": "[encoded data removed]",
      "text/plain": [
       "<Figure size 432x288 with 1 Axes>"
      ]
     },
     "metadata": {
      "needs_background": "light"
     },
     "output_type": "display_data"
    }
   ],
   "source": [
    "sns.boxplot(x='target', y='totpkts', data=train)"
   ]
  },
  {
   "cell_type": "code",
   "execution_count": 21,
   "metadata": {},
   "outputs": [
    {
     "data": {
      "text/plain": [
       "<matplotlib.axes._subplots.AxesSubplot at 0x7fcd78cf2a90>"
      ]
     },
     "execution_count": 21,
     "metadata": {},
     "output_type": "execute_result"
    },
    {
     "data": {
      "image/png": "[encoded data removed]",
      "text/plain": [
       "<Figure size 432x288 with 1 Axes>"
      ]
     },
     "metadata": {
      "needs_background": "light"
     },
     "output_type": "display_data"
    }
   ],
   "source": [
    "sns.boxplot(x='target', y='totbytes', data=train)"
   ]
  },
  {
   "cell_type": "code",
   "execution_count": 22,
   "metadata": {},
   "outputs": [
    {
     "data": {
      "text/plain": [
       "<matplotlib.axes._subplots.AxesSubplot at 0x7fcd75713490>"
      ]
     },
     "execution_count": 22,
     "metadata": {},
     "output_type": "execute_result"
    },
    {
     "data": {
      "image/png": "[encoded data removed]",
      "text/plain": [
       "<Figure size 432x288 with 1 Axes>"
      ]
     },
     "metadata": {
      "needs_background": "light"
     },
     "output_type": "display_data"
    }
   ],
   "source": [
    "sns.boxplot(x='target', y='srcbytes', data=train)"
   ]
  },
  {
   "cell_type": "code",
   "execution_count": 25,
   "metadata": {},
   "outputs": [
    {
     "data": {
      "text/plain": [
       "<matplotlib.axes._subplots.AxesSubplot at 0x7fcd7587e0a0>"
      ]
     },
     "execution_count": 25,
     "metadata": {},
     "output_type": "execute_result"
    },
    {
     "data": {
      "image/png": "[encoded data removed]",
      "text/plain": [
       "<Figure size 432x288 with 1 Axes>"
      ]
     },
     "metadata": {
      "needs_background": "light"
     },
     "output_type": "display_data"
    }
   ],
   "source": [
    "sns.boxplot(x='target', y='dur', data=train)"
   ]
  },
  {
   "cell_type": "markdown",
   "metadata": {},
   "source": [
    "# Hypothesis Testing"
   ]
  },
  {
   "cell_type": "code",
   "execution_count": 10,
   "metadata": {},
   "outputs": [],
   "source": [
    "sampletrain = train.sample(frac=1)[:1000000]"
   ]
  },
  {
   "cell_type": "code",
   "execution_count": 11,
   "metadata": {},
   "outputs": [
    {
     "data": {
      "text/plain": [
       "0    974223\n",
       "1     25777\n",
       "Name: target, dtype: int64"
      ]
     },
     "execution_count": 11,
     "metadata": {},
     "output_type": "execute_result"
    }
   ],
   "source": [
    "sampletrain.target.value_counts()"
   ]
  },
  {
   "cell_type": "code",
   "execution_count": 12,
   "metadata": {},
   "outputs": [
    {
     "data": {
      "text/plain": [
       "Index(['starttime', 'dur', 'proto', 'srcaddr', 'sport', 'dir', 'dstaddr',\n",
       "       'dport', 'state', 'stos', 'dtos', 'totpkts', 'totbytes', 'srcbytes',\n",
       "       'label', 'target'],\n",
       "      dtype='object')"
      ]
     },
     "execution_count": 12,
     "metadata": {},
     "output_type": "execute_result"
    }
   ],
   "source": [
    "sampletrain.columns"
   ]
  },
  {
   "cell_type": "code",
   "execution_count": 13,
   "metadata": {},
   "outputs": [
    {
     "data": {
      "text/html": [
       "<div>\n",
       "<style scoped>\n",
       "    .dataframe tbody tr th:only-of-type {\n",
       "        vertical-align: middle;\n",
       "    }\n",
       "\n",
       "    .dataframe tbody tr th {\n",
       "        vertical-align: top;\n",
       "    }\n",
       "\n",
       "    .dataframe thead th {\n",
       "        text-align: right;\n",
       "    }\n",
       "</style>\n",
       "<table border=\"1\" class=\"dataframe\">\n",
       "  <thead>\n",
       "    <tr style=\"text-align: right;\">\n",
       "      <th></th>\n",
       "      <th>starttime</th>\n",
       "      <th>dur</th>\n",
       "      <th>proto</th>\n",
       "      <th>srcaddr</th>\n",
       "      <th>sport</th>\n",
       "      <th>dir</th>\n",
       "      <th>dstaddr</th>\n",
       "      <th>dport</th>\n",
       "      <th>state</th>\n",
       "      <th>stos</th>\n",
       "      <th>dtos</th>\n",
       "      <th>totpkts</th>\n",
       "      <th>totbytes</th>\n",
       "      <th>srcbytes</th>\n",
       "      <th>label</th>\n",
       "      <th>target</th>\n",
       "    </tr>\n",
       "  </thead>\n",
       "  <tbody>\n",
       "    <tr>\n",
       "      <th>5915678</th>\n",
       "      <td>2011-08-17 04:06:21.112031</td>\n",
       "      <td>0.000315</td>\n",
       "      <td>udp</td>\n",
       "      <td>147.32.84.138</td>\n",
       "      <td>46451</td>\n",
       "      <td>&lt;-&gt;</td>\n",
       "      <td>147.32.80.9</td>\n",
       "      <td>53</td>\n",
       "      <td>CON</td>\n",
       "      <td>0.0</td>\n",
       "      <td>0.0</td>\n",
       "      <td>2</td>\n",
       "      <td>214</td>\n",
       "      <td>81</td>\n",
       "      <td>flow=To-Background-UDP-CVUT-DNS-Server</td>\n",
       "      <td>0</td>\n",
       "    </tr>\n",
       "    <tr>\n",
       "      <th>9233478</th>\n",
       "      <td>2011-08-16 15:27:30.554841</td>\n",
       "      <td>0.000276</td>\n",
       "      <td>udp</td>\n",
       "      <td>147.32.84.138</td>\n",
       "      <td>46284</td>\n",
       "      <td>&lt;-&gt;</td>\n",
       "      <td>147.32.80.9</td>\n",
       "      <td>53</td>\n",
       "      <td>CON</td>\n",
       "      <td>0.0</td>\n",
       "      <td>0.0</td>\n",
       "      <td>2</td>\n",
       "      <td>214</td>\n",
       "      <td>81</td>\n",
       "      <td>flow=To-Background-UDP-CVUT-DNS-Server</td>\n",
       "      <td>0</td>\n",
       "    </tr>\n",
       "    <tr>\n",
       "      <th>6164431</th>\n",
       "      <td>2011-08-16 15:00:09.982807</td>\n",
       "      <td>0.113908</td>\n",
       "      <td>udp</td>\n",
       "      <td>147.32.84.229</td>\n",
       "      <td>13363</td>\n",
       "      <td>&lt;-&gt;</td>\n",
       "      <td>78.141.179.10</td>\n",
       "      <td>34050</td>\n",
       "      <td>CON</td>\n",
       "      <td>0.0</td>\n",
       "      <td>0.0</td>\n",
       "      <td>4</td>\n",
       "      <td>707</td>\n",
       "      <td>584</td>\n",
       "      <td>flow=Background-UDP-Established</td>\n",
       "      <td>0</td>\n",
       "    </tr>\n",
       "    <tr>\n",
       "      <th>3928343</th>\n",
       "      <td>2011-08-16 08:42:05.779347</td>\n",
       "      <td>0.000216</td>\n",
       "      <td>udp</td>\n",
       "      <td>147.32.84.138</td>\n",
       "      <td>45741</td>\n",
       "      <td>&lt;-&gt;</td>\n",
       "      <td>147.32.80.9</td>\n",
       "      <td>53</td>\n",
       "      <td>CON</td>\n",
       "      <td>0.0</td>\n",
       "      <td>0.0</td>\n",
       "      <td>2</td>\n",
       "      <td>214</td>\n",
       "      <td>81</td>\n",
       "      <td>flow=To-Background-UDP-CVUT-DNS-Server</td>\n",
       "      <td>0</td>\n",
       "    </tr>\n",
       "    <tr>\n",
       "      <th>9273743</th>\n",
       "      <td>2011-08-13 19:41:06.835702</td>\n",
       "      <td>3348.979980</td>\n",
       "      <td>udp</td>\n",
       "      <td>46.116.225.208</td>\n",
       "      <td>7767</td>\n",
       "      <td>&lt;-&gt;</td>\n",
       "      <td>147.32.84.229</td>\n",
       "      <td>13363</td>\n",
       "      <td>CON</td>\n",
       "      <td>0.0</td>\n",
       "      <td>0.0</td>\n",
       "      <td>14</td>\n",
       "      <td>1635</td>\n",
       "      <td>1201</td>\n",
       "      <td>flow=Background-UDP-Established</td>\n",
       "      <td>0</td>\n",
       "    </tr>\n",
       "    <tr>\n",
       "      <th>...</th>\n",
       "      <td>...</td>\n",
       "      <td>...</td>\n",
       "      <td>...</td>\n",
       "      <td>...</td>\n",
       "      <td>...</td>\n",
       "      <td>...</td>\n",
       "      <td>...</td>\n",
       "      <td>...</td>\n",
       "      <td>...</td>\n",
       "      <td>...</td>\n",
       "      <td>...</td>\n",
       "      <td>...</td>\n",
       "      <td>...</td>\n",
       "      <td>...</td>\n",
       "      <td>...</td>\n",
       "      <td>...</td>\n",
       "    </tr>\n",
       "    <tr>\n",
       "      <th>9907886</th>\n",
       "      <td>2011-08-14 13:29:01.605659</td>\n",
       "      <td>0.000492</td>\n",
       "      <td>udp</td>\n",
       "      <td>147.32.84.166</td>\n",
       "      <td>50912</td>\n",
       "      <td>&lt;-&gt;</td>\n",
       "      <td>147.32.80.9</td>\n",
       "      <td>53</td>\n",
       "      <td>CON</td>\n",
       "      <td>0.0</td>\n",
       "      <td>0.0</td>\n",
       "      <td>2</td>\n",
       "      <td>304</td>\n",
       "      <td>83</td>\n",
       "      <td>flow=To-Background-UDP-CVUT-DNS-Server</td>\n",
       "      <td>0</td>\n",
       "    </tr>\n",
       "    <tr>\n",
       "      <th>5979294</th>\n",
       "      <td>2011-08-18 13:27:25.579768</td>\n",
       "      <td>0.000000</td>\n",
       "      <td>icmp</td>\n",
       "      <td>147.32.84.59</td>\n",
       "      <td>0x0303</td>\n",
       "      <td>-&gt;</td>\n",
       "      <td>81.157.236.218</td>\n",
       "      <td>0x5000</td>\n",
       "      <td>URP</td>\n",
       "      <td>0.0</td>\n",
       "      <td>0.0</td>\n",
       "      <td>1</td>\n",
       "      <td>89</td>\n",
       "      <td>89</td>\n",
       "      <td>flow=Background-Attempt-cmpgw-CVUT</td>\n",
       "      <td>0</td>\n",
       "    </tr>\n",
       "    <tr>\n",
       "      <th>9603900</th>\n",
       "      <td>2011-08-12 22:12:52.702025</td>\n",
       "      <td>0.207605</td>\n",
       "      <td>tcp</td>\n",
       "      <td>147.32.86.20</td>\n",
       "      <td>1287</td>\n",
       "      <td>-&gt;</td>\n",
       "      <td>188.138.84.239</td>\n",
       "      <td>80</td>\n",
       "      <td>FSPA_FSPA</td>\n",
       "      <td>0.0</td>\n",
       "      <td>0.0</td>\n",
       "      <td>39</td>\n",
       "      <td>30691</td>\n",
       "      <td>1029</td>\n",
       "      <td>flow=Background-TCP-Established</td>\n",
       "      <td>0</td>\n",
       "    </tr>\n",
       "    <tr>\n",
       "      <th>579878</th>\n",
       "      <td>2011-08-13 05:02:21.379621</td>\n",
       "      <td>0.000075</td>\n",
       "      <td>icmp</td>\n",
       "      <td>147.32.87.249</td>\n",
       "      <td>38043</td>\n",
       "      <td>&lt;-</td>\n",
       "      <td>147.32.87.13</td>\n",
       "      <td>0x0002</td>\n",
       "      <td>ECR</td>\n",
       "      <td>0.0</td>\n",
       "      <td>0.0</td>\n",
       "      <td>2</td>\n",
       "      <td>148</td>\n",
       "      <td>0</td>\n",
       "      <td>flow=Background</td>\n",
       "      <td>0</td>\n",
       "    </tr>\n",
       "    <tr>\n",
       "      <th>6957653</th>\n",
       "      <td>2011-08-18 14:39:57.891873</td>\n",
       "      <td>0.000167</td>\n",
       "      <td>udp</td>\n",
       "      <td>147.32.84.138</td>\n",
       "      <td>58403</td>\n",
       "      <td>&lt;-&gt;</td>\n",
       "      <td>147.32.80.9</td>\n",
       "      <td>53</td>\n",
       "      <td>CON</td>\n",
       "      <td>0.0</td>\n",
       "      <td>0.0</td>\n",
       "      <td>2</td>\n",
       "      <td>214</td>\n",
       "      <td>81</td>\n",
       "      <td>flow=To-Background-UDP-CVUT-DNS-Server</td>\n",
       "      <td>0</td>\n",
       "    </tr>\n",
       "  </tbody>\n",
       "</table>\n",
       "<p>1000000 rows × 16 columns</p>\n",
       "</div>"
      ],
      "text/plain": [
       "                          starttime          dur proto         srcaddr  \\\n",
       "5915678  2011-08-17 04:06:21.112031     0.000315   udp   147.32.84.138   \n",
       "9233478  2011-08-16 15:27:30.554841     0.000276   udp   147.32.84.138   \n",
       "6164431  2011-08-16 15:00:09.982807     0.113908   udp   147.32.84.229   \n",
       "3928343  2011-08-16 08:42:05.779347     0.000216   udp   147.32.84.138   \n",
       "9273743  2011-08-13 19:41:06.835702  3348.979980   udp  46.116.225.208   \n",
       "...                             ...          ...   ...             ...   \n",
       "9907886  2011-08-14 13:29:01.605659     0.000492   udp   147.32.84.166   \n",
       "5979294  2011-08-18 13:27:25.579768     0.000000  icmp    147.32.84.59   \n",
       "9603900  2011-08-12 22:12:52.702025     0.207605   tcp    147.32.86.20   \n",
       "579878   2011-08-13 05:02:21.379621     0.000075  icmp   147.32.87.249   \n",
       "6957653  2011-08-18 14:39:57.891873     0.000167   udp   147.32.84.138   \n",
       "\n",
       "          sport    dir         dstaddr   dport      state  stos  dtos  \\\n",
       "5915678   46451    <->     147.32.80.9      53        CON   0.0   0.0   \n",
       "9233478   46284    <->     147.32.80.9      53        CON   0.0   0.0   \n",
       "6164431   13363    <->   78.141.179.10   34050        CON   0.0   0.0   \n",
       "3928343   45741    <->     147.32.80.9      53        CON   0.0   0.0   \n",
       "9273743    7767    <->   147.32.84.229   13363        CON   0.0   0.0   \n",
       "...         ...    ...             ...     ...        ...   ...   ...   \n",
       "9907886   50912    <->     147.32.80.9      53        CON   0.0   0.0   \n",
       "5979294  0x0303     ->  81.157.236.218  0x5000        URP   0.0   0.0   \n",
       "9603900    1287     ->  188.138.84.239      80  FSPA_FSPA   0.0   0.0   \n",
       "579878    38043     <-    147.32.87.13  0x0002        ECR   0.0   0.0   \n",
       "6957653   58403    <->     147.32.80.9      53        CON   0.0   0.0   \n",
       "\n",
       "         totpkts  totbytes  srcbytes                                   label  \\\n",
       "5915678        2       214        81  flow=To-Background-UDP-CVUT-DNS-Server   \n",
       "9233478        2       214        81  flow=To-Background-UDP-CVUT-DNS-Server   \n",
       "6164431        4       707       584         flow=Background-UDP-Established   \n",
       "3928343        2       214        81  flow=To-Background-UDP-CVUT-DNS-Server   \n",
       "9273743       14      1635      1201         flow=Background-UDP-Established   \n",
       "...          ...       ...       ...                                     ...   \n",
       "9907886        2       304        83  flow=To-Background-UDP-CVUT-DNS-Server   \n",
       "5979294        1        89        89      flow=Background-Attempt-cmpgw-CVUT   \n",
       "9603900       39     30691      1029         flow=Background-TCP-Established   \n",
       "579878         2       148         0                         flow=Background   \n",
       "6957653        2       214        81  flow=To-Background-UDP-CVUT-DNS-Server   \n",
       "\n",
       "         target  \n",
       "5915678       0  \n",
       "9233478       0  \n",
       "6164431       0  \n",
       "3928343       0  \n",
       "9273743       0  \n",
       "...         ...  \n",
       "9907886       0  \n",
       "5979294       0  \n",
       "9603900       0  \n",
       "579878        0  \n",
       "6957653       0  \n",
       "\n",
       "[1000000 rows x 16 columns]"
      ]
     },
     "execution_count": 13,
     "metadata": {},
     "output_type": "execute_result"
    }
   ],
   "source": [
    "sampletrain"
   ]
  },
  {
   "cell_type": "code",
   "execution_count": 14,
   "metadata": {},
   "outputs": [],
   "source": [
    "numVariable = ['dur', 'sport', 'dport', 'totpkts', 'totbytes', 'srcbytes']"
   ]
  },
  {
   "cell_type": "code",
   "execution_count": 15,
   "metadata": {},
   "outputs": [],
   "source": [
    "catVariable = ['prot', 'dir' , 'stos', 'dtos']"
   ]
  },
  {
   "cell_type": "code",
   "execution_count": null,
   "metadata": {},
   "outputs": [],
   "source": []
  },
  {
   "cell_type": "markdown",
   "metadata": {},
   "source": [
    "#### Numerical feature"
   ]
  },
  {
   "cell_type": "markdown",
   "metadata": {},
   "source": [
    "### Totpkts\n",
    "\n",
    "##### <font color='darkblue'>Bước 1:</font> Đặt giả thiết 2 mẫu độc lập, 2 tổng thể tuân theo phân bố chuẩn\n",
    "###### 1.a Kiểm định phương sai của hai tổng thể $Nonrmal = X \\sim N(µ_1, σ_1^2)$ và $Abnormal = Y \\sim N(µ_2, σ^2_2)$\n",
    "\n",
    "###### 1.b Giả thuyết: $H_0 : σ^2_1 = σ^2_2$ với đối thuyết $H_1 : σ^2_1 \\neq σ^2_2$\n",
    "\n",
    "###### 1.b Tính thống kê $F_{obs} = \\frac{S_1^2}{S_2^2}$ ~ $Fisher$ $ n-1, m-1$ do đang kiểm định $H_0 : σ^2_1 = σ^2_2$\n",
    "\n",
    "###### Nếu $F_{obs} > 1$ thì: $p_{value} = \\mathbb{P}(F_{n-1, m-1} > F_{obs}) + \\mathbb{P}(F_{n-1, m-1} <1/F_{obs})$\n",
    "\n",
    "###### Nếu $F_{obs} < 1$ thì: $p_{value} = \\mathbb{P}(F_{n-1, m-1} < F_{obs}) + \\mathbb{P}(F_{n-1, m-1} >1/F_{obs})$\n",
    "\n",
    "##### <font color='darkblue'>Bước 2:</font> Xây dựng cặp giả thuyết - đối giả thuyết: $H_0$:$σ^2_1 = σ^2_2$ , và $H_1$\n",
    "\n",
    "##### <font color='darkblue'>Bước 3:</font> Tính toán giá trị thống kê và p_giá trị: dựa vào bài sampling để đưa ra phân bố phù hợp với $σ^2_1 = σ^2_2$ hoặc $σ^2_1 \\neq σ^2_2$\n",
    "\n",
    "###### Th1: $σ^2_1 = σ^2_2$ Thống kê $t_{obs} = \\frac{\\hat{X} - \\hat{Y}}{\\sqrt{S^2(\\frac{1}{n} + \\frac{1}{m})}} \\sim t_{n + m - 2}$ do đang kiểm định $H_0: \\mu_1 = \\mu_2$\n",
    "\n",
    "###### Với $S^2 = \\frac{(n-1)S_1^2 + (m-1)S_2^2}{n + m -2}$\n",
    "\n",
    "###### Th2: $σ^2_1 \\neq σ^2_2$ Thống kê $t_{obs} = \\frac{\\hat{X} - \\hat{Y}}{\\sqrt{(\\frac{S_1^2}{n} + \\frac{S_2^2}{m})}} \\sim t_{v}$ do đang kiểm định $H_0: \\mu_1 = \\mu_2$\n",
    "\n",
    "###### Với $v = \\frac{(\\frac{S_1^2}{n} + \\frac{S_2^2}{n})^2}{(\\frac{S_1^2}{n})^2 /(n-1)  + \\frac{S_2^2}{n})^2 /(m-1)}$\n",
    "\n",
    "\n",
    "##### <font color='darkblue'>Bước 4:</font> đưa ra kết luận kiểm định\n",
    "\n",
    "###### - đối thuyết $H_1: \\mu_1 > \\mu_2: p_{value} = P(T_{n-1} > t_{obs})$ với $σ^2_1 = σ^2_2$\n",
    "###### - đối thuyết $H_1: \\mu_1 > \\mu_2: p_{value} = P(T_{v} > t_{obs})$ với $σ^2_1 \\neq σ^2_2$\n",
    "###### - đối thuyết $H_1: \\mu_1 < \\mu_2: p_{value} = P(T_{n-1} < t_{obs})$ với $σ^2_1 = σ^2_2$\n",
    "###### - đối thuyết $H_1: \\mu_1 < \\mu_2: p_{value} = P(T_{v} < t_{obs})$ với $σ^2_1 \\neq σ^2_2$\n",
    "###### - đối thuyết $H_1: \\mu_1 \\neq \\mu_2: p_{value} = 2P(T_{n-1} > |t_{obs}|)$ với $σ^2_1 = σ^2_2$\n",
    "###### - đối thuyết $H_1: \\mu_1 \\neq \\mu_2: p_{value} = 2P(T_{v} > |t_{obs}|)$ với $σ^2_1 \\neq σ^2_2$\n",
    "\n",
    "###### <font color='darkblue'>Bước 5:</font> Kết luận\n"
   ]
  },
  {
   "cell_type": "code",
   "execution_count": 24,
   "metadata": {},
   "outputs": [],
   "source": [
    "from scipy import stats"
   ]
  },
  {
   "cell_type": "code",
   "execution_count": 66,
   "metadata": {},
   "outputs": [],
   "source": [
    "normal = sampletrain[sampletrain['target']==0]\n",
    "abnormal = sampletrain[sampletrain['target']==1]"
   ]
  },
  {
   "cell_type": "code",
   "execution_count": 69,
   "metadata": {},
   "outputs": [],
   "source": [
    "varTotPktsNormal = normal.totpkts.var()\n",
    "varTotPktsAbnormal = abnormal.totpkts.var()\n",
    "\n",
    "Fobs = varTotPktsNormal/varTotPktsAbnormal"
   ]
  },
  {
   "cell_type": "code",
   "execution_count": 70,
   "metadata": {},
   "outputs": [
    {
     "data": {
      "text/plain": [
       "10.05710549984856"
      ]
     },
     "execution_count": 70,
     "metadata": {},
     "output_type": "execute_result"
    }
   ],
   "source": [
    "Fobs"
   ]
  },
  {
   "cell_type": "code",
   "execution_count": 71,
   "metadata": {},
   "outputs": [],
   "source": [
    "n, m = len(normal), len(abnormal)"
   ]
  },
  {
   "cell_type": "code",
   "execution_count": 72,
   "metadata": {},
   "outputs": [],
   "source": [
    "p1 = 1 - stats.f.cdf(Fobs, n - 1, m - 1) + stats.f.cdf(1 / Fobs, n - 1, m - 1)"
   ]
  },
  {
   "cell_type": "code",
   "execution_count": 73,
   "metadata": {},
   "outputs": [
    {
     "data": {
      "text/plain": [
       "1.1102230246251565e-16"
      ]
     },
     "execution_count": 73,
     "metadata": {},
     "output_type": "execute_result"
    }
   ],
   "source": [
    "p1"
   ]
  },
  {
   "cell_type": "markdown",
   "metadata": {},
   "source": [
    "#### Bác bỏ giả thuyết $H_0$ tức phương sai hai tổng thể khác nhau"
   ]
  },
  {
   "cell_type": "code",
   "execution_count": 74,
   "metadata": {},
   "outputs": [],
   "source": [
    "meanTotPktsNormal = normal.totpkts.mean()\n",
    "meanTotPktsAbnormal = abnormal.totpkts.mean()"
   ]
  },
  {
   "cell_type": "code",
   "execution_count": 75,
   "metadata": {},
   "outputs": [],
   "source": [
    "tObs = (meanTotPktsNormal - meanTotPktsAbnormal) / np.sqrt(varTotPktsNormal / n + varTotPktsAbnormal / m)"
   ]
  },
  {
   "cell_type": "code",
   "execution_count": 76,
   "metadata": {},
   "outputs": [],
   "source": [
    "nu = round((varTotPktsNormal / n + varTotPktsAbnormal / m)**2 / ((varTotPktsNormal / n)**2 / (n - 1) + (varTotPktsAbnormal / m)**2 / (m - 1)))\n",
    "p2 = 2 * (1 - stats.t.cdf(np.abs(tObs), nu))"
   ]
  },
  {
   "cell_type": "code",
   "execution_count": 77,
   "metadata": {},
   "outputs": [
    {
     "data": {
      "text/plain": [
       "0.05333768960989782"
      ]
     },
     "execution_count": 77,
     "metadata": {},
     "output_type": "execute_result"
    }
   ],
   "source": [
    "p2"
   ]
  },
  {
   "cell_type": "markdown",
   "metadata": {},
   "source": [
    "#### Không đủ bằng chứng để chứng minh trung bình số packet của hai mẫu là khác nhau"
   ]
  },
  {
   "cell_type": "markdown",
   "metadata": {},
   "source": [
    "### Totbytes"
   ]
  },
  {
   "cell_type": "code",
   "execution_count": 78,
   "metadata": {},
   "outputs": [],
   "source": [
    "varTotbytesNormal = normal.totbytes.var()\n",
    "varTotbytesAbnormal = abnormal.totbytes.var()\n",
    "Fobs = varTotbytesNormal/varTotbytesAbnormal"
   ]
  },
  {
   "cell_type": "code",
   "execution_count": 79,
   "metadata": {},
   "outputs": [],
   "source": [
    "meanTotbytesNormal = normal.totbytes.mean()\n",
    "meanTotbytesAbnormal  = abnormal.totbytes.mean()"
   ]
  },
  {
   "cell_type": "code",
   "execution_count": 80,
   "metadata": {},
   "outputs": [
    {
     "data": {
      "text/plain": [
       "1.1102230246251565e-16"
      ]
     },
     "execution_count": 80,
     "metadata": {},
     "output_type": "execute_result"
    }
   ],
   "source": [
    "p1 = 1 - stats.f.cdf(Fobs, n - 1, m - 1) + stats.f.cdf(1 / Fobs, n - 1, m - 1)\n",
    "p1"
   ]
  },
  {
   "cell_type": "markdown",
   "metadata": {},
   "source": [
    "#### Bác bỏ giả thuyết $H_0$ tức phương sai hai tổng thể khác nhau"
   ]
  },
  {
   "cell_type": "code",
   "execution_count": 81,
   "metadata": {},
   "outputs": [],
   "source": [
    "tObs = (meanTotbytesNormal - meanTotbytesAbnormal) / np.sqrt(varTotbytesNormal / n + varTotbytesAbnormal / m)"
   ]
  },
  {
   "cell_type": "code",
   "execution_count": 82,
   "metadata": {},
   "outputs": [],
   "source": [
    "nu = round((varTotbytesNormal / n + varTotbytesAbnormal / m)**2 / ((varTotbytesNormal / n)**2 / (n - 1) + (varTotbytesAbnormal / m)**2 / (m - 1)))\n",
    "p2 = 2 * (1 - stats.t.cdf(np.abs(tObs), nu))"
   ]
  },
  {
   "cell_type": "code",
   "execution_count": 83,
   "metadata": {},
   "outputs": [
    {
     "data": {
      "text/plain": [
       "0.08375062852996762"
      ]
     },
     "execution_count": 83,
     "metadata": {},
     "output_type": "execute_result"
    }
   ],
   "source": [
    "p2"
   ]
  },
  {
   "cell_type": "markdown",
   "metadata": {},
   "source": [
    "#### Không đủ bằng chứng để chứng minh trung bình số packet của hai mẫu là khác nhau"
   ]
  },
  {
   "cell_type": "code",
   "execution_count": null,
   "metadata": {},
   "outputs": [],
   "source": []
  },
  {
   "cell_type": "markdown",
   "metadata": {},
   "source": [
    "### srcbytes"
   ]
  },
  {
   "cell_type": "code",
   "execution_count": 87,
   "metadata": {},
   "outputs": [],
   "source": [
    "varSrcbytesNormal = normal.srcbytes.var()\n",
    "varSrcbytesAbnormal = abnormal.srcbytes.var()\n",
    "Fobs = varSrcbytesNormal/varSrcbytesAbnormal"
   ]
  },
  {
   "cell_type": "code",
   "execution_count": 88,
   "metadata": {},
   "outputs": [],
   "source": [
    "meanSrcbytesNormal = normal.srcbytes.mean()\n",
    "meanSrcbytesAbnormal  = abnormal.srcbytes.mean()"
   ]
  },
  {
   "cell_type": "code",
   "execution_count": 89,
   "metadata": {},
   "outputs": [
    {
     "data": {
      "text/plain": [
       "1.1102230246251565e-16"
      ]
     },
     "execution_count": 89,
     "metadata": {},
     "output_type": "execute_result"
    }
   ],
   "source": [
    "p1 = 1 - stats.f.cdf(Fobs, n - 1, m - 1) + stats.f.cdf(1 / Fobs, n - 1, m - 1)\n",
    "p1"
   ]
  },
  {
   "cell_type": "markdown",
   "metadata": {},
   "source": [
    "#### Bác bỏ giả thuyết $H_0$ tức phương sai hai tổng thể khác nhau"
   ]
  },
  {
   "cell_type": "code",
   "execution_count": 90,
   "metadata": {},
   "outputs": [],
   "source": [
    "tObs = (meanSrcbytesNormal - meanSrcbytesAbnormal) / np.sqrt(varSrcbytesNormal / n + varSrcbytesAbnormal / m)"
   ]
  },
  {
   "cell_type": "code",
   "execution_count": 91,
   "metadata": {},
   "outputs": [],
   "source": [
    "nu = round((varSrcbytesNormal / n + varSrcbytesAbnormal / m)**2 / ((varSrcbytesNormal / n)**2 / (n - 1) + (varSrcbytesAbnormal / m)**2 / (m - 1)))\n",
    "p2 = 2 * (1 - stats.t.cdf(np.abs(tObs), nu))"
   ]
  },
  {
   "cell_type": "code",
   "execution_count": 92,
   "metadata": {},
   "outputs": [
    {
     "data": {
      "text/plain": [
       "0.34140428854253857"
      ]
     },
     "execution_count": 92,
     "metadata": {},
     "output_type": "execute_result"
    }
   ],
   "source": [
    "p2"
   ]
  },
  {
   "cell_type": "markdown",
   "metadata": {},
   "source": [
    "#### Không đủ bằng chứng để chứng minh trung bình số packet của hai mẫu là khác nhau"
   ]
  },
  {
   "cell_type": "code",
   "execution_count": null,
   "metadata": {},
   "outputs": [],
   "source": []
  },
  {
   "cell_type": "code",
   "execution_count": null,
   "metadata": {},
   "outputs": [],
   "source": []
  },
  {
   "cell_type": "markdown",
   "metadata": {},
   "source": [
    "### Dur"
   ]
  },
  {
   "cell_type": "code",
   "execution_count": 95,
   "metadata": {},
   "outputs": [],
   "source": [
    "varDurNormal = normal.dur.var()\n",
    "varDurAbnormal = abnormal.dur.var()\n",
    "Fobs = varDurNormal/varDurAbnormal"
   ]
  },
  {
   "cell_type": "code",
   "execution_count": 96,
   "metadata": {},
   "outputs": [],
   "source": [
    "meanDurNormal = normal.dur.mean()\n",
    "meanDurAbnormal  = abnormal.dur.mean()"
   ]
  },
  {
   "cell_type": "code",
   "execution_count": 97,
   "metadata": {},
   "outputs": [
    {
     "data": {
      "text/plain": [
       "1.1102230246251565e-16"
      ]
     },
     "execution_count": 97,
     "metadata": {},
     "output_type": "execute_result"
    }
   ],
   "source": [
    "p1 = 1 - stats.f.cdf(Fobs, n - 1, m - 1) + stats.f.cdf(1 / Fobs, n - 1, m - 1)\n",
    "p1"
   ]
  },
  {
   "cell_type": "markdown",
   "metadata": {},
   "source": [
    "#### Bác bỏ giả thuyết $H_0$ tức phương sai hai tổng thể khác nhau"
   ]
  },
  {
   "cell_type": "code",
   "execution_count": 98,
   "metadata": {},
   "outputs": [],
   "source": [
    "tObs = (meanDurNormal - meanDurAbnormal) / np.sqrt(varDurNormal / n + varDurAbnormal / m)"
   ]
  },
  {
   "cell_type": "code",
   "execution_count": 99,
   "metadata": {},
   "outputs": [],
   "source": [
    "nu = round((varDurNormal / n + varDurAbnormal / m)**2 / ((varDurNormal / n)**2 / (n - 1) + (varDurAbnormal / m)**2 / (m - 1)))\n",
    "p2 = 2 * (1 - stats.t.cdf(np.abs(tObs), nu))"
   ]
  },
  {
   "cell_type": "code",
   "execution_count": 100,
   "metadata": {},
   "outputs": [
    {
     "data": {
      "text/plain": [
       "0.0"
      ]
     },
     "execution_count": 100,
     "metadata": {},
     "output_type": "execute_result"
    }
   ],
   "source": [
    "p2"
   ]
  },
  {
   "cell_type": "markdown",
   "metadata": {},
   "source": [
    "#### đủ bằng chứng để chứng minh trung bình số packet của hai mẫu là khác nhau"
   ]
  },
  {
   "cell_type": "code",
   "execution_count": null,
   "metadata": {},
   "outputs": [],
   "source": []
  },
  {
   "cell_type": "markdown",
   "metadata": {},
   "source": [
    "### Catogorical feature"
   ]
  },
  {
   "cell_type": "markdown",
   "metadata": {},
   "source": [
    "#### Dir"
   ]
  },
  {
   "cell_type": "code",
   "execution_count": 101,
   "metadata": {},
   "outputs": [],
   "source": [
    "crosstab = pd.crosstab(sampletrain.dir, sampletrain.target)"
   ]
  },
  {
   "cell_type": "code",
   "execution_count": 102,
   "metadata": {},
   "outputs": [
    {
     "data": {
      "text/html": [
       "<div>\n",
       "<style scoped>\n",
       "    .dataframe tbody tr th:only-of-type {\n",
       "        vertical-align: middle;\n",
       "    }\n",
       "\n",
       "    .dataframe tbody tr th {\n",
       "        vertical-align: top;\n",
       "    }\n",
       "\n",
       "    .dataframe thead th {\n",
       "        text-align: right;\n",
       "    }\n",
       "</style>\n",
       "<table border=\"1\" class=\"dataframe\">\n",
       "  <thead>\n",
       "    <tr style=\"text-align: right;\">\n",
       "      <th>target</th>\n",
       "      <th>0</th>\n",
       "      <th>1</th>\n",
       "    </tr>\n",
       "    <tr>\n",
       "      <th>dir</th>\n",
       "      <th></th>\n",
       "      <th></th>\n",
       "    </tr>\n",
       "  </thead>\n",
       "  <tbody>\n",
       "    <tr>\n",
       "      <th>-&gt;</th>\n",
       "      <td>258995</td>\n",
       "      <td>17596</td>\n",
       "    </tr>\n",
       "    <tr>\n",
       "      <th>?&gt;</th>\n",
       "      <td>1857</td>\n",
       "      <td>0</td>\n",
       "    </tr>\n",
       "    <tr>\n",
       "      <th>&lt;-</th>\n",
       "      <td>10132</td>\n",
       "      <td>0</td>\n",
       "    </tr>\n",
       "    <tr>\n",
       "      <th>&lt;-&gt;</th>\n",
       "      <td>699681</td>\n",
       "      <td>8175</td>\n",
       "    </tr>\n",
       "    <tr>\n",
       "      <th>&lt;?</th>\n",
       "      <td>5</td>\n",
       "      <td>0</td>\n",
       "    </tr>\n",
       "    <tr>\n",
       "      <th>&lt;?&gt;</th>\n",
       "      <td>2914</td>\n",
       "      <td>6</td>\n",
       "    </tr>\n",
       "    <tr>\n",
       "      <th>who</th>\n",
       "      <td>639</td>\n",
       "      <td>0</td>\n",
       "    </tr>\n",
       "  </tbody>\n",
       "</table>\n",
       "</div>"
      ],
      "text/plain": [
       "target       0      1\n",
       "dir                  \n",
       "   ->   258995  17596\n",
       "   ?>     1857      0\n",
       "  <-     10132      0\n",
       "  <->   699681   8175\n",
       "  <?         5      0\n",
       "  <?>     2914      6\n",
       "  who      639      0"
      ]
     },
     "execution_count": 102,
     "metadata": {},
     "output_type": "execute_result"
    }
   ],
   "source": [
    "crosstab"
   ]
  },
  {
   "cell_type": "code",
   "execution_count": 103,
   "metadata": {},
   "outputs": [
    {
     "data": {
      "text/plain": [
       "(21876.83745551953,\n",
       " 0.0,\n",
       " 6,\n",
       " array([[2.69461314e+05, 7.12968621e+03],\n",
       "        [1.80913211e+03, 4.78678890e+01],\n",
       "        [9.87082744e+03, 2.61172564e+02],\n",
       "        [6.89609596e+05, 1.82464041e+04],\n",
       "        [4.87111500e+00, 1.28885000e-01],\n",
       "        [2.84473116e+03, 7.52688400e+01],\n",
       "        [6.22528497e+02, 1.64715030e+01]]))"
      ]
     },
     "execution_count": 103,
     "metadata": {},
     "output_type": "execute_result"
    }
   ],
   "source": [
    "stats.chi2_contingency(crosstab, correction=True)"
   ]
  },
  {
   "cell_type": "markdown",
   "metadata": {},
   "source": [
    "#### Hai feature Dir và Target độc lập"
   ]
  },
  {
   "cell_type": "markdown",
   "metadata": {},
   "source": [
    "### proto"
   ]
  },
  {
   "cell_type": "code",
   "execution_count": 105,
   "metadata": {},
   "outputs": [
    {
     "data": {
      "text/html": [
       "<div>\n",
       "<style scoped>\n",
       "    .dataframe tbody tr th:only-of-type {\n",
       "        vertical-align: middle;\n",
       "    }\n",
       "\n",
       "    .dataframe tbody tr th {\n",
       "        vertical-align: top;\n",
       "    }\n",
       "\n",
       "    .dataframe thead th {\n",
       "        text-align: right;\n",
       "    }\n",
       "</style>\n",
       "<table border=\"1\" class=\"dataframe\">\n",
       "  <thead>\n",
       "    <tr style=\"text-align: right;\">\n",
       "      <th>target</th>\n",
       "      <th>0</th>\n",
       "      <th>1</th>\n",
       "    </tr>\n",
       "    <tr>\n",
       "      <th>proto</th>\n",
       "      <th></th>\n",
       "      <th></th>\n",
       "    </tr>\n",
       "  </thead>\n",
       "  <tbody>\n",
       "    <tr>\n",
       "      <th>arp</th>\n",
       "      <td>639</td>\n",
       "      <td>0</td>\n",
       "    </tr>\n",
       "    <tr>\n",
       "      <th>esp</th>\n",
       "      <td>4</td>\n",
       "      <td>0</td>\n",
       "    </tr>\n",
       "    <tr>\n",
       "      <th>icmp</th>\n",
       "      <td>20622</td>\n",
       "      <td>7526</td>\n",
       "    </tr>\n",
       "    <tr>\n",
       "      <th>igmp</th>\n",
       "      <td>1891</td>\n",
       "      <td>0</td>\n",
       "    </tr>\n",
       "    <tr>\n",
       "      <th>ipv6</th>\n",
       "      <td>4</td>\n",
       "      <td>0</td>\n",
       "    </tr>\n",
       "    <tr>\n",
       "      <th>ipv6-icmp</th>\n",
       "      <td>68</td>\n",
       "      <td>0</td>\n",
       "    </tr>\n",
       "    <tr>\n",
       "      <th>ipx/spx</th>\n",
       "      <td>17</td>\n",
       "      <td>0</td>\n",
       "    </tr>\n",
       "    <tr>\n",
       "      <th>llc</th>\n",
       "      <td>1</td>\n",
       "      <td>0</td>\n",
       "    </tr>\n",
       "    <tr>\n",
       "      <th>rtcp</th>\n",
       "      <td>457</td>\n",
       "      <td>0</td>\n",
       "    </tr>\n",
       "    <tr>\n",
       "      <th>rtp</th>\n",
       "      <td>596</td>\n",
       "      <td>0</td>\n",
       "    </tr>\n",
       "    <tr>\n",
       "      <th>tcp</th>\n",
       "      <td>224663</td>\n",
       "      <td>10026</td>\n",
       "    </tr>\n",
       "    <tr>\n",
       "      <th>udp</th>\n",
       "      <td>725255</td>\n",
       "      <td>8225</td>\n",
       "    </tr>\n",
       "    <tr>\n",
       "      <th>udt</th>\n",
       "      <td>6</td>\n",
       "      <td>0</td>\n",
       "    </tr>\n",
       "  </tbody>\n",
       "</table>\n",
       "</div>"
      ],
      "text/plain": [
       "target          0      1\n",
       "proto                   \n",
       "arp           639      0\n",
       "esp             4      0\n",
       "icmp        20622   7526\n",
       "igmp         1891      0\n",
       "ipv6            4      0\n",
       "ipv6-icmp      68      0\n",
       "ipx/spx        17      0\n",
       "llc             1      0\n",
       "rtcp          457      0\n",
       "rtp           596      0\n",
       "tcp        224663  10026\n",
       "udp        725255   8225\n",
       "udt             6      0"
      ]
     },
     "execution_count": 105,
     "metadata": {},
     "output_type": "execute_result"
    }
   ],
   "source": [
    "crosstab = pd.crosstab(sampletrain.proto, sampletrain.target)\n",
    "crosstab"
   ]
  },
  {
   "cell_type": "code",
   "execution_count": 106,
   "metadata": {},
   "outputs": [
    {
     "data": {
      "text/plain": [
       "(74398.59662307934,\n",
       " 0.0,\n",
       " 12,\n",
       " array([[6.22528497e+02, 1.64715030e+01],\n",
       "        [3.89689200e+00, 1.03108000e-01],\n",
       "        [2.74224290e+04, 7.25570996e+02],\n",
       "        [1.84225569e+03, 4.87443070e+01],\n",
       "        [3.89689200e+00, 1.03108000e-01],\n",
       "        [6.62471640e+01, 1.75283600e+00],\n",
       "        [1.65617910e+01, 4.38209000e-01],\n",
       "        [9.74223000e-01, 2.57770000e-02],\n",
       "        [4.45219911e+02, 1.17800890e+01],\n",
       "        [5.80636908e+02, 1.53630920e+01],\n",
       "        [2.28639422e+05, 6.04957835e+03],\n",
       "        [7.14573086e+05, 1.89069140e+04],\n",
       "        [5.84533800e+00, 1.54662000e-01]]))"
      ]
     },
     "execution_count": 106,
     "metadata": {},
     "output_type": "execute_result"
    }
   ],
   "source": [
    "stats.chi2_contingency(crosstab, correction=True)"
   ]
  },
  {
   "cell_type": "code",
   "execution_count": null,
   "metadata": {},
   "outputs": [],
   "source": []
  },
  {
   "cell_type": "markdown",
   "metadata": {},
   "source": [
    "### stos"
   ]
  },
  {
   "cell_type": "code",
   "execution_count": 107,
   "metadata": {},
   "outputs": [
    {
     "data": {
      "text/html": [
       "<div>\n",
       "<style scoped>\n",
       "    .dataframe tbody tr th:only-of-type {\n",
       "        vertical-align: middle;\n",
       "    }\n",
       "\n",
       "    .dataframe tbody tr th {\n",
       "        vertical-align: top;\n",
       "    }\n",
       "\n",
       "    .dataframe thead th {\n",
       "        text-align: right;\n",
       "    }\n",
       "</style>\n",
       "<table border=\"1\" class=\"dataframe\">\n",
       "  <thead>\n",
       "    <tr style=\"text-align: right;\">\n",
       "      <th>target</th>\n",
       "      <th>0</th>\n",
       "      <th>1</th>\n",
       "    </tr>\n",
       "    <tr>\n",
       "      <th>stos</th>\n",
       "      <th></th>\n",
       "      <th></th>\n",
       "    </tr>\n",
       "  </thead>\n",
       "  <tbody>\n",
       "    <tr>\n",
       "      <th>0.0</th>\n",
       "      <td>973396</td>\n",
       "      <td>25777</td>\n",
       "    </tr>\n",
       "    <tr>\n",
       "      <th>1.0</th>\n",
       "      <td>145</td>\n",
       "      <td>0</td>\n",
       "    </tr>\n",
       "    <tr>\n",
       "      <th>2.0</th>\n",
       "      <td>163</td>\n",
       "      <td>0</td>\n",
       "    </tr>\n",
       "    <tr>\n",
       "      <th>3.0</th>\n",
       "      <td>519</td>\n",
       "      <td>0</td>\n",
       "    </tr>\n",
       "  </tbody>\n",
       "</table>\n",
       "</div>"
      ],
      "text/plain": [
       "target       0      1\n",
       "stos                 \n",
       "0.0     973396  25777\n",
       "1.0        145      0\n",
       "2.0        163      0\n",
       "3.0        519      0"
      ]
     },
     "execution_count": 107,
     "metadata": {},
     "output_type": "execute_result"
    }
   ],
   "source": [
    "crosstab = pd.crosstab(sampletrain.stos, sampletrain.target)\n",
    "crosstab"
   ]
  },
  {
   "cell_type": "code",
   "execution_count": 108,
   "metadata": {},
   "outputs": [
    {
     "data": {
      "text/plain": [
       "(21.89973263781587,\n",
       " 6.844089212834387e-05,\n",
       " 3,\n",
       " array([[9.73417318e+05, 2.57556824e+04],\n",
       "        [1.41262335e+02, 3.73766500e+00],\n",
       "        [1.58798349e+02, 4.20165100e+00],\n",
       "        [5.05621737e+02, 1.33782630e+01]]))"
      ]
     },
     "execution_count": 108,
     "metadata": {},
     "output_type": "execute_result"
    }
   ],
   "source": [
    "stats.chi2_contingency(crosstab, correction=True)"
   ]
  },
  {
   "cell_type": "code",
   "execution_count": null,
   "metadata": {},
   "outputs": [],
   "source": []
  },
  {
   "cell_type": "markdown",
   "metadata": {},
   "source": [
    "### dtos"
   ]
  },
  {
   "cell_type": "code",
   "execution_count": 111,
   "metadata": {},
   "outputs": [
    {
     "data": {
      "text/html": [
       "<div>\n",
       "<style scoped>\n",
       "    .dataframe tbody tr th:only-of-type {\n",
       "        vertical-align: middle;\n",
       "    }\n",
       "\n",
       "    .dataframe tbody tr th {\n",
       "        vertical-align: top;\n",
       "    }\n",
       "\n",
       "    .dataframe thead th {\n",
       "        text-align: right;\n",
       "    }\n",
       "</style>\n",
       "<table border=\"1\" class=\"dataframe\">\n",
       "  <thead>\n",
       "    <tr style=\"text-align: right;\">\n",
       "      <th>target</th>\n",
       "      <th>0</th>\n",
       "      <th>1</th>\n",
       "    </tr>\n",
       "    <tr>\n",
       "      <th>dtos</th>\n",
       "      <th></th>\n",
       "      <th></th>\n",
       "    </tr>\n",
       "  </thead>\n",
       "  <tbody>\n",
       "    <tr>\n",
       "      <th>0.0</th>\n",
       "      <td>974077</td>\n",
       "      <td>25777</td>\n",
       "    </tr>\n",
       "    <tr>\n",
       "      <th>1.0</th>\n",
       "      <td>7</td>\n",
       "      <td>0</td>\n",
       "    </tr>\n",
       "    <tr>\n",
       "      <th>2.0</th>\n",
       "      <td>66</td>\n",
       "      <td>0</td>\n",
       "    </tr>\n",
       "    <tr>\n",
       "      <th>3.0</th>\n",
       "      <td>73</td>\n",
       "      <td>0</td>\n",
       "    </tr>\n",
       "  </tbody>\n",
       "</table>\n",
       "</div>"
      ],
      "text/plain": [
       "target       0      1\n",
       "dtos                 \n",
       "0.0     974077  25777\n",
       "1.0          7      0\n",
       "2.0         66      0\n",
       "3.0         73      0"
      ]
     },
     "execution_count": 111,
     "metadata": {},
     "output_type": "execute_result"
    }
   ],
   "source": [
    "crosstab = pd.crosstab(sampletrain.dtos, sampletrain.target)\n",
    "crosstab"
   ]
  },
  {
   "cell_type": "code",
   "execution_count": 110,
   "metadata": {},
   "outputs": [
    {
     "data": {
      "text/plain": [
       "(3.8635831249777968,\n",
       " 0.2765764669243943,\n",
       " 3,\n",
       " array([[9.74080763e+05, 2.57732366e+04],\n",
       "        [6.81956100e+00, 1.80439000e-01],\n",
       "        [6.42987180e+01, 1.70128200e+00],\n",
       "        [7.11182790e+01, 1.88172100e+00]]))"
      ]
     },
     "execution_count": 110,
     "metadata": {},
     "output_type": "execute_result"
    }
   ],
   "source": [
    "stats.chi2_contingency(crosstab, correction=True)"
   ]
  },
  {
   "cell_type": "markdown",
   "metadata": {},
   "source": [
    "#####  Hai biến phụ thuộc"
   ]
  },
  {
   "cell_type": "code",
   "execution_count": null,
   "metadata": {},
   "outputs": [],
   "source": []
  }
 ],
 "metadata": {
  "kernelspec": {
   "display_name": "Python 3",
   "language": "python",
   "name": "python3"
  },
  "language_info": {
   "codemirror_mode": {
    "name": "ipython",
    "version": 3
   },
   "file_extension": ".py",
   "mimetype": "text/x-python",
   "name": "python",
   "nbconvert_exporter": "python",
   "pygments_lexer": "ipython3",
   "version": "3.8.3"
  }
 },
 "nbformat": 4,
 "nbformat_minor": 4
}