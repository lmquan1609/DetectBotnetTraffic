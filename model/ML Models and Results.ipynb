{
 "cells": [
  {
   "cell_type": "markdown",
   "metadata": {},
   "source": [
    "# CTU - 13: Machine Learning Models"
   ]
  },
  {
   "cell_type": "code",
   "execution_count": 1,
   "metadata": {
    "colab": {},
    "colab_type": "code",
    "id": "wylL3v8GwY77"
   },
   "outputs": [],
   "source": [
    "file_path = \"./final\""
   ]
  },
  {
   "cell_type": "code",
   "execution_count": 45,
   "metadata": {},
   "outputs": [],
   "source": [
    "from tqdm import tqdm"
   ]
  },
  {
   "cell_type": "markdown",
   "metadata": {
    "colab_type": "text",
    "id": "z47K0yNEqyAN"
   },
   "source": [
    "## Importing libraries"
   ]
  },
  {
   "cell_type": "code",
   "execution_count": 2,
   "metadata": {
    "colab": {
     "base_uri": "https://localhost:8080/",
     "height": 71
    },
    "colab_type": "code",
    "executionInfo": {
     "elapsed": 2870,
     "status": "ok",
     "timestamp": 1599029207104,
     "user": {
      "displayName": "Subrata Maji",
      "photoUrl": "https://lh3.googleusercontent.com/a-/AOh14Ghxu8VIGqB6XL51-t5wM_f1R1LdmEePYHIwb9b-=s64",
      "userId": "03124174213573157612"
     },
     "user_tz": -330
    },
    "id": "f6ONB_pfCiB_",
    "outputId": "626f8d7c-872b-44c4-bff4-87228ca77fb9"
   },
   "outputs": [],
   "source": [
    "import numpy as np  # for array\n",
    "import pandas as pd  # for csv files and dataframe\n",
    "import matplotlib.pyplot as plt  # for plotting\n",
    "import seaborn as sns  # plotting\n",
    "from scipy import stats\n",
    "from category_encoders import hashing as hs\n",
    "import itertools\n",
    "\n",
    "import pickle  # To load data int disk\n",
    "from prettytable import PrettyTable  # To print in tabular format\n",
    "import os\n",
    "\n",
    "import warnings\n",
    "warnings.filterwarnings(\"ignore\")\n",
    "\n",
    "from sklearn.preprocessing import StandardScaler,MinMaxScaler\n",
    "from sklearn.preprocessing import LabelEncoder, OneHotEncoder\n",
    "from scipy.sparse import csr_matrix  # For sparse matrix\n",
    "\n",
    "from sklearn.model_selection import train_test_split\n",
    "from sklearn.linear_model import LogisticRegression, SGDClassifier\n",
    "from sklearn.svm import LinearSVC\n",
    "from sklearn.naive_bayes import MultinomialNB\n",
    "from sklearn.tree import DecisionTreeClassifier\n",
    "from sklearn.ensemble import RandomForestClassifier\n",
    "from sklearn.svm import OneClassSVM\n",
    "from sklearn.ensemble import IsolationForest\n",
    "from sklearn.neighbors import LocalOutlierFactor\n",
    "from sklearn.covariance import EllipticEnvelope\n",
    "import xgboost as xgb\n",
    "\n",
    "from sklearn.metrics import accuracy_score, confusion_matrix, make_scorer, classification_report, plot_roc_curve, plot_precision_recall_curve\n",
    "from sklearn.metrics import auc, f1_score, roc_curve, roc_auc_score, recall_score, precision_score, precision_recall_curve\n",
    "from sklearn.model_selection import GridSearchCV, RandomizedSearchCV\n",
    "from sklearn.model_selection import cross_validate, cross_val_predict\n",
    "\n",
    "%matplotlib inline"
   ]
  },
  {
   "cell_type": "markdown",
   "metadata": {
    "colab_type": "text",
    "id": "kTKxIgPsw1FE"
   },
   "source": [
    "## Loading files"
   ]
  },
  {
   "cell_type": "code",
   "execution_count": 3,
   "metadata": {
    "colab": {},
    "colab_type": "code",
    "id": "qWC2DjSSw31G"
   },
   "outputs": [],
   "source": [
    "# Train and Test data\n",
    "x_train, y_train, y_train_label = pickle.load(open(file_path+'/final_train.pkl', 'rb'))\n",
    "x_test, y_test, y_test_label = pickle.load(open(file_path+'/final_test.pkl', 'rb'))\n",
    "\n",
    "# Dictionaries\n",
    "saved_dict = pickle.load(open(file_path+'/saved_dict.pkl', 'rb'))\n",
    "mode_dict = pickle.load(open(file_path+'/mode_dict.pkl', 'rb'))\n",
    "\n",
    "# Standard scaler\n",
    "scaler = pickle.load(open(file_path+'/scaler.pkl', 'rb'))\n",
    "\n",
    "# Onehot/Label encoders\n",
    "ohe_dtos = pickle.load(open(file_path+'/ohe_dtos.pkl', 'rb'))\n",
    "ohe_stos = pickle.load(open(file_path+'/ohe_stos.pkl', 'rb'))\n",
    "ohe_dir = pickle.load(open(file_path+'/ohe_dir.pkl', 'rb'))\n",
    "ohe_proto = pickle.load(open(file_path+'/ohe_proto.pkl', 'rb'))"
   ]
  },
  {
   "cell_type": "code",
   "execution_count": 4,
   "metadata": {
    "colab": {},
    "colab_type": "code",
    "id": "OD0LSBiVQK-K"
   },
   "outputs": [],
   "source": [
    "# Making the train data sparse matrix\n",
    "x_train_csr = csr_matrix(x_train.values)\n",
    "\n",
    "col = x_train.columns\n",
    "\n",
    "# Creating sparse dataframe with x_train sparse matrix\n",
    "x_train = pd.DataFrame.sparse.from_spmatrix(x_train_csr, columns=col)"
   ]
  },
  {
   "cell_type": "code",
   "execution_count": 5,
   "metadata": {},
   "outputs": [
    {
     "data": {
      "text/html": [
       "<div>\n",
       "<style scoped>\n",
       "    .dataframe tbody tr th:only-of-type {\n",
       "        vertical-align: middle;\n",
       "    }\n",
       "\n",
       "    .dataframe tbody tr th {\n",
       "        vertical-align: top;\n",
       "    }\n",
       "\n",
       "    .dataframe thead th {\n",
       "        text-align: right;\n",
       "    }\n",
       "</style>\n",
       "<table border=\"1\" class=\"dataframe\">\n",
       "  <thead>\n",
       "    <tr style=\"text-align: right;\">\n",
       "      <th></th>\n",
       "      <th>dur</th>\n",
       "      <th>sport</th>\n",
       "      <th>dport</th>\n",
       "      <th>totpkts</th>\n",
       "      <th>totbytes</th>\n",
       "      <th>srcbytes</th>\n",
       "      <th>stos_0.0</th>\n",
       "      <th>stos_1.0</th>\n",
       "      <th>stos_2.0</th>\n",
       "      <th>stos_3.0</th>\n",
       "      <th>...</th>\n",
       "      <th>proto_llc</th>\n",
       "      <th>proto_pim</th>\n",
       "      <th>proto_rarp</th>\n",
       "      <th>proto_rsvp</th>\n",
       "      <th>proto_rtcp</th>\n",
       "      <th>proto_rtp</th>\n",
       "      <th>proto_tcp</th>\n",
       "      <th>proto_udp</th>\n",
       "      <th>proto_udt</th>\n",
       "      <th>proto_unas</th>\n",
       "    </tr>\n",
       "  </thead>\n",
       "  <tbody>\n",
       "    <tr>\n",
       "      <th>0</th>\n",
       "      <td>0.000000e+00</td>\n",
       "      <td>0.000306</td>\n",
       "      <td>2.300602e-05</td>\n",
       "      <td>0.000000e+00</td>\n",
       "      <td>0.000000e+00</td>\n",
       "      <td>1.752639e-08</td>\n",
       "      <td>1.0</td>\n",
       "      <td>0.0</td>\n",
       "      <td>0.0</td>\n",
       "      <td>0.0</td>\n",
       "      <td>...</td>\n",
       "      <td>0.0</td>\n",
       "      <td>0.0</td>\n",
       "      <td>0.0</td>\n",
       "      <td>0.0</td>\n",
       "      <td>0.0</td>\n",
       "      <td>0.0</td>\n",
       "      <td>1.0</td>\n",
       "      <td>0.0</td>\n",
       "      <td>0.0</td>\n",
       "      <td>0.0</td>\n",
       "    </tr>\n",
       "    <tr>\n",
       "      <th>1</th>\n",
       "      <td>1.077368e-06</td>\n",
       "      <td>0.822925</td>\n",
       "      <td>1.459837e-04</td>\n",
       "      <td>7.810340e-07</td>\n",
       "      <td>8.314675e-07</td>\n",
       "      <td>1.752639e-08</td>\n",
       "      <td>1.0</td>\n",
       "      <td>0.0</td>\n",
       "      <td>0.0</td>\n",
       "      <td>0.0</td>\n",
       "      <td>...</td>\n",
       "      <td>0.0</td>\n",
       "      <td>0.0</td>\n",
       "      <td>0.0</td>\n",
       "      <td>0.0</td>\n",
       "      <td>0.0</td>\n",
       "      <td>0.0</td>\n",
       "      <td>0.0</td>\n",
       "      <td>1.0</td>\n",
       "      <td>0.0</td>\n",
       "      <td>0.0</td>\n",
       "    </tr>\n",
       "    <tr>\n",
       "      <th>2</th>\n",
       "      <td>7.902520e-08</td>\n",
       "      <td>0.852049</td>\n",
       "      <td>1.521243e-07</td>\n",
       "      <td>2.603447e-07</td>\n",
       "      <td>9.405356e-08</td>\n",
       "      <td>2.249221e-08</td>\n",
       "      <td>1.0</td>\n",
       "      <td>0.0</td>\n",
       "      <td>0.0</td>\n",
       "      <td>0.0</td>\n",
       "      <td>...</td>\n",
       "      <td>0.0</td>\n",
       "      <td>0.0</td>\n",
       "      <td>0.0</td>\n",
       "      <td>0.0</td>\n",
       "      <td>0.0</td>\n",
       "      <td>0.0</td>\n",
       "      <td>0.0</td>\n",
       "      <td>1.0</td>\n",
       "      <td>0.0</td>\n",
       "      <td>0.0</td>\n",
       "    </tr>\n",
       "    <tr>\n",
       "      <th>3</th>\n",
       "      <td>3.654524e-01</td>\n",
       "      <td>0.523276</td>\n",
       "      <td>1.459837e-04</td>\n",
       "      <td>7.810340e-07</td>\n",
       "      <td>3.053908e-07</td>\n",
       "      <td>4.381598e-08</td>\n",
       "      <td>1.0</td>\n",
       "      <td>0.0</td>\n",
       "      <td>0.0</td>\n",
       "      <td>0.0</td>\n",
       "      <td>...</td>\n",
       "      <td>0.0</td>\n",
       "      <td>0.0</td>\n",
       "      <td>0.0</td>\n",
       "      <td>0.0</td>\n",
       "      <td>0.0</td>\n",
       "      <td>0.0</td>\n",
       "      <td>0.0</td>\n",
       "      <td>1.0</td>\n",
       "      <td>0.0</td>\n",
       "      <td>0.0</td>\n",
       "    </tr>\n",
       "    <tr>\n",
       "      <th>4</th>\n",
       "      <td>2.691224e-04</td>\n",
       "      <td>0.015630</td>\n",
       "      <td>4.962964e-05</td>\n",
       "      <td>1.301723e-06</td>\n",
       "      <td>8.668792e-08</td>\n",
       "      <td>5.433182e-08</td>\n",
       "      <td>1.0</td>\n",
       "      <td>0.0</td>\n",
       "      <td>0.0</td>\n",
       "      <td>0.0</td>\n",
       "      <td>...</td>\n",
       "      <td>0.0</td>\n",
       "      <td>0.0</td>\n",
       "      <td>0.0</td>\n",
       "      <td>0.0</td>\n",
       "      <td>0.0</td>\n",
       "      <td>0.0</td>\n",
       "      <td>1.0</td>\n",
       "      <td>0.0</td>\n",
       "      <td>0.0</td>\n",
       "      <td>0.0</td>\n",
       "    </tr>\n",
       "    <tr>\n",
       "      <th>...</th>\n",
       "      <td>...</td>\n",
       "      <td>...</td>\n",
       "      <td>...</td>\n",
       "      <td>...</td>\n",
       "      <td>...</td>\n",
       "      <td>...</td>\n",
       "      <td>...</td>\n",
       "      <td>...</td>\n",
       "      <td>...</td>\n",
       "      <td>...</td>\n",
       "      <td>...</td>\n",
       "      <td>...</td>\n",
       "      <td>...</td>\n",
       "      <td>...</td>\n",
       "      <td>...</td>\n",
       "      <td>...</td>\n",
       "      <td>...</td>\n",
       "      <td>...</td>\n",
       "      <td>...</td>\n",
       "      <td>...</td>\n",
       "      <td>...</td>\n",
       "    </tr>\n",
       "    <tr>\n",
       "      <th>9950987</th>\n",
       "      <td>1.635193e-07</td>\n",
       "      <td>0.651607</td>\n",
       "      <td>1.459837e-04</td>\n",
       "      <td>2.603447e-07</td>\n",
       "      <td>1.393806e-07</td>\n",
       "      <td>2.190799e-08</td>\n",
       "      <td>1.0</td>\n",
       "      <td>0.0</td>\n",
       "      <td>0.0</td>\n",
       "      <td>0.0</td>\n",
       "      <td>...</td>\n",
       "      <td>0.0</td>\n",
       "      <td>0.0</td>\n",
       "      <td>0.0</td>\n",
       "      <td>0.0</td>\n",
       "      <td>0.0</td>\n",
       "      <td>0.0</td>\n",
       "      <td>0.0</td>\n",
       "      <td>1.0</td>\n",
       "      <td>0.0</td>\n",
       "      <td>0.0</td>\n",
       "    </tr>\n",
       "    <tr>\n",
       "      <th>9950988</th>\n",
       "      <td>1.282450e-07</td>\n",
       "      <td>0.823672</td>\n",
       "      <td>1.521243e-07</td>\n",
       "      <td>2.603447e-07</td>\n",
       "      <td>5.070960e-08</td>\n",
       "      <td>2.307642e-08</td>\n",
       "      <td>1.0</td>\n",
       "      <td>0.0</td>\n",
       "      <td>0.0</td>\n",
       "      <td>0.0</td>\n",
       "      <td>...</td>\n",
       "      <td>0.0</td>\n",
       "      <td>0.0</td>\n",
       "      <td>0.0</td>\n",
       "      <td>0.0</td>\n",
       "      <td>0.0</td>\n",
       "      <td>0.0</td>\n",
       "      <td>0.0</td>\n",
       "      <td>1.0</td>\n",
       "      <td>0.0</td>\n",
       "      <td>0.0</td>\n",
       "    </tr>\n",
       "    <tr>\n",
       "      <th>9950989</th>\n",
       "      <td>4.019621e-08</td>\n",
       "      <td>0.957311</td>\n",
       "      <td>4.965765e-04</td>\n",
       "      <td>2.603447e-07</td>\n",
       "      <td>1.869739e-08</td>\n",
       "      <td>1.927903e-08</td>\n",
       "      <td>1.0</td>\n",
       "      <td>0.0</td>\n",
       "      <td>0.0</td>\n",
       "      <td>0.0</td>\n",
       "      <td>...</td>\n",
       "      <td>0.0</td>\n",
       "      <td>0.0</td>\n",
       "      <td>0.0</td>\n",
       "      <td>0.0</td>\n",
       "      <td>0.0</td>\n",
       "      <td>0.0</td>\n",
       "      <td>1.0</td>\n",
       "      <td>0.0</td>\n",
       "      <td>0.0</td>\n",
       "      <td>0.0</td>\n",
       "    </tr>\n",
       "    <tr>\n",
       "      <th>9950990</th>\n",
       "      <td>6.918123e-08</td>\n",
       "      <td>0.636302</td>\n",
       "      <td>1.521243e-07</td>\n",
       "      <td>2.603447e-07</td>\n",
       "      <td>4.362725e-08</td>\n",
       "      <td>2.366063e-08</td>\n",
       "      <td>1.0</td>\n",
       "      <td>0.0</td>\n",
       "      <td>0.0</td>\n",
       "      <td>0.0</td>\n",
       "      <td>...</td>\n",
       "      <td>0.0</td>\n",
       "      <td>0.0</td>\n",
       "      <td>0.0</td>\n",
       "      <td>0.0</td>\n",
       "      <td>0.0</td>\n",
       "      <td>0.0</td>\n",
       "      <td>0.0</td>\n",
       "      <td>1.0</td>\n",
       "      <td>0.0</td>\n",
       "      <td>0.0</td>\n",
       "    </tr>\n",
       "    <tr>\n",
       "      <th>9950991</th>\n",
       "      <td>2.184814e-07</td>\n",
       "      <td>0.317942</td>\n",
       "      <td>1.459837e-04</td>\n",
       "      <td>2.603447e-07</td>\n",
       "      <td>5.779195e-08</td>\n",
       "      <td>5.228708e-08</td>\n",
       "      <td>1.0</td>\n",
       "      <td>0.0</td>\n",
       "      <td>0.0</td>\n",
       "      <td>0.0</td>\n",
       "      <td>...</td>\n",
       "      <td>0.0</td>\n",
       "      <td>0.0</td>\n",
       "      <td>0.0</td>\n",
       "      <td>0.0</td>\n",
       "      <td>0.0</td>\n",
       "      <td>0.0</td>\n",
       "      <td>0.0</td>\n",
       "      <td>1.0</td>\n",
       "      <td>0.0</td>\n",
       "      <td>0.0</td>\n",
       "    </tr>\n",
       "  </tbody>\n",
       "</table>\n",
       "<p>9950992 rows × 39 columns</p>\n",
       "</div>"
      ],
      "text/plain": [
       "                  dur     sport         dport       totpkts      totbytes  \\\n",
       "0        0.000000e+00  0.000306  2.300602e-05  0.000000e+00  0.000000e+00   \n",
       "1        1.077368e-06  0.822925  1.459837e-04  7.810340e-07  8.314675e-07   \n",
       "2        7.902520e-08  0.852049  1.521243e-07  2.603447e-07  9.405356e-08   \n",
       "3        3.654524e-01  0.523276  1.459837e-04  7.810340e-07  3.053908e-07   \n",
       "4        2.691224e-04  0.015630  4.962964e-05  1.301723e-06  8.668792e-08   \n",
       "...               ...       ...           ...           ...           ...   \n",
       "9950987  1.635193e-07  0.651607  1.459837e-04  2.603447e-07  1.393806e-07   \n",
       "9950988  1.282450e-07  0.823672  1.521243e-07  2.603447e-07  5.070960e-08   \n",
       "9950989  4.019621e-08  0.957311  4.965765e-04  2.603447e-07  1.869739e-08   \n",
       "9950990  6.918123e-08  0.636302  1.521243e-07  2.603447e-07  4.362725e-08   \n",
       "9950991  2.184814e-07  0.317942  1.459837e-04  2.603447e-07  5.779195e-08   \n",
       "\n",
       "             srcbytes  stos_0.0  stos_1.0  stos_2.0  stos_3.0  ...  proto_llc  \\\n",
       "0        1.752639e-08       1.0       0.0       0.0       0.0  ...        0.0   \n",
       "1        1.752639e-08       1.0       0.0       0.0       0.0  ...        0.0   \n",
       "2        2.249221e-08       1.0       0.0       0.0       0.0  ...        0.0   \n",
       "3        4.381598e-08       1.0       0.0       0.0       0.0  ...        0.0   \n",
       "4        5.433182e-08       1.0       0.0       0.0       0.0  ...        0.0   \n",
       "...               ...       ...       ...       ...       ...  ...        ...   \n",
       "9950987  2.190799e-08       1.0       0.0       0.0       0.0  ...        0.0   \n",
       "9950988  2.307642e-08       1.0       0.0       0.0       0.0  ...        0.0   \n",
       "9950989  1.927903e-08       1.0       0.0       0.0       0.0  ...        0.0   \n",
       "9950990  2.366063e-08       1.0       0.0       0.0       0.0  ...        0.0   \n",
       "9950991  5.228708e-08       1.0       0.0       0.0       0.0  ...        0.0   \n",
       "\n",
       "         proto_pim  proto_rarp  proto_rsvp  proto_rtcp  proto_rtp  proto_tcp  \\\n",
       "0              0.0         0.0         0.0         0.0        0.0        1.0   \n",
       "1              0.0         0.0         0.0         0.0        0.0        0.0   \n",
       "2              0.0         0.0         0.0         0.0        0.0        0.0   \n",
       "3              0.0         0.0         0.0         0.0        0.0        0.0   \n",
       "4              0.0         0.0         0.0         0.0        0.0        1.0   \n",
       "...            ...         ...         ...         ...        ...        ...   \n",
       "9950987        0.0         0.0         0.0         0.0        0.0        0.0   \n",
       "9950988        0.0         0.0         0.0         0.0        0.0        0.0   \n",
       "9950989        0.0         0.0         0.0         0.0        0.0        1.0   \n",
       "9950990        0.0         0.0         0.0         0.0        0.0        0.0   \n",
       "9950991        0.0         0.0         0.0         0.0        0.0        0.0   \n",
       "\n",
       "         proto_udp  proto_udt  proto_unas  \n",
       "0              0.0        0.0         0.0  \n",
       "1              1.0        0.0         0.0  \n",
       "2              1.0        0.0         0.0  \n",
       "3              1.0        0.0         0.0  \n",
       "4              0.0        0.0         0.0  \n",
       "...            ...        ...         ...  \n",
       "9950987        1.0        0.0         0.0  \n",
       "9950988        1.0        0.0         0.0  \n",
       "9950989        0.0        0.0         0.0  \n",
       "9950990        1.0        0.0         0.0  \n",
       "9950991        1.0        0.0         0.0  \n",
       "\n",
       "[9950992 rows x 39 columns]"
      ]
     },
     "execution_count": 5,
     "metadata": {},
     "output_type": "execute_result"
    }
   ],
   "source": [
    "x_train"
   ]
  },
  {
   "cell_type": "code",
   "execution_count": 6,
   "metadata": {
    "colab": {
     "base_uri": "https://localhost:8080/",
     "height": 270
    },
    "colab_type": "code",
    "executionInfo": {
     "elapsed": 2812,
     "status": "ok",
     "timestamp": 1597910875080,
     "user": {
      "displayName": "Subrata Maji",
      "photoUrl": "https://lh3.googleusercontent.com/a-/AOh14Ghxu8VIGqB6XL51-t5wM_f1R1LdmEePYHIwb9b-=s64",
      "userId": "03124174213573157612"
     },
     "user_tz": -330
    },
    "id": "EorH6H9NQK-x",
    "outputId": "fbccc1fa-5680-40d8-e37b-5592cf1b7c6b"
   },
   "outputs": [
    {
     "data": {
      "text/html": [
       "<div>\n",
       "<style scoped>\n",
       "    .dataframe tbody tr th:only-of-type {\n",
       "        vertical-align: middle;\n",
       "    }\n",
       "\n",
       "    .dataframe tbody tr th {\n",
       "        vertical-align: top;\n",
       "    }\n",
       "\n",
       "    .dataframe thead th {\n",
       "        text-align: right;\n",
       "    }\n",
       "</style>\n",
       "<table border=\"1\" class=\"dataframe\">\n",
       "  <thead>\n",
       "    <tr style=\"text-align: right;\">\n",
       "      <th></th>\n",
       "      <th>dur</th>\n",
       "      <th>sport</th>\n",
       "      <th>dport</th>\n",
       "      <th>totpkts</th>\n",
       "      <th>totbytes</th>\n",
       "      <th>srcbytes</th>\n",
       "      <th>stos_0.0</th>\n",
       "      <th>stos_1.0</th>\n",
       "      <th>stos_2.0</th>\n",
       "      <th>stos_3.0</th>\n",
       "      <th>...</th>\n",
       "      <th>proto_llc</th>\n",
       "      <th>proto_pim</th>\n",
       "      <th>proto_rarp</th>\n",
       "      <th>proto_rsvp</th>\n",
       "      <th>proto_rtcp</th>\n",
       "      <th>proto_rtp</th>\n",
       "      <th>proto_tcp</th>\n",
       "      <th>proto_udp</th>\n",
       "      <th>proto_udt</th>\n",
       "      <th>proto_unas</th>\n",
       "    </tr>\n",
       "  </thead>\n",
       "  <tbody>\n",
       "    <tr>\n",
       "      <th>0</th>\n",
       "      <td>0.000000e+00</td>\n",
       "      <td>0.000306</td>\n",
       "      <td>2.300602e-05</td>\n",
       "      <td>0.000000e+00</td>\n",
       "      <td>0.000000e+00</td>\n",
       "      <td>1.752639e-08</td>\n",
       "      <td>1.0</td>\n",
       "      <td>0.0</td>\n",
       "      <td>0.0</td>\n",
       "      <td>0.0</td>\n",
       "      <td>...</td>\n",
       "      <td>0.0</td>\n",
       "      <td>0.0</td>\n",
       "      <td>0.0</td>\n",
       "      <td>0.0</td>\n",
       "      <td>0.0</td>\n",
       "      <td>0.0</td>\n",
       "      <td>1.0</td>\n",
       "      <td>0.0</td>\n",
       "      <td>0.0</td>\n",
       "      <td>0.0</td>\n",
       "    </tr>\n",
       "    <tr>\n",
       "      <th>1</th>\n",
       "      <td>1.077368e-06</td>\n",
       "      <td>0.822925</td>\n",
       "      <td>1.459837e-04</td>\n",
       "      <td>7.810340e-07</td>\n",
       "      <td>8.314675e-07</td>\n",
       "      <td>1.752639e-08</td>\n",
       "      <td>1.0</td>\n",
       "      <td>0.0</td>\n",
       "      <td>0.0</td>\n",
       "      <td>0.0</td>\n",
       "      <td>...</td>\n",
       "      <td>0.0</td>\n",
       "      <td>0.0</td>\n",
       "      <td>0.0</td>\n",
       "      <td>0.0</td>\n",
       "      <td>0.0</td>\n",
       "      <td>0.0</td>\n",
       "      <td>0.0</td>\n",
       "      <td>1.0</td>\n",
       "      <td>0.0</td>\n",
       "      <td>0.0</td>\n",
       "    </tr>\n",
       "    <tr>\n",
       "      <th>2</th>\n",
       "      <td>7.902520e-08</td>\n",
       "      <td>0.852049</td>\n",
       "      <td>1.521243e-07</td>\n",
       "      <td>2.603447e-07</td>\n",
       "      <td>9.405356e-08</td>\n",
       "      <td>2.249221e-08</td>\n",
       "      <td>1.0</td>\n",
       "      <td>0.0</td>\n",
       "      <td>0.0</td>\n",
       "      <td>0.0</td>\n",
       "      <td>...</td>\n",
       "      <td>0.0</td>\n",
       "      <td>0.0</td>\n",
       "      <td>0.0</td>\n",
       "      <td>0.0</td>\n",
       "      <td>0.0</td>\n",
       "      <td>0.0</td>\n",
       "      <td>0.0</td>\n",
       "      <td>1.0</td>\n",
       "      <td>0.0</td>\n",
       "      <td>0.0</td>\n",
       "    </tr>\n",
       "    <tr>\n",
       "      <th>3</th>\n",
       "      <td>3.654524e-01</td>\n",
       "      <td>0.523276</td>\n",
       "      <td>1.459837e-04</td>\n",
       "      <td>7.810340e-07</td>\n",
       "      <td>3.053908e-07</td>\n",
       "      <td>4.381598e-08</td>\n",
       "      <td>1.0</td>\n",
       "      <td>0.0</td>\n",
       "      <td>0.0</td>\n",
       "      <td>0.0</td>\n",
       "      <td>...</td>\n",
       "      <td>0.0</td>\n",
       "      <td>0.0</td>\n",
       "      <td>0.0</td>\n",
       "      <td>0.0</td>\n",
       "      <td>0.0</td>\n",
       "      <td>0.0</td>\n",
       "      <td>0.0</td>\n",
       "      <td>1.0</td>\n",
       "      <td>0.0</td>\n",
       "      <td>0.0</td>\n",
       "    </tr>\n",
       "    <tr>\n",
       "      <th>4</th>\n",
       "      <td>2.691224e-04</td>\n",
       "      <td>0.015630</td>\n",
       "      <td>4.962964e-05</td>\n",
       "      <td>1.301723e-06</td>\n",
       "      <td>8.668792e-08</td>\n",
       "      <td>5.433182e-08</td>\n",
       "      <td>1.0</td>\n",
       "      <td>0.0</td>\n",
       "      <td>0.0</td>\n",
       "      <td>0.0</td>\n",
       "      <td>...</td>\n",
       "      <td>0.0</td>\n",
       "      <td>0.0</td>\n",
       "      <td>0.0</td>\n",
       "      <td>0.0</td>\n",
       "      <td>0.0</td>\n",
       "      <td>0.0</td>\n",
       "      <td>1.0</td>\n",
       "      <td>0.0</td>\n",
       "      <td>0.0</td>\n",
       "      <td>0.0</td>\n",
       "    </tr>\n",
       "  </tbody>\n",
       "</table>\n",
       "<p>5 rows × 39 columns</p>\n",
       "</div>"
      ],
      "text/plain": [
       "            dur     sport         dport       totpkts      totbytes  \\\n",
       "0  0.000000e+00  0.000306  2.300602e-05  0.000000e+00  0.000000e+00   \n",
       "1  1.077368e-06  0.822925  1.459837e-04  7.810340e-07  8.314675e-07   \n",
       "2  7.902520e-08  0.852049  1.521243e-07  2.603447e-07  9.405356e-08   \n",
       "3  3.654524e-01  0.523276  1.459837e-04  7.810340e-07  3.053908e-07   \n",
       "4  2.691224e-04  0.015630  4.962964e-05  1.301723e-06  8.668792e-08   \n",
       "\n",
       "       srcbytes  stos_0.0  stos_1.0  stos_2.0  stos_3.0  ...  proto_llc  \\\n",
       "0  1.752639e-08       1.0       0.0       0.0       0.0  ...        0.0   \n",
       "1  1.752639e-08       1.0       0.0       0.0       0.0  ...        0.0   \n",
       "2  2.249221e-08       1.0       0.0       0.0       0.0  ...        0.0   \n",
       "3  4.381598e-08       1.0       0.0       0.0       0.0  ...        0.0   \n",
       "4  5.433182e-08       1.0       0.0       0.0       0.0  ...        0.0   \n",
       "\n",
       "   proto_pim  proto_rarp  proto_rsvp  proto_rtcp  proto_rtp  proto_tcp  \\\n",
       "0        0.0         0.0         0.0         0.0        0.0        1.0   \n",
       "1        0.0         0.0         0.0         0.0        0.0        0.0   \n",
       "2        0.0         0.0         0.0         0.0        0.0        0.0   \n",
       "3        0.0         0.0         0.0         0.0        0.0        0.0   \n",
       "4        0.0         0.0         0.0         0.0        0.0        1.0   \n",
       "\n",
       "   proto_udp  proto_udt  proto_unas  \n",
       "0        0.0        0.0         0.0  \n",
       "1        1.0        0.0         0.0  \n",
       "2        1.0        0.0         0.0  \n",
       "3        1.0        0.0         0.0  \n",
       "4        0.0        0.0         0.0  \n",
       "\n",
       "[5 rows x 39 columns]"
      ]
     },
     "execution_count": 6,
     "metadata": {},
     "output_type": "execute_result"
    }
   ],
   "source": [
    "x_train.sparse.to_dense().head()"
   ]
  },
  {
   "cell_type": "code",
   "execution_count": 7,
   "metadata": {
    "colab": {
     "base_uri": "https://localhost:8080/",
     "height": 34
    },
    "colab_type": "code",
    "executionInfo": {
     "elapsed": 1061,
     "status": "ok",
     "timestamp": 1597923762862,
     "user": {
      "displayName": "Subrata Maji",
      "photoUrl": "https://lh3.googleusercontent.com/a-/AOh14Ghxu8VIGqB6XL51-t5wM_f1R1LdmEePYHIwb9b-=s64",
      "userId": "03124174213573157612"
     },
     "user_tz": -330
    },
    "id": "IOtsVAiBx0nl",
    "outputId": "962389ed-c3cd-43ab-d8c8-b72b83709115"
   },
   "outputs": [
    {
     "data": {
      "text/plain": [
       "((9950992, 39), (9950992,))"
      ]
     },
     "execution_count": 7,
     "metadata": {},
     "output_type": "execute_result"
    }
   ],
   "source": [
    "x_train.shape, y_train.shape"
   ]
  },
  {
   "cell_type": "markdown",
   "metadata": {
    "colab_type": "text",
    "id": "7XeCaHLKvW3-"
   },
   "source": [
    "## Pipeline functions"
   ]
  },
  {
   "cell_type": "code",
   "execution_count": 8,
   "metadata": {
    "colab": {},
    "colab_type": "code",
    "id": "KO4QJwGIvSFY"
   },
   "outputs": [],
   "source": [
    "#------------------------------------------------------------------------------------------\n",
    "# Data Cleaning\n",
    "#------------------------------------------------------------------------------------------\n",
    "def clean_data(data, saved_dict=saved_dict):\n",
    "    '''\n",
    "    Cleans given raw data. Performs various cleaning, removes Null and wrong values.\n",
    "    Check for columns datatype and fix them.\n",
    "    '''\n",
    "    \n",
    "    data.drop(columns=saved_dict['to_drop'], axis=1, inplace=True)\n",
    "    \n",
    "    # Cleaning the data\n",
    "    data = data.drop(data[data['stos'] == 192.0].index)\n",
    "    data['stos'] = data.stos.fillna(value=0.0)\n",
    "    data['dtos'] = data.dtos.fillna(value=0.0)\n",
    "    data.dropna(inplace=True) #drop sport and dport missing\n",
    "    def is_hex(s):\n",
    "        try:\n",
    "            int(s, 16)\n",
    "            return True\n",
    "        except ValueError:\n",
    "            return False\n",
    "\n",
    "    def convertHexInSport(port):\n",
    "        if str(int(port, 16)) != port:\n",
    "            return int(port, 16)\n",
    "\n",
    "        return int(port)\n",
    "    \n",
    "    data['sport'] = data['sport'].apply(convertHexInSport)\n",
    "    data['dport'] = data['dport'].apply(convertHexInSport)\n",
    "    \n",
    "    return data\n",
    "\n",
    "\n",
    "#------------------------------------------------------------------------------------------\n",
    "# Standardizing: Mean centering an d varience scaling\n",
    "#------------------------------------------------------------------------------------------\n",
    "def standardize(data, saved_dict=saved_dict, scaler=scaler):\n",
    "    '''\n",
    "    Stanardize the given data. Performs mean centering and varience scaling.\n",
    "    Using stanardscaler object trained on train data.\n",
    "    '''\n",
    "    data[saved_dict['num_col']] = scaler.transform(data[saved_dict['num_col']])\n",
    "    return data\n",
    "\n",
    "#------------------------------------------------------------------------------------------\n",
    "# Onehot encoding of categorical columns\n",
    "#------------------------------------------------------------------------------------------\n",
    "def ohencoding(data, saved_dict=saved_dict, encoder=[ohe_dir, ohe_proto, ohe_stos, ohe_dtos]):\n",
    "    '''\n",
    "    Onehot encoding the categoricla columns.\n",
    "    Add the ohe columns with the data and removes categorical columns.\n",
    "    Using Onehotencoder objects trained on train data.\n",
    "    '''\n",
    "    # Adding encoding data to original data\n",
    "    for col, encoding in zip(['stos', 'dtos', 'dir', 'proto'], [encoder[2], encoder[3], encoder[0], encoder[1]]):\n",
    "        x = encoding.transform(data[col].values.reshape(-1,1))\n",
    "        tmp_df = pd.DataFrame(x.toarray(), dtype='int64', columns=[col+'_'+str(i) for i in encoding.categories_[0]])\n",
    "        data = data.reset_index(drop=True).join(tmp_df)\n",
    "        data = data.drop(col, axis=1)\n",
    "    return data"
   ]
  },
  {
   "cell_type": "code",
   "execution_count": 9,
   "metadata": {
    "colab": {},
    "colab_type": "code",
    "id": "g5UdbeyfwFhZ"
   },
   "outputs": [],
   "source": [
    "def get_final_data(data, saved_dict=saved_dict, scaler=scaler, encoder=[ohe_dir, ohe_proto, ohe_stos, ohe_dtos]):\n",
    "    '''\n",
    "    This functions takes raw input and convert that to model required output.\n",
    "    '''\n",
    "    \n",
    "    \n",
    "    data = clean_data(data, saved_dict)\n",
    "    data = standardize(data, saved_dict, scaler)\n",
    "    data = ohencoding(data, saved_dict, encoder)\n",
    "    \n",
    "    return data"
   ]
  },
  {
   "cell_type": "markdown",
   "metadata": {
    "colab_type": "text",
    "id": "96616ttTVVXw"
   },
   "source": [
    "## Training and validation of models"
   ]
  },
  {
   "cell_type": "code",
   "execution_count": 10,
   "metadata": {},
   "outputs": [
    {
     "data": {
      "text/plain": [
       "{'to_drop': ['starttime', 'srcaddr', 'dstaddr', 'state'],\n",
       " 'moded_featute': {'dur': 0.0,\n",
       "  'proto': 'udp',\n",
       "  'sport': '13363',\n",
       "  'dir': '  <->',\n",
       "  'dport': '53',\n",
       "  'stos': 0.0,\n",
       "  'dtos': 0.0,\n",
       "  'totpkts': 2,\n",
       "  'totbytes': 214,\n",
       "  'srcbytes': 81,\n",
       "  'label': 'flow=To-Background-UDP-CVUT-DNS-Server',\n",
       "  'target': 0},\n",
       " 'cat_col': ['proto', 'dtos', 'dir', 'stos'],\n",
       " 'num_col': ['dur', 'sport', 'dport', 'totpkts', 'totbytes', 'srcbytes']}"
      ]
     },
     "execution_count": 10,
     "metadata": {},
     "output_type": "execute_result"
    }
   ],
   "source": [
    "saved_dict"
   ]
  },
  {
   "cell_type": "code",
   "execution_count": 11,
   "metadata": {},
   "outputs": [
    {
     "data": {
      "text/html": [
       "<div>\n",
       "<style scoped>\n",
       "    .dataframe tbody tr th:only-of-type {\n",
       "        vertical-align: middle;\n",
       "    }\n",
       "\n",
       "    .dataframe tbody tr th {\n",
       "        vertical-align: top;\n",
       "    }\n",
       "\n",
       "    .dataframe thead th {\n",
       "        text-align: right;\n",
       "    }\n",
       "</style>\n",
       "<table border=\"1\" class=\"dataframe\">\n",
       "  <thead>\n",
       "    <tr style=\"text-align: right;\">\n",
       "      <th></th>\n",
       "      <th>dur</th>\n",
       "      <th>sport</th>\n",
       "      <th>dport</th>\n",
       "      <th>totpkts</th>\n",
       "      <th>totbytes</th>\n",
       "      <th>srcbytes</th>\n",
       "      <th>stos_0.0</th>\n",
       "      <th>stos_1.0</th>\n",
       "      <th>stos_2.0</th>\n",
       "      <th>stos_3.0</th>\n",
       "      <th>...</th>\n",
       "      <th>proto_llc</th>\n",
       "      <th>proto_pim</th>\n",
       "      <th>proto_rarp</th>\n",
       "      <th>proto_rsvp</th>\n",
       "      <th>proto_rtcp</th>\n",
       "      <th>proto_rtp</th>\n",
       "      <th>proto_tcp</th>\n",
       "      <th>proto_udp</th>\n",
       "      <th>proto_udt</th>\n",
       "      <th>proto_unas</th>\n",
       "    </tr>\n",
       "  </thead>\n",
       "  <tbody>\n",
       "    <tr>\n",
       "      <th>0</th>\n",
       "      <td>5.256203e-01</td>\n",
       "      <td>0.069706</td>\n",
       "      <td>5.385758e-05</td>\n",
       "      <td>1.822413e-06</td>\n",
       "      <td>1.733758e-07</td>\n",
       "      <td>1.962956e-07</td>\n",
       "      <td>1</td>\n",
       "      <td>0</td>\n",
       "      <td>0</td>\n",
       "      <td>0</td>\n",
       "      <td>...</td>\n",
       "      <td>0</td>\n",
       "      <td>0</td>\n",
       "      <td>0</td>\n",
       "      <td>0</td>\n",
       "      <td>0</td>\n",
       "      <td>0</td>\n",
       "      <td>0</td>\n",
       "      <td>1</td>\n",
       "      <td>0</td>\n",
       "      <td>0</td>\n",
       "    </tr>\n",
       "    <tr>\n",
       "      <th>1</th>\n",
       "      <td>1.848479e-07</td>\n",
       "      <td>0.803731</td>\n",
       "      <td>1.459837e-04</td>\n",
       "      <td>2.603447e-07</td>\n",
       "      <td>2.096374e-08</td>\n",
       "      <td>2.161589e-08</td>\n",
       "      <td>1</td>\n",
       "      <td>0</td>\n",
       "      <td>0</td>\n",
       "      <td>0</td>\n",
       "      <td>...</td>\n",
       "      <td>0</td>\n",
       "      <td>0</td>\n",
       "      <td>0</td>\n",
       "      <td>0</td>\n",
       "      <td>0</td>\n",
       "      <td>0</td>\n",
       "      <td>0</td>\n",
       "      <td>1</td>\n",
       "      <td>0</td>\n",
       "      <td>0</td>\n",
       "    </tr>\n",
       "    <tr>\n",
       "      <th>2</th>\n",
       "      <td>3.117257e-08</td>\n",
       "      <td>0.878473</td>\n",
       "      <td>1.521243e-07</td>\n",
       "      <td>2.603447e-07</td>\n",
       "      <td>4.362725e-08</td>\n",
       "      <td>2.366063e-08</td>\n",
       "      <td>1</td>\n",
       "      <td>0</td>\n",
       "      <td>0</td>\n",
       "      <td>0</td>\n",
       "      <td>...</td>\n",
       "      <td>0</td>\n",
       "      <td>0</td>\n",
       "      <td>0</td>\n",
       "      <td>0</td>\n",
       "      <td>0</td>\n",
       "      <td>0</td>\n",
       "      <td>0</td>\n",
       "      <td>1</td>\n",
       "      <td>0</td>\n",
       "      <td>0</td>\n",
       "    </tr>\n",
       "    <tr>\n",
       "      <th>3</th>\n",
       "      <td>8.476752e-08</td>\n",
       "      <td>0.820429</td>\n",
       "      <td>1.521243e-07</td>\n",
       "      <td>2.603447e-07</td>\n",
       "      <td>4.362725e-08</td>\n",
       "      <td>2.366063e-08</td>\n",
       "      <td>1</td>\n",
       "      <td>0</td>\n",
       "      <td>0</td>\n",
       "      <td>0</td>\n",
       "      <td>...</td>\n",
       "      <td>0</td>\n",
       "      <td>0</td>\n",
       "      <td>0</td>\n",
       "      <td>0</td>\n",
       "      <td>0</td>\n",
       "      <td>0</td>\n",
       "      <td>0</td>\n",
       "      <td>1</td>\n",
       "      <td>0</td>\n",
       "      <td>0</td>\n",
       "    </tr>\n",
       "    <tr>\n",
       "      <th>4</th>\n",
       "      <td>1.002737e-04</td>\n",
       "      <td>0.044770</td>\n",
       "      <td>2.356072e-07</td>\n",
       "      <td>2.082757e-06</td>\n",
       "      <td>6.017161e-07</td>\n",
       "      <td>4.089492e-07</td>\n",
       "      <td>1</td>\n",
       "      <td>0</td>\n",
       "      <td>0</td>\n",
       "      <td>0</td>\n",
       "      <td>...</td>\n",
       "      <td>0</td>\n",
       "      <td>0</td>\n",
       "      <td>0</td>\n",
       "      <td>0</td>\n",
       "      <td>0</td>\n",
       "      <td>0</td>\n",
       "      <td>1</td>\n",
       "      <td>0</td>\n",
       "      <td>0</td>\n",
       "      <td>0</td>\n",
       "    </tr>\n",
       "    <tr>\n",
       "      <th>...</th>\n",
       "      <td>...</td>\n",
       "      <td>...</td>\n",
       "      <td>...</td>\n",
       "      <td>...</td>\n",
       "      <td>...</td>\n",
       "      <td>...</td>\n",
       "      <td>...</td>\n",
       "      <td>...</td>\n",
       "      <td>...</td>\n",
       "      <td>...</td>\n",
       "      <td>...</td>\n",
       "      <td>...</td>\n",
       "      <td>...</td>\n",
       "      <td>...</td>\n",
       "      <td>...</td>\n",
       "      <td>...</td>\n",
       "      <td>...</td>\n",
       "      <td>...</td>\n",
       "      <td>...</td>\n",
       "      <td>...</td>\n",
       "      <td>...</td>\n",
       "    </tr>\n",
       "    <tr>\n",
       "      <th>4176836</th>\n",
       "      <td>4.656225e-05</td>\n",
       "      <td>0.034815</td>\n",
       "      <td>2.356072e-07</td>\n",
       "      <td>1.952585e-05</td>\n",
       "      <td>2.010565e-05</td>\n",
       "      <td>4.939522e-07</td>\n",
       "      <td>1</td>\n",
       "      <td>0</td>\n",
       "      <td>0</td>\n",
       "      <td>0</td>\n",
       "      <td>...</td>\n",
       "      <td>0</td>\n",
       "      <td>0</td>\n",
       "      <td>0</td>\n",
       "      <td>0</td>\n",
       "      <td>0</td>\n",
       "      <td>0</td>\n",
       "      <td>1</td>\n",
       "      <td>0</td>\n",
       "      <td>0</td>\n",
       "      <td>0</td>\n",
       "    </tr>\n",
       "    <tr>\n",
       "      <th>4176837</th>\n",
       "      <td>5.632938e-08</td>\n",
       "      <td>0.859588</td>\n",
       "      <td>1.521243e-07</td>\n",
       "      <td>2.603447e-07</td>\n",
       "      <td>5.977500e-08</td>\n",
       "      <td>2.336853e-08</td>\n",
       "      <td>1</td>\n",
       "      <td>0</td>\n",
       "      <td>0</td>\n",
       "      <td>0</td>\n",
       "      <td>...</td>\n",
       "      <td>0</td>\n",
       "      <td>0</td>\n",
       "      <td>0</td>\n",
       "      <td>0</td>\n",
       "      <td>0</td>\n",
       "      <td>0</td>\n",
       "      <td>0</td>\n",
       "      <td>1</td>\n",
       "      <td>0</td>\n",
       "      <td>0</td>\n",
       "    </tr>\n",
       "    <tr>\n",
       "      <th>4176838</th>\n",
       "      <td>2.738838e-05</td>\n",
       "      <td>0.813878</td>\n",
       "      <td>1.521243e-07</td>\n",
       "      <td>7.810340e-07</td>\n",
       "      <td>9.178721e-08</td>\n",
       "      <td>7.448717e-08</td>\n",
       "      <td>1</td>\n",
       "      <td>0</td>\n",
       "      <td>0</td>\n",
       "      <td>0</td>\n",
       "      <td>...</td>\n",
       "      <td>0</td>\n",
       "      <td>0</td>\n",
       "      <td>0</td>\n",
       "      <td>0</td>\n",
       "      <td>0</td>\n",
       "      <td>0</td>\n",
       "      <td>0</td>\n",
       "      <td>1</td>\n",
       "      <td>0</td>\n",
       "      <td>0</td>\n",
       "    </tr>\n",
       "    <tr>\n",
       "      <th>4176839</th>\n",
       "      <td>1.894964e-07</td>\n",
       "      <td>0.701350</td>\n",
       "      <td>1.459837e-04</td>\n",
       "      <td>2.603447e-07</td>\n",
       "      <td>2.096374e-08</td>\n",
       "      <td>2.161589e-08</td>\n",
       "      <td>1</td>\n",
       "      <td>0</td>\n",
       "      <td>0</td>\n",
       "      <td>0</td>\n",
       "      <td>...</td>\n",
       "      <td>0</td>\n",
       "      <td>0</td>\n",
       "      <td>0</td>\n",
       "      <td>0</td>\n",
       "      <td>0</td>\n",
       "      <td>0</td>\n",
       "      <td>0</td>\n",
       "      <td>1</td>\n",
       "      <td>0</td>\n",
       "      <td>0</td>\n",
       "    </tr>\n",
       "    <tr>\n",
       "      <th>4176840</th>\n",
       "      <td>7.218911e-08</td>\n",
       "      <td>0.869780</td>\n",
       "      <td>1.521243e-07</td>\n",
       "      <td>2.603447e-07</td>\n",
       "      <td>4.192749e-08</td>\n",
       "      <td>2.307642e-08</td>\n",
       "      <td>1</td>\n",
       "      <td>0</td>\n",
       "      <td>0</td>\n",
       "      <td>0</td>\n",
       "      <td>...</td>\n",
       "      <td>0</td>\n",
       "      <td>0</td>\n",
       "      <td>0</td>\n",
       "      <td>0</td>\n",
       "      <td>0</td>\n",
       "      <td>0</td>\n",
       "      <td>0</td>\n",
       "      <td>1</td>\n",
       "      <td>0</td>\n",
       "      <td>0</td>\n",
       "    </tr>\n",
       "  </tbody>\n",
       "</table>\n",
       "<p>4176841 rows × 39 columns</p>\n",
       "</div>"
      ],
      "text/plain": [
       "                  dur     sport         dport       totpkts      totbytes  \\\n",
       "0        5.256203e-01  0.069706  5.385758e-05  1.822413e-06  1.733758e-07   \n",
       "1        1.848479e-07  0.803731  1.459837e-04  2.603447e-07  2.096374e-08   \n",
       "2        3.117257e-08  0.878473  1.521243e-07  2.603447e-07  4.362725e-08   \n",
       "3        8.476752e-08  0.820429  1.521243e-07  2.603447e-07  4.362725e-08   \n",
       "4        1.002737e-04  0.044770  2.356072e-07  2.082757e-06  6.017161e-07   \n",
       "...               ...       ...           ...           ...           ...   \n",
       "4176836  4.656225e-05  0.034815  2.356072e-07  1.952585e-05  2.010565e-05   \n",
       "4176837  5.632938e-08  0.859588  1.521243e-07  2.603447e-07  5.977500e-08   \n",
       "4176838  2.738838e-05  0.813878  1.521243e-07  7.810340e-07  9.178721e-08   \n",
       "4176839  1.894964e-07  0.701350  1.459837e-04  2.603447e-07  2.096374e-08   \n",
       "4176840  7.218911e-08  0.869780  1.521243e-07  2.603447e-07  4.192749e-08   \n",
       "\n",
       "             srcbytes  stos_0.0  stos_1.0  stos_2.0  stos_3.0  ...  proto_llc  \\\n",
       "0        1.962956e-07         1         0         0         0  ...          0   \n",
       "1        2.161589e-08         1         0         0         0  ...          0   \n",
       "2        2.366063e-08         1         0         0         0  ...          0   \n",
       "3        2.366063e-08         1         0         0         0  ...          0   \n",
       "4        4.089492e-07         1         0         0         0  ...          0   \n",
       "...               ...       ...       ...       ...       ...  ...        ...   \n",
       "4176836  4.939522e-07         1         0         0         0  ...          0   \n",
       "4176837  2.336853e-08         1         0         0         0  ...          0   \n",
       "4176838  7.448717e-08         1         0         0         0  ...          0   \n",
       "4176839  2.161589e-08         1         0         0         0  ...          0   \n",
       "4176840  2.307642e-08         1         0         0         0  ...          0   \n",
       "\n",
       "         proto_pim  proto_rarp  proto_rsvp  proto_rtcp  proto_rtp  proto_tcp  \\\n",
       "0                0           0           0           0          0          0   \n",
       "1                0           0           0           0          0          0   \n",
       "2                0           0           0           0          0          0   \n",
       "3                0           0           0           0          0          0   \n",
       "4                0           0           0           0          0          1   \n",
       "...            ...         ...         ...         ...        ...        ...   \n",
       "4176836          0           0           0           0          0          1   \n",
       "4176837          0           0           0           0          0          0   \n",
       "4176838          0           0           0           0          0          0   \n",
       "4176839          0           0           0           0          0          0   \n",
       "4176840          0           0           0           0          0          0   \n",
       "\n",
       "         proto_udp  proto_udt  proto_unas  \n",
       "0                1          0           0  \n",
       "1                1          0           0  \n",
       "2                1          0           0  \n",
       "3                1          0           0  \n",
       "4                0          0           0  \n",
       "...            ...        ...         ...  \n",
       "4176836          0          0           0  \n",
       "4176837          1          0           0  \n",
       "4176838          1          0           0  \n",
       "4176839          1          0           0  \n",
       "4176840          1          0           0  \n",
       "\n",
       "[4176841 rows x 39 columns]"
      ]
     },
     "execution_count": 11,
     "metadata": {},
     "output_type": "execute_result"
    }
   ],
   "source": [
    "x_test"
   ]
  },
  {
   "cell_type": "code",
   "execution_count": 12,
   "metadata": {
    "colab": {},
    "colab_type": "code",
    "id": "jCjkr8BHSEMR"
   },
   "outputs": [],
   "source": [
    "# Making test data sparse matrix\n",
    "x_test_csr = csr_matrix(x_test.values)\n",
    "col = x_test.columns\n",
    "\n",
    "# Creating x_test sparse dataframe\n",
    "x_test = pd.DataFrame.sparse.from_spmatrix(x_test_csr, columns=col)"
   ]
  },
  {
   "cell_type": "code",
   "execution_count": 13,
   "metadata": {
    "colab": {
     "base_uri": "https://localhost:8080/",
     "height": 34
    },
    "colab_type": "code",
    "executionInfo": {
     "elapsed": 846,
     "status": "ok",
     "timestamp": 1599029462611,
     "user": {
      "displayName": "Subrata Maji",
      "photoUrl": "https://lh3.googleusercontent.com/a-/AOh14Ghxu8VIGqB6XL51-t5wM_f1R1LdmEePYHIwb9b-=s64",
      "userId": "03124174213573157612"
     },
     "user_tz": -330
    },
    "id": "CKIi6hoWXhH9",
    "outputId": "8c35df9f-b219-448f-fe83-72953218c842"
   },
   "outputs": [
    {
     "data": {
      "text/plain": [
       "((9950992, 39), (9950992,))"
      ]
     },
     "execution_count": 13,
     "metadata": {},
     "output_type": "execute_result"
    }
   ],
   "source": [
    "x_train.shape, y_train.shape"
   ]
  },
  {
   "cell_type": "code",
   "execution_count": 14,
   "metadata": {
    "colab": {
     "base_uri": "https://localhost:8080/",
     "height": 34
    },
    "colab_type": "code",
    "executionInfo": {
     "elapsed": 963,
     "status": "ok",
     "timestamp": 1599029464501,
     "user": {
      "displayName": "Subrata Maji",
      "photoUrl": "https://lh3.googleusercontent.com/a-/AOh14Ghxu8VIGqB6XL51-t5wM_f1R1LdmEePYHIwb9b-=s64",
      "userId": "03124174213573157612"
     },
     "user_tz": -330
    },
    "id": "TNfSeNtFXloM",
    "outputId": "f3eeaa50-48f7-45ee-b3d7-3c0fa4d4a9a4"
   },
   "outputs": [
    {
     "data": {
      "text/plain": [
       "((4176841, 39), (4176841,))"
      ]
     },
     "execution_count": 14,
     "metadata": {},
     "output_type": "execute_result"
    }
   ],
   "source": [
    "x_test.shape, y_test.shape"
   ]
  },
  {
   "cell_type": "code",
   "execution_count": 15,
   "metadata": {
    "colab": {
     "base_uri": "https://localhost:8080/",
     "height": 34
    },
    "colab_type": "code",
    "executionInfo": {
     "elapsed": 990,
     "status": "ok",
     "timestamp": 1599029468164,
     "user": {
      "displayName": "Subrata Maji",
      "photoUrl": "https://lh3.googleusercontent.com/a-/AOh14Ghxu8VIGqB6XL51-t5wM_f1R1LdmEePYHIwb9b-=s64",
      "userId": "03124174213573157612"
     },
     "user_tz": -330
    },
    "id": "anT63qVRXnlV",
    "outputId": "5d3c154d-5343-42e6-cacf-4eabc609c314"
   },
   "outputs": [
    {
     "data": {
      "text/plain": [
       "True"
      ]
     },
     "execution_count": 15,
     "metadata": {},
     "output_type": "execute_result"
    }
   ],
   "source": [
    "all(x_train.columns == x_test.columns)"
   ]
  },
  {
   "cell_type": "markdown",
   "metadata": {
    "colab_type": "text",
    "id": "Ai4j2X1aXuyt"
   },
   "source": [
    "### Utility functions"
   ]
  },
  {
   "cell_type": "code",
   "execution_count": 16,
   "metadata": {
    "colab": {},
    "colab_type": "code",
    "id": "Gdja8j5EXq-D"
   },
   "outputs": [],
   "source": [
    "def false_alarm_rate(y_true, y_pred):\n",
    "    \"\"\"\n",
    "    This function will return False Alarm Rate for given true and predicted values.\n",
    "    False Alarm Rate is average of False Negetive Rate and False Positive Rate\n",
    "    \"\"\"\n",
    "    tn, fp, fn, tp = confusion_matrix(y_true, y_pred).ravel()\n",
    "    FPR = fp / (fp + tn)  # False positive rate\n",
    "    FNR = fn / (fn + tp)  # False negetive rate\n",
    "    return (FPR+FNR)/2  # False alarm rate"
   ]
  },
  {
   "cell_type": "code",
   "execution_count": 17,
   "metadata": {
    "colab": {},
    "colab_type": "code",
    "id": "CUSBozUMX2Dc"
   },
   "outputs": [],
   "source": [
    "def hyperparam_tuning(clf, parameters, x, y, method='gridsearch', cv=None):\n",
    "    \"\"\"\n",
    "    Utility function for Tuning hyperparameters\n",
    "    \"\"\"\n",
    "    # initialization\n",
    "    scoring = {'auc':'roc_auc',\n",
    "               'f1':'f1',\n",
    "               'FAR':make_scorer(false_alarm_rate, greater_is_better=False)}  # using custom scoring function FAR.\n",
    "                \n",
    "    # param tuning\n",
    "    if method=='gridsearch':\n",
    "        # As we are using multi scoring, So we need to point refit to scoring function with which we want to evaluate score\n",
    "        tuning_clf = GridSearchCV(clf, parameters, scoring=scoring, refit='auc',\n",
    "                                  cv=cv, verbose=3, return_train_score=True, n_jobs=4)\n",
    "        result = tuning_clf.fit(x, y)\n",
    "    \n",
    "    elif method=='randomsearch':\n",
    "        tuning_clf = RandomizedSearchCV(clf, parameters, scoring=scoring, refit='auc',\n",
    "                                        cv=cv, verbose=3, return_train_score=True)\n",
    "        result = tuning_clf.fit(x, y)\n",
    "\n",
    "    return result"
   ]
  },
  {
   "cell_type": "code",
   "execution_count": 18,
   "metadata": {
    "colab": {},
    "colab_type": "code",
    "id": "00M0mXE4X5VL"
   },
   "outputs": [],
   "source": [
    "def result_visualization(tuned_clf, parameters, param1=None, param2=None):\n",
    "    \"\"\"\n",
    "    Utility function to plot the results obtained after hyper parameter tuning \n",
    "    \"\"\"\n",
    "    # getting train and test scores to plot\n",
    "    train_score = tuned_clf.cv_results_['mean_train_auc']\n",
    "    test_score = tuned_clf.cv_results_['mean_test_auc']\n",
    "\n",
    "    # print results\n",
    "    print(\"Best Score: {}\".format(tuned_clf.best_score_))\n",
    "    print(\"Best Parameters: {}\".format(tuned_clf.best_params_))\n",
    "\n",
    "    # Want to visualize score with 2 params, plot heatmap of the 3 variables\n",
    "    if param2 is not None:\n",
    "        # heatmap\n",
    "        train_cmap=sns.light_palette(\"green\")\n",
    "        test_cmap=sns.light_palette(\"blue\")\n",
    "        \n",
    "        # Figure and axis\n",
    "        fig = plt.figure(figsize=(20,5))\n",
    "        train_ax = fig.add_subplot(1,2,1)\n",
    "        test_ax = fig.add_subplot(1,2,2)\n",
    "        \n",
    "        # train heatmap\n",
    "        sns.heatmap(train_score.reshape(len(parameters[param1]), len(parameters[param2])),\n",
    "                    cmap=train_cmap, annot=True, fmt='.4f', ax=train_ax,\n",
    "                    xticklabels=parameters[param2], yticklabels=parameters[param1])\n",
    "        \n",
    "        # test heapmap\n",
    "        sns.heatmap(test_score.reshape(len(parameters[param1]), len(parameters[param2])),\n",
    "                    cmap=test_cmap, annot=True, fmt='.6f', ax=test_ax,\n",
    "                    xticklabels=parameters[param2], yticklabels=parameters[param1])\n",
    "        \n",
    "        # axis labels and plot title\n",
    "        train_ax.set_title(\"Train hyperparam heatmap\")\n",
    "        train_ax.set_xlabel(param2)\n",
    "        train_ax.set_ylabel(param1)\n",
    "\n",
    "        test_ax.set_title(\"Test hyperparam heatmap\")\n",
    "        test_ax.set_xlabel(param2)\n",
    "        test_ax.set_ylabel(param1)\n",
    "        plt.show()\n",
    "    \n",
    "    # Want to visualize score with one param, simply plot score and param\n",
    "    else:\n",
    "        plt.figure(figsize=(10,5))\n",
    "        plt.plot(np.log10(parameters[param1]), train_score, label=\"train\")\n",
    "        plt.plot(np.log10(parameters[param1]), test_score, label=\"test\")\n",
    "\n",
    "        # Plot for train data\n",
    "        for i, txt in enumerate(train_score):\n",
    "            plt.annotate((parameters[param1][i], np.round(txt, 3)), (np.log10(parameters[param1])[i], train_score[i]))\n",
    "        \n",
    "        # Plot for test data\n",
    "        for i, txt in enumerate(test_score):\n",
    "            plt.annotate((parameters[param1][i], np.round(txt, 3)), (np.log10(parameters[param1])[i], test_score[i]))\n",
    "        \n",
    "        plt.xlabel(param1)\n",
    "        plt.ylabel('performance')\n",
    "        plt.grid()\n",
    "        plt.legend()\n",
    "        plt.show()"
   ]
  },
  {
   "cell_type": "code",
   "execution_count": 27,
   "metadata": {
    "colab": {},
    "colab_type": "code",
    "id": "-Qg4Pr0dX6V8"
   },
   "outputs": [],
   "source": [
    "def evaluate_result(clf, x_train, y_train, x_test, y_test, model_name):\n",
    "    \"\"\" \n",
    "    Utility function to get result on test data from best found classifier using hyper parameter tuning.\n",
    "    Print the accuracy and False Alarm Rate for both train and test.\n",
    "    Plot confusion matrix of train and test.\n",
    "    \"\"\"\n",
    "    cmap=sns.light_palette(\"blue\")\n",
    "    labels= ['non-attack', 'attack']\n",
    "    \n",
    "    # Training te best model\n",
    "    clf.fit(x_train, y_train)\n",
    "    y_train_pred = clf.predict(x_train)  # prediction on train data\n",
    "    y_test_pred = clf.predict(x_test)  # prediction on test data\n",
    "    \n",
    "    # auc curve\n",
    "    train_fpr, train_tpr, tr_thresholds = roc_curve(y_train, y_train_pred)\n",
    "    test_fpr, test_tpr, te_thresholds = roc_curve(y_test, y_test_pred)\n",
    "    \n",
    "    # Scores of train dataset\n",
    "    train_auc = auc(train_fpr, train_tpr)\n",
    "    train_f1 = f1_score(y_train, y_train_pred)\n",
    "    train_far = false_alarm_rate(y_train, y_train_pred)\n",
    "    \n",
    "    # Scores of test dataset\n",
    "    test_auc = auc(test_fpr, test_tpr)\n",
    "    test_f1 = f1_score(y_test, y_test_pred)\n",
    "    test_far = false_alarm_rate(y_test, y_test_pred)\n",
    "    \n",
    "    # Printing the result as a table\n",
    "    x = PrettyTable()\n",
    "    x.field_names = ['Dataset', 'Model', 'AUC', 'F1-score', 'False Alarm Rate']\n",
    "    x.add_row(['Train', model_name, train_auc, train_f1, train_far])\n",
    "    x.add_row(['Test', model_name, test_auc, test_f1, test_far])\n",
    "    print(x)\n",
    "\n",
    "    # Plot AUC curve\n",
    "    plt.figure()\n",
    "    plt.plot(train_fpr, train_tpr, label=f\"Train AUC: {train_auc}\")\n",
    "    plt.plot(test_fpr, test_tpr, label=f\"Test AUC: {test_auc}\")\n",
    "    plt.grid()\n",
    "    plt.legend()\n",
    "    plt.show()\n",
    "\n",
    "    # Confusion martix of train and test\n",
    "    # Train confusion matrix\n",
    "    plt.figure(figsize=(16,5))\n",
    "    plt.subplot(1,2,1)\n",
    "    sns.heatmap(confusion_matrix(y_train, y_train_pred),\n",
    "                annot=True, cmap=cmap, fmt='d',\n",
    "                xticklabels=labels, yticklabels=labels)\n",
    "    plt.xlabel(\"Predicted\")\n",
    "    plt.ylabel(\"Actual\")\n",
    "    plt.title(\"Train Confusion Matrix\")\n",
    "\n",
    "    # Test confusion matrix\n",
    "    plt.subplot(1,2,2)\n",
    "    sns.heatmap(confusion_matrix(y_test, y_test_pred),\n",
    "                annot=True, cmap=cmap, fmt='d',\n",
    "                xticklabels=labels, yticklabels=labels)\n",
    "    plt.xlabel(\"Predicted\")\n",
    "    plt.ylabel(\"Actual\")\n",
    "    plt.title(\"Test Confusion Matrix\")\n",
    "    plt.show()\n",
    "    \n",
    "    # Returning scores of test data\n",
    "    return clf, test_auc, test_f1, test_far\n"
   ]
  },
  {
   "cell_type": "markdown",
   "metadata": {
    "colab_type": "text",
    "id": "p8i-vIrI3n7A"
   },
   "source": [
    "### Decision Tree\n",
    "Trying out DT for the next model.\n",
    "\n",
    "Tune parameters for \"max_depth\", \"min_samples_split\" and \"min_samples_leaf\""
   ]
  },
  {
   "cell_type": "markdown",
   "metadata": {
    "colab_type": "text",
    "id": "tLpOoPOfa1x1"
   },
   "source": []
  },
  {
   "cell_type": "code",
   "execution_count": 20,
   "metadata": {
    "colab": {
     "base_uri": "https://localhost:8080/",
     "height": 1000
    },
    "colab_type": "code",
    "executionInfo": {
     "elapsed": 920115,
     "status": "ok",
     "timestamp": 1597915012654,
     "user": {
      "displayName": "Subrata Maji",
      "photoUrl": "https://lh3.googleusercontent.com/a-/AOh14Ghxu8VIGqB6XL51-t5wM_f1R1LdmEePYHIwb9b-=s64",
      "userId": "03124174213573157612"
     },
     "user_tz": -330
    },
    "id": "Sag139CvjfsB",
    "outputId": "1d7b6f1d-e51d-4858-ada4-f19670ff06e5"
   },
   "outputs": [
    {
     "name": "stdout",
     "output_type": "stream",
     "text": [
      "Fitting 3 folds for each of 12 candidates, totalling 36 fits\n"
     ]
    },
    {
     "name": "stderr",
     "output_type": "stream",
     "text": [
      "[Parallel(n_jobs=4)]: Using backend LokyBackend with 4 concurrent workers.\n",
      "[Parallel(n_jobs=4)]: Done  24 tasks      | elapsed:  9.5min\n",
      "[Parallel(n_jobs=4)]: Done  36 out of  36 | elapsed: 14.6min finished\n"
     ]
    }
   ],
   "source": [
    "# DT classifier\n",
    "clf = DecisionTreeClassifier(class_weight={0:0.05, 1:0.95})\n",
    "param = {'max_depth':[8, 10, 12, 14],\n",
    "         'min_samples_split':[2, 4, 6]}\n",
    "\n",
    "dt_clf = hyperparam_tuning(clf, param, x_train_csr, y_train, cv=3)"
   ]
  },
  {
   "cell_type": "code",
   "execution_count": 21,
   "metadata": {
    "colab": {
     "base_uri": "https://localhost:8080/",
     "height": 385
    },
    "colab_type": "code",
    "executionInfo": {
     "elapsed": 1310,
     "status": "ok",
     "timestamp": 1597915042665,
     "user": {
      "displayName": "Subrata Maji",
      "photoUrl": "https://lh3.googleusercontent.com/a-/AOh14Ghxu8VIGqB6XL51-t5wM_f1R1LdmEePYHIwb9b-=s64",
      "userId": "03124174213573157612"
     },
     "user_tz": -330
    },
    "id": "P2P5xm7YkitG",
    "outputId": "9f9bc915-f8b8-4ead-9367-8bb5d7510bbe"
   },
   "outputs": [
    {
     "name": "stdout",
     "output_type": "stream",
     "text": [
      "Best Score: 0.9982299054581046\n",
      "Best Parameters: {'max_depth': 14, 'min_samples_split': 6}\n"
     ]
    },
    {
     "data": {
      "image/png": "[encoded data removed]",
      "text/plain": [
       "<Figure size 1440x360 with 4 Axes>"
      ]
     },
     "metadata": {
      "needs_background": "light"
     },
     "output_type": "display_data"
    }
   ],
   "source": [
    "# Plotting heatmap of scores with params\n",
    "result_visualization(dt_clf, param, 'max_depth', 'min_samples_split')"
   ]
  },
  {
   "cell_type": "code",
   "execution_count": 22,
   "metadata": {
    "colab": {
     "base_uri": "https://localhost:8080/",
     "height": 119
    },
    "colab_type": "code",
    "executionInfo": {
     "elapsed": 900,
     "status": "ok",
     "timestamp": 1597912903914,
     "user": {
      "displayName": "Subrata Maji",
      "photoUrl": "https://lh3.googleusercontent.com/a-/AOh14Ghxu8VIGqB6XL51-t5wM_f1R1LdmEePYHIwb9b-=s64",
      "userId": "03124174213573157612"
     },
     "user_tz": -330
    },
    "id": "oJpJivSKnnM_",
    "outputId": "02b13a54-e5f0-4a03-b9da-0f95b4887c39"
   },
   "outputs": [
    {
     "data": {
      "text/plain": [
       "DecisionTreeClassifier(class_weight={0: 0.05, 1: 0.95}, max_depth=14,\n",
       "                       min_samples_split=6)"
      ]
     },
     "execution_count": 22,
     "metadata": {},
     "output_type": "execute_result"
    }
   ],
   "source": [
    "dt_clf.best_estimator_"
   ]
  },
  {
   "cell_type": "code",
   "execution_count": 23,
   "metadata": {
    "colab": {
     "base_uri": "https://localhost:8080/",
     "height": 408
    },
    "colab_type": "code",
    "executionInfo": {
     "elapsed": 1184655,
     "status": "ok",
     "timestamp": 1597912834734,
     "user": {
      "displayName": "Subrata Maji",
      "photoUrl": "https://lh3.googleusercontent.com/a-/AOh14Ghxu8VIGqB6XL51-t5wM_f1R1LdmEePYHIwb9b-=s64",
      "userId": "03124174213573157612"
     },
     "user_tz": -330
    },
    "id": "sRCptt-RlCPs",
    "outputId": "3c8a5ce2-0258-4925-a95f-35cb2eafaec4"
   },
   "outputs": [
    {
     "name": "stdout",
     "output_type": "stream",
     "text": [
      "Fitting 3 folds for each of 3 candidates, totalling 9 fits\n"
     ]
    },
    {
     "name": "stderr",
     "output_type": "stream",
     "text": [
      "[Parallel(n_jobs=4)]: Using backend LokyBackend with 4 concurrent workers.\n",
      "[Parallel(n_jobs=4)]: Done   6 out of   9 | elapsed:  3.3min remaining:  1.7min\n",
      "[Parallel(n_jobs=4)]: Done   9 out of   9 | elapsed:  4.9min finished\n"
     ]
    }
   ],
   "source": [
    "# Tuning \"min_samples_leaf\" on top of best found params\n",
    "clf = dt_clf.best_estimator_\n",
    "param = {'min_samples_leaf':[9, 11, 13]}\n",
    "\n",
    "dt_clf = hyperparam_tuning(clf, param, x_train_csr, y_train,cv=3)"
   ]
  },
  {
   "cell_type": "code",
   "execution_count": 24,
   "metadata": {
    "colab": {
     "base_uri": "https://localhost:8080/",
     "height": 369
    },
    "colab_type": "code",
    "executionInfo": {
     "elapsed": 1126,
     "status": "ok",
     "timestamp": 1597912840448,
     "user": {
      "displayName": "Subrata Maji",
      "photoUrl": "https://lh3.googleusercontent.com/a-/AOh14Ghxu8VIGqB6XL51-t5wM_f1R1LdmEePYHIwb9b-=s64",
      "userId": "03124174213573157612"
     },
     "user_tz": -330
    },
    "id": "4ngvGAQPobh8",
    "outputId": "409994a4-2918-4f44-b174-d7d905b1af6c"
   },
   "outputs": [
    {
     "name": "stdout",
     "output_type": "stream",
     "text": [
      "Best Score: 0.9983400001280841\n",
      "Best Parameters: {'min_samples_leaf': 13}\n"
     ]
    },
    {
     "data": {
      "image/png": "[encoded data removed]",
      "text/plain": [
       "<Figure size 720x360 with 1 Axes>"
      ]
     },
     "metadata": {
      "needs_background": "light"
     },
     "output_type": "display_data"
    }
   ],
   "source": [
    "result_visualization(dt_clf, param, 'min_samples_leaf')"
   ]
  },
  {
   "cell_type": "markdown",
   "metadata": {
    "colab_type": "text",
    "id": "JvrI_BsnWm6Y"
   },
   "source": [
    "Best value of \"min_samples_leaf\" is 13"
   ]
  },
  {
   "cell_type": "code",
   "execution_count": 25,
   "metadata": {
    "colab": {},
    "colab_type": "code",
    "id": "fbMf_hAt59Bo"
   },
   "outputs": [],
   "source": [
    "dt_param = {'max_depth': 14, 'min_samples_split': 6, 'min_samples_leaf':13}\n",
    "\n",
    "dt_best_clf = DecisionTreeClassifier(**dt_param)"
   ]
  },
  {
   "cell_type": "code",
   "execution_count": 28,
   "metadata": {
    "colab": {
     "base_uri": "https://localhost:8080/",
     "height": 700
    },
    "colab_type": "code",
    "executionInfo": {
     "elapsed": 43178,
     "status": "ok",
     "timestamp": 1597915237494,
     "user": {
      "displayName": "Subrata Maji",
      "photoUrl": "https://lh3.googleusercontent.com/a-/AOh14Ghxu8VIGqB6XL51-t5wM_f1R1LdmEePYHIwb9b-=s64",
      "userId": "03124174213573157612"
     },
     "user_tz": -330
    },
    "id": "iqZ8Mk8YlekD",
    "outputId": "054fab3a-d9f5-4996-b858-21929cdc42ac"
   },
   "outputs": [
    {
     "name": "stdout",
     "output_type": "stream",
     "text": [
      "+---------+-------+--------------------+--------------------+----------------------+\n",
      "| Dataset | Model |        AUC         |      F1-score      |   False Alarm Rate   |\n",
      "+---------+-------+--------------------+--------------------+----------------------+\n",
      "|  Train  |   DT  | 0.9750622058833952 | 0.9546562500000001 | 0.024937794116604774 |\n",
      "|   Test  |   DT  | 0.9658627665954107 | 0.9367598891408415 | 0.034137233404589296 |\n",
      "+---------+-------+--------------------+--------------------+----------------------+\n"
     ]
    },
    {
     "data": {
      "image/png": "[encoded data removed]",
      "text/plain": [
       "<Figure size 432x288 with 1 Axes>"
      ]
     },
     "metadata": {
      "needs_background": "light"
     },
     "output_type": "display_data"
    },
    {
     "data": {
      "image/png": "[encoded data removed]",
      "text/plain": [
       "<Figure size 1152x360 with 4 Axes>"
      ]
     },
     "metadata": {
      "needs_background": "light"
     },
     "output_type": "display_data"
    }
   ],
   "source": [
    "dt_clf, dt_auc, dt_f1, dt_far = evaluate_result(dt_best_clf, x_train_csr, y_train, x_test_csr, y_test, 'DT')"
   ]
  },
  {
   "cell_type": "code",
   "execution_count": 33,
   "metadata": {},
   "outputs": [
    {
     "name": "stdout",
     "output_type": "stream",
     "text": [
      "              precision    recall  f1-score   support\n",
      "\n",
      "           0       1.00      1.00      1.00   4097792\n",
      "           1       0.93      0.94      0.94     79049\n",
      "\n",
      "    accuracy                           1.00   4176841\n",
      "   macro avg       0.97      0.97      0.97   4176841\n",
      "weighted avg       1.00      1.00      1.00   4176841\n",
      "\n"
     ]
    }
   ],
   "source": [
    "print(classification_report(dt_clf.predict(x_test), y_test))"
   ]
  },
  {
   "cell_type": "code",
   "execution_count": 29,
   "metadata": {
    "colab": {},
    "colab_type": "code",
    "id": "GDHesPFVK77_"
   },
   "outputs": [],
   "source": [
    "# Saving the Model to disk\n",
    "pickle.dump(dt_clf, open(file_path+'/dt_clf.pkl', 'wb'))"
   ]
  },
  {
   "cell_type": "code",
   "execution_count": 66,
   "metadata": {
    "colab": {},
    "colab_type": "code",
    "id": "xj_yzxv7ktR6"
   },
   "outputs": [],
   "source": [
    "result_dict = {}"
   ]
  },
  {
   "cell_type": "code",
   "execution_count": 67,
   "metadata": {
    "colab": {},
    "colab_type": "code",
    "id": "dLcOw5Fh6nYb"
   },
   "outputs": [],
   "source": [
    "# Saving scores of DT\n",
    "result_dict['name'] = [\"DT\"]\n",
    "result_dict['auc'] = [dt_auc]\n",
    "result_dict['f1'] = [dt_f1]\n",
    "result_dict['far'] = [dt_far]"
   ]
  },
  {
   "cell_type": "code",
   "execution_count": 68,
   "metadata": {
    "colab": {
     "base_uri": "https://localhost:8080/",
     "height": 85
    },
    "colab_type": "code",
    "executionInfo": {
     "elapsed": 663,
     "status": "ok",
     "timestamp": 1597915286570,
     "user": {
      "displayName": "Subrata Maji",
      "photoUrl": "https://lh3.googleusercontent.com/a-/AOh14Ghxu8VIGqB6XL51-t5wM_f1R1LdmEePYHIwb9b-=s64",
      "userId": "03124174213573157612"
     },
     "user_tz": -330
    },
    "id": "Y9-MH-mLy6Bg",
    "outputId": "fc14c094-978d-4f1f-8739-232f49ca55cf"
   },
   "outputs": [
    {
     "data": {
      "text/plain": [
       "{'name': ['DT'],\n",
       " 'auc': [0.9658627665954107],\n",
       " 'f1': [0.9367598891408415],\n",
       " 'far': [0.034137233404589296]}"
      ]
     },
     "execution_count": 68,
     "metadata": {},
     "output_type": "execute_result"
    }
   ],
   "source": [
    "result_dict"
   ]
  },
  {
   "cell_type": "markdown",
   "metadata": {
    "colab_type": "text",
    "id": "oGI9EVReftQQ"
   },
   "source": [
    "**Observation**\n",
    "1. Tuning parameters for \"max_depth\", \"min_sampples_split\" and \"min_samples_leaf\".\n",
    "2. Performance is mostly dependent on \"max_depth\" and less dependent on other 2 params.\n",
    "3. Best parameters for the model max_depth=14, min_samples_split=6 and min_samples_leaf=13\n",
    "4. Train and Test score is very close so no overfitting here"
   ]
  },
  {
   "cell_type": "markdown",
   "metadata": {
    "colab_type": "text",
    "id": "f6k1OFgPtn06"
   },
   "source": [
    "<br>"
   ]
  },
  {
   "cell_type": "markdown",
   "metadata": {
    "colab_type": "text",
    "id": "tGdKsgCXS_9D"
   },
   "source": [
    "## Cross Validation function"
   ]
  },
  {
   "cell_type": "markdown",
   "metadata": {
    "colab_type": "text",
    "id": "ZmOUWosLhZBS"
   },
   "source": [
    "For Random Forest, we will tuning its hyperparameters with train and cv data and using loops. Because the dataset is very large and with grid or randomsearch it will take so much time."
   ]
  },
  {
   "cell_type": "code",
   "execution_count": 36,
   "metadata": {
    "colab": {},
    "colab_type": "code",
    "id": "qmHuzdT5Zpov"
   },
   "outputs": [],
   "source": [
    "# Splitting train in train and cv data\n",
    "x_train_new_csr, x_cv_csr, y_train, y_cv = train_test_split(x_train_csr, y_train, test_size=0.2, random_state=42)"
   ]
  },
  {
   "cell_type": "code",
   "execution_count": 37,
   "metadata": {
    "colab": {
     "base_uri": "https://localhost:8080/",
     "height": 119
    },
    "colab_type": "code",
    "executionInfo": {
     "elapsed": 853,
     "status": "ok",
     "timestamp": 1599029500185,
     "user": {
      "displayName": "Subrata Maji",
      "photoUrl": "https://lh3.googleusercontent.com/a-/AOh14Ghxu8VIGqB6XL51-t5wM_f1R1LdmEePYHIwb9b-=s64",
      "userId": "03124174213573157612"
     },
     "user_tz": -330
    },
    "id": "lwrNTOqlplEj",
    "outputId": "763bc841-627f-4465-fa98-09da9320b708"
   },
   "outputs": [
    {
     "data": {
      "text/plain": [
       "((7960793, 39),\n",
       " (7960793,),\n",
       " (1990199, 39),\n",
       " (1990199,),\n",
       " (4176841, 39),\n",
       " (4176841,))"
      ]
     },
     "execution_count": 37,
     "metadata": {},
     "output_type": "execute_result"
    }
   ],
   "source": [
    "x_train_new_csr.shape, y_train.shape, x_cv_csr.shape, y_cv.shape, x_test_csr.shape, y_test.shape"
   ]
  },
  {
   "cell_type": "code",
   "execution_count": 43,
   "metadata": {
    "colab": {},
    "colab_type": "code",
    "id": "_0UsiiIRnATJ"
   },
   "outputs": [],
   "source": [
    "def cross_validation(clf_name, param, param_tune,\n",
    "                     x_train=x_train_new_csr, y_train=y_train, x_cv=x_cv_csr, y_cv=y_cv):\n",
    "    \"\"\"\n",
    "    Using this function to cross validate with train and cv data.\n",
    "    Parameters:\n",
    "        clf_name = Name of the classifier\n",
    "        param = Dictionary of hyperparameters and params for classifier\n",
    "        param_tune = Name of the parameter to tune\n",
    "        x_train, y_train = Train data and Train label\n",
    "        x_cv, y_cv = CV data and CV label\n",
    "    \"\"\"\n",
    "    # Initializing empty list to store train and cv scores\n",
    "    train_auc_list = []\n",
    "    cv_auc_list = []\n",
    "    \n",
    "    # Assigning arguments to variables\n",
    "    hyper_param = param_tune\n",
    "    values = param.pop(hyper_param)\n",
    "    classifier = clf_name\n",
    "\n",
    "    # Looping through the list of hyper parameter\n",
    "    for i in tqdm(values):\n",
    "        clf = classifier(**{hyper_param:i}, **param, n_jobs=-1)\n",
    "        clf.fit(x_train, y_train)  # Training\n",
    "\n",
    "        # Predicting probability of targets\n",
    "        y_train_pred = clf.predict_proba(x_train)[:,1]\n",
    "        y_cv_pred = clf.predict_proba(x_cv)[:,1]\n",
    "\n",
    "        # Getting scores\n",
    "        train_auc_list.append(roc_auc_score(y_train, y_train_pred))\n",
    "        cv_auc_list.append(roc_auc_score(y_cv, y_cv_pred))\n",
    "\n",
    "        print(\"For {}: {}, train auc: {} and test auc {}\".format(hyper_param, i, train_auc_list[-1], cv_auc_list[-1]))\n",
    "    \n",
    "    # Plotting scores\n",
    "    plt.figure(figsize=(10,5))\n",
    "    plt.plot(values, train_auc_list, label=\"train\")\n",
    "    plt.plot(values, cv_auc_list, label=\"cv\")\n",
    "\n",
    "    for i, txt in enumerate(train_auc_list):\n",
    "        plt.annotate((values[i], np.round(txt, 3)), (values[i], train_auc_list[i]))\n",
    "    for i, txt in enumerate(cv_auc_list):\n",
    "        plt.annotate((values[i], np.round(txt, 3)), (values[i], cv_auc_list[i]))\n",
    "    \n",
    "    plt.xlabel(hyper_param)\n",
    "    plt.ylabel('auc score')\n",
    "    plt.grid()\n",
    "    plt.legend()\n",
    "    plt.show()\n",
    "\n",
    "    # Finding best parameter with highest cv score\n",
    "    best_param = np.argmax(cv_auc_list)\n",
    "    clf = classifier(**{hyper_param:values[best_param]}, **param)  # Trained model\n",
    "\n",
    "    return clf, hyper_param, values[best_param]"
   ]
  },
  {
   "cell_type": "markdown",
   "metadata": {
    "colab_type": "text",
    "id": "sYfihypoLScu"
   },
   "source": [
    "### Random Forest\n",
    "\n",
    "Trying Random Forest Classifier next.\n",
    "<br>\n",
    "Tuning 'n_estimators', 'max_depth', 'min_samples_split' and 'criterion'"
   ]
  },
  {
   "cell_type": "code",
   "execution_count": 39,
   "metadata": {
    "colab": {},
    "colab_type": "code",
    "id": "uZomMRa7q8qT"
   },
   "outputs": [],
   "source": [
    "# Classifier Name\n",
    "CLF_NAME = RandomForestClassifier"
   ]
  },
  {
   "cell_type": "code",
   "execution_count": 46,
   "metadata": {
    "colab": {
     "base_uri": "https://localhost:8080/",
     "height": 420
    },
    "colab_type": "code",
    "executionInfo": {
     "elapsed": 3125247,
     "status": "ok",
     "timestamp": 1597691029033,
     "user": {
      "displayName": "Subrata Maji",
      "photoUrl": "https://lh3.googleusercontent.com/a-/AOh14Ghxu8VIGqB6XL51-t5wM_f1R1LdmEePYHIwb9b-=s64",
      "userId": "03124174213573157612"
     },
     "user_tz": -330
    },
    "id": "66J3boSXO4b4",
    "outputId": "17fb3177-1886-45a9-e6cc-1aa62af63691"
   },
   "outputs": [
    {
     "name": "stderr",
     "output_type": "stream",
     "text": [
      " 33%|███▎      | 1/3 [01:31<03:02, 91.47s/it]"
     ]
    },
    {
     "name": "stdout",
     "output_type": "stream",
     "text": [
      "For n_estimators: 10, train auc: 0.9994658543236871 and test auc 0.9987849981192984\n"
     ]
    },
    {
     "name": "stderr",
     "output_type": "stream",
     "text": [
      " 67%|██████▋   | 2/3 [03:20<01:36, 96.72s/it]"
     ]
    },
    {
     "name": "stdout",
     "output_type": "stream",
     "text": [
      "For n_estimators: 15, train auc: 0.9997256707944384 and test auc 0.9992524347507258\n"
     ]
    },
    {
     "name": "stderr",
     "output_type": "stream",
     "text": [
      "100%|██████████| 3/3 [05:45<00:00, 115.16s/it]"
     ]
    },
    {
     "name": "stdout",
     "output_type": "stream",
     "text": [
      "For n_estimators: 20, train auc: 0.9997594880422691 and test auc 0.9994757979715367\n"
     ]
    },
    {
     "name": "stderr",
     "output_type": "stream",
     "text": [
      "\n"
     ]
    },
    {
     "data": {
      "image/png": "[encoded data removed]",
      "text/plain": [
       "<Figure size 720x360 with 1 Axes>"
      ]
     },
     "metadata": {
      "needs_background": "light"
     },
     "output_type": "display_data"
    }
   ],
   "source": [
    "# Tuning No of estimators\n",
    "param = {'n_estimators':[10, 15, 20]}\n",
    "rf_clf, param1, val1 = cross_validation(CLF_NAME, param, 'n_estimators')"
   ]
  },
  {
   "cell_type": "code",
   "execution_count": 47,
   "metadata": {
    "colab": {
     "base_uri": "https://localhost:8080/",
     "height": 388
    },
    "colab_type": "code",
    "executionInfo": {
     "elapsed": 410626,
     "status": "ok",
     "timestamp": 1597695705835,
     "user": {
      "displayName": "Subrata Maji",
      "photoUrl": "https://lh3.googleusercontent.com/a-/AOh14Ghxu8VIGqB6XL51-t5wM_f1R1LdmEePYHIwb9b-=s64",
      "userId": "03124174213573157612"
     },
     "user_tz": -330
    },
    "id": "sTYFXM24hFCO",
    "outputId": "18b6b0fb-7538-4ee0-b0c3-a39090b57eec"
   },
   "outputs": [
    {
     "name": "stderr",
     "output_type": "stream",
     "text": [
      " 50%|█████     | 1/2 [06:11<06:11, 371.82s/it]"
     ]
    },
    {
     "name": "stdout",
     "output_type": "stream",
     "text": [
      "For criterion: gini, train auc: 0.9985797483199563 and test auc 0.9984732952035827\n"
     ]
    },
    {
     "name": "stderr",
     "output_type": "stream",
     "text": [
      "100%|██████████| 2/2 [12:02<00:00, 361.05s/it]"
     ]
    },
    {
     "name": "stdout",
     "output_type": "stream",
     "text": [
      "For criterion: entropy, train auc: 0.9985700013915435 and test auc 0.998483805616518\n"
     ]
    },
    {
     "name": "stderr",
     "output_type": "stream",
     "text": [
      "\n"
     ]
    },
    {
     "data": {
      "image/png": "[encoded data removed]",
      "text/plain": [
       "<Figure size 720x360 with 1 Axes>"
      ]
     },
     "metadata": {
      "needs_background": "light"
     },
     "output_type": "display_data"
    }
   ],
   "source": [
    "# Tuning Criterion\n",
    "param = {'criterion':['gini', 'entropy'], 'min_samples_split':6, 'max_depth':14}\n",
    "dt_clf, _, _ = cross_validation(CLF_NAME, param, 'criterion')"
   ]
  },
  {
   "cell_type": "code",
   "execution_count": 48,
   "metadata": {
    "colab": {},
    "colab_type": "code",
    "id": "QC3tLYzjivEa"
   },
   "outputs": [],
   "source": [
    "# Best RandomForest model\n",
    "rf_bst_clf = RandomForestClassifier(criterion='entropy', max_depth=14, min_samples_split=6, n_estimators=20, n_jobs=4)"
   ]
  },
  {
   "cell_type": "code",
   "execution_count": 49,
   "metadata": {
    "colab": {
     "base_uri": "https://localhost:8080/",
     "height": 887
    },
    "colab_type": "code",
    "executionInfo": {
     "elapsed": 1295736,
     "status": "ok",
     "timestamp": 1597919888732,
     "user": {
      "displayName": "Subrata Maji",
      "photoUrl": "https://lh3.googleusercontent.com/a-/AOh14Ghxu8VIGqB6XL51-t5wM_f1R1LdmEePYHIwb9b-=s64",
      "userId": "03124174213573157612"
     },
     "user_tz": -330
    },
    "id": "FM7TN8askEDj",
    "outputId": "89118023-96cc-441c-877e-564cb30f3730"
   },
   "outputs": [
    {
     "name": "stdout",
     "output_type": "stream",
     "text": [
      "+---------+-------+--------------------+--------------------+---------------------+\n",
      "| Dataset | Model |        AUC         |      F1-score      |   False Alarm Rate  |\n",
      "+---------+-------+--------------------+--------------------+---------------------+\n",
      "|  Train  |   RF  | 0.9552339203237474 | 0.9253718095388378 | 0.04476607967625265 |\n",
      "|   Test  |   RF  | 0.9385370330471765 | 0.896185071685849  | 0.06146296695282344 |\n",
      "+---------+-------+--------------------+--------------------+---------------------+\n"
     ]
    },
    {
     "data": {
      "image/png": "[encoded data removed]",
      "text/plain": [
       "<Figure size 432x288 with 1 Axes>"
      ]
     },
     "metadata": {
      "needs_background": "light"
     },
     "output_type": "display_data"
    },
    {
     "data": {
      "image/png": "[encoded data removed]",
      "text/plain": [
       "<Figure size 1152x360 with 4 Axes>"
      ]
     },
     "metadata": {
      "needs_background": "light"
     },
     "output_type": "display_data"
    },
    {
     "data": {
      "text/plain": [
       "(RandomForestClassifier(criterion='entropy', max_depth=14, min_samples_split=6,\n",
       "                        n_estimators=20, n_jobs=4),\n",
       " 0.9385370330471765,\n",
       " 0.896185071685849,\n",
       " 0.06146296695282344)"
      ]
     },
     "execution_count": 49,
     "metadata": {},
     "output_type": "execute_result"
    }
   ],
   "source": [
    "# Getting result on train and test data\n",
    "evaluate_result(rf_bst_clf, x_train_new_csr, y_train, x_test_csr, y_test, \"RF\")"
   ]
  },
  {
   "cell_type": "markdown",
   "metadata": {
    "colab_type": "text",
    "id": "b7y-QkaUunnW"
   },
   "source": [
    "**Observation**\n",
    "1. Tuning lots of parameters for this classifier with appropriate values.\n",
    "2. Performance is mostly dependent on \"n_estimators\", \"max_depth\" and less dependent on other 2 params.\n",
    "3. Best parameters for the model: criterion='entropy', max_depth=22, min_samples_split=6, n_estimators=300\n",
    "4. Train and Test score is  close but compared to above models there is a gap between train and test score. So it is overfitting on train data if wwe compare with above models. But the gap is very low so not much of overfitting.\n",
    "5. The result is not good than Decision Tree. Both False Positive and Flase Negative are increase "
   ]
  },
  {
   "cell_type": "code",
   "execution_count": 50,
   "metadata": {
    "colab": {},
    "colab_type": "code",
    "id": "eaSzzR-nc_Po"
   },
   "outputs": [],
   "source": [
    "pickle.dump(rf_bst_clf, open(file_path+'/rf_best_clf.pkl', 'wb'))"
   ]
  },
  {
   "cell_type": "code",
   "execution_count": 69,
   "metadata": {
    "colab": {},
    "colab_type": "code",
    "id": "4EfYGDSlJcCU"
   },
   "outputs": [],
   "source": [
    "# Adding results\n",
    "result_dict['name'].append('RF')\n",
    "result_dict['auc'].append(0.9385370330471765)\n",
    "result_dict['f1'].append(0.896185071685849)\n",
    "result_dict['far'].append(0.06146296695282344)"
   ]
  },
  {
   "cell_type": "code",
   "execution_count": 70,
   "metadata": {
    "colab": {
     "base_uri": "https://localhost:8080/",
     "height": 173
    },
    "colab_type": "code",
    "executionInfo": {
     "elapsed": 1133,
     "status": "ok",
     "timestamp": 1597919953826,
     "user": {
      "displayName": "Subrata Maji",
      "photoUrl": "https://lh3.googleusercontent.com/a-/AOh14Ghxu8VIGqB6XL51-t5wM_f1R1LdmEePYHIwb9b-=s64",
      "userId": "03124174213573157612"
     },
     "user_tz": -330
    },
    "id": "Sj5Kt62UJs6d",
    "outputId": "377ceb1a-2def-4f93-dc9e-8a469dcd9367"
   },
   "outputs": [
    {
     "data": {
      "text/html": [
       "<div>\n",
       "<style scoped>\n",
       "    .dataframe tbody tr th:only-of-type {\n",
       "        vertical-align: middle;\n",
       "    }\n",
       "\n",
       "    .dataframe tbody tr th {\n",
       "        vertical-align: top;\n",
       "    }\n",
       "\n",
       "    .dataframe thead th {\n",
       "        text-align: right;\n",
       "    }\n",
       "</style>\n",
       "<table border=\"1\" class=\"dataframe\">\n",
       "  <thead>\n",
       "    <tr style=\"text-align: right;\">\n",
       "      <th></th>\n",
       "      <th>name</th>\n",
       "      <th>auc</th>\n",
       "      <th>f1</th>\n",
       "      <th>far</th>\n",
       "    </tr>\n",
       "  </thead>\n",
       "  <tbody>\n",
       "    <tr>\n",
       "      <th>0</th>\n",
       "      <td>DT</td>\n",
       "      <td>0.965863</td>\n",
       "      <td>0.936760</td>\n",
       "      <td>0.034137</td>\n",
       "    </tr>\n",
       "    <tr>\n",
       "      <th>1</th>\n",
       "      <td>RF</td>\n",
       "      <td>0.938537</td>\n",
       "      <td>0.896185</td>\n",
       "      <td>0.061463</td>\n",
       "    </tr>\n",
       "  </tbody>\n",
       "</table>\n",
       "</div>"
      ],
      "text/plain": [
       "  name       auc        f1       far\n",
       "0   DT  0.965863  0.936760  0.034137\n",
       "1   RF  0.938537  0.896185  0.061463"
      ]
     },
     "execution_count": 70,
     "metadata": {},
     "output_type": "execute_result"
    }
   ],
   "source": [
    "pd.DataFrame(result_dict)"
   ]
  },
  {
   "cell_type": "code",
   "execution_count": 71,
   "metadata": {
    "colab": {},
    "colab_type": "code",
    "id": "hzu20rI2Jt-c"
   },
   "outputs": [],
   "source": [
    "pickle.dump(result_dict, open(file_path+'/final_result_dict.pkl', 'wb'))"
   ]
  }
 ],
 "metadata": {
  "colab": {
   "authorship_tag": "ABX9TyMIo9xBIBMNKzxxWGW1ssAy",
   "collapsed_sections": [],
   "name": "finalversion_casestudy1_alldata_onlyModels.ipynb",
   "provenance": []
  },
  "kernelspec": {
   "display_name": "Python 3",
   "language": "python",
   "name": "python3"
  },
  "language_info": {
   "codemirror_mode": {
    "name": "ipython",
    "version": 3
   },
   "file_extension": ".py",
   "mimetype": "text/x-python",
   "name": "python",
   "nbconvert_exporter": "python",
   "pygments_lexer": "ipython3",
   "version": "3.8.3"
  },
  "toc": {
   "base_numbering": 1,
   "nav_menu": {},
   "number_sections": true,
   "sideBar": true,
   "skip_h1_title": false,
   "title_cell": "Table of Contents",
   "title_sidebar": "Contents",
   "toc_cell": false,
   "toc_position": {},
   "toc_section_display": true,
   "toc_window_display": true
  }
 },
 "nbformat": 4,
 "nbformat_minor": 4
}