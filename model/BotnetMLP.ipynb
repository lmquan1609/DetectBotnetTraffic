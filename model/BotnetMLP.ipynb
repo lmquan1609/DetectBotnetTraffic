{
 "cells": [
  {
   "cell_type": "code",
   "execution_count": 1,
   "metadata": {},
   "outputs": [],
   "source": [
    "import numpy as np  # for array\n",
    "import pandas as pd  # for csv files and dataframe\n",
    "import matplotlib.pyplot as plt  # for plotting\n",
    "import seaborn as sns  # plotting\n",
    "from scipy import stats\n",
    "\n",
    "import pickle  # To load data int disk\n",
    "from prettytable import PrettyTable  # To print in tabular format\n",
    "import os\n",
    "import itertools\n",
    "\n",
    "import warnings\n",
    "warnings.filterwarnings(\"ignore\")\n",
    "\n",
    "from sklearn.preprocessing import StandardScaler\n",
    "from sklearn.preprocessing import LabelEncoder, OneHotEncoder, MinMaxScaler\n",
    "\n",
    "from sklearn.model_selection import train_test_split\n",
    "from sklearn.linear_model import LogisticRegression, SGDClassifier\n",
    "from sklearn.svm import LinearSVC\n",
    "from sklearn.naive_bayes import MultinomialNB\n",
    "from sklearn.tree import DecisionTreeClassifier\n",
    "from sklearn.ensemble import RandomForestClassifier\n",
    "import xgboost as xgb\n",
    "\n",
    "from sklearn.metrics import accuracy_score, confusion_matrix, make_scorer, classification_report\n",
    "from sklearn.metrics import auc, f1_score, roc_curve\n",
    "from sklearn.model_selection import GridSearchCV, RandomizedSearchCV\n",
    "from sklearn.model_selection import cross_validate, cross_val_predict\n",
    "\n",
    "\n",
    "%matplotlib inline"
   ]
  },
  {
   "cell_type": "code",
   "execution_count": 2,
   "metadata": {},
   "outputs": [],
   "source": [
    "from keras.models import Model\n",
    "from keras.layers import Dense\n",
    "from keras.layers import Input\n",
    "from keras.layers import Activation\n",
    "from keras.optimizers import SGD, Adam"
   ]
  },
  {
   "cell_type": "code",
   "execution_count": 3,
   "metadata": {},
   "outputs": [],
   "source": [
    "from collections import Counter\n",
    "from sklearn.datasets import make_classification\n",
    "from imblearn.over_sampling import SMOTE"
   ]
  },
  {
   "cell_type": "code",
   "execution_count": 4,
   "metadata": {},
   "outputs": [],
   "source": [
    "def convertToOneClass(y):\n",
    "    if y == 1:\n",
    "        return -1\n",
    "    return 1"
   ]
  },
  {
   "cell_type": "code",
   "execution_count": 5,
   "metadata": {},
   "outputs": [],
   "source": [
    "def convertlabel(sample):\n",
    "    if \"Botnet\" in sample: return 1\n",
    "    else: return 0"
   ]
  },
  {
   "cell_type": "code",
   "execution_count": 6,
   "metadata": {},
   "outputs": [],
   "source": [
    "def is_hex(s):\n",
    "    try:\n",
    "        int(s, 16)\n",
    "        return True\n",
    "    except ValueError:\n",
    "        return False\n",
    "\n",
    "def convertHexInSport(port):\n",
    "    if str(int(port, 16)) != port:\n",
    "        return int(port, 16)\n",
    "\n",
    "    return int(port)\n"
   ]
  },
  {
   "cell_type": "code",
   "execution_count": 7,
   "metadata": {},
   "outputs": [],
   "source": [
    "def standardize(data, saved_dict, scaler):\n",
    "    '''\n",
    "    Stanardize the given data. Performs mean centering and varience scaling.\n",
    "    Using stanardscaler object trained on train data.\n",
    "    '''\n",
    "    data[saved_dict['num_col']] = scaler.transform(data[saved_dict['num_col']])\n",
    "    return data"
   ]
  },
  {
   "cell_type": "code",
   "execution_count": 8,
   "metadata": {},
   "outputs": [],
   "source": [
    "def plot_confusion_matrix(cm, classes,\n",
    "                          normalize=False,\n",
    "                          title='Confusion matrix',\n",
    "                          cmap=plt.cm.Blues):\n",
    "    \"\"\"\n",
    "    This function prints and plots the confusion matrix.\n",
    "    Normalization can be applied by setting `normalize=True`.\n",
    "    \"\"\"\n",
    "    if normalize:\n",
    "        cm = cm.astype('float') / cm.sum(axis=1, keepdims = True)\n",
    "\n",
    "    plt.imshow(cm, interpolation='nearest', cmap=cmap)\n",
    "    plt.title(title)\n",
    "    plt.colorbar()\n",
    "    tick_marks = np.arange(len(classes))\n",
    "    plt.xticks(tick_marks, classes, rotation=45)\n",
    "    plt.yticks(tick_marks, classes)\n",
    "\n",
    "    fmt = '.2f' if normalize else 'd'\n",
    "    thresh = cm.max() / 2.\n",
    "    for i, j in itertools.product(range(cm.shape[0]), range(cm.shape[1])):\n",
    "        plt.text(j, i, format(cm[i, j], fmt),\n",
    "                 horizontalalignment=\"center\",\n",
    "                 color=\"white\" if cm[i, j] > thresh else \"black\")\n",
    "\n",
    "    plt.tight_layout()\n",
    "    plt.ylabel('True label')\n",
    "    plt.xlabel('Predicted label')\n"
   ]
  },
  {
   "cell_type": "code",
   "execution_count": 9,
   "metadata": {},
   "outputs": [],
   "source": [
    "test_files = ['capture20110811.binetflow','capture20110810.binetflow','capture20110816-2.binetflow','capture20110816.binetflow','capture20110818-2.binetflow','capture20110819.binetflow']"
   ]
  },
  {
   "cell_type": "code",
   "execution_count": 10,
   "metadata": {},
   "outputs": [],
   "source": [
    "pathdir = '../Mine/CTU-13-Dataset'\n",
    "filenames = os.listdir(pathdir)\n",
    "train_files = []\n",
    "for file in filenames:\n",
    "    if file not in test_files: train_files.append(file)"
   ]
  },
  {
   "cell_type": "code",
   "execution_count": 11,
   "metadata": {},
   "outputs": [
    {
     "data": {
      "text/plain": [
       "['capture20110816-3.binetflow',\n",
       " 'capture20110815-3.binetflow',\n",
       " 'capture20110818.binetflow',\n",
       " 'capture20110817.binetflow',\n",
       " 'capture20110815.binetflow',\n",
       " 'capture20110815-2.binetflow',\n",
       " 'capture20110812.binetflow']"
      ]
     },
     "execution_count": 11,
     "metadata": {},
     "output_type": "execute_result"
    }
   ],
   "source": [
    "train_files"
   ]
  },
  {
   "cell_type": "code",
   "execution_count": 12,
   "metadata": {},
   "outputs": [],
   "source": [
    "trainBotnames = ['Murlo', 'Virut', 'Rbot', 'Neris', 'Rbot', 'Virut', 'Rbot']"
   ]
  },
  {
   "cell_type": "code",
   "execution_count": 13,
   "metadata": {},
   "outputs": [
    {
     "data": {
      "text/plain": [
       "['Murlo', 'Virut', 'Rbot', 'Neris', 'Rbot', 'Virut', 'Rbot']"
      ]
     },
     "execution_count": 13,
     "metadata": {},
     "output_type": "execute_result"
    }
   ],
   "source": [
    "trainBotnames"
   ]
  },
  {
   "cell_type": "code",
   "execution_count": null,
   "metadata": {},
   "outputs": [],
   "source": []
  },
  {
   "cell_type": "code",
   "execution_count": 14,
   "metadata": {},
   "outputs": [],
   "source": [
    "testBotnames = ['Neris', 'Neris', 'Sogou', 'DonBot', 'Rbot', 'NSIS']"
   ]
  },
  {
   "cell_type": "code",
   "execution_count": 15,
   "metadata": {},
   "outputs": [],
   "source": [
    "def loadData(trainfiles, trainBotnames):\n",
    "    data = {}\n",
    "    for name in set(trainBotnames):\n",
    "        data[name] = pd.DataFrame()\n",
    "    for file, name in zip(train_files, trainBotnames):\n",
    "        if data[name].empty: \n",
    "            print(\"Create new botnet\")\n",
    "            data[name] = pd.read_csv(pathdir + '/' + file)\n",
    "        else: \n",
    "            print(\"Append botnet\")\n",
    "            data[name] = data[name].append(pd.read_csv(pathdir + '/' + file))\n",
    "    return data"
   ]
  },
  {
   "cell_type": "code",
   "execution_count": 16,
   "metadata": {},
   "outputs": [
    {
     "name": "stdout",
     "output_type": "stream",
     "text": [
      "Create new botnet\n",
      "Create new botnet\n",
      "Create new botnet\n",
      "Create new botnet\n",
      "Append botnet\n",
      "Append botnet\n",
      "Append botnet\n"
     ]
    }
   ],
   "source": [
    "data = loadData(train_files, trainBotnames)"
   ]
  },
  {
   "cell_type": "code",
   "execution_count": 25,
   "metadata": {},
   "outputs": [
    {
     "data": {
      "text/html": [
       "<div>\n",
       "<style scoped>\n",
       "    .dataframe tbody tr th:only-of-type {\n",
       "        vertical-align: middle;\n",
       "    }\n",
       "\n",
       "    .dataframe tbody tr th {\n",
       "        vertical-align: top;\n",
       "    }\n",
       "\n",
       "    .dataframe thead th {\n",
       "        text-align: right;\n",
       "    }\n",
       "</style>\n",
       "<table border=\"1\" class=\"dataframe\">\n",
       "  <thead>\n",
       "    <tr style=\"text-align: right;\">\n",
       "      <th></th>\n",
       "      <th>dur</th>\n",
       "      <th>proto</th>\n",
       "      <th>sport</th>\n",
       "      <th>dir</th>\n",
       "      <th>dport</th>\n",
       "      <th>stos</th>\n",
       "      <th>dtos</th>\n",
       "      <th>totpkts</th>\n",
       "      <th>totbytes</th>\n",
       "      <th>srcbytes</th>\n",
       "      <th>target</th>\n",
       "      <th>label</th>\n",
       "    </tr>\n",
       "  </thead>\n",
       "  <tbody>\n",
       "    <tr>\n",
       "      <th>0</th>\n",
       "      <td>2458.846924</td>\n",
       "      <td>tcp</td>\n",
       "      <td>6006</td>\n",
       "      <td>-&gt;</td>\n",
       "      <td>1091</td>\n",
       "      <td>0.0</td>\n",
       "      <td>0.0</td>\n",
       "      <td>8</td>\n",
       "      <td>488</td>\n",
       "      <td>248</td>\n",
       "      <td>0</td>\n",
       "      <td>Virut</td>\n",
       "    </tr>\n",
       "    <tr>\n",
       "      <th>1</th>\n",
       "      <td>2452.237549</td>\n",
       "      <td>tcp</td>\n",
       "      <td>6192</td>\n",
       "      <td>-&gt;</td>\n",
       "      <td>1091</td>\n",
       "      <td>0.0</td>\n",
       "      <td>0.0</td>\n",
       "      <td>8</td>\n",
       "      <td>488</td>\n",
       "      <td>248</td>\n",
       "      <td>0</td>\n",
       "      <td>Virut</td>\n",
       "    </tr>\n",
       "    <tr>\n",
       "      <th>2</th>\n",
       "      <td>2451.636475</td>\n",
       "      <td>tcp</td>\n",
       "      <td>6200</td>\n",
       "      <td>-&gt;</td>\n",
       "      <td>1091</td>\n",
       "      <td>0.0</td>\n",
       "      <td>0.0</td>\n",
       "      <td>8</td>\n",
       "      <td>488</td>\n",
       "      <td>248</td>\n",
       "      <td>0</td>\n",
       "      <td>Virut</td>\n",
       "    </tr>\n",
       "    <tr>\n",
       "      <th>3</th>\n",
       "      <td>2467.759033</td>\n",
       "      <td>tcp</td>\n",
       "      <td>6451</td>\n",
       "      <td>-&gt;</td>\n",
       "      <td>1091</td>\n",
       "      <td>0.0</td>\n",
       "      <td>0.0</td>\n",
       "      <td>8</td>\n",
       "      <td>488</td>\n",
       "      <td>248</td>\n",
       "      <td>0</td>\n",
       "      <td>Virut</td>\n",
       "    </tr>\n",
       "    <tr>\n",
       "      <th>4</th>\n",
       "      <td>2470.564453</td>\n",
       "      <td>tcp</td>\n",
       "      <td>6519</td>\n",
       "      <td>-&gt;</td>\n",
       "      <td>1091</td>\n",
       "      <td>0.0</td>\n",
       "      <td>0.0</td>\n",
       "      <td>8</td>\n",
       "      <td>488</td>\n",
       "      <td>248</td>\n",
       "      <td>0</td>\n",
       "      <td>Virut</td>\n",
       "    </tr>\n",
       "    <tr>\n",
       "      <th>...</th>\n",
       "      <td>...</td>\n",
       "      <td>...</td>\n",
       "      <td>...</td>\n",
       "      <td>...</td>\n",
       "      <td>...</td>\n",
       "      <td>...</td>\n",
       "      <td>...</td>\n",
       "      <td>...</td>\n",
       "      <td>...</td>\n",
       "      <td>...</td>\n",
       "      <td>...</td>\n",
       "      <td>...</td>\n",
       "    </tr>\n",
       "    <tr>\n",
       "      <th>265487</th>\n",
       "      <td>9.014144</td>\n",
       "      <td>tcp</td>\n",
       "      <td>10505</td>\n",
       "      <td>-&gt;</td>\n",
       "      <td>34</td>\n",
       "      <td>0.0</td>\n",
       "      <td>0.0</td>\n",
       "      <td>3</td>\n",
       "      <td>186</td>\n",
       "      <td>186</td>\n",
       "      <td>3</td>\n",
       "      <td>Rbot</td>\n",
       "    </tr>\n",
       "    <tr>\n",
       "      <th>265488</th>\n",
       "      <td>9.013652</td>\n",
       "      <td>tcp</td>\n",
       "      <td>10512</td>\n",
       "      <td>-&gt;</td>\n",
       "      <td>34</td>\n",
       "      <td>0.0</td>\n",
       "      <td>0.0</td>\n",
       "      <td>3</td>\n",
       "      <td>186</td>\n",
       "      <td>186</td>\n",
       "      <td>3</td>\n",
       "      <td>Rbot</td>\n",
       "    </tr>\n",
       "    <tr>\n",
       "      <th>265489</th>\n",
       "      <td>0.000000</td>\n",
       "      <td>udp</td>\n",
       "      <td>311</td>\n",
       "      <td>-&gt;</td>\n",
       "      <td>283494</td>\n",
       "      <td>0.0</td>\n",
       "      <td>0.0</td>\n",
       "      <td>1</td>\n",
       "      <td>104</td>\n",
       "      <td>104</td>\n",
       "      <td>3</td>\n",
       "      <td>Rbot</td>\n",
       "    </tr>\n",
       "    <tr>\n",
       "      <th>265490</th>\n",
       "      <td>0.000000</td>\n",
       "      <td>udp</td>\n",
       "      <td>311</td>\n",
       "      <td>-&gt;</td>\n",
       "      <td>276614</td>\n",
       "      <td>0.0</td>\n",
       "      <td>0.0</td>\n",
       "      <td>1</td>\n",
       "      <td>104</td>\n",
       "      <td>104</td>\n",
       "      <td>3</td>\n",
       "      <td>Rbot</td>\n",
       "    </tr>\n",
       "    <tr>\n",
       "      <th>265491</th>\n",
       "      <td>0.000000</td>\n",
       "      <td>udp</td>\n",
       "      <td>311</td>\n",
       "      <td>-&gt;</td>\n",
       "      <td>287744</td>\n",
       "      <td>0.0</td>\n",
       "      <td>0.0</td>\n",
       "      <td>1</td>\n",
       "      <td>104</td>\n",
       "      <td>104</td>\n",
       "      <td>3</td>\n",
       "      <td>Rbot</td>\n",
       "    </tr>\n",
       "  </tbody>\n",
       "</table>\n",
       "<p>265492 rows × 12 columns</p>\n",
       "</div>"
      ],
      "text/plain": [
       "                dur proto  sport    dir   dport  stos  dtos  totpkts  \\\n",
       "0       2458.846924   tcp   6006     ->    1091   0.0   0.0        8   \n",
       "1       2452.237549   tcp   6192     ->    1091   0.0   0.0        8   \n",
       "2       2451.636475   tcp   6200     ->    1091   0.0   0.0        8   \n",
       "3       2467.759033   tcp   6451     ->    1091   0.0   0.0        8   \n",
       "4       2470.564453   tcp   6519     ->    1091   0.0   0.0        8   \n",
       "...             ...   ...    ...    ...     ...   ...   ...      ...   \n",
       "265487     9.014144   tcp  10505     ->      34   0.0   0.0        3   \n",
       "265488     9.013652   tcp  10512     ->      34   0.0   0.0        3   \n",
       "265489     0.000000   udp    311     ->  283494   0.0   0.0        1   \n",
       "265490     0.000000   udp    311     ->  276614   0.0   0.0        1   \n",
       "265491     0.000000   udp    311     ->  287744   0.0   0.0        1   \n",
       "\n",
       "        totbytes  srcbytes  target  label  \n",
       "0            488       248       0  Virut  \n",
       "1            488       248       0  Virut  \n",
       "2            488       248       0  Virut  \n",
       "3            488       248       0  Virut  \n",
       "4            488       248       0  Virut  \n",
       "...          ...       ...     ...    ...  \n",
       "265487       186       186       3   Rbot  \n",
       "265488       186       186       3   Rbot  \n",
       "265489       104       104       3   Rbot  \n",
       "265490       104       104       3   Rbot  \n",
       "265491       104       104       3   Rbot  \n",
       "\n",
       "[265492 rows x 12 columns]"
      ]
     },
     "execution_count": 25,
     "metadata": {},
     "output_type": "execute_result"
    }
   ],
   "source": [
    "data"
   ]
  },
  {
   "cell_type": "code",
   "execution_count": 18,
   "metadata": {},
   "outputs": [],
   "source": [
    "def preprocess(dataFrame):\n",
    "    for key in data:\n",
    "        data[key].columns = data[key].columns.str.lower()    \n",
    "        data[key]['target'] = data[key]['label'].apply(convertlabel)\n",
    "        data[key] = data[key][data[key]['target'] == 1]\n",
    "        data[key].drop(['starttime', 'srcaddr', 'dstaddr', 'state'], axis=1, inplace=True)\n",
    "        data[key].drop(['label'], axis=1, inplace=True)\n",
    "        data[key].reset_index(inplace=True)\n",
    "        data[key].drop(data[key][data[key]['stos'] == 192.0].index)\n",
    "        data[key].reset_index(inplace=True)\n",
    "        data[key]['stos'] = data[key].stos.fillna(value=0.0)\n",
    "        data[key]['dtos'] = data[key].dtos.fillna(value=0.0)\n",
    "        data[key].dropna(inplace=True)\n",
    "        data[key]['sport'] = data[key]['sport'].apply(convertHexInSport)\n",
    "        data[key]['dport'] = data[key]['dport'].apply(convertHexInSport)\n",
    "        data[key].drop(columns='level_0',axis=1, inplace=True)\n",
    "        data[key].drop(columns='index',axis=1, inplace=True)\n",
    "    for index, key in enumerate(data):\n",
    "        data[key]['label'] = key\n",
    "        data[key]['target'].replace(1, index, inplace=True)        \n",
    "    df = pd.DataFrame()\n",
    "    for key in data:\n",
    "        df = df.append(data[key], ignore_index=True)\n",
    "    df.reset_index(drop=True, inplace=True)\n",
    "    return df"
   ]
  },
  {
   "cell_type": "code",
   "execution_count": 19,
   "metadata": {},
   "outputs": [
    {
     "data": {
      "text/html": [
       "<div>\n",
       "<style scoped>\n",
       "    .dataframe tbody tr th:only-of-type {\n",
       "        vertical-align: middle;\n",
       "    }\n",
       "\n",
       "    .dataframe tbody tr th {\n",
       "        vertical-align: top;\n",
       "    }\n",
       "\n",
       "    .dataframe thead th {\n",
       "        text-align: right;\n",
       "    }\n",
       "</style>\n",
       "<table border=\"1\" class=\"dataframe\">\n",
       "  <thead>\n",
       "    <tr style=\"text-align: right;\">\n",
       "      <th></th>\n",
       "      <th>dur</th>\n",
       "      <th>proto</th>\n",
       "      <th>sport</th>\n",
       "      <th>dir</th>\n",
       "      <th>dport</th>\n",
       "      <th>stos</th>\n",
       "      <th>dtos</th>\n",
       "      <th>totpkts</th>\n",
       "      <th>totbytes</th>\n",
       "      <th>srcbytes</th>\n",
       "      <th>target</th>\n",
       "      <th>label</th>\n",
       "    </tr>\n",
       "  </thead>\n",
       "  <tbody>\n",
       "    <tr>\n",
       "      <th>0</th>\n",
       "      <td>2458.846924</td>\n",
       "      <td>tcp</td>\n",
       "      <td>6006</td>\n",
       "      <td>-&gt;</td>\n",
       "      <td>1091</td>\n",
       "      <td>0.0</td>\n",
       "      <td>0.0</td>\n",
       "      <td>8</td>\n",
       "      <td>488</td>\n",
       "      <td>248</td>\n",
       "      <td>0</td>\n",
       "      <td>Virut</td>\n",
       "    </tr>\n",
       "    <tr>\n",
       "      <th>1</th>\n",
       "      <td>2452.237549</td>\n",
       "      <td>tcp</td>\n",
       "      <td>6192</td>\n",
       "      <td>-&gt;</td>\n",
       "      <td>1091</td>\n",
       "      <td>0.0</td>\n",
       "      <td>0.0</td>\n",
       "      <td>8</td>\n",
       "      <td>488</td>\n",
       "      <td>248</td>\n",
       "      <td>0</td>\n",
       "      <td>Virut</td>\n",
       "    </tr>\n",
       "    <tr>\n",
       "      <th>2</th>\n",
       "      <td>2451.636475</td>\n",
       "      <td>tcp</td>\n",
       "      <td>6200</td>\n",
       "      <td>-&gt;</td>\n",
       "      <td>1091</td>\n",
       "      <td>0.0</td>\n",
       "      <td>0.0</td>\n",
       "      <td>8</td>\n",
       "      <td>488</td>\n",
       "      <td>248</td>\n",
       "      <td>0</td>\n",
       "      <td>Virut</td>\n",
       "    </tr>\n",
       "    <tr>\n",
       "      <th>3</th>\n",
       "      <td>2467.759033</td>\n",
       "      <td>tcp</td>\n",
       "      <td>6451</td>\n",
       "      <td>-&gt;</td>\n",
       "      <td>1091</td>\n",
       "      <td>0.0</td>\n",
       "      <td>0.0</td>\n",
       "      <td>8</td>\n",
       "      <td>488</td>\n",
       "      <td>248</td>\n",
       "      <td>0</td>\n",
       "      <td>Virut</td>\n",
       "    </tr>\n",
       "    <tr>\n",
       "      <th>4</th>\n",
       "      <td>2470.564453</td>\n",
       "      <td>tcp</td>\n",
       "      <td>6519</td>\n",
       "      <td>-&gt;</td>\n",
       "      <td>1091</td>\n",
       "      <td>0.0</td>\n",
       "      <td>0.0</td>\n",
       "      <td>8</td>\n",
       "      <td>488</td>\n",
       "      <td>248</td>\n",
       "      <td>0</td>\n",
       "      <td>Virut</td>\n",
       "    </tr>\n",
       "  </tbody>\n",
       "</table>\n",
       "</div>"
      ],
      "text/plain": [
       "           dur proto  sport    dir  dport  stos  dtos  totpkts  totbytes  \\\n",
       "0  2458.846924   tcp   6006     ->   1091   0.0   0.0        8       488   \n",
       "1  2452.237549   tcp   6192     ->   1091   0.0   0.0        8       488   \n",
       "2  2451.636475   tcp   6200     ->   1091   0.0   0.0        8       488   \n",
       "3  2467.759033   tcp   6451     ->   1091   0.0   0.0        8       488   \n",
       "4  2470.564453   tcp   6519     ->   1091   0.0   0.0        8       488   \n",
       "\n",
       "   srcbytes  target  label  \n",
       "0       248       0  Virut  \n",
       "1       248       0  Virut  \n",
       "2       248       0  Virut  \n",
       "3       248       0  Virut  \n",
       "4       248       0  Virut  "
      ]
     },
     "execution_count": 19,
     "metadata": {},
     "output_type": "execute_result"
    }
   ],
   "source": [
    "data=preprocess(data)\n",
    "data.head()"
   ]
  },
  {
   "cell_type": "code",
   "execution_count": 24,
   "metadata": {},
   "outputs": [
    {
     "data": {
      "text/html": [
       "<div>\n",
       "<style scoped>\n",
       "    .dataframe tbody tr th:only-of-type {\n",
       "        vertical-align: middle;\n",
       "    }\n",
       "\n",
       "    .dataframe tbody tr th {\n",
       "        vertical-align: top;\n",
       "    }\n",
       "\n",
       "    .dataframe thead th {\n",
       "        text-align: right;\n",
       "    }\n",
       "</style>\n",
       "<table border=\"1\" class=\"dataframe\">\n",
       "  <thead>\n",
       "    <tr style=\"text-align: right;\">\n",
       "      <th></th>\n",
       "      <th>dur</th>\n",
       "      <th>proto</th>\n",
       "      <th>sport</th>\n",
       "      <th>dir</th>\n",
       "      <th>dport</th>\n",
       "      <th>stos</th>\n",
       "      <th>dtos</th>\n",
       "      <th>totpkts</th>\n",
       "      <th>totbytes</th>\n",
       "      <th>srcbytes</th>\n",
       "      <th>target</th>\n",
       "      <th>label</th>\n",
       "    </tr>\n",
       "  </thead>\n",
       "  <tbody>\n",
       "    <tr>\n",
       "      <th>0</th>\n",
       "      <td>2458.846924</td>\n",
       "      <td>tcp</td>\n",
       "      <td>6006</td>\n",
       "      <td>-&gt;</td>\n",
       "      <td>1091</td>\n",
       "      <td>0.0</td>\n",
       "      <td>0.0</td>\n",
       "      <td>8</td>\n",
       "      <td>488</td>\n",
       "      <td>248</td>\n",
       "      <td>0</td>\n",
       "      <td>Virut</td>\n",
       "    </tr>\n",
       "    <tr>\n",
       "      <th>1</th>\n",
       "      <td>2452.237549</td>\n",
       "      <td>tcp</td>\n",
       "      <td>6192</td>\n",
       "      <td>-&gt;</td>\n",
       "      <td>1091</td>\n",
       "      <td>0.0</td>\n",
       "      <td>0.0</td>\n",
       "      <td>8</td>\n",
       "      <td>488</td>\n",
       "      <td>248</td>\n",
       "      <td>0</td>\n",
       "      <td>Virut</td>\n",
       "    </tr>\n",
       "    <tr>\n",
       "      <th>2</th>\n",
       "      <td>2451.636475</td>\n",
       "      <td>tcp</td>\n",
       "      <td>6200</td>\n",
       "      <td>-&gt;</td>\n",
       "      <td>1091</td>\n",
       "      <td>0.0</td>\n",
       "      <td>0.0</td>\n",
       "      <td>8</td>\n",
       "      <td>488</td>\n",
       "      <td>248</td>\n",
       "      <td>0</td>\n",
       "      <td>Virut</td>\n",
       "    </tr>\n",
       "    <tr>\n",
       "      <th>3</th>\n",
       "      <td>2467.759033</td>\n",
       "      <td>tcp</td>\n",
       "      <td>6451</td>\n",
       "      <td>-&gt;</td>\n",
       "      <td>1091</td>\n",
       "      <td>0.0</td>\n",
       "      <td>0.0</td>\n",
       "      <td>8</td>\n",
       "      <td>488</td>\n",
       "      <td>248</td>\n",
       "      <td>0</td>\n",
       "      <td>Virut</td>\n",
       "    </tr>\n",
       "    <tr>\n",
       "      <th>4</th>\n",
       "      <td>2470.564453</td>\n",
       "      <td>tcp</td>\n",
       "      <td>6519</td>\n",
       "      <td>-&gt;</td>\n",
       "      <td>1091</td>\n",
       "      <td>0.0</td>\n",
       "      <td>0.0</td>\n",
       "      <td>8</td>\n",
       "      <td>488</td>\n",
       "      <td>248</td>\n",
       "      <td>0</td>\n",
       "      <td>Virut</td>\n",
       "    </tr>\n",
       "    <tr>\n",
       "      <th>...</th>\n",
       "      <td>...</td>\n",
       "      <td>...</td>\n",
       "      <td>...</td>\n",
       "      <td>...</td>\n",
       "      <td>...</td>\n",
       "      <td>...</td>\n",
       "      <td>...</td>\n",
       "      <td>...</td>\n",
       "      <td>...</td>\n",
       "      <td>...</td>\n",
       "      <td>...</td>\n",
       "      <td>...</td>\n",
       "    </tr>\n",
       "    <tr>\n",
       "      <th>265487</th>\n",
       "      <td>9.014144</td>\n",
       "      <td>tcp</td>\n",
       "      <td>10505</td>\n",
       "      <td>-&gt;</td>\n",
       "      <td>34</td>\n",
       "      <td>0.0</td>\n",
       "      <td>0.0</td>\n",
       "      <td>3</td>\n",
       "      <td>186</td>\n",
       "      <td>186</td>\n",
       "      <td>3</td>\n",
       "      <td>Rbot</td>\n",
       "    </tr>\n",
       "    <tr>\n",
       "      <th>265488</th>\n",
       "      <td>9.013652</td>\n",
       "      <td>tcp</td>\n",
       "      <td>10512</td>\n",
       "      <td>-&gt;</td>\n",
       "      <td>34</td>\n",
       "      <td>0.0</td>\n",
       "      <td>0.0</td>\n",
       "      <td>3</td>\n",
       "      <td>186</td>\n",
       "      <td>186</td>\n",
       "      <td>3</td>\n",
       "      <td>Rbot</td>\n",
       "    </tr>\n",
       "    <tr>\n",
       "      <th>265489</th>\n",
       "      <td>0.000000</td>\n",
       "      <td>udp</td>\n",
       "      <td>311</td>\n",
       "      <td>-&gt;</td>\n",
       "      <td>283494</td>\n",
       "      <td>0.0</td>\n",
       "      <td>0.0</td>\n",
       "      <td>1</td>\n",
       "      <td>104</td>\n",
       "      <td>104</td>\n",
       "      <td>3</td>\n",
       "      <td>Rbot</td>\n",
       "    </tr>\n",
       "    <tr>\n",
       "      <th>265490</th>\n",
       "      <td>0.000000</td>\n",
       "      <td>udp</td>\n",
       "      <td>311</td>\n",
       "      <td>-&gt;</td>\n",
       "      <td>276614</td>\n",
       "      <td>0.0</td>\n",
       "      <td>0.0</td>\n",
       "      <td>1</td>\n",
       "      <td>104</td>\n",
       "      <td>104</td>\n",
       "      <td>3</td>\n",
       "      <td>Rbot</td>\n",
       "    </tr>\n",
       "    <tr>\n",
       "      <th>265491</th>\n",
       "      <td>0.000000</td>\n",
       "      <td>udp</td>\n",
       "      <td>311</td>\n",
       "      <td>-&gt;</td>\n",
       "      <td>287744</td>\n",
       "      <td>0.0</td>\n",
       "      <td>0.0</td>\n",
       "      <td>1</td>\n",
       "      <td>104</td>\n",
       "      <td>104</td>\n",
       "      <td>3</td>\n",
       "      <td>Rbot</td>\n",
       "    </tr>\n",
       "  </tbody>\n",
       "</table>\n",
       "<p>265492 rows × 12 columns</p>\n",
       "</div>"
      ],
      "text/plain": [
       "                dur proto  sport    dir   dport  stos  dtos  totpkts  \\\n",
       "0       2458.846924   tcp   6006     ->    1091   0.0   0.0        8   \n",
       "1       2452.237549   tcp   6192     ->    1091   0.0   0.0        8   \n",
       "2       2451.636475   tcp   6200     ->    1091   0.0   0.0        8   \n",
       "3       2467.759033   tcp   6451     ->    1091   0.0   0.0        8   \n",
       "4       2470.564453   tcp   6519     ->    1091   0.0   0.0        8   \n",
       "...             ...   ...    ...    ...     ...   ...   ...      ...   \n",
       "265487     9.014144   tcp  10505     ->      34   0.0   0.0        3   \n",
       "265488     9.013652   tcp  10512     ->      34   0.0   0.0        3   \n",
       "265489     0.000000   udp    311     ->  283494   0.0   0.0        1   \n",
       "265490     0.000000   udp    311     ->  276614   0.0   0.0        1   \n",
       "265491     0.000000   udp    311     ->  287744   0.0   0.0        1   \n",
       "\n",
       "        totbytes  srcbytes  target  label  \n",
       "0            488       248       0  Virut  \n",
       "1            488       248       0  Virut  \n",
       "2            488       248       0  Virut  \n",
       "3            488       248       0  Virut  \n",
       "4            488       248       0  Virut  \n",
       "...          ...       ...     ...    ...  \n",
       "265487       186       186       3   Rbot  \n",
       "265488       186       186       3   Rbot  \n",
       "265489       104       104       3   Rbot  \n",
       "265490       104       104       3   Rbot  \n",
       "265491       104       104       3   Rbot  \n",
       "\n",
       "[265492 rows x 12 columns]"
      ]
     },
     "execution_count": 24,
     "metadata": {},
     "output_type": "execute_result"
    }
   ],
   "source": [
    "data"
   ]
  },
  {
   "cell_type": "code",
   "execution_count": 35,
   "metadata": {},
   "outputs": [
    {
     "data": {
      "text/plain": [
       "1    184987\n",
       "0     40904\n",
       "3     33474\n",
       "2      6127\n",
       "Name: target, dtype: int64"
      ]
     },
     "execution_count": 35,
     "metadata": {},
     "output_type": "execute_result"
    }
   ],
   "source": [
    "data.target.value_counts()"
   ]
  },
  {
   "cell_type": "code",
   "execution_count": 36,
   "metadata": {},
   "outputs": [],
   "source": [
    "def normalize_data(data):\n",
    "    num_col = [ 'dur', 'sport', 'dport', 'totpkts', 'totbytes', 'srcbytes']\n",
    "    cat_col = list(set(data.columns) - set(num_col))\n",
    "    \n",
    "    \n",
    "    cat_col.remove('target')\n",
    "    cat_col.remove('label')\n",
    "    \n",
    "    scaler = MinMaxScaler()\n",
    "    scaler = scaler.fit(data[num_col])\n",
    "    data[num_col] = scaler.transform(data[num_col])\n",
    "    \n",
    "    pickle.dump(scaler, open('scaletrainBotnet.pkl', 'wb'))\n",
    "    \n",
    "    stos_ = OneHotEncoder()\n",
    "    dtos_ = OneHotEncoder()\n",
    "    dir_ = OneHotEncoder()\n",
    "    proto_ = OneHotEncoder()\n",
    "\n",
    "    ohe_stos = stos_.fit(data.stos.values.reshape(-1,1))\n",
    "    ohe_dtos = dtos_.fit(data.dtos.values.reshape(-1,1))\n",
    "    ohe_dir = dir_.fit(data.dir.values.reshape(-1,1))\n",
    "    ohe_proto = proto_.fit(data.proto.values.reshape(-1,1))\n",
    "    \n",
    "    pickle.dump(ohe_stos, open('ohe_stosTrainBotnet.pkl', 'wb'))\n",
    "    pickle.dump(ohe_dtos, open('ohe_dtosTrainBotnet.pkl', 'wb'))\n",
    "    pickle.dump(ohe_dir, open('ohe_dirTrainBotnet.pkl', 'wb'))\n",
    "    pickle.dump(ohe_proto, open('ohe_protoTrainBotnet.pkl', 'wb'))\n",
    "    \n",
    "    for col, encoding in zip(['stos', 'dtos', 'dir', 'proto'], [ohe_stos, ohe_dtos, ohe_dir, ohe_proto]):\n",
    "        x = encoding.transform(data[col].values.reshape(-1,1))\n",
    "        tmp_df = pd.DataFrame(x.toarray(), dtype='int64', columns=[col+'_'+str(i) for i in encoding.categories_[0]])\n",
    "        data = pd.concat([data.drop(col, axis=1), tmp_df], axis=1)\n",
    "    data = data.sample(frac=1).reset_index(drop=True)\n",
    "    target = data['target']\n",
    "    label = data['label']\n",
    "    data.drop('target', axis=1, inplace=True)\n",
    "    data.drop('label', axis=1, inplace=True)\n",
    "    return data,target, label"
   ]
  },
  {
   "cell_type": "code",
   "execution_count": 37,
   "metadata": {},
   "outputs": [],
   "source": [
    "X, y , label = normalize_data(data)"
   ]
  },
  {
   "cell_type": "code",
   "execution_count": 43,
   "metadata": {},
   "outputs": [
    {
     "data": {
      "text/plain": [
       "Neris    184987\n",
       "Virut     40904\n",
       "Rbot      33474\n",
       "Murlo      6127\n",
       "Name: label, dtype: int64"
      ]
     },
     "execution_count": 43,
     "metadata": {},
     "output_type": "execute_result"
    }
   ],
   "source": [
    "label.value_counts()"
   ]
  },
  {
   "cell_type": "code",
   "execution_count": 42,
   "metadata": {},
   "outputs": [
    {
     "data": {
      "text/plain": [
       "1    184987\n",
       "0     40904\n",
       "3     33474\n",
       "2      6127\n",
       "Name: target, dtype: int64"
      ]
     },
     "execution_count": 42,
     "metadata": {},
     "output_type": "execute_result"
    }
   ],
   "source": [
    "y.value_counts()"
   ]
  },
  {
   "cell_type": "code",
   "execution_count": 38,
   "metadata": {},
   "outputs": [
    {
     "name": "stdout",
     "output_type": "stream",
     "text": [
      "(265492, 14)\n",
      "(265492,)\n"
     ]
    }
   ],
   "source": [
    "print(X.shape)\n",
    "print(y.shape)"
   ]
  },
  {
   "cell_type": "code",
   "execution_count": 44,
   "metadata": {},
   "outputs": [],
   "source": [
    "trainX, testX, trainY, testY = train_test_split(X, y, test_size=0.3)"
   ]
  },
  {
   "cell_type": "code",
   "execution_count": 45,
   "metadata": {},
   "outputs": [
    {
     "name": "stdout",
     "output_type": "stream",
     "text": [
      "(185844, 14)\n",
      "(79648, 14)\n",
      "(185844,)\n",
      "(79648,)\n"
     ]
    }
   ],
   "source": [
    "print(trainX.shape)\n",
    "print(testX.shape)\n",
    "print(trainY.shape)\n",
    "print(testY.shape)"
   ]
  },
  {
   "cell_type": "code",
   "execution_count": 46,
   "metadata": {},
   "outputs": [],
   "source": [
    "pickle.dump((trainX, testX, trainY, testY), open(\"dataBotNetMLP.pkl\", \"wb\"))"
   ]
  },
  {
   "cell_type": "code",
   "execution_count": 47,
   "metadata": {},
   "outputs": [],
   "source": [
    "def getmodel(inputShape):\n",
    "    inputs = Input(shape=inputShape)\n",
    "    x = Dense(128)(inputs)\n",
    "    x = Activation('relu')(x)\n",
    "#     x = Dense(512)(x)\n",
    "#     x = Activation('relu')(x)\n",
    "    x = Dense(1024)(x)\n",
    "    x = Activation('relu')(x)\n",
    "#     x = Dense(1024)(x)\n",
    "#     x = Activation('relu')(x)\n",
    "#     x = Dense(512)(x)\n",
    "#     x = Activation('relu')(x)\n",
    "    x = Dense(512)(x)\n",
    "    x = Activation('relu')(x)\n",
    "    x = Dense(128)(x)\n",
    "    x = Activation('relu')(x)   \n",
    "    x = Dense(128)(x)\n",
    "    x = Activation('relu')(x)\n",
    "    x = Dense(10)(x)\n",
    "    x = Activation('relu')(x)\n",
    "    x = Dense(4)(x)\n",
    "    outputs = Activation('softmax')(x)\n",
    "    \n",
    "    model = Model(inputs, outputs)\n",
    "    \n",
    "    return model"
   ]
  },
  {
   "cell_type": "code",
   "execution_count": 48,
   "metadata": {},
   "outputs": [],
   "source": [
    "model = getmodel(14)"
   ]
  },
  {
   "cell_type": "code",
   "execution_count": 49,
   "metadata": {},
   "outputs": [],
   "source": [
    "model.compile(loss=\"categorical_crossentropy\", optimizer=Adam(), metrics=[\"accuracy\"])"
   ]
  },
  {
   "cell_type": "code",
   "execution_count": 50,
   "metadata": {},
   "outputs": [
    {
     "data": {
      "text/plain": [
       "198352    1\n",
       "240731    0\n",
       "4587      0\n",
       "233334    3\n",
       "150936    1\n",
       "         ..\n",
       "119879    1\n",
       "259178    3\n",
       "131932    1\n",
       "146867    1\n",
       "121958    1\n",
       "Name: target, Length: 185844, dtype: int64"
      ]
     },
     "execution_count": 50,
     "metadata": {},
     "output_type": "execute_result"
    }
   ],
   "source": [
    "trainY"
   ]
  },
  {
   "cell_type": "code",
   "execution_count": 51,
   "metadata": {},
   "outputs": [],
   "source": [
    "encY = OneHotEncoder()\n",
    "trainY = encY.fit_transform(trainY.values.reshape(-1,1))"
   ]
  },
  {
   "cell_type": "code",
   "execution_count": 52,
   "metadata": {},
   "outputs": [
    {
     "data": {
      "text/plain": [
       "array([[0., 1., 0., 0.],\n",
       "       [1., 0., 0., 0.],\n",
       "       [1., 0., 0., 0.],\n",
       "       ...,\n",
       "       [0., 1., 0., 0.],\n",
       "       [0., 1., 0., 0.],\n",
       "       [0., 1., 0., 0.]])"
      ]
     },
     "execution_count": 52,
     "metadata": {},
     "output_type": "execute_result"
    }
   ],
   "source": [
    "trainY = trainY.toarray()\n",
    "trainY"
   ]
  },
  {
   "cell_type": "code",
   "execution_count": 53,
   "metadata": {},
   "outputs": [
    {
     "name": "stdout",
     "output_type": "stream",
     "text": [
      "Epoch 1/30\n",
      "1162/1162 [==============================] - 14s 11ms/step - loss: 0.8198 - accuracy: 0.6493 - val_loss: 0.6121 - val_accuracy: 0.7814\n",
      "Epoch 2/30\n",
      "1162/1162 [==============================] - 13s 11ms/step - loss: 0.6290 - accuracy: 0.7747 - val_loss: 0.6494 - val_accuracy: 0.7630\n",
      "Epoch 3/30\n",
      "1162/1162 [==============================] - 13s 11ms/step - loss: 0.6355 - accuracy: 0.7664 - val_loss: 0.6122 - val_accuracy: 0.7774\n",
      "Epoch 4/30\n",
      "1162/1162 [==============================] - 13s 11ms/step - loss: 0.6151 - accuracy: 0.7759 - val_loss: 0.6294 - val_accuracy: 0.7631\n",
      "Epoch 5/30\n",
      "1162/1162 [==============================] - 13s 11ms/step - loss: 0.6107 - accuracy: 0.7716 - val_loss: 0.6223 - val_accuracy: 0.7634\n",
      "Epoch 6/30\n",
      "1162/1162 [==============================] - 13s 11ms/step - loss: 0.6057 - accuracy: 0.7758 - val_loss: 0.5939 - val_accuracy: 0.7816\n",
      "Epoch 7/30\n",
      "1162/1162 [==============================] - 13s 11ms/step - loss: 0.5949 - accuracy: 0.7812 - val_loss: 0.5976 - val_accuracy: 0.7779\n",
      "Epoch 8/30\n",
      "1162/1162 [==============================] - 13s 11ms/step - loss: 0.5929 - accuracy: 0.7820 - val_loss: 0.5969 - val_accuracy: 0.7778\n",
      "Epoch 9/30\n",
      "1162/1162 [==============================] - 13s 11ms/step - loss: 0.5916 - accuracy: 0.7817 - val_loss: 0.5913 - val_accuracy: 0.7818\n",
      "Epoch 10/30\n",
      "1162/1162 [==============================] - 13s 11ms/step - loss: 0.5925 - accuracy: 0.7814 - val_loss: 0.5976 - val_accuracy: 0.7803\n",
      "Epoch 11/30\n",
      "1162/1162 [==============================] - 13s 11ms/step - loss: 0.5865 - accuracy: 0.7826 - val_loss: 0.5786 - val_accuracy: 0.7843\n",
      "Epoch 12/30\n",
      "1162/1162 [==============================] - 13s 11ms/step - loss: 0.5788 - accuracy: 0.7854 - val_loss: 0.5746 - val_accuracy: 0.7849\n",
      "Epoch 13/30\n",
      "1162/1162 [==============================] - 13s 11ms/step - loss: 0.5834 - accuracy: 0.7813 - val_loss: 0.5742 - val_accuracy: 0.7846\n",
      "Epoch 14/30\n",
      "1162/1162 [==============================] - 13s 11ms/step - loss: 0.5752 - accuracy: 0.7850 - val_loss: 0.5705 - val_accuracy: 0.7858\n",
      "Epoch 15/30\n",
      "1162/1162 [==============================] - 13s 11ms/step - loss: 0.5669 - accuracy: 0.7876 - val_loss: 0.5839 - val_accuracy: 0.7825\n",
      "Epoch 16/30\n",
      "1162/1162 [==============================] - 13s 11ms/step - loss: 0.5675 - accuracy: 0.7871 - val_loss: 0.5687 - val_accuracy: 0.7860\n",
      "Epoch 17/30\n",
      "1162/1162 [==============================] - 13s 12ms/step - loss: 0.5454 - accuracy: 0.7870 - val_loss: 0.6566 - val_accuracy: 0.7857\n",
      "Epoch 18/30\n",
      "1162/1162 [==============================] - 13s 11ms/step - loss: 0.5655 - accuracy: 0.7884 - val_loss: 0.6008 - val_accuracy: 0.7838\n",
      "Epoch 19/30\n",
      "1162/1162 [==============================] - 13s 11ms/step - loss: 0.5398 - accuracy: 0.7874 - val_loss: 0.4826 - val_accuracy: 0.7756\n",
      "Epoch 20/30\n",
      "1162/1162 [==============================] - 13s 11ms/step - loss: 0.4990 - accuracy: 0.7868 - val_loss: 0.5104 - val_accuracy: 0.7860\n",
      "Epoch 21/30\n",
      "1162/1162 [==============================] - 13s 11ms/step - loss: 0.4867 - accuracy: 0.8043 - val_loss: 0.4418 - val_accuracy: 0.8226\n",
      "Epoch 22/30\n",
      "1162/1162 [==============================] - 13s 11ms/step - loss: 0.4535 - accuracy: 0.8191 - val_loss: 0.4212 - val_accuracy: 0.8392\n",
      "Epoch 23/30\n",
      "1162/1162 [==============================] - 13s 11ms/step - loss: 0.4259 - accuracy: 0.8303 - val_loss: 0.4212 - val_accuracy: 0.8395\n",
      "Epoch 24/30\n",
      "1162/1162 [==============================] - 13s 11ms/step - loss: 0.4182 - accuracy: 0.8348 - val_loss: 0.4207 - val_accuracy: 0.8208\n",
      "Epoch 25/30\n",
      "1162/1162 [==============================] - 13s 11ms/step - loss: 0.4308 - accuracy: 0.8282 - val_loss: 0.4013 - val_accuracy: 0.8412\n",
      "Epoch 26/30\n",
      "1162/1162 [==============================] - 13s 11ms/step - loss: 0.4188 - accuracy: 0.8315 - val_loss: 0.4216 - val_accuracy: 0.8119\n",
      "Epoch 27/30\n",
      "1162/1162 [==============================] - 13s 11ms/step - loss: 0.4349 - accuracy: 0.8277 - val_loss: 0.4000 - val_accuracy: 0.8411\n",
      "Epoch 28/30\n",
      "1162/1162 [==============================] - 13s 11ms/step - loss: 0.4719 - accuracy: 0.8165 - val_loss: 0.4145 - val_accuracy: 0.8404\n",
      "Epoch 29/30\n",
      "1162/1162 [==============================] - 13s 11ms/step - loss: 0.4158 - accuracy: 0.8343 - val_loss: 0.4345 - val_accuracy: 0.8409\n",
      "Epoch 30/30\n",
      "1162/1162 [==============================] - 13s 11ms/step - loss: 0.4138 - accuracy: 0.8364 - val_loss: 0.4074 - val_accuracy: 0.8336\n"
     ]
    }
   ],
   "source": [
    "history = model.fit(trainX,trainY,epochs=30,validation_split=0.2,batch_size=128)"
   ]
  },
  {
   "cell_type": "code",
   "execution_count": 54,
   "metadata": {},
   "outputs": [
    {
     "data": {
      "text/plain": [
       "<matplotlib.axes._subplots.AxesSubplot at 0x7f7ffd5ae100>"
      ]
     },
     "execution_count": 54,
     "metadata": {},
     "output_type": "execute_result"
    },
    {
     "data": {
      "image/png": "[encoded data removed]",
      "text/plain": [
       "<Figure size 432x288 with 1 Axes>"
      ]
     },
     "metadata": {
      "needs_background": "light"
     },
     "output_type": "display_data"
    }
   ],
   "source": [
    "historyPD = pd.DataFrame(history.history)\n",
    "historyPD.plot()"
   ]
  },
  {
   "cell_type": "code",
   "execution_count": 55,
   "metadata": {},
   "outputs": [],
   "source": [
    "model.save('MLPv1.h5')"
   ]
  },
  {
   "cell_type": "code",
   "execution_count": 117,
   "metadata": {},
   "outputs": [],
   "source": [
    "model.save('MLP.h5')"
   ]
  },
  {
   "cell_type": "markdown",
   "metadata": {},
   "source": [
    "# Evaluation on Training set"
   ]
  },
  {
   "cell_type": "code",
   "execution_count": 56,
   "metadata": {},
   "outputs": [],
   "source": [
    "predY = model.predict(trainX)"
   ]
  },
  {
   "cell_type": "code",
   "execution_count": 57,
   "metadata": {},
   "outputs": [],
   "source": [
    "temp1 = np.argmax(predY, axis=1).reshape(-1,1)"
   ]
  },
  {
   "cell_type": "code",
   "execution_count": 58,
   "metadata": {},
   "outputs": [
    {
     "data": {
      "text/plain": [
       "array([[0., 1., 0., 0.],\n",
       "       [1., 0., 0., 0.],\n",
       "       [1., 0., 0., 0.],\n",
       "       ...,\n",
       "       [0., 1., 0., 0.],\n",
       "       [0., 1., 0., 0.],\n",
       "       [0., 1., 0., 0.]])"
      ]
     },
     "execution_count": 58,
     "metadata": {},
     "output_type": "execute_result"
    }
   ],
   "source": [
    "trainY"
   ]
  },
  {
   "cell_type": "code",
   "execution_count": 59,
   "metadata": {},
   "outputs": [],
   "source": [
    "temp2 = np.array([np.where(r==1)[0][0] for r in trainY]).reshape(-1,1)"
   ]
  },
  {
   "cell_type": "code",
   "execution_count": 61,
   "metadata": {},
   "outputs": [
    {
     "data": {
      "text/plain": [
       "array([[1],\n",
       "       [0],\n",
       "       [0],\n",
       "       ...,\n",
       "       [1],\n",
       "       [1],\n",
       "       [1]])"
      ]
     },
     "execution_count": 61,
     "metadata": {},
     "output_type": "execute_result"
    }
   ],
   "source": [
    "temp2"
   ]
  },
  {
   "cell_type": "code",
   "execution_count": 62,
   "metadata": {},
   "outputs": [
    {
     "data": {
      "text/plain": [
       "((185844, 1), (185844, 1))"
      ]
     },
     "execution_count": 62,
     "metadata": {},
     "output_type": "execute_result"
    }
   ],
   "source": [
    "temp1.shape, temp2.shape"
   ]
  },
  {
   "cell_type": "code",
   "execution_count": 66,
   "metadata": {},
   "outputs": [
    {
     "data": {
      "text/plain": [
       "(array([0, 1, 2, 3]), array([ 28534, 129399,   4322,  23589]))"
      ]
     },
     "execution_count": 66,
     "metadata": {},
     "output_type": "execute_result"
    }
   ],
   "source": [
    "np.unique(temp2, return_counts=True)"
   ]
  },
  {
   "cell_type": "code",
   "execution_count": 63,
   "metadata": {},
   "outputs": [
    {
     "name": "stdout",
     "output_type": "stream",
     "text": [
      "[[ 16731   7693      4   4106]\n",
      " [  5708 113171      8  10512]\n",
      " [     0     93   4229      0]\n",
      " [     5   2669      0  20915]]\n"
     ]
    }
   ],
   "source": [
    "print(confusion_matrix(temp2, temp1))"
   ]
  },
  {
   "cell_type": "code",
   "execution_count": 67,
   "metadata": {},
   "outputs": [
    {
     "data": {
      "image/png": "[encoded data removed]",
      "text/plain": [
       "<Figure size 432x288 with 2 Axes>"
      ]
     },
     "metadata": {
      "needs_background": "light"
     },
     "output_type": "display_data"
    }
   ],
   "source": [
    "plot_confusion_matrix(confusion_matrix(temp2, temp1), classes=['Virut', 'Neris', 'Murlo', 'Rbot'])"
   ]
  },
  {
   "cell_type": "code",
   "execution_count": 68,
   "metadata": {},
   "outputs": [
    {
     "name": "stdout",
     "output_type": "stream",
     "text": [
      "              precision    recall  f1-score   support\n",
      "\n",
      "           0       0.75      0.59      0.66     28534\n",
      "           1       0.92      0.87      0.89    129399\n",
      "           2       1.00      0.98      0.99      4322\n",
      "           3       0.59      0.89      0.71     23589\n",
      "\n",
      "    accuracy                           0.83    185844\n",
      "   macro avg       0.81      0.83      0.81    185844\n",
      "weighted avg       0.85      0.83      0.84    185844\n",
      "\n"
     ]
    }
   ],
   "source": [
    "print(classification_report(temp2, temp1))"
   ]
  },
  {
   "cell_type": "markdown",
   "metadata": {},
   "source": [
    "# Evaluation on Test set\n"
   ]
  },
  {
   "cell_type": "code",
   "execution_count": 69,
   "metadata": {},
   "outputs": [],
   "source": [
    "predY_test = model.predict(testX)"
   ]
  },
  {
   "cell_type": "code",
   "execution_count": 70,
   "metadata": {},
   "outputs": [],
   "source": [
    "temp1 = np.argmax(predY_test, axis=1).reshape(-1,1)"
   ]
  },
  {
   "cell_type": "code",
   "execution_count": 71,
   "metadata": {},
   "outputs": [],
   "source": [
    "temp2 = testY.values.reshape(-1,1)"
   ]
  },
  {
   "cell_type": "code",
   "execution_count": 72,
   "metadata": {},
   "outputs": [
    {
     "data": {
      "text/plain": [
       "((79648, 1), (79648, 1))"
      ]
     },
     "execution_count": 72,
     "metadata": {},
     "output_type": "execute_result"
    }
   ],
   "source": [
    "temp1.shape, temp2.shape"
   ]
  },
  {
   "cell_type": "code",
   "execution_count": 74,
   "metadata": {},
   "outputs": [
    {
     "data": {
      "image/png": "[encoded data removed]",
      "text/plain": [
       "<Figure size 432x288 with 2 Axes>"
      ]
     },
     "metadata": {
      "needs_background": "light"
     },
     "output_type": "display_data"
    }
   ],
   "source": [
    "plot_confusion_matrix(confusion_matrix(temp2, temp1), classes=['Virut', 'Neris', 'Murlo', 'Rbot'])"
   ]
  },
  {
   "cell_type": "code",
   "execution_count": 75,
   "metadata": {},
   "outputs": [
    {
     "name": "stdout",
     "output_type": "stream",
     "text": [
      "              precision    recall  f1-score   support\n",
      "\n",
      "           0       0.74      0.58      0.65     12370\n",
      "           1       0.91      0.87      0.89     55588\n",
      "           2       1.00      0.98      0.99      1805\n",
      "           3       0.58      0.88      0.70      9885\n",
      "\n",
      "    accuracy                           0.83     79648\n",
      "   macro avg       0.81      0.83      0.81     79648\n",
      "weighted avg       0.85      0.83      0.83     79648\n",
      "\n"
     ]
    }
   ],
   "source": [
    "print(classification_report(temp2, temp1))"
   ]
  },
  {
   "cell_type": "code",
   "execution_count": 76,
   "metadata": {},
   "outputs": [
    {
     "name": "stdout",
     "output_type": "stream",
     "text": [
      "0.8323247288067497\n"
     ]
    }
   ],
   "source": [
    "print(accuracy_score(temp2, temp1))"
   ]
  },
  {
   "cell_type": "code",
   "execution_count": null,
   "metadata": {},
   "outputs": [],
   "source": []
  }
 ],
 "metadata": {
  "kernelspec": {
   "display_name": "Python 3",
   "language": "python",
   "name": "python3"
  },
  "language_info": {
   "codemirror_mode": {
    "name": "ipython",
    "version": 3
   },
   "file_extension": ".py",
   "mimetype": "text/x-python",
   "name": "python",
   "nbconvert_exporter": "python",
   "pygments_lexer": "ipython3",
   "version": "3.8.3"
  }
 },
 "nbformat": 4,
 "nbformat_minor": 4
}